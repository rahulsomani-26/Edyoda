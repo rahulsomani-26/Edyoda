{
 "cells": [
  {
   "cell_type": "markdown",
   "id": "70d02aa9",
   "metadata": {},
   "source": [
    "# Mutability\n"
   ]
  },
  {
   "cell_type": "code",
   "execution_count": 4,
   "id": "e4ef2c29",
   "metadata": {},
   "outputs": [
    {
     "name": "stdout",
     "output_type": "stream",
     "text": [
      "id of l = 2253465138368\n",
      "<class 'list'>\n"
     ]
    }
   ],
   "source": [
    "l = [1,2,3]\n",
    "print('id of l = {}'.format(id(l)))\n",
    "print(type(l))"
   ]
  },
  {
   "cell_type": "code",
   "execution_count": 5,
   "id": "e66d792f",
   "metadata": {},
   "outputs": [],
   "source": [
    "l.append(4)"
   ]
  },
  {
   "cell_type": "code",
   "execution_count": 6,
   "id": "cb60b29b",
   "metadata": {},
   "outputs": [
    {
     "name": "stdout",
     "output_type": "stream",
     "text": [
      "id of l = 2253465138368\n"
     ]
    }
   ],
   "source": [
    "print('id of l = {}'.format(id(l)))\n"
   ]
  },
  {
   "cell_type": "code",
   "execution_count": 7,
   "id": "24973122",
   "metadata": {},
   "outputs": [
    {
     "name": "stdout",
     "output_type": "stream",
     "text": [
      "2253464868480\n",
      "<class 'dict'>\n"
     ]
    }
   ],
   "source": [
    "d = {'x':2}\n",
    "print(id(d))\n",
    "print(type(d))"
   ]
  },
  {
   "cell_type": "code",
   "execution_count": 8,
   "id": "510814ba",
   "metadata": {},
   "outputs": [
    {
     "name": "stdout",
     "output_type": "stream",
     "text": [
      "['__class__', '__class_getitem__', '__contains__', '__delattr__', '__delitem__', '__dir__', '__doc__', '__eq__', '__format__', '__ge__', '__getattribute__', '__getitem__', '__gt__', '__hash__', '__init__', '__init_subclass__', '__ior__', '__iter__', '__le__', '__len__', '__lt__', '__ne__', '__new__', '__or__', '__reduce__', '__reduce_ex__', '__repr__', '__reversed__', '__ror__', '__setattr__', '__setitem__', '__sizeof__', '__str__', '__subclasshook__', 'clear', 'copy', 'fromkeys', 'get', 'items', 'keys', 'pop', 'popitem', 'setdefault', 'update', 'values']\n"
     ]
    }
   ],
   "source": [
    "print(dir(d))"
   ]
  },
  {
   "cell_type": "code",
   "execution_count": 9,
   "id": "27d6e279",
   "metadata": {},
   "outputs": [
    {
     "name": "stdout",
     "output_type": "stream",
     "text": [
      "2253465130688\n",
      "2253465130688\n"
     ]
    }
   ],
   "source": [
    "d = {'x':2}\n",
    "print(id(d))\n",
    "d.update(y=3,z=0)\n",
    "print(id(d))"
   ]
  },
  {
   "cell_type": "code",
   "execution_count": 10,
   "id": "25fd1d86",
   "metadata": {},
   "outputs": [],
   "source": [
    "t = (1,[1,2,3,4])"
   ]
  },
  {
   "cell_type": "code",
   "execution_count": 11,
   "id": "e5199a0a",
   "metadata": {},
   "outputs": [
    {
     "data": {
      "text/plain": [
       "tuple"
      ]
     },
     "execution_count": 11,
     "metadata": {},
     "output_type": "execute_result"
    }
   ],
   "source": [
    "type(t)"
   ]
  },
  {
   "cell_type": "code",
   "execution_count": 12,
   "id": "ad2a79da",
   "metadata": {},
   "outputs": [
    {
     "data": {
      "text/plain": [
       "2253464101120"
      ]
     },
     "execution_count": 12,
     "metadata": {},
     "output_type": "execute_result"
    }
   ],
   "source": [
    "id(t)"
   ]
  },
  {
   "cell_type": "code",
   "execution_count": 13,
   "id": "2b827082",
   "metadata": {},
   "outputs": [],
   "source": [
    "t = t+ (200,)"
   ]
  },
  {
   "cell_type": "code",
   "execution_count": 14,
   "id": "170a6cfe",
   "metadata": {},
   "outputs": [
    {
     "data": {
      "text/plain": [
       "2253464966400"
      ]
     },
     "execution_count": 14,
     "metadata": {},
     "output_type": "execute_result"
    }
   ],
   "source": [
    "id(t)"
   ]
  },
  {
   "cell_type": "code",
   "execution_count": 15,
   "id": "08bea929",
   "metadata": {},
   "outputs": [
    {
     "ename": "TypeError",
     "evalue": "'tuple' object does not support item assignment",
     "output_type": "error",
     "traceback": [
      "\u001b[1;31m---------------------------------------------------------------------------\u001b[0m",
      "\u001b[1;31mTypeError\u001b[0m                                 Traceback (most recent call last)",
      "\u001b[1;32m<ipython-input-15-7bba738bfb2b>\u001b[0m in \u001b[0;36m<module>\u001b[1;34m\u001b[0m\n\u001b[1;32m----> 1\u001b[1;33m \u001b[0mt\u001b[0m\u001b[1;33m[\u001b[0m\u001b[1;36m0\u001b[0m\u001b[1;33m]\u001b[0m\u001b[1;33m=\u001b[0m\u001b[1;36m2\u001b[0m\u001b[1;33m\u001b[0m\u001b[1;33m\u001b[0m\u001b[0m\n\u001b[0m",
      "\u001b[1;31mTypeError\u001b[0m: 'tuple' object does not support item assignment"
     ]
    }
   ],
   "source": [
    "t[0]=2"
   ]
  },
  {
   "cell_type": "code",
   "execution_count": 16,
   "id": "eb50a3ec",
   "metadata": {},
   "outputs": [
    {
     "data": {
      "text/plain": [
       "[1, 2, 3, 4]"
      ]
     },
     "execution_count": 16,
     "metadata": {},
     "output_type": "execute_result"
    }
   ],
   "source": [
    "t[1]"
   ]
  },
  {
   "cell_type": "code",
   "execution_count": 17,
   "id": "b7f548ef",
   "metadata": {},
   "outputs": [
    {
     "data": {
      "text/plain": [
       "1"
      ]
     },
     "execution_count": 17,
     "metadata": {},
     "output_type": "execute_result"
    }
   ],
   "source": [
    "t[1][0]"
   ]
  },
  {
   "cell_type": "code",
   "execution_count": 18,
   "id": "deb81d5a",
   "metadata": {},
   "outputs": [],
   "source": [
    "t[1][0] = 3000\n"
   ]
  },
  {
   "cell_type": "code",
   "execution_count": 22,
   "id": "fc75020c",
   "metadata": {},
   "outputs": [
    {
     "data": {
      "text/plain": [
       "2253433171824"
      ]
     },
     "execution_count": 22,
     "metadata": {},
     "output_type": "execute_result"
    }
   ],
   "source": [
    "s = \"python\"\n",
    "id(s)"
   ]
  },
  {
   "cell_type": "code",
   "execution_count": 20,
   "id": "f1967ffd",
   "metadata": {},
   "outputs": [],
   "source": [
    "s+='is great'"
   ]
  },
  {
   "cell_type": "code",
   "execution_count": 24,
   "id": "56928389",
   "metadata": {},
   "outputs": [
    {
     "data": {
      "text/plain": [
       "2253433171824"
      ]
     },
     "execution_count": 24,
     "metadata": {},
     "output_type": "execute_result"
    }
   ],
   "source": [
    "id(s)"
   ]
  },
  {
   "cell_type": "code",
   "execution_count": 27,
   "id": "d12f6920",
   "metadata": {},
   "outputs": [
    {
     "name": "stdout",
     "output_type": "stream",
     "text": [
      "2253433171824\n",
      "2253465895920\n",
      "great\n"
     ]
    }
   ],
   "source": [
    "s = 'python'\n",
    "print(id(s))\n",
    "s= 'great'\n",
    "print(id(s))\n",
    "print(s)"
   ]
  },
  {
   "cell_type": "code",
   "execution_count": 28,
   "id": "1ab1bb81",
   "metadata": {},
   "outputs": [],
   "source": [
    "s  = s + 'me'"
   ]
  },
  {
   "cell_type": "code",
   "execution_count": 29,
   "id": "560beca6",
   "metadata": {},
   "outputs": [
    {
     "data": {
      "text/plain": [
       "'greatme'"
      ]
     },
     "execution_count": 29,
     "metadata": {},
     "output_type": "execute_result"
    }
   ],
   "source": [
    "s"
   ]
  },
  {
   "cell_type": "code",
   "execution_count": 30,
   "id": "2010e6d8",
   "metadata": {},
   "outputs": [
    {
     "data": {
      "text/plain": [
       "2253465151728"
      ]
     },
     "execution_count": 30,
     "metadata": {},
     "output_type": "execute_result"
    }
   ],
   "source": [
    "id(s)"
   ]
  },
  {
   "cell_type": "code",
   "execution_count": 31,
   "id": "bd93ba24",
   "metadata": {},
   "outputs": [
    {
     "data": {
      "text/plain": [
       "2253433171824"
      ]
     },
     "execution_count": 31,
     "metadata": {},
     "output_type": "execute_result"
    }
   ],
   "source": [
    "id('python')"
   ]
  },
  {
   "cell_type": "code",
   "execution_count": 37,
   "id": "36950dac",
   "metadata": {},
   "outputs": [
    {
     "data": {
      "text/plain": [
       "(str, int, str, float, str)"
      ]
     },
     "execution_count": 37,
     "metadata": {},
     "output_type": "execute_result"
    }
   ],
   "source": [
    "type(\"a\"),type(1),type('1'),type(2.3),type(\"2.3\")"
   ]
  },
  {
   "cell_type": "code",
   "execution_count": 38,
   "id": "c1af62ca",
   "metadata": {},
   "outputs": [
    {
     "data": {
      "text/plain": [
       "True"
      ]
     },
     "execution_count": 38,
     "metadata": {},
     "output_type": "execute_result"
    }
   ],
   "source": [
    "# Membership operator \n",
    "# in or not in \n",
    "s = 'python'\n",
    "'on' in s\n"
   ]
  },
  {
   "cell_type": "code",
   "execution_count": 39,
   "id": "251f77f7",
   "metadata": {},
   "outputs": [
    {
     "data": {
      "text/plain": [
       "True"
      ]
     },
     "execution_count": 39,
     "metadata": {},
     "output_type": "execute_result"
    }
   ],
   "source": [
    "'p' in s "
   ]
  },
  {
   "cell_type": "code",
   "execution_count": 40,
   "id": "478daf3d",
   "metadata": {},
   "outputs": [
    {
     "data": {
      "text/plain": [
       "True"
      ]
     },
     "execution_count": 40,
     "metadata": {},
     "output_type": "execute_result"
    }
   ],
   "source": [
    "l = [1,2,3,4]\n",
    "1 in l"
   ]
  },
  {
   "cell_type": "code",
   "execution_count": 41,
   "id": "870d7b82",
   "metadata": {},
   "outputs": [
    {
     "data": {
      "text/plain": [
       "False"
      ]
     },
     "execution_count": 41,
     "metadata": {},
     "output_type": "execute_result"
    }
   ],
   "source": [
    "10 in l"
   ]
  },
  {
   "cell_type": "code",
   "execution_count": 50,
   "id": "23f56d1e",
   "metadata": {},
   "outputs": [
    {
     "data": {
      "text/plain": [
       "dict_values([101001000])"
      ]
     },
     "execution_count": 50,
     "metadata": {},
     "output_type": "execute_result"
    }
   ],
   "source": [
    "d = {'sample':10_100_1000}\n",
    "d.values()"
   ]
  },
  {
   "cell_type": "code",
   "execution_count": 49,
   "id": "8976b01c",
   "metadata": {},
   "outputs": [
    {
     "ename": "TypeError",
     "evalue": "unhashable type: 'dict'",
     "output_type": "error",
     "traceback": [
      "\u001b[1;31m---------------------------------------------------------------------------\u001b[0m",
      "\u001b[1;31mTypeError\u001b[0m                                 Traceback (most recent call last)",
      "\u001b[1;32m<ipython-input-49-2a617a4d8d55>\u001b[0m in \u001b[0;36m<module>\u001b[1;34m\u001b[0m\n\u001b[1;32m----> 1\u001b[1;33m \u001b[1;33m{\u001b[0m\u001b[1;34m'sample'\u001b[0m\u001b[1;33m:\u001b[0m\u001b[1;36m10_100_1000\u001b[0m\u001b[1;33m}\u001b[0m \u001b[1;32min\u001b[0m  \u001b[1;33m{\u001b[0m\u001b[1;34m'sample'\u001b[0m\u001b[1;33m:\u001b[0m\u001b[1;36m10_100_1000\u001b[0m\u001b[1;33m}\u001b[0m\u001b[1;33m\u001b[0m\u001b[1;33m\u001b[0m\u001b[0m\n\u001b[0m",
      "\u001b[1;31mTypeError\u001b[0m: unhashable type: 'dict'"
     ]
    }
   ],
   "source": [
    "{'sample':10_100_1000} in  {'sample':10_100_1000}"
   ]
  },
  {
   "cell_type": "code",
   "execution_count": 44,
   "id": "58a46d74",
   "metadata": {},
   "outputs": [
    {
     "data": {
      "text/plain": [
       "False"
      ]
     },
     "execution_count": 44,
     "metadata": {},
     "output_type": "execute_result"
    }
   ],
   "source": [
    "10_100_1000 in d"
   ]
  },
  {
   "cell_type": "code",
   "execution_count": 45,
   "id": "7fe50566",
   "metadata": {},
   "outputs": [
    {
     "data": {
      "text/plain": [
       "True"
      ]
     },
     "execution_count": 45,
     "metadata": {},
     "output_type": "execute_result"
    }
   ],
   "source": [
    "10 not in l"
   ]
  },
  {
   "cell_type": "code",
   "execution_count": 46,
   "id": "988ecde5",
   "metadata": {},
   "outputs": [
    {
     "data": {
      "text/plain": [
       "True"
      ]
     },
     "execution_count": 46,
     "metadata": {},
     "output_type": "execute_result"
    }
   ],
   "source": [
    "t = (1,2,3,4,5)\n",
    "3 in t\n"
   ]
  },
  {
   "cell_type": "code",
   "execution_count": 47,
   "id": "3bca6312",
   "metadata": {},
   "outputs": [
    {
     "data": {
      "text/plain": [
       "False"
      ]
     },
     "execution_count": 47,
     "metadata": {},
     "output_type": "execute_result"
    }
   ],
   "source": [
    "30 not in t"
   ]
  },
  {
   "cell_type": "markdown",
   "id": "69144359",
   "metadata": {},
   "source": [
    "# Unpacking \n",
    "#The process of getting all/some of the items from a sequence of map ( dictionaries )\n",
    "\n",
    "var1,var2,..... = iterable \n"
   ]
  },
  {
   "cell_type": "code",
   "execution_count": 54,
   "id": "367cf8f6",
   "metadata": {},
   "outputs": [
    {
     "data": {
      "text/plain": [
       "'p'"
      ]
     },
     "execution_count": 54,
     "metadata": {},
     "output_type": "execute_result"
    }
   ],
   "source": [
    "s = 'python'\n",
    "s[0]"
   ]
  },
  {
   "cell_type": "code",
   "execution_count": 55,
   "id": "00801026",
   "metadata": {},
   "outputs": [
    {
     "data": {
      "text/plain": [
       "'y'"
      ]
     },
     "execution_count": 55,
     "metadata": {},
     "output_type": "execute_result"
    }
   ],
   "source": [
    "s[1]"
   ]
  },
  {
   "cell_type": "code",
   "execution_count": 56,
   "id": "49c59752",
   "metadata": {},
   "outputs": [
    {
     "data": {
      "text/plain": [
       "'t'"
      ]
     },
     "execution_count": 56,
     "metadata": {},
     "output_type": "execute_result"
    }
   ],
   "source": [
    "s[2]"
   ]
  },
  {
   "cell_type": "code",
   "execution_count": 57,
   "id": "e97a5520",
   "metadata": {},
   "outputs": [
    {
     "data": {
      "text/plain": [
       "'h'"
      ]
     },
     "execution_count": 57,
     "metadata": {},
     "output_type": "execute_result"
    }
   ],
   "source": [
    "s[3]"
   ]
  },
  {
   "cell_type": "code",
   "execution_count": 58,
   "id": "3d9fba3c",
   "metadata": {},
   "outputs": [
    {
     "data": {
      "text/plain": [
       "'python'"
      ]
     },
     "execution_count": 58,
     "metadata": {},
     "output_type": "execute_result"
    }
   ],
   "source": [
    "s"
   ]
  },
  {
   "cell_type": "code",
   "execution_count": 59,
   "id": "9b871e52",
   "metadata": {},
   "outputs": [],
   "source": [
    "a,b,c,d,e,f = s"
   ]
  },
  {
   "cell_type": "code",
   "execution_count": 60,
   "id": "50957ed8",
   "metadata": {},
   "outputs": [
    {
     "data": {
      "text/plain": [
       "('p', 'y', 't', 'h', 'o', 'n')"
      ]
     },
     "execution_count": 60,
     "metadata": {},
     "output_type": "execute_result"
    }
   ],
   "source": [
    "a,b,c,d,e,f"
   ]
  },
  {
   "cell_type": "code",
   "execution_count": 62,
   "id": "32b72c82",
   "metadata": {},
   "outputs": [],
   "source": [
    "# Packing in a container \n",
    "t = 100,200,True,'2.34','Me','you'  "
   ]
  },
  {
   "cell_type": "code",
   "execution_count": 63,
   "id": "94310186",
   "metadata": {},
   "outputs": [
    {
     "data": {
      "text/plain": [
       "tuple"
      ]
     },
     "execution_count": 63,
     "metadata": {},
     "output_type": "execute_result"
    }
   ],
   "source": [
    "type(t)"
   ]
  },
  {
   "cell_type": "code",
   "execution_count": 64,
   "id": "263b083f",
   "metadata": {},
   "outputs": [],
   "source": [
    "# Unpacking "
   ]
  },
  {
   "cell_type": "code",
   "execution_count": 66,
   "id": "8c03e2ed",
   "metadata": {},
   "outputs": [
    {
     "data": {
      "text/plain": [
       "6"
      ]
     },
     "execution_count": 66,
     "metadata": {},
     "output_type": "execute_result"
    }
   ],
   "source": [
    "len(t)"
   ]
  },
  {
   "cell_type": "code",
   "execution_count": 67,
   "id": "f79adf53",
   "metadata": {},
   "outputs": [],
   "source": [
    "first,second,third,fourth,fifth,sixth = t"
   ]
  },
  {
   "cell_type": "code",
   "execution_count": 69,
   "id": "37bf4e16",
   "metadata": {},
   "outputs": [
    {
     "data": {
      "text/plain": [
       "100"
      ]
     },
     "execution_count": 69,
     "metadata": {},
     "output_type": "execute_result"
    }
   ],
   "source": [
    "first"
   ]
  },
  {
   "cell_type": "code",
   "execution_count": 70,
   "id": "8ea8bb48",
   "metadata": {},
   "outputs": [
    {
     "data": {
      "text/plain": [
       "200"
      ]
     },
     "execution_count": 70,
     "metadata": {},
     "output_type": "execute_result"
    }
   ],
   "source": [
    "second"
   ]
  },
  {
   "cell_type": "code",
   "execution_count": 71,
   "id": "fde589bc",
   "metadata": {},
   "outputs": [
    {
     "data": {
      "text/plain": [
       "'you'"
      ]
     },
     "execution_count": 71,
     "metadata": {},
     "output_type": "execute_result"
    }
   ],
   "source": [
    "sixth"
   ]
  },
  {
   "cell_type": "code",
   "execution_count": 72,
   "id": "e2ef6002",
   "metadata": {},
   "outputs": [],
   "source": [
    "t = 100,200,True,'2.34','Me','you'  "
   ]
  },
  {
   "cell_type": "code",
   "execution_count": 73,
   "id": "b776d37f",
   "metadata": {},
   "outputs": [],
   "source": [
    "first, *ignored = t"
   ]
  },
  {
   "cell_type": "code",
   "execution_count": 74,
   "id": "d155a857",
   "metadata": {},
   "outputs": [
    {
     "data": {
      "text/plain": [
       "100"
      ]
     },
     "execution_count": 74,
     "metadata": {},
     "output_type": "execute_result"
    }
   ],
   "source": [
    "first"
   ]
  },
  {
   "cell_type": "code",
   "execution_count": 75,
   "id": "0107a365",
   "metadata": {},
   "outputs": [
    {
     "data": {
      "text/plain": [
       "[200, True, '2.34', 'Me', 'you']"
      ]
     },
     "execution_count": 75,
     "metadata": {},
     "output_type": "execute_result"
    }
   ],
   "source": [
    "ignored"
   ]
  },
  {
   "cell_type": "code",
   "execution_count": 76,
   "id": "3ecda2d8",
   "metadata": {},
   "outputs": [],
   "source": [
    "first, *_ = t"
   ]
  },
  {
   "cell_type": "code",
   "execution_count": 77,
   "id": "e82e4511",
   "metadata": {},
   "outputs": [
    {
     "data": {
      "text/plain": [
       "100"
      ]
     },
     "execution_count": 77,
     "metadata": {},
     "output_type": "execute_result"
    }
   ],
   "source": [
    "first"
   ]
  },
  {
   "cell_type": "code",
   "execution_count": 78,
   "id": "6440c8d5",
   "metadata": {},
   "outputs": [
    {
     "data": {
      "text/plain": [
       "[200, True, '2.34', 'Me', 'you']"
      ]
     },
     "execution_count": 78,
     "metadata": {},
     "output_type": "execute_result"
    }
   ],
   "source": [
    "_"
   ]
  },
  {
   "cell_type": "code",
   "execution_count": 79,
   "id": "dd5c7bf4",
   "metadata": {},
   "outputs": [
    {
     "data": {
      "text/plain": [
       "'you'"
      ]
     },
     "execution_count": 79,
     "metadata": {},
     "output_type": "execute_result"
    }
   ],
   "source": [
    "_[-1]"
   ]
  },
  {
   "cell_type": "code",
   "execution_count": 80,
   "id": "a65fbe39",
   "metadata": {},
   "outputs": [],
   "source": [
    "*_,first = t"
   ]
  },
  {
   "cell_type": "code",
   "execution_count": 81,
   "id": "69a4d50e",
   "metadata": {},
   "outputs": [
    {
     "data": {
      "text/plain": [
       "'you'"
      ]
     },
     "execution_count": 81,
     "metadata": {},
     "output_type": "execute_result"
    }
   ],
   "source": [
    "first"
   ]
  },
  {
   "cell_type": "code",
   "execution_count": 82,
   "id": "8c940459",
   "metadata": {},
   "outputs": [
    {
     "data": {
      "text/plain": [
       "[100, 200, True, '2.34', 'Me']"
      ]
     },
     "execution_count": 82,
     "metadata": {},
     "output_type": "execute_result"
    }
   ],
   "source": [
    "_"
   ]
  },
  {
   "cell_type": "code",
   "execution_count": 84,
   "id": "f86d4e9c",
   "metadata": {},
   "outputs": [
    {
     "data": {
      "text/plain": [
       "({'firstName': 'Rahul', 'lastName': 'Somani'}, dict, 2253465896512)"
      ]
     },
     "execution_count": 84,
     "metadata": {},
     "output_type": "execute_result"
    }
   ],
   "source": [
    "d = {'firstName':'Rahul','lastName':'Somani'}\n",
    "d,type(d),id(d)"
   ]
  },
  {
   "cell_type": "code",
   "execution_count": 85,
   "id": "31081bfe",
   "metadata": {},
   "outputs": [],
   "source": [
    "a,b = d"
   ]
  },
  {
   "cell_type": "code",
   "execution_count": 86,
   "id": "58cd0936",
   "metadata": {},
   "outputs": [
    {
     "data": {
      "text/plain": [
       "'firstName'"
      ]
     },
     "execution_count": 86,
     "metadata": {},
     "output_type": "execute_result"
    }
   ],
   "source": [
    "a"
   ]
  },
  {
   "cell_type": "code",
   "execution_count": 87,
   "id": "53ee4f6c",
   "metadata": {},
   "outputs": [
    {
     "data": {
      "text/plain": [
       "'lastName'"
      ]
     },
     "execution_count": 87,
     "metadata": {},
     "output_type": "execute_result"
    }
   ],
   "source": [
    "b"
   ]
  },
  {
   "cell_type": "code",
   "execution_count": 88,
   "id": "9cf4e0b6",
   "metadata": {},
   "outputs": [
    {
     "data": {
      "text/plain": [
       "'Somani'"
      ]
     },
     "execution_count": 88,
     "metadata": {},
     "output_type": "execute_result"
    }
   ],
   "source": [
    "d[b]"
   ]
  },
  {
   "cell_type": "code",
   "execution_count": 89,
   "id": "a3ae8ea1",
   "metadata": {},
   "outputs": [],
   "source": [
    "l = list(d)"
   ]
  },
  {
   "cell_type": "code",
   "execution_count": 90,
   "id": "1f5f2d67",
   "metadata": {},
   "outputs": [
    {
     "data": {
      "text/plain": [
       "['firstName', 'lastName']"
      ]
     },
     "execution_count": 90,
     "metadata": {},
     "output_type": "execute_result"
    }
   ],
   "source": [
    "l"
   ]
  },
  {
   "cell_type": "code",
   "execution_count": 92,
   "id": "4d827ca4",
   "metadata": {},
   "outputs": [
    {
     "data": {
      "text/plain": [
       "(set, 2253465973024)"
      ]
     },
     "execution_count": 92,
     "metadata": {},
     "output_type": "execute_result"
    }
   ],
   "source": [
    "a = {'m',1,2,1,2,'r'}\n",
    "type(a),id(a)"
   ]
  },
  {
   "cell_type": "code",
   "execution_count": 93,
   "id": "7e227e5a",
   "metadata": {},
   "outputs": [
    {
     "data": {
      "text/plain": [
       "{1, 2, 'm', 'r'}"
      ]
     },
     "execution_count": 93,
     "metadata": {},
     "output_type": "execute_result"
    }
   ],
   "source": [
    "a"
   ]
  },
  {
   "cell_type": "code",
   "execution_count": 94,
   "id": "e9acb60f",
   "metadata": {},
   "outputs": [],
   "source": [
    "first,*ignore,last = a"
   ]
  },
  {
   "cell_type": "code",
   "execution_count": 95,
   "id": "ad94b516",
   "metadata": {},
   "outputs": [
    {
     "data": {
      "text/plain": [
       "1"
      ]
     },
     "execution_count": 95,
     "metadata": {},
     "output_type": "execute_result"
    }
   ],
   "source": [
    "first"
   ]
  },
  {
   "cell_type": "code",
   "execution_count": 96,
   "id": "048f4b3b",
   "metadata": {},
   "outputs": [
    {
     "data": {
      "text/plain": [
       "'r'"
      ]
     },
     "execution_count": 96,
     "metadata": {},
     "output_type": "execute_result"
    }
   ],
   "source": [
    "last"
   ]
  },
  {
   "cell_type": "code",
   "execution_count": 97,
   "id": "4b6beb85",
   "metadata": {},
   "outputs": [
    {
     "data": {
      "text/plain": [
       "[2, 'm']"
      ]
     },
     "execution_count": 97,
     "metadata": {},
     "output_type": "execute_result"
    }
   ],
   "source": [
    "ignore"
   ]
  },
  {
   "cell_type": "code",
   "execution_count": 98,
   "id": "4622d844",
   "metadata": {},
   "outputs": [
    {
     "data": {
      "text/plain": [
       "1"
      ]
     },
     "execution_count": 98,
     "metadata": {},
     "output_type": "execute_result"
    }
   ],
   "source": [
    "x = 1 \n",
    "x"
   ]
  },
  {
   "cell_type": "code",
   "execution_count": 99,
   "id": "a6277270",
   "metadata": {},
   "outputs": [
    {
     "ename": "TypeError",
     "evalue": "cannot unpack non-iterable int object",
     "output_type": "error",
     "traceback": [
      "\u001b[1;31m---------------------------------------------------------------------------\u001b[0m",
      "\u001b[1;31mTypeError\u001b[0m                                 Traceback (most recent call last)",
      "\u001b[1;32m<ipython-input-99-9a53bbec6665>\u001b[0m in \u001b[0;36m<module>\u001b[1;34m\u001b[0m\n\u001b[1;32m----> 1\u001b[1;33m \u001b[0my\u001b[0m\u001b[1;33m,\u001b[0m\u001b[0md\u001b[0m \u001b[1;33m=\u001b[0m \u001b[0mx\u001b[0m\u001b[1;33m\u001b[0m\u001b[1;33m\u001b[0m\u001b[0m\n\u001b[0m",
      "\u001b[1;31mTypeError\u001b[0m: cannot unpack non-iterable int object"
     ]
    }
   ],
   "source": [
    "y,d = x"
   ]
  },
  {
   "cell_type": "code",
   "execution_count": 100,
   "id": "1f843c20",
   "metadata": {},
   "outputs": [],
   "source": [
    "a,*b,(*c,d) = [1,2,3,'Rahul']"
   ]
  },
  {
   "cell_type": "code",
   "execution_count": 101,
   "id": "e35c18d2",
   "metadata": {},
   "outputs": [
    {
     "data": {
      "text/plain": [
       "1"
      ]
     },
     "execution_count": 101,
     "metadata": {},
     "output_type": "execute_result"
    }
   ],
   "source": [
    "a"
   ]
  },
  {
   "cell_type": "code",
   "execution_count": 102,
   "id": "74228e8a",
   "metadata": {},
   "outputs": [
    {
     "data": {
      "text/plain": [
       "[2, 3]"
      ]
     },
     "execution_count": 102,
     "metadata": {},
     "output_type": "execute_result"
    }
   ],
   "source": [
    "b"
   ]
  },
  {
   "cell_type": "code",
   "execution_count": 103,
   "id": "b46e36e9",
   "metadata": {},
   "outputs": [
    {
     "data": {
      "text/plain": [
       "['R', 'a', 'h', 'u']"
      ]
     },
     "execution_count": 103,
     "metadata": {},
     "output_type": "execute_result"
    }
   ],
   "source": [
    "c"
   ]
  },
  {
   "cell_type": "code",
   "execution_count": 104,
   "id": "23def114",
   "metadata": {},
   "outputs": [
    {
     "data": {
      "text/plain": [
       "'l'"
      ]
     },
     "execution_count": 104,
     "metadata": {},
     "output_type": "execute_result"
    }
   ],
   "source": [
    "d"
   ]
  },
  {
   "cell_type": "code",
   "execution_count": 106,
   "id": "22210c1b",
   "metadata": {},
   "outputs": [],
   "source": [
    "a,*b,(*c,d) = [1,2,3,'Rahul']"
   ]
  },
  {
   "cell_type": "code",
   "execution_count": 107,
   "id": "032690e2",
   "metadata": {},
   "outputs": [
    {
     "data": {
      "text/plain": [
       "(1, [2, 3], ['R', 'a', 'h', 'u'], 'l')"
      ]
     },
     "execution_count": 107,
     "metadata": {},
     "output_type": "execute_result"
    }
   ],
   "source": [
    "a,b,c,d"
   ]
  },
  {
   "cell_type": "markdown",
   "id": "63a5765c",
   "metadata": {},
   "source": []
  },
  {
   "cell_type": "code",
   "execution_count": 109,
   "id": "2f837506",
   "metadata": {},
   "outputs": [],
   "source": [
    "name = 'pavan'"
   ]
  },
  {
   "cell_type": "code",
   "execution_count": 110,
   "id": "3aa2e481",
   "metadata": {},
   "outputs": [
    {
     "data": {
      "text/plain": [
       "2253465991216"
      ]
     },
     "execution_count": 110,
     "metadata": {},
     "output_type": "execute_result"
    }
   ],
   "source": [
    "id(name)"
   ]
  },
  {
   "cell_type": "code",
   "execution_count": 111,
   "id": "8a8030da",
   "metadata": {},
   "outputs": [
    {
     "data": {
      "text/plain": [
       "2253465991216"
      ]
     },
     "execution_count": 111,
     "metadata": {},
     "output_type": "execute_result"
    }
   ],
   "source": [
    "id('pavan')"
   ]
  },
  {
   "cell_type": "code",
   "execution_count": 112,
   "id": "ea9e6ac3",
   "metadata": {},
   "outputs": [
    {
     "data": {
      "text/plain": [
       "2253391489328"
      ]
     },
     "execution_count": 112,
     "metadata": {},
     "output_type": "execute_result"
    }
   ],
   "source": [
    "id(1)"
   ]
  },
  {
   "cell_type": "code",
   "execution_count": 113,
   "id": "6a3186e1",
   "metadata": {},
   "outputs": [],
   "source": [
    "a = 1"
   ]
  },
  {
   "cell_type": "code",
   "execution_count": 114,
   "id": "7e8e1232",
   "metadata": {},
   "outputs": [
    {
     "data": {
      "text/plain": [
       "2253391489328"
      ]
     },
     "execution_count": 114,
     "metadata": {},
     "output_type": "execute_result"
    }
   ],
   "source": [
    "id(a)"
   ]
  },
  {
   "cell_type": "code",
   "execution_count": 115,
   "id": "eb14e879",
   "metadata": {},
   "outputs": [],
   "source": [
    "a=2"
   ]
  },
  {
   "cell_type": "code",
   "execution_count": 117,
   "id": "67255b29",
   "metadata": {},
   "outputs": [
    {
     "data": {
      "text/plain": [
       "(2253391489360, 2253391489360, 2253391489360)"
      ]
     },
     "execution_count": 117,
     "metadata": {},
     "output_type": "execute_result"
    }
   ],
   "source": [
    "id(a),id(2),id(2)"
   ]
  },
  {
   "cell_type": "code",
   "execution_count": 118,
   "id": "475e8c54",
   "metadata": {},
   "outputs": [],
   "source": [
    "p = ['shoes','belt','specs','watch']"
   ]
  },
  {
   "cell_type": "code",
   "execution_count": 119,
   "id": "6986f1a5",
   "metadata": {},
   "outputs": [
    {
     "data": {
      "text/plain": [
       "'watch'"
      ]
     },
     "execution_count": 119,
     "metadata": {},
     "output_type": "execute_result"
    }
   ],
   "source": [
    "p[-1]"
   ]
  },
  {
   "cell_type": "code",
   "execution_count": 127,
   "id": "d76b712b",
   "metadata": {},
   "outputs": [],
   "source": [
    "item_1,item_2,item_3,item_4 = p "
   ]
  },
  {
   "cell_type": "code",
   "execution_count": 125,
   "id": "ddae85e0",
   "metadata": {},
   "outputs": [
    {
     "data": {
      "text/plain": [
       "'watch'"
      ]
     },
     "execution_count": 125,
     "metadata": {},
     "output_type": "execute_result"
    }
   ],
   "source": [
    "item_4"
   ]
  },
  {
   "cell_type": "code",
   "execution_count": 128,
   "id": "17d13ced",
   "metadata": {},
   "outputs": [],
   "source": [
    "item_1, *rest = p "
   ]
  },
  {
   "cell_type": "code",
   "execution_count": 129,
   "id": "4c3185c2",
   "metadata": {},
   "outputs": [
    {
     "data": {
      "text/plain": [
       "('shoes', ['belt', 'specs', 'watch'])"
      ]
     },
     "execution_count": 129,
     "metadata": {},
     "output_type": "execute_result"
    }
   ],
   "source": [
    "item_1,rest"
   ]
  },
  {
   "cell_type": "code",
   "execution_count": 130,
   "id": "d4a3e7fa",
   "metadata": {},
   "outputs": [],
   "source": [
    "a = [1,2,3,4]\n",
    "b,*c = a\n"
   ]
  },
  {
   "cell_type": "code",
   "execution_count": 131,
   "id": "27d73dd7",
   "metadata": {},
   "outputs": [
    {
     "data": {
      "text/plain": [
       "1"
      ]
     },
     "execution_count": 131,
     "metadata": {},
     "output_type": "execute_result"
    }
   ],
   "source": [
    "b"
   ]
  },
  {
   "cell_type": "code",
   "execution_count": 132,
   "id": "1f5a6159",
   "metadata": {},
   "outputs": [
    {
     "data": {
      "text/plain": [
       "[2, 3, 4]"
      ]
     },
     "execution_count": 132,
     "metadata": {},
     "output_type": "execute_result"
    }
   ],
   "source": [
    "c"
   ]
  },
  {
   "cell_type": "code",
   "execution_count": 135,
   "id": "4ac8b7f6",
   "metadata": {},
   "outputs": [],
   "source": [
    "a = [1,2,3,4]\n",
    "b,*c,d= a\n"
   ]
  },
  {
   "cell_type": "code",
   "execution_count": 136,
   "id": "cba8e9af",
   "metadata": {},
   "outputs": [
    {
     "data": {
      "text/plain": [
       "(1, [2, 3], 4)"
      ]
     },
     "execution_count": 136,
     "metadata": {},
     "output_type": "execute_result"
    }
   ],
   "source": [
    "b,c,d"
   ]
  },
  {
   "cell_type": "code",
   "execution_count": 137,
   "id": "c17325cf",
   "metadata": {},
   "outputs": [
    {
     "ename": "TypeError",
     "evalue": "cannot unpack non-iterable int object",
     "output_type": "error",
     "traceback": [
      "\u001b[1;31m---------------------------------------------------------------------------\u001b[0m",
      "\u001b[1;31mTypeError\u001b[0m                                 Traceback (most recent call last)",
      "\u001b[1;32m<ipython-input-137-a08c322b145e>\u001b[0m in \u001b[0;36m<module>\u001b[1;34m\u001b[0m\n\u001b[1;32m----> 1\u001b[1;33m \u001b[0mb\u001b[0m\u001b[1;33m,\u001b[0m\u001b[1;33m*\u001b[0m\u001b[0mc\u001b[0m\u001b[1;33m,\u001b[0m\u001b[1;33m(\u001b[0m\u001b[1;33m*\u001b[0m\u001b[0md\u001b[0m\u001b[1;33m,\u001b[0m\u001b[0me\u001b[0m\u001b[1;33m)\u001b[0m \u001b[1;33m=\u001b[0m\u001b[0ma\u001b[0m\u001b[1;33m\u001b[0m\u001b[1;33m\u001b[0m\u001b[0m\n\u001b[0m",
      "\u001b[1;31mTypeError\u001b[0m: cannot unpack non-iterable int object"
     ]
    }
   ],
   "source": [
    "b,*c,(*d,e) =a"
   ]
  },
  {
   "cell_type": "code",
   "execution_count": 139,
   "id": "fd1aa81c",
   "metadata": {},
   "outputs": [
    {
     "ename": "TypeError",
     "evalue": "cannot unpack non-iterable int object",
     "output_type": "error",
     "traceback": [
      "\u001b[1;31m---------------------------------------------------------------------------\u001b[0m",
      "\u001b[1;31mTypeError\u001b[0m                                 Traceback (most recent call last)",
      "\u001b[1;32m<ipython-input-139-eaf9b96a3b02>\u001b[0m in \u001b[0;36m<module>\u001b[1;34m\u001b[0m\n\u001b[0;32m      1\u001b[0m \u001b[0mzy\u001b[0m \u001b[1;33m=\u001b[0m \u001b[1;33m[\u001b[0m\u001b[1;36m1\u001b[0m\u001b[1;33m,\u001b[0m\u001b[1;36m2\u001b[0m\u001b[1;33m,\u001b[0m\u001b[1;36m3\u001b[0m\u001b[1;33m,\u001b[0m\u001b[1;36m4\u001b[0m\u001b[1;33m]\u001b[0m\u001b[1;33m\u001b[0m\u001b[1;33m\u001b[0m\u001b[0m\n\u001b[1;32m----> 2\u001b[1;33m \u001b[0mb\u001b[0m\u001b[1;33m,\u001b[0m\u001b[1;33m*\u001b[0m\u001b[0mc\u001b[0m\u001b[1;33m,\u001b[0m\u001b[1;33m(\u001b[0m\u001b[1;33m*\u001b[0m\u001b[0md\u001b[0m\u001b[1;33m,\u001b[0m\u001b[0me\u001b[0m\u001b[1;33m)\u001b[0m\u001b[1;33m=\u001b[0m \u001b[0mzy\u001b[0m\u001b[1;33m\u001b[0m\u001b[1;33m\u001b[0m\u001b[0m\n\u001b[0m",
      "\u001b[1;31mTypeError\u001b[0m: cannot unpack non-iterable int object"
     ]
    }
   ],
   "source": [
    "zy = [1,2,3,4]\n",
    "b,*c,(*d,e)= zy\n"
   ]
  },
  {
   "cell_type": "code",
   "execution_count": 140,
   "id": "c0947e75",
   "metadata": {},
   "outputs": [],
   "source": [
    "a,*b,(*c,d) = [1,2,3,'Rahul']"
   ]
  },
  {
   "cell_type": "code",
   "execution_count": 141,
   "id": "2cc4a8ce",
   "metadata": {},
   "outputs": [
    {
     "data": {
      "text/plain": [
       "1"
      ]
     },
     "execution_count": 141,
     "metadata": {},
     "output_type": "execute_result"
    }
   ],
   "source": [
    "a"
   ]
  },
  {
   "cell_type": "code",
   "execution_count": 142,
   "id": "5150181c",
   "metadata": {},
   "outputs": [
    {
     "data": {
      "text/plain": [
       "[2, 3]"
      ]
     },
     "execution_count": 142,
     "metadata": {},
     "output_type": "execute_result"
    }
   ],
   "source": [
    "b"
   ]
  },
  {
   "cell_type": "code",
   "execution_count": 143,
   "id": "96c621e2",
   "metadata": {},
   "outputs": [
    {
     "data": {
      "text/plain": [
       "'l'"
      ]
     },
     "execution_count": 143,
     "metadata": {},
     "output_type": "execute_result"
    }
   ],
   "source": [
    "d"
   ]
  },
  {
   "cell_type": "code",
   "execution_count": 144,
   "id": "127c5676",
   "metadata": {},
   "outputs": [
    {
     "data": {
      "text/plain": [
       "['R', 'a', 'h', 'u']"
      ]
     },
     "execution_count": 144,
     "metadata": {},
     "output_type": "execute_result"
    }
   ],
   "source": [
    "c"
   ]
  },
  {
   "cell_type": "code",
   "execution_count": 145,
   "id": "8c1aac4b",
   "metadata": {},
   "outputs": [
    {
     "data": {
      "text/plain": [
       "2253466024048"
      ]
     },
     "execution_count": 145,
     "metadata": {},
     "output_type": "execute_result"
    }
   ],
   "source": [
    "s = 'rahul'\n",
    "id(s)"
   ]
  },
  {
   "cell_type": "code",
   "execution_count": 146,
   "id": "9b8b8200",
   "metadata": {},
   "outputs": [
    {
     "data": {
      "text/plain": [
       "['__add__',\n",
       " '__class__',\n",
       " '__contains__',\n",
       " '__delattr__',\n",
       " '__dir__',\n",
       " '__doc__',\n",
       " '__eq__',\n",
       " '__format__',\n",
       " '__ge__',\n",
       " '__getattribute__',\n",
       " '__getitem__',\n",
       " '__getnewargs__',\n",
       " '__gt__',\n",
       " '__hash__',\n",
       " '__init__',\n",
       " '__init_subclass__',\n",
       " '__iter__',\n",
       " '__le__',\n",
       " '__len__',\n",
       " '__lt__',\n",
       " '__mod__',\n",
       " '__mul__',\n",
       " '__ne__',\n",
       " '__new__',\n",
       " '__reduce__',\n",
       " '__reduce_ex__',\n",
       " '__repr__',\n",
       " '__rmod__',\n",
       " '__rmul__',\n",
       " '__setattr__',\n",
       " '__sizeof__',\n",
       " '__str__',\n",
       " '__subclasshook__',\n",
       " 'capitalize',\n",
       " 'casefold',\n",
       " 'center',\n",
       " 'count',\n",
       " 'encode',\n",
       " 'endswith',\n",
       " 'expandtabs',\n",
       " 'find',\n",
       " 'format',\n",
       " 'format_map',\n",
       " 'index',\n",
       " 'isalnum',\n",
       " 'isalpha',\n",
       " 'isascii',\n",
       " 'isdecimal',\n",
       " 'isdigit',\n",
       " 'isidentifier',\n",
       " 'islower',\n",
       " 'isnumeric',\n",
       " 'isprintable',\n",
       " 'isspace',\n",
       " 'istitle',\n",
       " 'isupper',\n",
       " 'join',\n",
       " 'ljust',\n",
       " 'lower',\n",
       " 'lstrip',\n",
       " 'maketrans',\n",
       " 'partition',\n",
       " 'removeprefix',\n",
       " 'removesuffix',\n",
       " 'replace',\n",
       " 'rfind',\n",
       " 'rindex',\n",
       " 'rjust',\n",
       " 'rpartition',\n",
       " 'rsplit',\n",
       " 'rstrip',\n",
       " 'split',\n",
       " 'splitlines',\n",
       " 'startswith',\n",
       " 'strip',\n",
       " 'swapcase',\n",
       " 'title',\n",
       " 'translate',\n",
       " 'upper',\n",
       " 'zfill']"
      ]
     },
     "execution_count": 146,
     "metadata": {},
     "output_type": "execute_result"
    }
   ],
   "source": [
    "dir(s)"
   ]
  },
  {
   "cell_type": "code",
   "execution_count": 147,
   "id": "9293e5e8",
   "metadata": {},
   "outputs": [
    {
     "data": {
      "text/plain": [
       "2253466024048"
      ]
     },
     "execution_count": 147,
     "metadata": {},
     "output_type": "execute_result"
    }
   ],
   "source": [
    "id(s)"
   ]
  },
  {
   "cell_type": "code",
   "execution_count": 148,
   "id": "0991e81f",
   "metadata": {},
   "outputs": [
    {
     "data": {
      "text/plain": [
       "'Rahul'"
      ]
     },
     "execution_count": 148,
     "metadata": {},
     "output_type": "execute_result"
    }
   ],
   "source": [
    "s.title()"
   ]
  },
  {
   "cell_type": "code",
   "execution_count": 150,
   "id": "7cc55212",
   "metadata": {},
   "outputs": [
    {
     "data": {
      "text/plain": [
       "2253466024048"
      ]
     },
     "execution_count": 150,
     "metadata": {},
     "output_type": "execute_result"
    }
   ],
   "source": [
    "id(s)"
   ]
  },
  {
   "cell_type": "code",
   "execution_count": 153,
   "id": "020d3007",
   "metadata": {},
   "outputs": [],
   "source": [
    "a = [1,2,3,4,5]\n",
    "def my_func(*args,**kwargs):\n",
    "    first,*ignore = args\n",
    "    print(first,ignore)"
   ]
  },
  {
   "cell_type": "code",
   "execution_count": 154,
   "id": "0d5f8479",
   "metadata": {},
   "outputs": [
    {
     "name": "stdout",
     "output_type": "stream",
     "text": [
      "[1, 2, 3, 4, 5] []\n"
     ]
    }
   ],
   "source": [
    "my_func(a)"
   ]
  },
  {
   "cell_type": "code",
   "execution_count": 155,
   "id": "ace72c46",
   "metadata": {},
   "outputs": [
    {
     "data": {
      "text/plain": [
       "-3"
      ]
     },
     "execution_count": 155,
     "metadata": {},
     "output_type": "execute_result"
    }
   ],
   "source": [
    "~2  "
   ]
  },
  {
   "cell_type": "code",
   "execution_count": null,
   "id": "782b2919",
   "metadata": {},
   "outputs": [],
   "source": []
  }
 ],
 "metadata": {
  "kernelspec": {
   "display_name": "Python 3",
   "language": "python",
   "name": "python3"
  },
  "language_info": {
   "codemirror_mode": {
    "name": "ipython",
    "version": 3
   },
   "file_extension": ".py",
   "mimetype": "text/x-python",
   "name": "python",
   "nbconvert_exporter": "python",
   "pygments_lexer": "ipython3",
   "version": "3.9.6"
  }
 },
 "nbformat": 4,
 "nbformat_minor": 5
}
