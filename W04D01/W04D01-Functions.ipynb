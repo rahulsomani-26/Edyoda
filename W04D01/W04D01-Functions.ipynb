{
 "cells": [
  {
   "cell_type": "markdown",
   "id": "cfdb00c2",
   "metadata": {},
   "source": [
    "# Functions \n",
    "\n",
    "`` Does something for us, and may return us something too ``\n"
   ]
  },
  {
   "cell_type": "code",
   "execution_count": 1,
   "id": "03115121",
   "metadata": {},
   "outputs": [
    {
     "name": "stdout",
     "output_type": "stream",
     "text": [
      "****************************************Start of the program****************************************\n",
      "Python\n",
      " Hey how  ar you guys \n",
      "Enter somethingdfhfjh\n",
      "python\n",
      "dfhfjh\n"
     ]
    }
   ],
   "source": [
    "print('Start of the program'.center(100,'*'))\n",
    "print(\"Python\")\n",
    "print(\" Hey how  ar you guys \")\n",
    "n = input(\"Enter something\")\n",
    "print(\"python\")\n",
    "print(n)"
   ]
  },
  {
   "cell_type": "markdown",
   "id": "b7b3616d",
   "metadata": {},
   "source": [
    "`` def function_name():\n",
    "    statement_1\n",
    "    statemtnt_2\n",
    "``"
   ]
  },
  {
   "cell_type": "code",
   "execution_count": 2,
   "id": "80e2cecf",
   "metadata": {},
   "outputs": [],
   "source": [
    "def my_func():\n",
    "    pass"
   ]
  },
  {
   "cell_type": "code",
   "execution_count": 3,
   "id": "1083fa8a",
   "metadata": {},
   "outputs": [
    {
     "data": {
      "text/plain": [
       "<function __main__.my_func()>"
      ]
     },
     "execution_count": 3,
     "metadata": {},
     "output_type": "execute_result"
    }
   ],
   "source": [
    "my_func"
   ]
  },
  {
   "cell_type": "code",
   "execution_count": 4,
   "id": "0d0145a9",
   "metadata": {},
   "outputs": [
    {
     "data": {
      "text/plain": [
       "2453457498896"
      ]
     },
     "execution_count": 4,
     "metadata": {},
     "output_type": "execute_result"
    }
   ],
   "source": [
    "id(my_func)"
   ]
  },
  {
   "cell_type": "code",
   "execution_count": 5,
   "id": "e9090bdc",
   "metadata": {},
   "outputs": [],
   "source": [
    "# Function calling\n",
    "my_func()"
   ]
  },
  {
   "cell_type": "code",
   "execution_count": 6,
   "id": "90f8c903",
   "metadata": {},
   "outputs": [],
   "source": [
    "def adder(a,b):\n",
    "    print('Within a function')\n",
    "    s = a + b \n",
    "    return s\n"
   ]
  },
  {
   "cell_type": "code",
   "execution_count": 7,
   "id": "754e0a11",
   "metadata": {},
   "outputs": [
    {
     "data": {
      "text/plain": [
       "<function __main__.adder(a, b)>"
      ]
     },
     "execution_count": 7,
     "metadata": {},
     "output_type": "execute_result"
    }
   ],
   "source": [
    "adder"
   ]
  },
  {
   "cell_type": "code",
   "execution_count": 8,
   "id": "3dd4af52",
   "metadata": {},
   "outputs": [
    {
     "name": "stdout",
     "output_type": "stream",
     "text": [
      "Within a function\n"
     ]
    },
    {
     "data": {
      "text/plain": [
       "3"
      ]
     },
     "execution_count": 8,
     "metadata": {},
     "output_type": "execute_result"
    }
   ],
   "source": [
    "adder(1,2)"
   ]
  },
  {
   "cell_type": "code",
   "execution_count": 11,
   "id": "456c086f",
   "metadata": {},
   "outputs": [],
   "source": [
    "def mult(a,b):\n",
    "    print(a*b)\n",
    "      "
   ]
  },
  {
   "cell_type": "code",
   "execution_count": 12,
   "id": "cbd8955d",
   "metadata": {},
   "outputs": [
    {
     "name": "stdout",
     "output_type": "stream",
     "text": [
      "2\n"
     ]
    }
   ],
   "source": [
    "mult(1,2)"
   ]
  },
  {
   "cell_type": "code",
   "execution_count": 13,
   "id": "5f0a8c36",
   "metadata": {},
   "outputs": [
    {
     "name": "stdout",
     "output_type": "stream",
     "text": [
      "Help on function mult in module __main__:\n",
      "\n",
      "mult(a, b)\n",
      "\n"
     ]
    }
   ],
   "source": [
    "help(mult)"
   ]
  },
  {
   "cell_type": "code",
   "execution_count": 14,
   "id": "0901adce",
   "metadata": {},
   "outputs": [],
   "source": [
    "msg=\"\"\"First Line\n",
    "      Second Line\n",
    "      Third LIne\n",
    "\"\"\""
   ]
  },
  {
   "cell_type": "code",
   "execution_count": 15,
   "id": "56001477",
   "metadata": {},
   "outputs": [
    {
     "data": {
      "text/plain": [
       "'First Line\\n      Second Line\\n      Third LIne\\n'"
      ]
     },
     "execution_count": 15,
     "metadata": {},
     "output_type": "execute_result"
    }
   ],
   "source": [
    "msg"
   ]
  },
  {
   "cell_type": "code",
   "execution_count": 16,
   "id": "565ab292",
   "metadata": {},
   "outputs": [
    {
     "data": {
      "text/plain": [
       "str"
      ]
     },
     "execution_count": 16,
     "metadata": {},
     "output_type": "execute_result"
    }
   ],
   "source": [
    "type(msg)"
   ]
  },
  {
   "cell_type": "code",
   "execution_count": 17,
   "id": "94edadd4",
   "metadata": {},
   "outputs": [],
   "source": [
    "def adder(a,b):\n",
    "    \"\"\"Adder takes into 2 ints a and b and returns the sum\"\"\"\n",
    "    return a+b"
   ]
  },
  {
   "cell_type": "code",
   "execution_count": 18,
   "id": "5736f4c2",
   "metadata": {},
   "outputs": [
    {
     "data": {
      "text/plain": [
       "(<function __main__.adder(a, b)>, 2453457499472)"
      ]
     },
     "execution_count": 18,
     "metadata": {},
     "output_type": "execute_result"
    }
   ],
   "source": [
    "adder,id(adder)"
   ]
  },
  {
   "cell_type": "code",
   "execution_count": 19,
   "id": "4221fd7a",
   "metadata": {},
   "outputs": [
    {
     "data": {
      "text/plain": [
       "4"
      ]
     },
     "execution_count": 19,
     "metadata": {},
     "output_type": "execute_result"
    }
   ],
   "source": [
    "adder(2,2)"
   ]
  },
  {
   "cell_type": "code",
   "execution_count": 20,
   "id": "f5c41864",
   "metadata": {},
   "outputs": [],
   "source": [
    "result = adder(2,20)\n"
   ]
  },
  {
   "cell_type": "code",
   "execution_count": 21,
   "id": "1b2acbe0",
   "metadata": {},
   "outputs": [
    {
     "data": {
      "text/plain": [
       "22"
      ]
     },
     "execution_count": 21,
     "metadata": {},
     "output_type": "execute_result"
    }
   ],
   "source": [
    "result"
   ]
  },
  {
   "cell_type": "code",
   "execution_count": 22,
   "id": "2bb26ac8",
   "metadata": {},
   "outputs": [
    {
     "name": "stdout",
     "output_type": "stream",
     "text": [
      "22\n"
     ]
    }
   ],
   "source": [
    "print(result)"
   ]
  },
  {
   "cell_type": "code",
   "execution_count": 23,
   "id": "ea9d7db3",
   "metadata": {},
   "outputs": [
    {
     "name": "stdout",
     "output_type": "stream",
     "text": [
      "Help on function adder in module __main__:\n",
      "\n",
      "adder(a, b)\n",
      "    Adder takes into 2 ints a and b and returns the sum\n",
      "\n"
     ]
    }
   ],
   "source": [
    "help(adder)"
   ]
  },
  {
   "cell_type": "code",
   "execution_count": 24,
   "id": "99ba7abb",
   "metadata": {},
   "outputs": [
    {
     "data": {
      "text/plain": [
       "'Adder takes into 2 ints a and b and returns the sum'"
      ]
     },
     "execution_count": 24,
     "metadata": {},
     "output_type": "execute_result"
    }
   ],
   "source": [
    "adder.__doc__"
   ]
  },
  {
   "cell_type": "code",
   "execution_count": 25,
   "id": "bbc19d9c",
   "metadata": {},
   "outputs": [],
   "source": [
    "adder.__doc__ = 'What to write'"
   ]
  },
  {
   "cell_type": "code",
   "execution_count": 26,
   "id": "ffa40833",
   "metadata": {},
   "outputs": [
    {
     "name": "stdout",
     "output_type": "stream",
     "text": [
      "Help on function adder in module __main__:\n",
      "\n",
      "adder(a, b)\n",
      "    What to write\n",
      "\n"
     ]
    }
   ],
   "source": [
    "help(adder)"
   ]
  },
  {
   "cell_type": "code",
   "execution_count": 27,
   "id": "07243668",
   "metadata": {},
   "outputs": [],
   "source": [
    "# Namespaces \n"
   ]
  },
  {
   "cell_type": "code",
   "execution_count": 28,
   "id": "b08974c2",
   "metadata": {},
   "outputs": [],
   "source": [
    "name='Pavan'\n",
    "def my_print():\n",
    "    print(\"Hey {}, I am within the function\".format(name))\n",
    "    "
   ]
  },
  {
   "cell_type": "code",
   "execution_count": 29,
   "id": "682a44a3",
   "metadata": {},
   "outputs": [
    {
     "data": {
      "text/plain": [
       "'Pavan'"
      ]
     },
     "execution_count": 29,
     "metadata": {},
     "output_type": "execute_result"
    }
   ],
   "source": [
    "name"
   ]
  },
  {
   "cell_type": "code",
   "execution_count": 30,
   "id": "d5330469",
   "metadata": {},
   "outputs": [
    {
     "name": "stdout",
     "output_type": "stream",
     "text": [
      "Hey Pavan, I am within the function\n"
     ]
    }
   ],
   "source": [
    "my_print()"
   ]
  },
  {
   "cell_type": "code",
   "execution_count": 31,
   "id": "51cdd7ad",
   "metadata": {},
   "outputs": [],
   "source": [
    "age = 20\n",
    "def my_print():\n",
    "    print(\"Hey {}, I am within the function\".format(age))\n",
    "    "
   ]
  },
  {
   "cell_type": "code",
   "execution_count": 32,
   "id": "7a99bc18",
   "metadata": {},
   "outputs": [
    {
     "data": {
      "text/plain": [
       "20"
      ]
     },
     "execution_count": 32,
     "metadata": {},
     "output_type": "execute_result"
    }
   ],
   "source": [
    "age"
   ]
  },
  {
   "cell_type": "code",
   "execution_count": 33,
   "id": "eada45f4",
   "metadata": {},
   "outputs": [
    {
     "name": "stdout",
     "output_type": "stream",
     "text": [
      "Hey 20, I am within the function\n"
     ]
    }
   ],
   "source": [
    "my_print()"
   ]
  },
  {
   "cell_type": "code",
   "execution_count": 34,
   "id": "dffe2453",
   "metadata": {},
   "outputs": [],
   "source": [
    "name='Pavan'\n",
    "def my_print():\n",
    "    name='Chaman'\n",
    "    print(\"Hey {}, I am within the function\".format(name))\n",
    "    "
   ]
  },
  {
   "cell_type": "code",
   "execution_count": 35,
   "id": "ba961cca",
   "metadata": {},
   "outputs": [
    {
     "data": {
      "text/plain": [
       "'Pavan'"
      ]
     },
     "execution_count": 35,
     "metadata": {},
     "output_type": "execute_result"
    }
   ],
   "source": [
    "name"
   ]
  },
  {
   "cell_type": "code",
   "execution_count": 36,
   "id": "6c0f3f02",
   "metadata": {},
   "outputs": [
    {
     "name": "stdout",
     "output_type": "stream",
     "text": [
      "Hey Chaman, I am within the function\n"
     ]
    }
   ],
   "source": [
    "my_print()"
   ]
  },
  {
   "cell_type": "code",
   "execution_count": 37,
   "id": "56511400",
   "metadata": {},
   "outputs": [],
   "source": [
    "n = 10\n",
    "def my_func():\n",
    "    global n\n",
    "    print(' Before assgning, value of n = {}'.format(n))\n",
    "    n = n + 90\n",
    "    print(' After assgning, value of n = {}'.format(n))\n",
    "    "
   ]
  },
  {
   "cell_type": "code",
   "execution_count": 38,
   "id": "8a8c2fb2",
   "metadata": {},
   "outputs": [
    {
     "data": {
      "text/plain": [
       "10"
      ]
     },
     "execution_count": 38,
     "metadata": {},
     "output_type": "execute_result"
    }
   ],
   "source": [
    "n"
   ]
  },
  {
   "cell_type": "code",
   "execution_count": 39,
   "id": "edec9485",
   "metadata": {},
   "outputs": [
    {
     "name": "stdout",
     "output_type": "stream",
     "text": [
      " Before assgning, value of n = 10\n",
      " After assgning, value of n = 100\n"
     ]
    }
   ],
   "source": [
    "my_func()"
   ]
  },
  {
   "cell_type": "code",
   "execution_count": 40,
   "id": "986e89c5",
   "metadata": {},
   "outputs": [
    {
     "data": {
      "text/plain": [
       "100"
      ]
     },
     "execution_count": 40,
     "metadata": {},
     "output_type": "execute_result"
    }
   ],
   "source": [
    "n"
   ]
  },
  {
   "cell_type": "code",
   "execution_count": 41,
   "id": "5ca6a973",
   "metadata": {},
   "outputs": [
    {
     "data": {
      "text/plain": [
       "<function print>"
      ]
     },
     "execution_count": 41,
     "metadata": {},
     "output_type": "execute_result"
    }
   ],
   "source": [
    "print"
   ]
  },
  {
   "cell_type": "code",
   "execution_count": 42,
   "id": "914cb3b9",
   "metadata": {},
   "outputs": [
    {
     "name": "stdout",
     "output_type": "stream",
     "text": [
      "Help on built-in function print in module builtins:\n",
      "\n",
      "print(...)\n",
      "    print(value, ..., sep=' ', end='\\n', file=sys.stdout, flush=False)\n",
      "    \n",
      "    Prints the values to a stream, or to sys.stdout by default.\n",
      "    Optional keyword arguments:\n",
      "    file:  a file-like object (stream); defaults to the current sys.stdout.\n",
      "    sep:   string inserted between values, default a space.\n",
      "    end:   string appended after the last value, default a newline.\n",
      "    flush: whether to forcibly flush the stream.\n",
      "\n"
     ]
    }
   ],
   "source": [
    "help(print)"
   ]
  },
  {
   "cell_type": "code",
   "execution_count": 43,
   "id": "d198b4f2",
   "metadata": {},
   "outputs": [],
   "source": [
    "def print(a,b,c):\n",
    "    return a+b+c "
   ]
  },
  {
   "cell_type": "code",
   "execution_count": 44,
   "id": "cbe48f2d",
   "metadata": {},
   "outputs": [
    {
     "ename": "TypeError",
     "evalue": "print() missing 2 required positional arguments: 'b' and 'c'",
     "output_type": "error",
     "traceback": [
      "\u001b[1;31m---------------------------------------------------------------------------\u001b[0m",
      "\u001b[1;31mTypeError\u001b[0m                                 Traceback (most recent call last)",
      "\u001b[1;32m<ipython-input-44-2c402ee9ae76>\u001b[0m in \u001b[0;36m<module>\u001b[1;34m\u001b[0m\n\u001b[1;32m----> 1\u001b[1;33m \u001b[0mprint\u001b[0m\u001b[1;33m(\u001b[0m\u001b[1;34m\"rahul\"\u001b[0m\u001b[1;33m)\u001b[0m\u001b[1;33m\u001b[0m\u001b[1;33m\u001b[0m\u001b[0m\n\u001b[0m",
      "\u001b[1;31mTypeError\u001b[0m: print() missing 2 required positional arguments: 'b' and 'c'"
     ]
    }
   ],
   "source": [
    "print(\"rahul\")"
   ]
  },
  {
   "cell_type": "code",
   "execution_count": 45,
   "id": "36c94cb7",
   "metadata": {},
   "outputs": [
    {
     "data": {
      "text/plain": [
       "6"
      ]
     },
     "execution_count": 45,
     "metadata": {},
     "output_type": "execute_result"
    }
   ],
   "source": [
    "print(1,2,3)"
   ]
  },
  {
   "cell_type": "code",
   "execution_count": 46,
   "id": "e9ea7b21",
   "metadata": {},
   "outputs": [],
   "source": [
    "del print"
   ]
  },
  {
   "cell_type": "code",
   "execution_count": 47,
   "id": "5dd0e4c7",
   "metadata": {},
   "outputs": [
    {
     "name": "stdout",
     "output_type": "stream",
     "text": [
      "Works\n"
     ]
    }
   ],
   "source": [
    "print(\"Works\")"
   ]
  },
  {
   "cell_type": "code",
   "execution_count": 48,
   "id": "3c7bd300",
   "metadata": {},
   "outputs": [
    {
     "ename": "NameError",
     "evalue": "name 'print' is not defined",
     "output_type": "error",
     "traceback": [
      "\u001b[1;31m---------------------------------------------------------------------------\u001b[0m",
      "\u001b[1;31mNameError\u001b[0m                                 Traceback (most recent call last)",
      "\u001b[1;32m<ipython-input-48-1683c75ea801>\u001b[0m in \u001b[0;36m<module>\u001b[1;34m\u001b[0m\n\u001b[1;32m----> 1\u001b[1;33m \u001b[1;32mdel\u001b[0m \u001b[0mprint\u001b[0m\u001b[1;33m\u001b[0m\u001b[1;33m\u001b[0m\u001b[0m\n\u001b[0m",
      "\u001b[1;31mNameError\u001b[0m: name 'print' is not defined"
     ]
    }
   ],
   "source": [
    "del print"
   ]
  },
  {
   "cell_type": "code",
   "execution_count": 50,
   "id": "e18c59bd",
   "metadata": {},
   "outputs": [],
   "source": [
    "# Argument Vs parameter \n",
    "def power(num,exponent):\n",
    "    return num**exponent\n",
    "    "
   ]
  },
  {
   "cell_type": "code",
   "execution_count": 51,
   "id": "aafece7f",
   "metadata": {},
   "outputs": [
    {
     "data": {
      "text/plain": [
       "32"
      ]
     },
     "execution_count": 51,
     "metadata": {},
     "output_type": "execute_result"
    }
   ],
   "source": [
    "power(2,5)"
   ]
  },
  {
   "cell_type": "code",
   "execution_count": 52,
   "id": "07399811",
   "metadata": {},
   "outputs": [],
   "source": [
    "def my_func(a,b):\n",
    "    print(type(a),a)\n",
    "    print(type(b),b)    "
   ]
  },
  {
   "cell_type": "code",
   "execution_count": 53,
   "id": "94573394",
   "metadata": {},
   "outputs": [
    {
     "name": "stdout",
     "output_type": "stream",
     "text": [
      "<class 'int'> 2\n",
      "<class 'int'> 3\n"
     ]
    }
   ],
   "source": [
    "my_func(2,3)"
   ]
  },
  {
   "cell_type": "code",
   "execution_count": 54,
   "id": "2b3a560d",
   "metadata": {},
   "outputs": [
    {
     "name": "stdout",
     "output_type": "stream",
     "text": [
      "<class 'float'> 2.3\n",
      "<class 'int'> 3\n"
     ]
    }
   ],
   "source": [
    "my_func(2.3,3)"
   ]
  },
  {
   "cell_type": "code",
   "execution_count": 55,
   "id": "6d69f03d",
   "metadata": {},
   "outputs": [
    {
     "name": "stdout",
     "output_type": "stream",
     "text": [
      "<class 'str'> This\n",
      "<class 'str'> That\n"
     ]
    }
   ],
   "source": [
    "my_func(\"This\",\"That\")"
   ]
  },
  {
   "cell_type": "code",
   "execution_count": 56,
   "id": "0d5dea19",
   "metadata": {},
   "outputs": [],
   "source": [
    "# Positional argument "
   ]
  },
  {
   "cell_type": "code",
   "execution_count": 57,
   "id": "d645e3c7",
   "metadata": {},
   "outputs": [
    {
     "name": "stdout",
     "output_type": "stream",
     "text": [
      "<class 'int'> 1\n",
      "<class 'int'> 2\n"
     ]
    }
   ],
   "source": [
    "my_func(a=1,b=2)"
   ]
  },
  {
   "cell_type": "code",
   "execution_count": 58,
   "id": "0797fa7c",
   "metadata": {},
   "outputs": [
    {
     "ename": "SyntaxError",
     "evalue": "positional argument follows keyword argument (<ipython-input-58-638b73a218c2>, line 1)",
     "output_type": "error",
     "traceback": [
      "\u001b[1;36m  File \u001b[1;32m\"<ipython-input-58-638b73a218c2>\"\u001b[1;36m, line \u001b[1;32m1\u001b[0m\n\u001b[1;33m    my_func(a=1,b)\u001b[0m\n\u001b[1;37m                 ^\u001b[0m\n\u001b[1;31mSyntaxError\u001b[0m\u001b[1;31m:\u001b[0m positional argument follows keyword argument\n"
     ]
    }
   ],
   "source": [
    "my_func(a=1,b)"
   ]
  },
  {
   "cell_type": "code",
   "execution_count": 59,
   "id": "373041e7",
   "metadata": {},
   "outputs": [
    {
     "ename": "NameError",
     "evalue": "name 'a' is not defined",
     "output_type": "error",
     "traceback": [
      "\u001b[1;31m---------------------------------------------------------------------------\u001b[0m",
      "\u001b[1;31mNameError\u001b[0m                                 Traceback (most recent call last)",
      "\u001b[1;32m<ipython-input-59-e5e5fb7c5934>\u001b[0m in \u001b[0;36m<module>\u001b[1;34m\u001b[0m\n\u001b[1;32m----> 1\u001b[1;33m \u001b[0mmy_func\u001b[0m\u001b[1;33m(\u001b[0m\u001b[0ma\u001b[0m\u001b[1;33m,\u001b[0m\u001b[0mb\u001b[0m\u001b[1;33m=\u001b[0m\u001b[1;36m2\u001b[0m\u001b[1;33m)\u001b[0m\u001b[1;33m\u001b[0m\u001b[1;33m\u001b[0m\u001b[0m\n\u001b[0m",
      "\u001b[1;31mNameError\u001b[0m: name 'a' is not defined"
     ]
    }
   ],
   "source": [
    "my_func(a,b=2)"
   ]
  },
  {
   "cell_type": "code",
   "execution_count": 60,
   "id": "6686944a",
   "metadata": {},
   "outputs": [],
   "source": [
    "# passing default values \n",
    "def my_func(name=\"Deepak\",age=20):\n",
    "    print(name,age)"
   ]
  },
  {
   "cell_type": "code",
   "execution_count": 61,
   "id": "f0b507de",
   "metadata": {},
   "outputs": [
    {
     "name": "stdout",
     "output_type": "stream",
     "text": [
      "Deepak 20\n"
     ]
    }
   ],
   "source": [
    "my_func()"
   ]
  },
  {
   "cell_type": "code",
   "execution_count": 62,
   "id": "7725118b",
   "metadata": {},
   "outputs": [
    {
     "name": "stdout",
     "output_type": "stream",
     "text": [
      "Pavan 21\n"
     ]
    }
   ],
   "source": [
    "my_func(name=\"Pavan\",age=21)"
   ]
  },
  {
   "cell_type": "code",
   "execution_count": 63,
   "id": "f0abc3e4",
   "metadata": {},
   "outputs": [
    {
     "name": "stdout",
     "output_type": "stream",
     "text": [
      "Pavan 20\n"
     ]
    }
   ],
   "source": [
    "my_func(name=\"Pavan\")"
   ]
  },
  {
   "cell_type": "code",
   "execution_count": 64,
   "id": "4064b876",
   "metadata": {},
   "outputs": [
    {
     "name": "stdout",
     "output_type": "stream",
     "text": [
      "xyz 30\n"
     ]
    }
   ],
   "source": [
    "my_func(age=30,name=\"xyz\")"
   ]
  },
  {
   "cell_type": "markdown",
   "id": "793db213",
   "metadata": {},
   "source": [
    "# Variable number of positional arguments \n",
    "`` Gets packed in a tuple ``\n",
    "\n",
    "`` By convention *args is used ``"
   ]
  },
  {
   "cell_type": "code",
   "execution_count": 65,
   "id": "0b4a77ba",
   "metadata": {},
   "outputs": [],
   "source": [
    "def multiple(*val):\n",
    "    print(val)\n",
    "    print(type(val))"
   ]
  },
  {
   "cell_type": "code",
   "execution_count": 66,
   "id": "4b29106c",
   "metadata": {},
   "outputs": [
    {
     "name": "stdout",
     "output_type": "stream",
     "text": [
      "()\n",
      "<class 'tuple'>\n"
     ]
    }
   ],
   "source": [
    "multiple()"
   ]
  },
  {
   "cell_type": "code",
   "execution_count": 67,
   "id": "5a803d46",
   "metadata": {},
   "outputs": [
    {
     "name": "stdout",
     "output_type": "stream",
     "text": [
      "(1, 2, 3, 4, 5)\n",
      "<class 'tuple'>\n"
     ]
    }
   ],
   "source": [
    "multiple(1,2,3,4,5)"
   ]
  },
  {
   "cell_type": "code",
   "execution_count": 68,
   "id": "4f8e695d",
   "metadata": {},
   "outputs": [],
   "source": [
    "def an_example(name,*args,**kwargs):\n",
    "    print(name)\n",
    "    print('Positional arguments = {}'.format(args))\n",
    "    print('Keyword only arguments = {}'.format(kwargs))\n",
    "    "
   ]
  },
  {
   "cell_type": "code",
   "execution_count": 69,
   "id": "9d67fac1",
   "metadata": {},
   "outputs": [
    {
     "data": {
      "text/plain": [
       "<function __main__.an_example(name, *args, **kwargs)>"
      ]
     },
     "execution_count": 69,
     "metadata": {},
     "output_type": "execute_result"
    }
   ],
   "source": [
    "an_example"
   ]
  },
  {
   "cell_type": "code",
   "execution_count": 70,
   "id": "85ba0aad",
   "metadata": {},
   "outputs": [
    {
     "ename": "TypeError",
     "evalue": "an_example() missing 1 required positional argument: 'name'",
     "output_type": "error",
     "traceback": [
      "\u001b[1;31m---------------------------------------------------------------------------\u001b[0m",
      "\u001b[1;31mTypeError\u001b[0m                                 Traceback (most recent call last)",
      "\u001b[1;32m<ipython-input-70-c0c53b119ca8>\u001b[0m in \u001b[0;36m<module>\u001b[1;34m\u001b[0m\n\u001b[1;32m----> 1\u001b[1;33m \u001b[0man_example\u001b[0m\u001b[1;33m(\u001b[0m\u001b[1;33m)\u001b[0m\u001b[1;33m\u001b[0m\u001b[1;33m\u001b[0m\u001b[0m\n\u001b[0m",
      "\u001b[1;31mTypeError\u001b[0m: an_example() missing 1 required positional argument: 'name'"
     ]
    }
   ],
   "source": [
    "an_example()"
   ]
  },
  {
   "cell_type": "code",
   "execution_count": 71,
   "id": "c3de6208",
   "metadata": {},
   "outputs": [
    {
     "name": "stdout",
     "output_type": "stream",
     "text": [
      "SomeName\n",
      "Positional arguments = ()\n",
      "Keyword only arguments = {}\n"
     ]
    }
   ],
   "source": [
    "an_example(\"SomeName\")"
   ]
  },
  {
   "cell_type": "code",
   "execution_count": 72,
   "id": "b26f0e78",
   "metadata": {},
   "outputs": [
    {
     "name": "stdout",
     "output_type": "stream",
     "text": [
      "SomeName\n",
      "Positional arguments = (100, 200, 300)\n",
      "Keyword only arguments = {}\n"
     ]
    }
   ],
   "source": [
    "an_example(\"SomeName\",100,200,300)"
   ]
  },
  {
   "cell_type": "code",
   "execution_count": 73,
   "id": "93ecc980",
   "metadata": {},
   "outputs": [
    {
     "name": "stdout",
     "output_type": "stream",
     "text": [
      "SomeName\n",
      "Positional arguments = (100, 200, 300)\n",
      "Keyword only arguments = {'address': 'somewhere'}\n"
     ]
    }
   ],
   "source": [
    "an_example(\"SomeName\",100,200,300,address=\"somewhere\")"
   ]
  },
  {
   "cell_type": "code",
   "execution_count": 77,
   "id": "78a75b0d",
   "metadata": {},
   "outputs": [],
   "source": [
    "count = 0 \n",
    "version = '1.0.0'\n",
    "\n",
    "def outer_wrapper():\n",
    "    print(\"Within outer\")\n",
    "    \n",
    "    def inner_wrapper():\n",
    "        print(\"Within inner\")\n",
    "        print(\"Count = {} and version = {}\".format(count,version))\n",
    "        print(\"Returning from function...1..2...3\")\n",
    "    inner_wrapper()\n",
    "    "
   ]
  },
  {
   "cell_type": "code",
   "execution_count": 78,
   "id": "cbbbd266",
   "metadata": {},
   "outputs": [
    {
     "data": {
      "text/plain": [
       "(0, '1.0.0')"
      ]
     },
     "execution_count": 78,
     "metadata": {},
     "output_type": "execute_result"
    }
   ],
   "source": [
    "count,version"
   ]
  },
  {
   "cell_type": "code",
   "execution_count": 79,
   "id": "6ea5472d",
   "metadata": {},
   "outputs": [
    {
     "name": "stdout",
     "output_type": "stream",
     "text": [
      "Within outer\n",
      "Within inner\n",
      "Count = 0 and version = 1.0.0\n",
      "Returning from function...1..2...3\n"
     ]
    }
   ],
   "source": [
    "outer_wrapper()"
   ]
  },
  {
   "cell_type": "code",
   "execution_count": 80,
   "id": "fb9c4c61",
   "metadata": {},
   "outputs": [],
   "source": [
    "def outer():\n",
    "    name = 'Rahul'\n",
    "    def inner():\n",
    "        print(name)\n",
    "    inner()\n",
    "        "
   ]
  },
  {
   "cell_type": "code",
   "execution_count": 81,
   "id": "52740ea5",
   "metadata": {},
   "outputs": [
    {
     "name": "stdout",
     "output_type": "stream",
     "text": [
      "Rahul\n"
     ]
    }
   ],
   "source": [
    "outer()"
   ]
  },
  {
   "cell_type": "code",
   "execution_count": 82,
   "id": "f566c19d",
   "metadata": {},
   "outputs": [],
   "source": [
    "def outer():\n",
    "    name = 'Rahul'\n",
    "    def inner():\n",
    "        global name\n",
    "        name='Bond 007'\n",
    "        print(name)\n",
    "    inner()\n",
    "        "
   ]
  },
  {
   "cell_type": "code",
   "execution_count": 83,
   "id": "f9ceb8c7",
   "metadata": {},
   "outputs": [
    {
     "name": "stdout",
     "output_type": "stream",
     "text": [
      "Bond 007\n"
     ]
    }
   ],
   "source": [
    "outer()"
   ]
  },
  {
   "cell_type": "code",
   "execution_count": 84,
   "id": "dac771a4",
   "metadata": {},
   "outputs": [
    {
     "data": {
      "text/plain": [
       "'Bond 007'"
      ]
     },
     "execution_count": 84,
     "metadata": {},
     "output_type": "execute_result"
    }
   ],
   "source": [
    "name"
   ]
  },
  {
   "cell_type": "code",
   "execution_count": 85,
   "id": "6499725a",
   "metadata": {},
   "outputs": [],
   "source": [
    "name=\"Empire\"\n",
    "def outer():\n",
    "    qwerty = 'Rahul'\n",
    "    def inner():\n",
    "        global qwerty\n",
    "        qwerty='Bond 007'\n",
    "        print(qwerty)\n",
    "    inner()\n",
    "        "
   ]
  },
  {
   "cell_type": "code",
   "execution_count": 87,
   "id": "2fd1f96a",
   "metadata": {},
   "outputs": [
    {
     "name": "stdout",
     "output_type": "stream",
     "text": [
      "Bond 007\n"
     ]
    }
   ],
   "source": [
    "outer()"
   ]
  },
  {
   "cell_type": "code",
   "execution_count": 88,
   "id": "42af3f8c",
   "metadata": {},
   "outputs": [],
   "source": [
    "name=\"Empire\"\n",
    "def outer():\n",
    "    qwerty = 'Rahul'\n",
    "    def inner():\n",
    "        nonlocal qwerty\n",
    "        qwerty='Bond 007'\n",
    "        print(qwerty)\n",
    "    inner()\n",
    "        "
   ]
  },
  {
   "cell_type": "code",
   "execution_count": 89,
   "id": "bbeddaba",
   "metadata": {},
   "outputs": [
    {
     "name": "stdout",
     "output_type": "stream",
     "text": [
      "Bond 007\n"
     ]
    }
   ],
   "source": [
    "outer()"
   ]
  },
  {
   "cell_type": "code",
   "execution_count": 92,
   "id": "a6662e2d",
   "metadata": {},
   "outputs": [],
   "source": [
    "qwerty=\"Empire\"\n",
    "def outer():\n",
    "    qwerty = 'Rahul'\n",
    "    def inner():\n",
    "        nonlocal qwerty\n",
    "        qwerty='Bond 007'\n",
    "        print(qwerty)\n",
    "    print(\"Inside outer ---{}\".format(qwerty))\n",
    "    inner()\n",
    "        "
   ]
  },
  {
   "cell_type": "code",
   "execution_count": 93,
   "id": "7a4c19fd",
   "metadata": {},
   "outputs": [
    {
     "data": {
      "text/plain": [
       "'Empire'"
      ]
     },
     "execution_count": 93,
     "metadata": {},
     "output_type": "execute_result"
    }
   ],
   "source": [
    "qwerty"
   ]
  },
  {
   "cell_type": "code",
   "execution_count": 94,
   "id": "ac72064f",
   "metadata": {},
   "outputs": [
    {
     "name": "stdout",
     "output_type": "stream",
     "text": [
      "Inside outer ---Rahul\n",
      "Bond 007\n"
     ]
    }
   ],
   "source": [
    "outer()"
   ]
  },
  {
   "cell_type": "code",
   "execution_count": 95,
   "id": "ddefb1af",
   "metadata": {},
   "outputs": [
    {
     "data": {
      "text/plain": [
       "'Empire'"
      ]
     },
     "execution_count": 95,
     "metadata": {},
     "output_type": "execute_result"
    }
   ],
   "source": [
    "qwerty"
   ]
  },
  {
   "cell_type": "code",
   "execution_count": 109,
   "id": "4535e1c0",
   "metadata": {},
   "outputs": [],
   "source": [
    "qwerty=\"Empire\"\n",
    "def outer():\n",
    "    qwerty = 'Rahul'\n",
    "    print(qwerty)\n",
    "    print(\"within outer value = {}\".format(qwerty))\n",
    "    def inner():\n",
    "        global qwerty\n",
    "        qwerty='Bond 007'\n",
    "        print(qwerty)\n",
    "    print(\"Inside outer ---{}\".format(qwerty))\n",
    "    inner()\n",
    "        "
   ]
  },
  {
   "cell_type": "code",
   "execution_count": 110,
   "id": "058655a2",
   "metadata": {},
   "outputs": [
    {
     "data": {
      "text/plain": [
       "'Empire'"
      ]
     },
     "execution_count": 110,
     "metadata": {},
     "output_type": "execute_result"
    }
   ],
   "source": [
    "qwerty"
   ]
  },
  {
   "cell_type": "code",
   "execution_count": 111,
   "id": "158e7379",
   "metadata": {},
   "outputs": [
    {
     "name": "stdout",
     "output_type": "stream",
     "text": [
      "Rahul\n",
      "within outer value = Rahul\n",
      "Inside outer ---Rahul\n",
      "Bond 007\n"
     ]
    }
   ],
   "source": [
    "outer()"
   ]
  },
  {
   "cell_type": "code",
   "execution_count": 112,
   "id": "e506c036",
   "metadata": {},
   "outputs": [
    {
     "data": {
      "text/plain": [
       "'Bond 007'"
      ]
     },
     "execution_count": 112,
     "metadata": {},
     "output_type": "execute_result"
    }
   ],
   "source": [
    "qwerty"
   ]
  },
  {
   "cell_type": "code",
   "execution_count": 113,
   "id": "195879d4",
   "metadata": {},
   "outputs": [],
   "source": []
  },
  {
   "cell_type": "code",
   "execution_count": null,
   "id": "65febb4c",
   "metadata": {},
   "outputs": [],
   "source": []
  }
 ],
 "metadata": {
  "kernelspec": {
   "display_name": "Python 3",
   "language": "python",
   "name": "python3"
  },
  "language_info": {
   "codemirror_mode": {
    "name": "ipython",
    "version": 3
   },
   "file_extension": ".py",
   "mimetype": "text/x-python",
   "name": "python",
   "nbconvert_exporter": "python",
   "pygments_lexer": "ipython3",
   "version": "3.9.6"
  }
 },
 "nbformat": 4,
 "nbformat_minor": 5
}
