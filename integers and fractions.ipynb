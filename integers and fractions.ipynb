{
 "cells": [
  {
   "cell_type": "markdown",
   "id": "ce6b1245",
   "metadata": {},
   "source": [
    "# Integers "
   ]
  },
  {
   "cell_type": "code",
   "execution_count": 2,
   "id": "13175a37",
   "metadata": {},
   "outputs": [
    {
     "data": {
      "text/plain": [
       "int"
      ]
     },
     "execution_count": 2,
     "metadata": {},
     "output_type": "execute_result"
    }
   ],
   "source": [
    "a = 10\n",
    "type(a)"
   ]
  },
  {
   "cell_type": "code",
   "execution_count": 3,
   "id": "4bb47888",
   "metadata": {},
   "outputs": [
    {
     "data": {
      "text/plain": [
       "0"
      ]
     },
     "execution_count": 3,
     "metadata": {},
     "output_type": "execute_result"
    }
   ],
   "source": [
    "int()"
   ]
  },
  {
   "cell_type": "code",
   "execution_count": 4,
   "id": "bbb428eb",
   "metadata": {},
   "outputs": [
    {
     "name": "stdout",
     "output_type": "stream",
     "text": [
      "Help on class int in module builtins:\n",
      "\n",
      "class int(object)\n",
      " |  int([x]) -> integer\n",
      " |  int(x, base=10) -> integer\n",
      " |  \n",
      " |  Convert a number or string to an integer, or return 0 if no arguments\n",
      " |  are given.  If x is a number, return x.__int__().  For floating point\n",
      " |  numbers, this truncates towards zero.\n",
      " |  \n",
      " |  If x is not a number or if base is given, then x must be a string,\n",
      " |  bytes, or bytearray instance representing an integer literal in the\n",
      " |  given base.  The literal can be preceded by '+' or '-' and be surrounded\n",
      " |  by whitespace.  The base defaults to 10.  Valid bases are 0 and 2-36.\n",
      " |  Base 0 means to interpret the base from the string as an integer literal.\n",
      " |  >>> int('0b100', base=0)\n",
      " |  4\n",
      " |  \n",
      " |  Built-in subclasses:\n",
      " |      bool\n",
      " |  \n",
      " |  Methods defined here:\n",
      " |  \n",
      " |  __abs__(self, /)\n",
      " |      abs(self)\n",
      " |  \n",
      " |  __add__(self, value, /)\n",
      " |      Return self+value.\n",
      " |  \n",
      " |  __and__(self, value, /)\n",
      " |      Return self&value.\n",
      " |  \n",
      " |  __bool__(self, /)\n",
      " |      self != 0\n",
      " |  \n",
      " |  __ceil__(...)\n",
      " |      Ceiling of an Integral returns itself.\n",
      " |  \n",
      " |  __divmod__(self, value, /)\n",
      " |      Return divmod(self, value).\n",
      " |  \n",
      " |  __eq__(self, value, /)\n",
      " |      Return self==value.\n",
      " |  \n",
      " |  __float__(self, /)\n",
      " |      float(self)\n",
      " |  \n",
      " |  __floor__(...)\n",
      " |      Flooring an Integral returns itself.\n",
      " |  \n",
      " |  __floordiv__(self, value, /)\n",
      " |      Return self//value.\n",
      " |  \n",
      " |  __format__(self, format_spec, /)\n",
      " |      Default object formatter.\n",
      " |  \n",
      " |  __ge__(self, value, /)\n",
      " |      Return self>=value.\n",
      " |  \n",
      " |  __getattribute__(self, name, /)\n",
      " |      Return getattr(self, name).\n",
      " |  \n",
      " |  __getnewargs__(self, /)\n",
      " |  \n",
      " |  __gt__(self, value, /)\n",
      " |      Return self>value.\n",
      " |  \n",
      " |  __hash__(self, /)\n",
      " |      Return hash(self).\n",
      " |  \n",
      " |  __index__(self, /)\n",
      " |      Return self converted to an integer, if self is suitable for use as an index into a list.\n",
      " |  \n",
      " |  __int__(self, /)\n",
      " |      int(self)\n",
      " |  \n",
      " |  __invert__(self, /)\n",
      " |      ~self\n",
      " |  \n",
      " |  __le__(self, value, /)\n",
      " |      Return self<=value.\n",
      " |  \n",
      " |  __lshift__(self, value, /)\n",
      " |      Return self<<value.\n",
      " |  \n",
      " |  __lt__(self, value, /)\n",
      " |      Return self<value.\n",
      " |  \n",
      " |  __mod__(self, value, /)\n",
      " |      Return self%value.\n",
      " |  \n",
      " |  __mul__(self, value, /)\n",
      " |      Return self*value.\n",
      " |  \n",
      " |  __ne__(self, value, /)\n",
      " |      Return self!=value.\n",
      " |  \n",
      " |  __neg__(self, /)\n",
      " |      -self\n",
      " |  \n",
      " |  __or__(self, value, /)\n",
      " |      Return self|value.\n",
      " |  \n",
      " |  __pos__(self, /)\n",
      " |      +self\n",
      " |  \n",
      " |  __pow__(self, value, mod=None, /)\n",
      " |      Return pow(self, value, mod).\n",
      " |  \n",
      " |  __radd__(self, value, /)\n",
      " |      Return value+self.\n",
      " |  \n",
      " |  __rand__(self, value, /)\n",
      " |      Return value&self.\n",
      " |  \n",
      " |  __rdivmod__(self, value, /)\n",
      " |      Return divmod(value, self).\n",
      " |  \n",
      " |  __repr__(self, /)\n",
      " |      Return repr(self).\n",
      " |  \n",
      " |  __rfloordiv__(self, value, /)\n",
      " |      Return value//self.\n",
      " |  \n",
      " |  __rlshift__(self, value, /)\n",
      " |      Return value<<self.\n",
      " |  \n",
      " |  __rmod__(self, value, /)\n",
      " |      Return value%self.\n",
      " |  \n",
      " |  __rmul__(self, value, /)\n",
      " |      Return value*self.\n",
      " |  \n",
      " |  __ror__(self, value, /)\n",
      " |      Return value|self.\n",
      " |  \n",
      " |  __round__(...)\n",
      " |      Rounding an Integral returns itself.\n",
      " |      Rounding with an ndigits argument also returns an integer.\n",
      " |  \n",
      " |  __rpow__(self, value, mod=None, /)\n",
      " |      Return pow(value, self, mod).\n",
      " |  \n",
      " |  __rrshift__(self, value, /)\n",
      " |      Return value>>self.\n",
      " |  \n",
      " |  __rshift__(self, value, /)\n",
      " |      Return self>>value.\n",
      " |  \n",
      " |  __rsub__(self, value, /)\n",
      " |      Return value-self.\n",
      " |  \n",
      " |  __rtruediv__(self, value, /)\n",
      " |      Return value/self.\n",
      " |  \n",
      " |  __rxor__(self, value, /)\n",
      " |      Return value^self.\n",
      " |  \n",
      " |  __sizeof__(self, /)\n",
      " |      Returns size in memory, in bytes.\n",
      " |  \n",
      " |  __sub__(self, value, /)\n",
      " |      Return self-value.\n",
      " |  \n",
      " |  __truediv__(self, value, /)\n",
      " |      Return self/value.\n",
      " |  \n",
      " |  __trunc__(...)\n",
      " |      Truncating an Integral returns itself.\n",
      " |  \n",
      " |  __xor__(self, value, /)\n",
      " |      Return self^value.\n",
      " |  \n",
      " |  as_integer_ratio(self, /)\n",
      " |      Return integer ratio.\n",
      " |      \n",
      " |      Return a pair of integers, whose ratio is exactly equal to the original int\n",
      " |      and with a positive denominator.\n",
      " |      \n",
      " |      >>> (10).as_integer_ratio()\n",
      " |      (10, 1)\n",
      " |      >>> (-10).as_integer_ratio()\n",
      " |      (-10, 1)\n",
      " |      >>> (0).as_integer_ratio()\n",
      " |      (0, 1)\n",
      " |  \n",
      " |  bit_length(self, /)\n",
      " |      Number of bits necessary to represent self in binary.\n",
      " |      \n",
      " |      >>> bin(37)\n",
      " |      '0b100101'\n",
      " |      >>> (37).bit_length()\n",
      " |      6\n",
      " |  \n",
      " |  conjugate(...)\n",
      " |      Returns self, the complex conjugate of any int.\n",
      " |  \n",
      " |  to_bytes(self, /, length, byteorder, *, signed=False)\n",
      " |      Return an array of bytes representing an integer.\n",
      " |      \n",
      " |      length\n",
      " |        Length of bytes object to use.  An OverflowError is raised if the\n",
      " |        integer is not representable with the given number of bytes.\n",
      " |      byteorder\n",
      " |        The byte order used to represent the integer.  If byteorder is 'big',\n",
      " |        the most significant byte is at the beginning of the byte array.  If\n",
      " |        byteorder is 'little', the most significant byte is at the end of the\n",
      " |        byte array.  To request the native byte order of the host system, use\n",
      " |        `sys.byteorder' as the byte order value.\n",
      " |      signed\n",
      " |        Determines whether two's complement is used to represent the integer.\n",
      " |        If signed is False and a negative integer is given, an OverflowError\n",
      " |        is raised.\n",
      " |  \n",
      " |  ----------------------------------------------------------------------\n",
      " |  Class methods defined here:\n",
      " |  \n",
      " |  from_bytes(bytes, byteorder, *, signed=False) from builtins.type\n",
      " |      Return the integer represented by the given array of bytes.\n",
      " |      \n",
      " |      bytes\n",
      " |        Holds the array of bytes to convert.  The argument must either\n",
      " |        support the buffer protocol or be an iterable object producing bytes.\n",
      " |        Bytes and bytearray are examples of built-in objects that support the\n",
      " |        buffer protocol.\n",
      " |      byteorder\n",
      " |        The byte order used to represent the integer.  If byteorder is 'big',\n",
      " |        the most significant byte is at the beginning of the byte array.  If\n",
      " |        byteorder is 'little', the most significant byte is at the end of the\n",
      " |        byte array.  To request the native byte order of the host system, use\n",
      " |        `sys.byteorder' as the byte order value.\n",
      " |      signed\n",
      " |        Indicates whether two's complement is used to represent the integer.\n",
      " |  \n",
      " |  ----------------------------------------------------------------------\n",
      " |  Static methods defined here:\n",
      " |  \n",
      " |  __new__(*args, **kwargs) from builtins.type\n",
      " |      Create and return a new object.  See help(type) for accurate signature.\n",
      " |  \n",
      " |  ----------------------------------------------------------------------\n",
      " |  Data descriptors defined here:\n",
      " |  \n",
      " |  denominator\n",
      " |      the denominator of a rational number in lowest terms\n",
      " |  \n",
      " |  imag\n",
      " |      the imaginary part of a complex number\n",
      " |  \n",
      " |  numerator\n",
      " |      the numerator of a rational number in lowest terms\n",
      " |  \n",
      " |  real\n",
      " |      the real part of a complex number\n",
      "\n"
     ]
    }
   ],
   "source": [
    "help(int)"
   ]
  },
  {
   "cell_type": "code",
   "execution_count": 6,
   "id": "a8c809d6",
   "metadata": {},
   "outputs": [],
   "source": [
    "a=int(10)"
   ]
  },
  {
   "cell_type": "code",
   "execution_count": 9,
   "id": "f9c42a15",
   "metadata": {},
   "outputs": [
    {
     "data": {
      "text/plain": [
       "(10, int, 1846358534736)"
      ]
     },
     "execution_count": 9,
     "metadata": {},
     "output_type": "execute_result"
    }
   ],
   "source": [
    "a,type(a),id(a)"
   ]
  },
  {
   "cell_type": "code",
   "execution_count": 10,
   "id": "196b8f8f",
   "metadata": {},
   "outputs": [
    {
     "data": {
      "text/plain": [
       "12"
      ]
     },
     "execution_count": 10,
     "metadata": {},
     "output_type": "execute_result"
    }
   ],
   "source": [
    "int(12.9)"
   ]
  },
  {
   "cell_type": "code",
   "execution_count": 11,
   "id": "9a5156ad",
   "metadata": {},
   "outputs": [
    {
     "data": {
      "text/plain": [
       "-14"
      ]
     },
     "execution_count": 11,
     "metadata": {},
     "output_type": "execute_result"
    }
   ],
   "source": [
    "int(-14.9)"
   ]
  },
  {
   "cell_type": "code",
   "execution_count": 12,
   "id": "f1c3edfc",
   "metadata": {},
   "outputs": [],
   "source": [
    "# Lets use the second constructor that will generate integers from strings in any base"
   ]
  },
  {
   "cell_type": "code",
   "execution_count": 13,
   "id": "0bac9c0f",
   "metadata": {},
   "outputs": [
    {
     "data": {
      "text/plain": [
       "10"
      ]
     },
     "execution_count": 13,
     "metadata": {},
     "output_type": "execute_result"
    }
   ],
   "source": [
    "int(\"10\")"
   ]
  },
  {
   "cell_type": "code",
   "execution_count": 14,
   "id": "387b7c22",
   "metadata": {},
   "outputs": [
    {
     "data": {
      "text/plain": [
       "2"
      ]
     },
     "execution_count": 14,
     "metadata": {},
     "output_type": "execute_result"
    }
   ],
   "source": [
    "int(\"10\",base=2)"
   ]
  },
  {
   "cell_type": "code",
   "execution_count": 15,
   "id": "d2c14e8b",
   "metadata": {},
   "outputs": [
    {
     "data": {
      "text/plain": [
       "10"
      ]
     },
     "execution_count": 15,
     "metadata": {},
     "output_type": "execute_result"
    }
   ],
   "source": [
    "int(\"1010\",2)"
   ]
  },
  {
   "cell_type": "code",
   "execution_count": 16,
   "id": "e08573cf",
   "metadata": {},
   "outputs": [
    {
     "data": {
      "text/plain": [
       "520"
      ]
     },
     "execution_count": 16,
     "metadata": {},
     "output_type": "execute_result"
    }
   ],
   "source": [
    "int(\"1010\",base=8)"
   ]
  },
  {
   "cell_type": "code",
   "execution_count": 19,
   "id": "3cbcd38b",
   "metadata": {},
   "outputs": [],
   "source": [
    "a = int('f1a',)\n"
   ]
  },
  {
   "cell_type": "code",
   "execution_count": 20,
   "id": "3fb940ec",
   "metadata": {},
   "outputs": [
    {
     "data": {
      "text/plain": [
       "7968"
      ]
     },
     "execution_count": 20,
     "metadata": {},
     "output_type": "execute_result"
    }
   ],
   "source": [
    "a"
   ]
  },
  {
   "cell_type": "code",
   "execution_count": 21,
   "id": "51957b07",
   "metadata": {},
   "outputs": [],
   "source": [
    "c = 0b1010"
   ]
  },
  {
   "cell_type": "code",
   "execution_count": 22,
   "id": "77277fe5",
   "metadata": {},
   "outputs": [
    {
     "name": "stdout",
     "output_type": "stream",
     "text": [
      "10\n"
     ]
    }
   ],
   "source": [
    "print(c)"
   ]
  },
  {
   "cell_type": "code",
   "execution_count": 23,
   "id": "ae205ec7",
   "metadata": {},
   "outputs": [
    {
     "ename": "SyntaxError",
     "evalue": "invalid digit '3' in binary literal (<ipython-input-23-f9a9a3d13593>, line 1)",
     "output_type": "error",
     "traceback": [
      "\u001b[1;36m  File \u001b[1;32m\"<ipython-input-23-f9a9a3d13593>\"\u001b[1;36m, line \u001b[1;32m1\u001b[0m\n\u001b[1;33m    c = 0b1013\u001b[0m\n\u001b[1;37m             ^\u001b[0m\n\u001b[1;31mSyntaxError\u001b[0m\u001b[1;31m:\u001b[0m invalid digit '3' in binary literal\n"
     ]
    }
   ],
   "source": [
    "c = 0b1013"
   ]
  },
  {
   "cell_type": "code",
   "execution_count": 24,
   "id": "87ffcd46",
   "metadata": {},
   "outputs": [
    {
     "data": {
      "text/plain": [
       "<function bin(number, /)>"
      ]
     },
     "execution_count": 24,
     "metadata": {},
     "output_type": "execute_result"
    }
   ],
   "source": [
    "bin"
   ]
  },
  {
   "cell_type": "code",
   "execution_count": 25,
   "id": "256d6e45",
   "metadata": {},
   "outputs": [
    {
     "name": "stdout",
     "output_type": "stream",
     "text": [
      "Help on built-in function bin in module builtins:\n",
      "\n",
      "bin(number, /)\n",
      "    Return the binary representation of an integer.\n",
      "    \n",
      "    >>> bin(2796202)\n",
      "    '0b1010101010101010101010'\n",
      "\n"
     ]
    }
   ],
   "source": [
    "help(bin)"
   ]
  },
  {
   "cell_type": "code",
   "execution_count": 26,
   "id": "597c6385",
   "metadata": {},
   "outputs": [
    {
     "data": {
      "text/plain": [
       "'0b1010101010101010101010'"
      ]
     },
     "execution_count": 26,
     "metadata": {},
     "output_type": "execute_result"
    }
   ],
   "source": [
    "bin(2796202)"
   ]
  },
  {
   "cell_type": "code",
   "execution_count": 27,
   "id": "352b241c",
   "metadata": {},
   "outputs": [
    {
     "data": {
      "text/plain": [
       "'0x44'"
      ]
     },
     "execution_count": 27,
     "metadata": {},
     "output_type": "execute_result"
    }
   ],
   "source": [
    "hex(68)"
   ]
  },
  {
   "cell_type": "code",
   "execution_count": 28,
   "id": "ecac9cfe",
   "metadata": {},
   "outputs": [
    {
     "data": {
      "text/plain": [
       "'0o10'"
      ]
     },
     "execution_count": 28,
     "metadata": {},
     "output_type": "execute_result"
    }
   ],
   "source": [
    "oct(8)"
   ]
  },
  {
   "cell_type": "code",
   "execution_count": 29,
   "id": "69ac0435",
   "metadata": {},
   "outputs": [],
   "source": [
    "# Rational Number \n",
    "from fractions import Fraction "
   ]
  },
  {
   "cell_type": "code",
   "execution_count": 30,
   "id": "db6c67de",
   "metadata": {},
   "outputs": [
    {
     "name": "stdout",
     "output_type": "stream",
     "text": [
      "Help on class Fraction in module fractions:\n",
      "\n",
      "class Fraction(numbers.Rational)\n",
      " |  Fraction(numerator=0, denominator=None, *, _normalize=True)\n",
      " |  \n",
      " |  This class implements rational numbers.\n",
      " |  \n",
      " |  In the two-argument form of the constructor, Fraction(8, 6) will\n",
      " |  produce a rational number equivalent to 4/3. Both arguments must\n",
      " |  be Rational. The numerator defaults to 0 and the denominator\n",
      " |  defaults to 1 so that Fraction(3) == 3 and Fraction() == 0.\n",
      " |  \n",
      " |  Fractions can also be constructed from:\n",
      " |  \n",
      " |    - numeric strings similar to those accepted by the\n",
      " |      float constructor (for example, '-2.3' or '1e10')\n",
      " |  \n",
      " |    - strings of the form '123/456'\n",
      " |  \n",
      " |    - float and Decimal instances\n",
      " |  \n",
      " |    - other Rational instances (including integers)\n",
      " |  \n",
      " |  Method resolution order:\n",
      " |      Fraction\n",
      " |      numbers.Rational\n",
      " |      numbers.Real\n",
      " |      numbers.Complex\n",
      " |      numbers.Number\n",
      " |      builtins.object\n",
      " |  \n",
      " |  Methods defined here:\n",
      " |  \n",
      " |  __abs__(a)\n",
      " |      abs(a)\n",
      " |  \n",
      " |  __add__(a, b)\n",
      " |      a + b\n",
      " |  \n",
      " |  __bool__(a)\n",
      " |      a != 0\n",
      " |  \n",
      " |  __ceil__(a)\n",
      " |      math.ceil(a)\n",
      " |  \n",
      " |  __copy__(self)\n",
      " |  \n",
      " |  __deepcopy__(self, memo)\n",
      " |  \n",
      " |  __divmod__(a, b)\n",
      " |      (a // b, a % b)\n",
      " |  \n",
      " |  __eq__(a, b)\n",
      " |      a == b\n",
      " |  \n",
      " |  __floor__(a)\n",
      " |      math.floor(a)\n",
      " |  \n",
      " |  __floordiv__(a, b)\n",
      " |      a // b\n",
      " |  \n",
      " |  __ge__(a, b)\n",
      " |      a >= b\n",
      " |  \n",
      " |  __gt__(a, b)\n",
      " |      a > b\n",
      " |  \n",
      " |  __hash__(self)\n",
      " |      hash(self)\n",
      " |  \n",
      " |  __le__(a, b)\n",
      " |      a <= b\n",
      " |  \n",
      " |  __lt__(a, b)\n",
      " |      a < b\n",
      " |  \n",
      " |  __mod__(a, b)\n",
      " |      a % b\n",
      " |  \n",
      " |  __mul__(a, b)\n",
      " |      a * b\n",
      " |  \n",
      " |  __neg__(a)\n",
      " |      -a\n",
      " |  \n",
      " |  __pos__(a)\n",
      " |      +a: Coerces a subclass instance to Fraction\n",
      " |  \n",
      " |  __pow__(a, b)\n",
      " |      a ** b\n",
      " |      \n",
      " |      If b is not an integer, the result will be a float or complex\n",
      " |      since roots are generally irrational. If b is an integer, the\n",
      " |      result will be rational.\n",
      " |  \n",
      " |  __radd__(b, a)\n",
      " |      a + b\n",
      " |  \n",
      " |  __rdivmod__(b, a)\n",
      " |      (a // b, a % b)\n",
      " |  \n",
      " |  __reduce__(self)\n",
      " |      Helper for pickle.\n",
      " |  \n",
      " |  __repr__(self)\n",
      " |      repr(self)\n",
      " |  \n",
      " |  __rfloordiv__(b, a)\n",
      " |      a // b\n",
      " |  \n",
      " |  __rmod__(b, a)\n",
      " |      a % b\n",
      " |  \n",
      " |  __rmul__(b, a)\n",
      " |      a * b\n",
      " |  \n",
      " |  __round__(self, ndigits=None)\n",
      " |      round(self, ndigits)\n",
      " |      \n",
      " |      Rounds half toward even.\n",
      " |  \n",
      " |  __rpow__(b, a)\n",
      " |      a ** b\n",
      " |  \n",
      " |  __rsub__(b, a)\n",
      " |      a - b\n",
      " |  \n",
      " |  __rtruediv__(b, a)\n",
      " |      a / b\n",
      " |  \n",
      " |  __str__(self)\n",
      " |      str(self)\n",
      " |  \n",
      " |  __sub__(a, b)\n",
      " |      a - b\n",
      " |  \n",
      " |  __truediv__(a, b)\n",
      " |      a / b\n",
      " |  \n",
      " |  __trunc__(a)\n",
      " |      trunc(a)\n",
      " |  \n",
      " |  as_integer_ratio(self)\n",
      " |      Return the integer ratio as a tuple.\n",
      " |      \n",
      " |      Return a tuple of two integers, whose ratio is equal to the\n",
      " |      Fraction and with a positive denominator.\n",
      " |  \n",
      " |  limit_denominator(self, max_denominator=1000000)\n",
      " |      Closest Fraction to self with denominator at most max_denominator.\n",
      " |      \n",
      " |      >>> Fraction('3.141592653589793').limit_denominator(10)\n",
      " |      Fraction(22, 7)\n",
      " |      >>> Fraction('3.141592653589793').limit_denominator(100)\n",
      " |      Fraction(311, 99)\n",
      " |      >>> Fraction(4321, 8765).limit_denominator(10000)\n",
      " |      Fraction(4321, 8765)\n",
      " |  \n",
      " |  ----------------------------------------------------------------------\n",
      " |  Class methods defined here:\n",
      " |  \n",
      " |  from_decimal(dec) from abc.ABCMeta\n",
      " |      Converts a finite Decimal instance to a rational number, exactly.\n",
      " |  \n",
      " |  from_float(f) from abc.ABCMeta\n",
      " |      Converts a finite float to a rational number, exactly.\n",
      " |      \n",
      " |      Beware that Fraction.from_float(0.3) != Fraction(3, 10).\n",
      " |  \n",
      " |  ----------------------------------------------------------------------\n",
      " |  Static methods defined here:\n",
      " |  \n",
      " |  __new__(cls, numerator=0, denominator=None, *, _normalize=True)\n",
      " |      Constructs a Rational.\n",
      " |      \n",
      " |      Takes a string like '3/2' or '1.5', another Rational instance, a\n",
      " |      numerator/denominator pair, or a float.\n",
      " |      \n",
      " |      Examples\n",
      " |      --------\n",
      " |      \n",
      " |      >>> Fraction(10, -8)\n",
      " |      Fraction(-5, 4)\n",
      " |      >>> Fraction(Fraction(1, 7), 5)\n",
      " |      Fraction(1, 35)\n",
      " |      >>> Fraction(Fraction(1, 7), Fraction(2, 3))\n",
      " |      Fraction(3, 14)\n",
      " |      >>> Fraction('314')\n",
      " |      Fraction(314, 1)\n",
      " |      >>> Fraction('-35/4')\n",
      " |      Fraction(-35, 4)\n",
      " |      >>> Fraction('3.1415') # conversion from numeric string\n",
      " |      Fraction(6283, 2000)\n",
      " |      >>> Fraction('-47e-2') # string may include a decimal exponent\n",
      " |      Fraction(-47, 100)\n",
      " |      >>> Fraction(1.47)  # direct construction from float (exact conversion)\n",
      " |      Fraction(6620291452234629, 4503599627370496)\n",
      " |      >>> Fraction(2.25)\n",
      " |      Fraction(9, 4)\n",
      " |      >>> Fraction(Decimal('1.47'))\n",
      " |      Fraction(147, 100)\n",
      " |  \n",
      " |  ----------------------------------------------------------------------\n",
      " |  Readonly properties defined here:\n",
      " |  \n",
      " |  denominator\n",
      " |  \n",
      " |  numerator\n",
      " |  \n",
      " |  ----------------------------------------------------------------------\n",
      " |  Data and other attributes defined here:\n",
      " |  \n",
      " |  __abstractmethods__ = frozenset()\n",
      " |  \n",
      " |  ----------------------------------------------------------------------\n",
      " |  Methods inherited from numbers.Rational:\n",
      " |  \n",
      " |  __float__(self)\n",
      " |      float(self) = self.numerator / self.denominator\n",
      " |      \n",
      " |      It's important that this conversion use the integer's \"true\"\n",
      " |      division rather than casting one side to float before dividing\n",
      " |      so that ratios of huge integers convert without overflowing.\n",
      " |  \n",
      " |  ----------------------------------------------------------------------\n",
      " |  Methods inherited from numbers.Real:\n",
      " |  \n",
      " |  __complex__(self)\n",
      " |      complex(self) == complex(float(self), 0)\n",
      " |  \n",
      " |  conjugate(self)\n",
      " |      Conjugate is a no-op for Reals.\n",
      " |  \n",
      " |  ----------------------------------------------------------------------\n",
      " |  Readonly properties inherited from numbers.Real:\n",
      " |  \n",
      " |  imag\n",
      " |      Real numbers have no imaginary component.\n",
      " |  \n",
      " |  real\n",
      " |      Real numbers are their real component.\n",
      "\n"
     ]
    }
   ],
   "source": [
    "help(Fraction)"
   ]
  },
  {
   "cell_type": "markdown",
   "id": "b5cda39d",
   "metadata": {},
   "source": [
    "# Lets use rational numbers :"
   ]
  },
  {
   "cell_type": "code",
   "execution_count": 31,
   "id": "414a36e3",
   "metadata": {},
   "outputs": [],
   "source": [
    "a = Fraction(2,3)"
   ]
  },
  {
   "cell_type": "code",
   "execution_count": 32,
   "id": "d1933802",
   "metadata": {},
   "outputs": [
    {
     "data": {
      "text/plain": [
       "Fraction(2, 3)"
      ]
     },
     "execution_count": 32,
     "metadata": {},
     "output_type": "execute_result"
    }
   ],
   "source": [
    "a"
   ]
  },
  {
   "cell_type": "code",
   "execution_count": 33,
   "id": "3eb553c6",
   "metadata": {},
   "outputs": [],
   "source": [
    "a = Fraction(4,16)  # 4/16 # 1/4"
   ]
  },
  {
   "cell_type": "code",
   "execution_count": 34,
   "id": "388a83cf",
   "metadata": {},
   "outputs": [
    {
     "data": {
      "text/plain": [
       "Fraction(1, 4)"
      ]
     },
     "execution_count": 34,
     "metadata": {},
     "output_type": "execute_result"
    }
   ],
   "source": [
    "a"
   ]
  },
  {
   "cell_type": "code",
   "execution_count": 35,
   "id": "02e4bb72",
   "metadata": {},
   "outputs": [
    {
     "data": {
      "text/plain": [
       "1"
      ]
     },
     "execution_count": 35,
     "metadata": {},
     "output_type": "execute_result"
    }
   ],
   "source": [
    "a.numerator"
   ]
  },
  {
   "cell_type": "code",
   "execution_count": 36,
   "id": "c5c824e3",
   "metadata": {},
   "outputs": [
    {
     "data": {
      "text/plain": [
       "4"
      ]
     },
     "execution_count": 36,
     "metadata": {},
     "output_type": "execute_result"
    }
   ],
   "source": [
    "a.denominator"
   ]
  },
  {
   "cell_type": "code",
   "execution_count": 37,
   "id": "da207177",
   "metadata": {},
   "outputs": [],
   "source": [
    "b = Fraction(numerator=1,denominator=8)"
   ]
  },
  {
   "cell_type": "code",
   "execution_count": 38,
   "id": "2aeb826a",
   "metadata": {},
   "outputs": [
    {
     "data": {
      "text/plain": [
       "Fraction(1, 8)"
      ]
     },
     "execution_count": 38,
     "metadata": {},
     "output_type": "execute_result"
    }
   ],
   "source": [
    "b"
   ]
  },
  {
   "cell_type": "code",
   "execution_count": 39,
   "id": "1f0bdbee",
   "metadata": {},
   "outputs": [],
   "source": [
    "c= Fraction(denominator=8,numerator=1)"
   ]
  },
  {
   "cell_type": "code",
   "execution_count": 40,
   "id": "7fef1ab5",
   "metadata": {},
   "outputs": [
    {
     "data": {
      "text/plain": [
       "Fraction(1, 8)"
      ]
     },
     "execution_count": 40,
     "metadata": {},
     "output_type": "execute_result"
    }
   ],
   "source": [
    "c"
   ]
  },
  {
   "cell_type": "code",
   "execution_count": 41,
   "id": "6fa098b7",
   "metadata": {},
   "outputs": [],
   "source": [
    "x = Fraction(2,3)\n",
    "y = Fraction(3,2)"
   ]
  },
  {
   "cell_type": "code",
   "execution_count": 42,
   "id": "f7cd4d85",
   "metadata": {},
   "outputs": [
    {
     "data": {
      "text/plain": [
       "(Fraction(2, 3), Fraction(3, 2))"
      ]
     },
     "execution_count": 42,
     "metadata": {},
     "output_type": "execute_result"
    }
   ],
   "source": [
    "x,y  "
   ]
  },
  {
   "cell_type": "code",
   "execution_count": 43,
   "id": "3c9fafea",
   "metadata": {},
   "outputs": [
    {
     "data": {
      "text/plain": [
       "Fraction(13, 6)"
      ]
     },
     "execution_count": 43,
     "metadata": {},
     "output_type": "execute_result"
    }
   ],
   "source": [
    "x+y"
   ]
  },
  {
   "cell_type": "code",
   "execution_count": 44,
   "id": "f1466ea1",
   "metadata": {},
   "outputs": [
    {
     "data": {
      "text/plain": [
       "Fraction(4, 9)"
      ]
     },
     "execution_count": 44,
     "metadata": {},
     "output_type": "execute_result"
    }
   ],
   "source": [
    "x/y"
   ]
  },
  {
   "cell_type": "markdown",
   "id": "b32b9441",
   "metadata": {},
   "source": [
    "# Create Fractions from Strings "
   ]
  },
  {
   "cell_type": "code",
   "execution_count": 49,
   "id": "32a2f293",
   "metadata": {},
   "outputs": [],
   "source": [
    "a=Fraction('0.5')  # 1/2"
   ]
  },
  {
   "cell_type": "code",
   "execution_count": 50,
   "id": "2a289464",
   "metadata": {},
   "outputs": [
    {
     "data": {
      "text/plain": [
       "(1, 2)"
      ]
     },
     "execution_count": 50,
     "metadata": {},
     "output_type": "execute_result"
    }
   ],
   "source": [
    "a.numerator,a.denominator"
   ]
  },
  {
   "cell_type": "code",
   "execution_count": 48,
   "id": "27ae8da1",
   "metadata": {},
   "outputs": [
    {
     "data": {
      "text/plain": [
       "Fraction(22, 7)"
      ]
     },
     "execution_count": 48,
     "metadata": {},
     "output_type": "execute_result"
    }
   ],
   "source": [
    "Fraction('22/7')   # 22/7"
   ]
  },
  {
   "cell_type": "code",
   "execution_count": 51,
   "id": "6bf4835d",
   "metadata": {},
   "outputs": [
    {
     "data": {
      "text/plain": [
       "Fraction(1, 1)"
      ]
     },
     "execution_count": 51,
     "metadata": {},
     "output_type": "execute_result"
    }
   ],
   "source": [
    "# 1/3   0.33333333333333333333333333333333333333333333333333333\n",
    "Fraction(1,3) + Fraction(1,3) + Fraction(1,3)  # 1/3 + 1/3 + 1/3 "
   ]
  },
  {
   "cell_type": "code",
   "execution_count": 52,
   "id": "6636e543",
   "metadata": {},
   "outputs": [
    {
     "data": {
      "text/plain": [
       "Fraction(1, 1)"
      ]
     },
     "execution_count": 52,
     "metadata": {},
     "output_type": "execute_result"
    }
   ],
   "source": [
    "Fraction(1,3) * Fraction(3,1)"
   ]
  },
  {
   "cell_type": "code",
   "execution_count": 53,
   "id": "8274c386",
   "metadata": {},
   "outputs": [],
   "source": [
    "# float \n",
    "1/2\n"
   ]
  },
  {
   "cell_type": "code",
   "execution_count": 54,
   "id": "4c761060",
   "metadata": {},
   "outputs": [
    {
     "data": {
      "text/plain": [
       "float"
      ]
     },
     "execution_count": 54,
     "metadata": {},
     "output_type": "execute_result"
    }
   ],
   "source": [
    "p = 3.0\n",
    "type(p)"
   ]
  },
  {
   "cell_type": "code",
   "execution_count": 55,
   "id": "48ed386f",
   "metadata": {},
   "outputs": [
    {
     "data": {
      "text/plain": [
       "<function format(value, format_spec='', /)>"
      ]
     },
     "execution_count": 55,
     "metadata": {},
     "output_type": "execute_result"
    }
   ],
   "source": [
    "format"
   ]
  },
  {
   "cell_type": "code",
   "execution_count": 60,
   "id": "de275e00",
   "metadata": {},
   "outputs": [
    {
     "data": {
      "text/plain": [
       "'5.9000000000000003552713679'"
      ]
     },
     "execution_count": 60,
     "metadata": {},
     "output_type": "execute_result"
    }
   ],
   "source": [
    "format(5.9,'0.25f')"
   ]
  },
  {
   "cell_type": "code",
   "execution_count": 63,
   "id": "f05756fc",
   "metadata": {},
   "outputs": [
    {
     "data": {
      "text/plain": [
       "'0.8000000000'"
      ]
     },
     "execution_count": 63,
     "metadata": {},
     "output_type": "execute_result"
    }
   ],
   "source": [
    "format(0.8,'0.10f')"
   ]
  },
  {
   "cell_type": "code",
   "execution_count": 67,
   "id": "db5101f0",
   "metadata": {},
   "outputs": [
    {
     "data": {
      "text/plain": [
       "'0.8000000000000000444089209850062616169452667236328125000'"
      ]
     },
     "execution_count": 67,
     "metadata": {},
     "output_type": "execute_result"
    }
   ],
   "source": [
    "format(0.8,'0.55f')"
   ]
  },
  {
   "cell_type": "code",
   "execution_count": 69,
   "id": "3395bad9",
   "metadata": {},
   "outputs": [
    {
     "name": "stdout",
     "output_type": "stream",
     "text": [
      "['__abs__', '__abstractmethods__', '__add__', '__bool__', '__ceil__', '__class__', '__complex__', '__copy__', '__deepcopy__', '__delattr__', '__dir__', '__divmod__', '__doc__', '__eq__', '__float__', '__floor__', '__floordiv__', '__format__', '__ge__', '__getattribute__', '__gt__', '__hash__', '__init__', '__init_subclass__', '__le__', '__lt__', '__mod__', '__module__', '__mul__', '__ne__', '__neg__', '__new__', '__pos__', '__pow__', '__radd__', '__rdivmod__', '__reduce__', '__reduce_ex__', '__repr__', '__rfloordiv__', '__rmod__', '__rmul__', '__round__', '__rpow__', '__rsub__', '__rtruediv__', '__setattr__', '__sizeof__', '__slots__', '__str__', '__sub__', '__subclasshook__', '__truediv__', '__trunc__', '_abc_impl', '_add', '_denominator', '_div', '_divmod', '_floordiv', '_mod', '_mul', '_numerator', '_operator_fallbacks', '_richcmp', '_sub', 'as_integer_ratio', 'conjugate', 'denominator', 'from_decimal', 'from_float', 'imag', 'limit_denominator', 'numerator', 'real']\n"
     ]
    }
   ],
   "source": [
    "a=Fraction('0.5')\n",
    "print(dir(a))"
   ]
  },
  {
   "cell_type": "code",
   "execution_count": 70,
   "id": "56f744f5",
   "metadata": {},
   "outputs": [
    {
     "data": {
      "text/plain": [
       "2"
      ]
     },
     "execution_count": 70,
     "metadata": {},
     "output_type": "execute_result"
    }
   ],
   "source": [
    "a.denominator"
   ]
  },
  {
   "cell_type": "code",
   "execution_count": 71,
   "id": "434e3faa",
   "metadata": {},
   "outputs": [
    {
     "name": "stdout",
     "output_type": "stream",
     "text": [
      "Help on int object:\n",
      "\n",
      "class int(object)\n",
      " |  int([x]) -> integer\n",
      " |  int(x, base=10) -> integer\n",
      " |  \n",
      " |  Convert a number or string to an integer, or return 0 if no arguments\n",
      " |  are given.  If x is a number, return x.__int__().  For floating point\n",
      " |  numbers, this truncates towards zero.\n",
      " |  \n",
      " |  If x is not a number or if base is given, then x must be a string,\n",
      " |  bytes, or bytearray instance representing an integer literal in the\n",
      " |  given base.  The literal can be preceded by '+' or '-' and be surrounded\n",
      " |  by whitespace.  The base defaults to 10.  Valid bases are 0 and 2-36.\n",
      " |  Base 0 means to interpret the base from the string as an integer literal.\n",
      " |  >>> int('0b100', base=0)\n",
      " |  4\n",
      " |  \n",
      " |  Built-in subclasses:\n",
      " |      bool\n",
      " |  \n",
      " |  Methods defined here:\n",
      " |  \n",
      " |  __abs__(self, /)\n",
      " |      abs(self)\n",
      " |  \n",
      " |  __add__(self, value, /)\n",
      " |      Return self+value.\n",
      " |  \n",
      " |  __and__(self, value, /)\n",
      " |      Return self&value.\n",
      " |  \n",
      " |  __bool__(self, /)\n",
      " |      self != 0\n",
      " |  \n",
      " |  __ceil__(...)\n",
      " |      Ceiling of an Integral returns itself.\n",
      " |  \n",
      " |  __divmod__(self, value, /)\n",
      " |      Return divmod(self, value).\n",
      " |  \n",
      " |  __eq__(self, value, /)\n",
      " |      Return self==value.\n",
      " |  \n",
      " |  __float__(self, /)\n",
      " |      float(self)\n",
      " |  \n",
      " |  __floor__(...)\n",
      " |      Flooring an Integral returns itself.\n",
      " |  \n",
      " |  __floordiv__(self, value, /)\n",
      " |      Return self//value.\n",
      " |  \n",
      " |  __format__(self, format_spec, /)\n",
      " |      Default object formatter.\n",
      " |  \n",
      " |  __ge__(self, value, /)\n",
      " |      Return self>=value.\n",
      " |  \n",
      " |  __getattribute__(self, name, /)\n",
      " |      Return getattr(self, name).\n",
      " |  \n",
      " |  __getnewargs__(self, /)\n",
      " |  \n",
      " |  __gt__(self, value, /)\n",
      " |      Return self>value.\n",
      " |  \n",
      " |  __hash__(self, /)\n",
      " |      Return hash(self).\n",
      " |  \n",
      " |  __index__(self, /)\n",
      " |      Return self converted to an integer, if self is suitable for use as an index into a list.\n",
      " |  \n",
      " |  __int__(self, /)\n",
      " |      int(self)\n",
      " |  \n",
      " |  __invert__(self, /)\n",
      " |      ~self\n",
      " |  \n",
      " |  __le__(self, value, /)\n",
      " |      Return self<=value.\n",
      " |  \n",
      " |  __lshift__(self, value, /)\n",
      " |      Return self<<value.\n",
      " |  \n",
      " |  __lt__(self, value, /)\n",
      " |      Return self<value.\n",
      " |  \n",
      " |  __mod__(self, value, /)\n",
      " |      Return self%value.\n",
      " |  \n",
      " |  __mul__(self, value, /)\n",
      " |      Return self*value.\n",
      " |  \n",
      " |  __ne__(self, value, /)\n",
      " |      Return self!=value.\n",
      " |  \n",
      " |  __neg__(self, /)\n",
      " |      -self\n",
      " |  \n",
      " |  __or__(self, value, /)\n",
      " |      Return self|value.\n",
      " |  \n",
      " |  __pos__(self, /)\n",
      " |      +self\n",
      " |  \n",
      " |  __pow__(self, value, mod=None, /)\n",
      " |      Return pow(self, value, mod).\n",
      " |  \n",
      " |  __radd__(self, value, /)\n",
      " |      Return value+self.\n",
      " |  \n",
      " |  __rand__(self, value, /)\n",
      " |      Return value&self.\n",
      " |  \n",
      " |  __rdivmod__(self, value, /)\n",
      " |      Return divmod(value, self).\n",
      " |  \n",
      " |  __repr__(self, /)\n",
      " |      Return repr(self).\n",
      " |  \n",
      " |  __rfloordiv__(self, value, /)\n",
      " |      Return value//self.\n",
      " |  \n",
      " |  __rlshift__(self, value, /)\n",
      " |      Return value<<self.\n",
      " |  \n",
      " |  __rmod__(self, value, /)\n",
      " |      Return value%self.\n",
      " |  \n",
      " |  __rmul__(self, value, /)\n",
      " |      Return value*self.\n",
      " |  \n",
      " |  __ror__(self, value, /)\n",
      " |      Return value|self.\n",
      " |  \n",
      " |  __round__(...)\n",
      " |      Rounding an Integral returns itself.\n",
      " |      Rounding with an ndigits argument also returns an integer.\n",
      " |  \n",
      " |  __rpow__(self, value, mod=None, /)\n",
      " |      Return pow(value, self, mod).\n",
      " |  \n",
      " |  __rrshift__(self, value, /)\n",
      " |      Return value>>self.\n",
      " |  \n",
      " |  __rshift__(self, value, /)\n",
      " |      Return self>>value.\n",
      " |  \n",
      " |  __rsub__(self, value, /)\n",
      " |      Return value-self.\n",
      " |  \n",
      " |  __rtruediv__(self, value, /)\n",
      " |      Return value/self.\n",
      " |  \n",
      " |  __rxor__(self, value, /)\n",
      " |      Return value^self.\n",
      " |  \n",
      " |  __sizeof__(self, /)\n",
      " |      Returns size in memory, in bytes.\n",
      " |  \n",
      " |  __sub__(self, value, /)\n",
      " |      Return self-value.\n",
      " |  \n",
      " |  __truediv__(self, value, /)\n",
      " |      Return self/value.\n",
      " |  \n",
      " |  __trunc__(...)\n",
      " |      Truncating an Integral returns itself.\n",
      " |  \n",
      " |  __xor__(self, value, /)\n",
      " |      Return self^value.\n",
      " |  \n",
      " |  as_integer_ratio(self, /)\n",
      " |      Return integer ratio.\n",
      " |      \n",
      " |      Return a pair of integers, whose ratio is exactly equal to the original int\n",
      " |      and with a positive denominator.\n",
      " |      \n",
      " |      >>> (10).as_integer_ratio()\n",
      " |      (10, 1)\n",
      " |      >>> (-10).as_integer_ratio()\n",
      " |      (-10, 1)\n",
      " |      >>> (0).as_integer_ratio()\n",
      " |      (0, 1)\n",
      " |  \n",
      " |  bit_length(self, /)\n",
      " |      Number of bits necessary to represent self in binary.\n",
      " |      \n",
      " |      >>> bin(37)\n",
      " |      '0b100101'\n",
      " |      >>> (37).bit_length()\n",
      " |      6\n",
      " |  \n",
      " |  conjugate(...)\n",
      " |      Returns self, the complex conjugate of any int.\n",
      " |  \n",
      " |  to_bytes(self, /, length, byteorder, *, signed=False)\n",
      " |      Return an array of bytes representing an integer.\n",
      " |      \n",
      " |      length\n",
      " |        Length of bytes object to use.  An OverflowError is raised if the\n",
      " |        integer is not representable with the given number of bytes.\n",
      " |      byteorder\n",
      " |        The byte order used to represent the integer.  If byteorder is 'big',\n",
      " |        the most significant byte is at the beginning of the byte array.  If\n",
      " |        byteorder is 'little', the most significant byte is at the end of the\n",
      " |        byte array.  To request the native byte order of the host system, use\n",
      " |        `sys.byteorder' as the byte order value.\n",
      " |      signed\n",
      " |        Determines whether two's complement is used to represent the integer.\n",
      " |        If signed is False and a negative integer is given, an OverflowError\n",
      " |        is raised.\n",
      " |  \n",
      " |  ----------------------------------------------------------------------\n",
      " |  Class methods defined here:\n",
      " |  \n",
      " |  from_bytes(bytes, byteorder, *, signed=False) from builtins.type\n",
      " |      Return the integer represented by the given array of bytes.\n",
      " |      \n",
      " |      bytes\n",
      " |        Holds the array of bytes to convert.  The argument must either\n",
      " |        support the buffer protocol or be an iterable object producing bytes.\n",
      " |        Bytes and bytearray are examples of built-in objects that support the\n",
      " |        buffer protocol.\n",
      " |      byteorder\n",
      " |        The byte order used to represent the integer.  If byteorder is 'big',\n",
      " |        the most significant byte is at the beginning of the byte array.  If\n",
      " |        byteorder is 'little', the most significant byte is at the end of the\n",
      " |        byte array.  To request the native byte order of the host system, use\n",
      " |        `sys.byteorder' as the byte order value.\n",
      " |      signed\n",
      " |        Indicates whether two's complement is used to represent the integer.\n",
      " |  \n",
      " |  ----------------------------------------------------------------------\n",
      " |  Static methods defined here:\n",
      " |  \n",
      " |  __new__(*args, **kwargs) from builtins.type\n",
      " |      Create and return a new object.  See help(type) for accurate signature.\n",
      " |  \n",
      " |  ----------------------------------------------------------------------\n",
      " |  Data descriptors defined here:\n",
      " |  \n",
      " |  denominator\n",
      " |      the denominator of a rational number in lowest terms\n",
      " |  \n",
      " |  imag\n",
      " |      the imaginary part of a complex number\n",
      " |  \n",
      " |  numerator\n",
      " |      the numerator of a rational number in lowest terms\n",
      " |  \n",
      " |  real\n",
      " |      the real part of a complex number\n",
      "\n"
     ]
    }
   ],
   "source": [
    "help(a.denominator)"
   ]
  },
  {
   "cell_type": "markdown",
   "id": "06854ffb",
   "metadata": {},
   "source": [
    "# Type Conversion "
   ]
  },
  {
   "cell_type": "code",
   "execution_count": 72,
   "id": "45eaaa86",
   "metadata": {},
   "outputs": [],
   "source": [
    "# Implicit type conversion "
   ]
  },
  {
   "cell_type": "code",
   "execution_count": 73,
   "id": "66af7565",
   "metadata": {},
   "outputs": [
    {
     "name": "stdout",
     "output_type": "stream",
     "text": [
      "a = 1 type of a = <class 'int'>\n"
     ]
    }
   ],
   "source": [
    "a = 1 \n",
    "print('a = {} type of a = {}'.format(a,type(a)))"
   ]
  },
  {
   "cell_type": "code",
   "execution_count": 74,
   "id": "343364ea",
   "metadata": {},
   "outputs": [],
   "source": [
    "a= a + 0.5"
   ]
  },
  {
   "cell_type": "code",
   "execution_count": 75,
   "id": "e3dd3e86",
   "metadata": {},
   "outputs": [
    {
     "name": "stdout",
     "output_type": "stream",
     "text": [
      "a = 1.5 type of a = <class 'float'>\n"
     ]
    }
   ],
   "source": [
    "print('a = {} type of a = {}'.format(a,type(a)))"
   ]
  },
  {
   "cell_type": "code",
   "execution_count": 76,
   "id": "2c4f2b3c",
   "metadata": {},
   "outputs": [],
   "source": [
    "binval = '10101'\n",
    "myval = int(binval,2)"
   ]
  },
  {
   "cell_type": "code",
   "execution_count": 77,
   "id": "ee3cfb58",
   "metadata": {},
   "outputs": [
    {
     "data": {
      "text/plain": [
       "21"
      ]
     },
     "execution_count": 77,
     "metadata": {},
     "output_type": "execute_result"
    }
   ],
   "source": [
    "myval"
   ]
  },
  {
   "cell_type": "code",
   "execution_count": 78,
   "id": "23cbcf9e",
   "metadata": {},
   "outputs": [
    {
     "data": {
      "text/plain": [
       "Fraction(11, 5)"
      ]
     },
     "execution_count": 78,
     "metadata": {},
     "output_type": "execute_result"
    }
   ],
   "source": [
    "Fraction('22/10')"
   ]
  },
  {
   "cell_type": "code",
   "execution_count": null,
   "id": "741a0766",
   "metadata": {},
   "outputs": [],
   "source": []
  }
 ],
 "metadata": {
  "kernelspec": {
   "display_name": "Python 3",
   "language": "python",
   "name": "python3"
  },
  "language_info": {
   "codemirror_mode": {
    "name": "ipython",
    "version": 3
   },
   "file_extension": ".py",
   "mimetype": "text/x-python",
   "name": "python",
   "nbconvert_exporter": "python",
   "pygments_lexer": "ipython3",
   "version": "3.9.6"
  }
 },
 "nbformat": 4,
 "nbformat_minor": 5
}
