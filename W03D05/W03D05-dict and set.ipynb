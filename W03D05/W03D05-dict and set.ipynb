{
 "cells": [
  {
   "cell_type": "markdown",
   "id": "0b10b612",
   "metadata": {},
   "source": [
    "# Dicts and Sets "
   ]
  },
  {
   "cell_type": "code",
   "execution_count": 1,
   "id": "ceae51e8",
   "metadata": {},
   "outputs": [
    {
     "data": {
      "text/plain": [
       "(dict, 2011268541248)"
      ]
     },
     "execution_count": 1,
     "metadata": {},
     "output_type": "execute_result"
    }
   ],
   "source": [
    "d = {}\n",
    "type(d),id(d)"
   ]
  },
  {
   "cell_type": "code",
   "execution_count": 2,
   "id": "581e3cd9",
   "metadata": {},
   "outputs": [],
   "source": [
    "d['name'] = 'Me'\n",
    "d['age'] = 35\n"
   ]
  },
  {
   "cell_type": "code",
   "execution_count": 4,
   "id": "86322458",
   "metadata": {},
   "outputs": [
    {
     "data": {
      "text/plain": [
       "({'name': 'Me', 'age': 35}, 2011268541248)"
      ]
     },
     "execution_count": 4,
     "metadata": {},
     "output_type": "execute_result"
    }
   ],
   "source": [
    "d,id(d)"
   ]
  },
  {
   "cell_type": "code",
   "execution_count": 5,
   "id": "ce9e65b6",
   "metadata": {},
   "outputs": [
    {
     "name": "stdout",
     "output_type": "stream",
     "text": [
      "['__class__', '__class_getitem__', '__contains__', '__delattr__', '__delitem__', '__dir__', '__doc__', '__eq__', '__format__', '__ge__', '__getattribute__', '__getitem__', '__gt__', '__hash__', '__init__', '__init_subclass__', '__ior__', '__iter__', '__le__', '__len__', '__lt__', '__ne__', '__new__', '__or__', '__reduce__', '__reduce_ex__', '__repr__', '__reversed__', '__ror__', '__setattr__', '__setitem__', '__sizeof__', '__str__', '__subclasshook__', 'clear', 'copy', 'fromkeys', 'get', 'items', 'keys', 'pop', 'popitem', 'setdefault', 'update', 'values']\n"
     ]
    }
   ],
   "source": [
    "print(dir(d))"
   ]
  },
  {
   "cell_type": "code",
   "execution_count": 6,
   "id": "8c5da8a7",
   "metadata": {},
   "outputs": [
    {
     "name": "stdout",
     "output_type": "stream",
     "text": [
      "Help on built-in function clear:\n",
      "\n",
      "clear(...) method of builtins.dict instance\n",
      "    D.clear() -> None.  Remove all items from D.\n",
      "\n"
     ]
    }
   ],
   "source": [
    "help(d.clear)"
   ]
  },
  {
   "cell_type": "code",
   "execution_count": 7,
   "id": "4ee9b8cd",
   "metadata": {},
   "outputs": [
    {
     "data": {
      "text/plain": [
       "{'name': 'Me', 'age': 35}"
      ]
     },
     "execution_count": 7,
     "metadata": {},
     "output_type": "execute_result"
    }
   ],
   "source": [
    "d"
   ]
  },
  {
   "cell_type": "code",
   "execution_count": 8,
   "id": "a154aeca",
   "metadata": {},
   "outputs": [],
   "source": [
    "d.clear()"
   ]
  },
  {
   "cell_type": "code",
   "execution_count": 9,
   "id": "662dc597",
   "metadata": {},
   "outputs": [
    {
     "data": {
      "text/plain": [
       "{}"
      ]
     },
     "execution_count": 9,
     "metadata": {},
     "output_type": "execute_result"
    }
   ],
   "source": [
    "d"
   ]
  },
  {
   "cell_type": "code",
   "execution_count": 10,
   "id": "f6f11a6a",
   "metadata": {},
   "outputs": [
    {
     "data": {
      "text/plain": [
       "2011268541248"
      ]
     },
     "execution_count": 10,
     "metadata": {},
     "output_type": "execute_result"
    }
   ],
   "source": [
    "id(d)"
   ]
  },
  {
   "cell_type": "code",
   "execution_count": 11,
   "id": "9ed042ab",
   "metadata": {},
   "outputs": [
    {
     "data": {
      "text/plain": [
       "dict"
      ]
     },
     "execution_count": 11,
     "metadata": {},
     "output_type": "execute_result"
    }
   ],
   "source": [
    "dict"
   ]
  },
  {
   "cell_type": "code",
   "execution_count": 12,
   "id": "01960bb2",
   "metadata": {},
   "outputs": [
    {
     "name": "stdout",
     "output_type": "stream",
     "text": [
      "Help on class dict in module builtins:\n",
      "\n",
      "class dict(object)\n",
      " |  dict() -> new empty dictionary\n",
      " |  dict(mapping) -> new dictionary initialized from a mapping object's\n",
      " |      (key, value) pairs\n",
      " |  dict(iterable) -> new dictionary initialized as if via:\n",
      " |      d = {}\n",
      " |      for k, v in iterable:\n",
      " |          d[k] = v\n",
      " |  dict(**kwargs) -> new dictionary initialized with the name=value pairs\n",
      " |      in the keyword argument list.  For example:  dict(one=1, two=2)\n",
      " |  \n",
      " |  Built-in subclasses:\n",
      " |      StgDict\n",
      " |  \n",
      " |  Methods defined here:\n",
      " |  \n",
      " |  __contains__(self, key, /)\n",
      " |      True if the dictionary has the specified key, else False.\n",
      " |  \n",
      " |  __delitem__(self, key, /)\n",
      " |      Delete self[key].\n",
      " |  \n",
      " |  __eq__(self, value, /)\n",
      " |      Return self==value.\n",
      " |  \n",
      " |  __ge__(self, value, /)\n",
      " |      Return self>=value.\n",
      " |  \n",
      " |  __getattribute__(self, name, /)\n",
      " |      Return getattr(self, name).\n",
      " |  \n",
      " |  __getitem__(...)\n",
      " |      x.__getitem__(y) <==> x[y]\n",
      " |  \n",
      " |  __gt__(self, value, /)\n",
      " |      Return self>value.\n",
      " |  \n",
      " |  __init__(self, /, *args, **kwargs)\n",
      " |      Initialize self.  See help(type(self)) for accurate signature.\n",
      " |  \n",
      " |  __ior__(self, value, /)\n",
      " |      Return self|=value.\n",
      " |  \n",
      " |  __iter__(self, /)\n",
      " |      Implement iter(self).\n",
      " |  \n",
      " |  __le__(self, value, /)\n",
      " |      Return self<=value.\n",
      " |  \n",
      " |  __len__(self, /)\n",
      " |      Return len(self).\n",
      " |  \n",
      " |  __lt__(self, value, /)\n",
      " |      Return self<value.\n",
      " |  \n",
      " |  __ne__(self, value, /)\n",
      " |      Return self!=value.\n",
      " |  \n",
      " |  __or__(self, value, /)\n",
      " |      Return self|value.\n",
      " |  \n",
      " |  __repr__(self, /)\n",
      " |      Return repr(self).\n",
      " |  \n",
      " |  __reversed__(self, /)\n",
      " |      Return a reverse iterator over the dict keys.\n",
      " |  \n",
      " |  __ror__(self, value, /)\n",
      " |      Return value|self.\n",
      " |  \n",
      " |  __setitem__(self, key, value, /)\n",
      " |      Set self[key] to value.\n",
      " |  \n",
      " |  __sizeof__(...)\n",
      " |      D.__sizeof__() -> size of D in memory, in bytes\n",
      " |  \n",
      " |  clear(...)\n",
      " |      D.clear() -> None.  Remove all items from D.\n",
      " |  \n",
      " |  copy(...)\n",
      " |      D.copy() -> a shallow copy of D\n",
      " |  \n",
      " |  get(self, key, default=None, /)\n",
      " |      Return the value for key if key is in the dictionary, else default.\n",
      " |  \n",
      " |  items(...)\n",
      " |      D.items() -> a set-like object providing a view on D's items\n",
      " |  \n",
      " |  keys(...)\n",
      " |      D.keys() -> a set-like object providing a view on D's keys\n",
      " |  \n",
      " |  pop(...)\n",
      " |      D.pop(k[,d]) -> v, remove specified key and return the corresponding value.\n",
      " |      \n",
      " |      If key is not found, default is returned if given, otherwise KeyError is raised\n",
      " |  \n",
      " |  popitem(self, /)\n",
      " |      Remove and return a (key, value) pair as a 2-tuple.\n",
      " |      \n",
      " |      Pairs are returned in LIFO (last-in, first-out) order.\n",
      " |      Raises KeyError if the dict is empty.\n",
      " |  \n",
      " |  setdefault(self, key, default=None, /)\n",
      " |      Insert key with a value of default if key is not in the dictionary.\n",
      " |      \n",
      " |      Return the value for key if key is in the dictionary, else default.\n",
      " |  \n",
      " |  update(...)\n",
      " |      D.update([E, ]**F) -> None.  Update D from dict/iterable E and F.\n",
      " |      If E is present and has a .keys() method, then does:  for k in E: D[k] = E[k]\n",
      " |      If E is present and lacks a .keys() method, then does:  for k, v in E: D[k] = v\n",
      " |      In either case, this is followed by: for k in F:  D[k] = F[k]\n",
      " |  \n",
      " |  values(...)\n",
      " |      D.values() -> an object providing a view on D's values\n",
      " |  \n",
      " |  ----------------------------------------------------------------------\n",
      " |  Class methods defined here:\n",
      " |  \n",
      " |  __class_getitem__(...) from builtins.type\n",
      " |      See PEP 585\n",
      " |  \n",
      " |  fromkeys(iterable, value=None, /) from builtins.type\n",
      " |      Create a new dictionary with keys from iterable and values set to value.\n",
      " |  \n",
      " |  ----------------------------------------------------------------------\n",
      " |  Static methods defined here:\n",
      " |  \n",
      " |  __new__(*args, **kwargs) from builtins.type\n",
      " |      Create and return a new object.  See help(type) for accurate signature.\n",
      " |  \n",
      " |  ----------------------------------------------------------------------\n",
      " |  Data and other attributes defined here:\n",
      " |  \n",
      " |  __hash__ = None\n",
      "\n"
     ]
    }
   ],
   "source": [
    "help(dict)"
   ]
  },
  {
   "cell_type": "code",
   "execution_count": 15,
   "id": "371332e2",
   "metadata": {},
   "outputs": [],
   "source": [
    "m = dict()"
   ]
  },
  {
   "cell_type": "code",
   "execution_count": 16,
   "id": "2ad52e92",
   "metadata": {},
   "outputs": [
    {
     "data": {
      "text/plain": [
       "(dict, 0, 2011269366464)"
      ]
     },
     "execution_count": 16,
     "metadata": {},
     "output_type": "execute_result"
    }
   ],
   "source": [
    "type(m), len(m),id(m)"
   ]
  },
  {
   "cell_type": "code",
   "execution_count": 17,
   "id": "83074ef6",
   "metadata": {},
   "outputs": [],
   "source": [
    "del m "
   ]
  },
  {
   "cell_type": "code",
   "execution_count": 18,
   "id": "806dfa42",
   "metadata": {},
   "outputs": [],
   "source": [
    "m = dict(name='Rahul',age=35)"
   ]
  },
  {
   "cell_type": "code",
   "execution_count": 19,
   "id": "b08cdcd1",
   "metadata": {},
   "outputs": [
    {
     "data": {
      "text/plain": [
       "({'name': 'Rahul', 'age': 35}, 2011270035840)"
      ]
     },
     "execution_count": 19,
     "metadata": {},
     "output_type": "execute_result"
    }
   ],
   "source": [
    "m,id(m)"
   ]
  },
  {
   "cell_type": "code",
   "execution_count": 21,
   "id": "379d19d2",
   "metadata": {},
   "outputs": [],
   "source": [
    "n = dict({'name':'rahul','age':35})"
   ]
  },
  {
   "cell_type": "code",
   "execution_count": 22,
   "id": "43d820e7",
   "metadata": {},
   "outputs": [
    {
     "data": {
      "text/plain": [
       "{'name': 'rahul', 'age': 35}"
      ]
     },
     "execution_count": 22,
     "metadata": {},
     "output_type": "execute_result"
    }
   ],
   "source": [
    "n"
   ]
  },
  {
   "cell_type": "code",
   "execution_count": 23,
   "id": "fd33a088",
   "metadata": {},
   "outputs": [
    {
     "name": "stdout",
     "output_type": "stream",
     "text": [
      "name\n",
      "age\n"
     ]
    }
   ],
   "source": [
    "for i in n:\n",
    "    print(i)"
   ]
  },
  {
   "cell_type": "code",
   "execution_count": 24,
   "id": "ec44ccaa",
   "metadata": {},
   "outputs": [
    {
     "name": "stdout",
     "output_type": "stream",
     "text": [
      "('name', 'rahul')\n",
      "('age', 35)\n"
     ]
    }
   ],
   "source": [
    "for i in n.items():\n",
    "    print(i)"
   ]
  },
  {
   "cell_type": "code",
   "execution_count": 25,
   "id": "30e6b9ee",
   "metadata": {},
   "outputs": [
    {
     "name": "stdout",
     "output_type": "stream",
     "text": [
      "rahul\n",
      "35\n"
     ]
    }
   ],
   "source": [
    "for i in n.values():\n",
    "    print(i)"
   ]
  },
  {
   "cell_type": "code",
   "execution_count": 26,
   "id": "ab905fb2",
   "metadata": {},
   "outputs": [
    {
     "name": "stdout",
     "output_type": "stream",
     "text": [
      "['__class__', '__class_getitem__', '__contains__', '__delattr__', '__delitem__', '__dir__', '__doc__', '__eq__', '__format__', '__ge__', '__getattribute__', '__getitem__', '__gt__', '__hash__', '__init__', '__init_subclass__', '__ior__', '__iter__', '__le__', '__len__', '__lt__', '__ne__', '__new__', '__or__', '__reduce__', '__reduce_ex__', '__repr__', '__reversed__', '__ror__', '__setattr__', '__setitem__', '__sizeof__', '__str__', '__subclasshook__', 'clear', 'copy', 'fromkeys', 'get', 'items', 'keys', 'pop', 'popitem', 'setdefault', 'update', 'values']\n"
     ]
    }
   ],
   "source": [
    "print(dir(dict))"
   ]
  },
  {
   "cell_type": "code",
   "execution_count": 27,
   "id": "fcbf1fe6",
   "metadata": {},
   "outputs": [
    {
     "data": {
      "text/plain": [
       "{}"
      ]
     },
     "execution_count": 27,
     "metadata": {},
     "output_type": "execute_result"
    }
   ],
   "source": [
    "d"
   ]
  },
  {
   "cell_type": "code",
   "execution_count": 32,
   "id": "451bbb61",
   "metadata": {},
   "outputs": [],
   "source": [
    "d['name']='Anand'\n",
    "d['age']= 20"
   ]
  },
  {
   "cell_type": "code",
   "execution_count": 33,
   "id": "d30b0761",
   "metadata": {},
   "outputs": [
    {
     "data": {
      "text/plain": [
       "({'name': 'Anand', 'age': 20}, 2011269522496)"
      ]
     },
     "execution_count": 33,
     "metadata": {},
     "output_type": "execute_result"
    }
   ],
   "source": [
    "d,id(d)"
   ]
  },
  {
   "cell_type": "code",
   "execution_count": 34,
   "id": "9b57c5fd",
   "metadata": {},
   "outputs": [],
   "source": [
    "d.clear()"
   ]
  },
  {
   "cell_type": "code",
   "execution_count": 35,
   "id": "1c2020cd",
   "metadata": {},
   "outputs": [
    {
     "data": {
      "text/plain": [
       "({}, 2011269522496)"
      ]
     },
     "execution_count": 35,
     "metadata": {},
     "output_type": "execute_result"
    }
   ],
   "source": [
    "d,id(d)"
   ]
  },
  {
   "cell_type": "code",
   "execution_count": 36,
   "id": "a5a92e56",
   "metadata": {},
   "outputs": [
    {
     "data": {
      "text/plain": [
       "{}"
      ]
     },
     "execution_count": 36,
     "metadata": {},
     "output_type": "execute_result"
    }
   ],
   "source": [
    "d"
   ]
  },
  {
   "cell_type": "code",
   "execution_count": 37,
   "id": "b04fb849",
   "metadata": {},
   "outputs": [],
   "source": [
    "del d"
   ]
  },
  {
   "cell_type": "code",
   "execution_count": 38,
   "id": "eac4da4f",
   "metadata": {},
   "outputs": [
    {
     "ename": "NameError",
     "evalue": "name 'd' is not defined",
     "output_type": "error",
     "traceback": [
      "\u001b[1;31m---------------------------------------------------------------------------\u001b[0m",
      "\u001b[1;31mNameError\u001b[0m                                 Traceback (most recent call last)",
      "\u001b[1;32m<ipython-input-38-e983f374794d>\u001b[0m in \u001b[0;36m<module>\u001b[1;34m\u001b[0m\n\u001b[1;32m----> 1\u001b[1;33m \u001b[0md\u001b[0m\u001b[1;33m\u001b[0m\u001b[1;33m\u001b[0m\u001b[0m\n\u001b[0m",
      "\u001b[1;31mNameError\u001b[0m: name 'd' is not defined"
     ]
    }
   ],
   "source": [
    "d"
   ]
  },
  {
   "cell_type": "code",
   "execution_count": 39,
   "id": "68a217f0",
   "metadata": {},
   "outputs": [
    {
     "data": {
      "text/plain": [
       "{'__name__': '__main__',\n",
       " '__doc__': 'Automatically created module for IPython interactive environment',\n",
       " '__package__': None,\n",
       " '__loader__': None,\n",
       " '__spec__': None,\n",
       " '__builtin__': <module 'builtins' (built-in)>,\n",
       " '__builtins__': <module 'builtins' (built-in)>,\n",
       " '_ih': ['',\n",
       "  'd = {}\\ntype(d),id(d)',\n",
       "  \"d['name'] = 'Me'\\nd['age'] = 35\",\n",
       "  'd',\n",
       "  'd,id(d)',\n",
       "  'print(dir(d))',\n",
       "  'help(d.clear)',\n",
       "  'd',\n",
       "  'd.clear()',\n",
       "  'd',\n",
       "  'id(d)',\n",
       "  'dict',\n",
       "  'help(dict)',\n",
       "  'd = dict()',\n",
       "  'type(m), len(m),id(m)',\n",
       "  'm = dict()',\n",
       "  'type(m), len(m),id(m)',\n",
       "  'del m ',\n",
       "  \"m = dict(name='Rahul',age=35)\",\n",
       "  'm,id(m)',\n",
       "  \"n = dict({name:'rahul',age:35})\",\n",
       "  \"n = dict({'name':'rahul','age':35})\",\n",
       "  'n',\n",
       "  'for i in n:\\n    print(i)',\n",
       "  'for i in n.items():\\n    print(i)',\n",
       "  'for i in n.values():\\n    print(i)',\n",
       "  'print(dir(dict))',\n",
       "  'd',\n",
       "  \"d['name']='Anand'\\nd['age']= 20\",\n",
       "  'd',\n",
       "  'd.clear()',\n",
       "  'd,id(d)',\n",
       "  \"d['name']='Anand'\\nd['age']= 20\",\n",
       "  'd,id(d)',\n",
       "  'd.clear()',\n",
       "  'd,id(d)',\n",
       "  'd',\n",
       "  'del d',\n",
       "  'd',\n",
       "  'globals()'],\n",
       " '_oh': {1: (dict, 2011268541248),\n",
       "  3: {},\n",
       "  4: ({}, 2011268541248),\n",
       "  7: {},\n",
       "  9: {},\n",
       "  10: 2011268541248,\n",
       "  11: dict,\n",
       "  16: (dict, 0, 2011269366464),\n",
       "  19: ({'name': 'Rahul', 'age': 35}, 2011270035840),\n",
       "  22: {'name': 'rahul', 'age': 35},\n",
       "  27: {},\n",
       "  29: {},\n",
       "  31: ({}, 2011269522496),\n",
       "  33: ({}, 2011269522496),\n",
       "  35: ({}, 2011269522496),\n",
       "  36: {}},\n",
       " '_dh': ['C:\\\\Users\\\\soman\\\\edyoda\\\\W03D05'],\n",
       " 'In': ['',\n",
       "  'd = {}\\ntype(d),id(d)',\n",
       "  \"d['name'] = 'Me'\\nd['age'] = 35\",\n",
       "  'd',\n",
       "  'd,id(d)',\n",
       "  'print(dir(d))',\n",
       "  'help(d.clear)',\n",
       "  'd',\n",
       "  'd.clear()',\n",
       "  'd',\n",
       "  'id(d)',\n",
       "  'dict',\n",
       "  'help(dict)',\n",
       "  'd = dict()',\n",
       "  'type(m), len(m),id(m)',\n",
       "  'm = dict()',\n",
       "  'type(m), len(m),id(m)',\n",
       "  'del m ',\n",
       "  \"m = dict(name='Rahul',age=35)\",\n",
       "  'm,id(m)',\n",
       "  \"n = dict({name:'rahul',age:35})\",\n",
       "  \"n = dict({'name':'rahul','age':35})\",\n",
       "  'n',\n",
       "  'for i in n:\\n    print(i)',\n",
       "  'for i in n.items():\\n    print(i)',\n",
       "  'for i in n.values():\\n    print(i)',\n",
       "  'print(dir(dict))',\n",
       "  'd',\n",
       "  \"d['name']='Anand'\\nd['age']= 20\",\n",
       "  'd',\n",
       "  'd.clear()',\n",
       "  'd,id(d)',\n",
       "  \"d['name']='Anand'\\nd['age']= 20\",\n",
       "  'd,id(d)',\n",
       "  'd.clear()',\n",
       "  'd,id(d)',\n",
       "  'd',\n",
       "  'del d',\n",
       "  'd',\n",
       "  'globals()'],\n",
       " 'Out': {1: (dict, 2011268541248),\n",
       "  3: {},\n",
       "  4: ({}, 2011268541248),\n",
       "  7: {},\n",
       "  9: {},\n",
       "  10: 2011268541248,\n",
       "  11: dict,\n",
       "  16: (dict, 0, 2011269366464),\n",
       "  19: ({'name': 'Rahul', 'age': 35}, 2011270035840),\n",
       "  22: {'name': 'rahul', 'age': 35},\n",
       "  27: {},\n",
       "  29: {},\n",
       "  31: ({}, 2011269522496),\n",
       "  33: ({}, 2011269522496),\n",
       "  35: ({}, 2011269522496),\n",
       "  36: {}},\n",
       " 'get_ipython': <bound method InteractiveShell.get_ipython of <ipykernel.zmqshell.ZMQInteractiveShell object at 0x000001D448F6E670>>,\n",
       " 'exit': <IPython.core.autocall.ZMQExitAutocall at 0x1d448f6e820>,\n",
       " 'quit': <IPython.core.autocall.ZMQExitAutocall at 0x1d448f6e820>,\n",
       " '_': {},\n",
       " '__': ({}, 2011269522496),\n",
       " '___': ({}, 2011269522496),\n",
       " '_i': 'd',\n",
       " '_ii': 'del d',\n",
       " '_iii': 'd',\n",
       " '_i1': 'd = {}\\ntype(d),id(d)',\n",
       " '_1': (dict, 2011268541248),\n",
       " '_i2': \"d['name'] = 'Me'\\nd['age'] = 35\",\n",
       " '_i3': 'd',\n",
       " '_3': {},\n",
       " '_i4': 'd,id(d)',\n",
       " '_4': ({}, 2011268541248),\n",
       " '_i5': 'print(dir(d))',\n",
       " '_i6': 'help(d.clear)',\n",
       " '_i7': 'd',\n",
       " '_7': {},\n",
       " '_i8': 'd.clear()',\n",
       " '_i9': 'd',\n",
       " '_9': {},\n",
       " '_i10': 'id(d)',\n",
       " '_10': 2011268541248,\n",
       " '_i11': 'dict',\n",
       " '_11': dict,\n",
       " '_i12': 'help(dict)',\n",
       " '_i13': 'd = dict()',\n",
       " '_i14': 'type(m), len(m),id(m)',\n",
       " '_i15': 'm = dict()',\n",
       " '_i16': 'type(m), len(m),id(m)',\n",
       " '_16': (dict, 0, 2011269366464),\n",
       " '_i17': 'del m ',\n",
       " '_i18': \"m = dict(name='Rahul',age=35)\",\n",
       " 'm': {'name': 'Rahul', 'age': 35},\n",
       " '_i19': 'm,id(m)',\n",
       " '_19': ({'name': 'Rahul', 'age': 35}, 2011270035840),\n",
       " '_i20': \"n = dict({name:'rahul',age:35})\",\n",
       " '_i21': \"n = dict({'name':'rahul','age':35})\",\n",
       " 'n': {'name': 'rahul', 'age': 35},\n",
       " '_i22': 'n',\n",
       " '_22': {'name': 'rahul', 'age': 35},\n",
       " '_i23': 'for i in n:\\n    print(i)',\n",
       " 'i': 35,\n",
       " '_i24': 'for i in n.items():\\n    print(i)',\n",
       " '_i25': 'for i in n.values():\\n    print(i)',\n",
       " '_i26': 'print(dir(dict))',\n",
       " '_i27': 'd',\n",
       " '_27': {},\n",
       " '_i28': \"d['name']='Anand'\\nd['age']= 20\",\n",
       " '_i29': 'd',\n",
       " '_29': {},\n",
       " '_i30': 'd.clear()',\n",
       " '_i31': 'd,id(d)',\n",
       " '_31': ({}, 2011269522496),\n",
       " '_i32': \"d['name']='Anand'\\nd['age']= 20\",\n",
       " '_i33': 'd,id(d)',\n",
       " '_33': ({}, 2011269522496),\n",
       " '_i34': 'd.clear()',\n",
       " '_i35': 'd,id(d)',\n",
       " '_35': ({}, 2011269522496),\n",
       " '_i36': 'd',\n",
       " '_36': {},\n",
       " '_i37': 'del d',\n",
       " '_i38': 'd',\n",
       " '_i39': 'globals()'}"
      ]
     },
     "execution_count": 39,
     "metadata": {},
     "output_type": "execute_result"
    }
   ],
   "source": [
    "globals()"
   ]
  },
  {
   "cell_type": "code",
   "execution_count": 40,
   "id": "0c262f6e",
   "metadata": {},
   "outputs": [
    {
     "ename": "NameError",
     "evalue": "name 'print' is not defined",
     "output_type": "error",
     "traceback": [
      "\u001b[1;31m---------------------------------------------------------------------------\u001b[0m",
      "\u001b[1;31mNameError\u001b[0m                                 Traceback (most recent call last)",
      "\u001b[1;32m<ipython-input-40-1683c75ea801>\u001b[0m in \u001b[0;36m<module>\u001b[1;34m\u001b[0m\n\u001b[1;32m----> 1\u001b[1;33m \u001b[1;32mdel\u001b[0m \u001b[0mprint\u001b[0m\u001b[1;33m\u001b[0m\u001b[1;33m\u001b[0m\u001b[0m\n\u001b[0m",
      "\u001b[1;31mNameError\u001b[0m: name 'print' is not defined"
     ]
    }
   ],
   "source": [
    "del print"
   ]
  },
  {
   "cell_type": "code",
   "execution_count": 41,
   "id": "8ab58799",
   "metadata": {},
   "outputs": [
    {
     "data": {
      "text/plain": [
       "<function print>"
      ]
     },
     "execution_count": 41,
     "metadata": {},
     "output_type": "execute_result"
    }
   ],
   "source": [
    "print"
   ]
  },
  {
   "cell_type": "code",
   "execution_count": 42,
   "id": "c9493866",
   "metadata": {},
   "outputs": [],
   "source": [
    "d1 = {1:'Rahul',1.2:'Rahulssss'}\n"
   ]
  },
  {
   "cell_type": "code",
   "execution_count": 43,
   "id": "1f4f1504",
   "metadata": {},
   "outputs": [
    {
     "data": {
      "text/plain": [
       "({1: 'Rahul', 1.2: 'Rahulssss'}, dict, 2011270412288)"
      ]
     },
     "execution_count": 43,
     "metadata": {},
     "output_type": "execute_result"
    }
   ],
   "source": [
    "d1, type(d1), id(d1)"
   ]
  },
  {
   "cell_type": "code",
   "execution_count": 44,
   "id": "1fd66669",
   "metadata": {},
   "outputs": [
    {
     "name": "stdout",
     "output_type": "stream",
     "text": [
      "{1: 'Rahul', 1.2: 'Rahulssss'}\n"
     ]
    }
   ],
   "source": [
    "print(d1)"
   ]
  },
  {
   "cell_type": "code",
   "execution_count": 45,
   "id": "9b0449d5",
   "metadata": {},
   "outputs": [
    {
     "name": "stdout",
     "output_type": "stream",
     "text": [
      "<class 'dict'>\n"
     ]
    }
   ],
   "source": [
    "print(type(d1))"
   ]
  },
  {
   "cell_type": "code",
   "execution_count": 46,
   "id": "842d390a",
   "metadata": {},
   "outputs": [
    {
     "data": {
      "text/plain": [
       "\"<class 'dict'>\""
      ]
     },
     "execution_count": 46,
     "metadata": {},
     "output_type": "execute_result"
    }
   ],
   "source": [
    "str(type(d1))"
   ]
  },
  {
   "cell_type": "code",
   "execution_count": 47,
   "id": "28c854be",
   "metadata": {},
   "outputs": [],
   "source": [
    "d2 = {True:'one',False:'Two'}"
   ]
  },
  {
   "cell_type": "code",
   "execution_count": 48,
   "id": "31d56819",
   "metadata": {},
   "outputs": [
    {
     "data": {
      "text/plain": [
       "\"{True: 'one', False: 'Two'}\""
      ]
     },
     "execution_count": 48,
     "metadata": {},
     "output_type": "execute_result"
    }
   ],
   "source": [
    "str(d2)"
   ]
  },
  {
   "cell_type": "code",
   "execution_count": 49,
   "id": "b365501c",
   "metadata": {},
   "outputs": [
    {
     "ename": "TypeError",
     "evalue": "unhashable type: 'list'",
     "output_type": "error",
     "traceback": [
      "\u001b[1;31m---------------------------------------------------------------------------\u001b[0m",
      "\u001b[1;31mTypeError\u001b[0m                                 Traceback (most recent call last)",
      "\u001b[1;32m<ipython-input-49-b9985efe6f10>\u001b[0m in \u001b[0;36m<module>\u001b[1;34m\u001b[0m\n\u001b[1;32m----> 1\u001b[1;33m \u001b[0md3\u001b[0m \u001b[1;33m=\u001b[0m \u001b[1;33m{\u001b[0m\u001b[1;33m[\u001b[0m\u001b[1;36m1\u001b[0m\u001b[1;33m,\u001b[0m\u001b[1;36m2\u001b[0m\u001b[1;33m]\u001b[0m\u001b[1;33m:\u001b[0m\u001b[1;34m'One two'\u001b[0m\u001b[1;33m,\u001b[0m \u001b[1;33m[\u001b[0m\u001b[1;36m1\u001b[0m\u001b[1;33m,\u001b[0m\u001b[1;36m2\u001b[0m\u001b[1;33m,\u001b[0m\u001b[1;36m3\u001b[0m\u001b[1;33m]\u001b[0m\u001b[1;33m:\u001b[0m\u001b[1;34m\"One two three\"\u001b[0m\u001b[1;33m}\u001b[0m\u001b[1;33m\u001b[0m\u001b[1;33m\u001b[0m\u001b[0m\n\u001b[0m",
      "\u001b[1;31mTypeError\u001b[0m: unhashable type: 'list'"
     ]
    }
   ],
   "source": [
    "d3 = {[1,2]:'One two', [1,2,3]:\"One two three\"}"
   ]
  },
  {
   "cell_type": "code",
   "execution_count": 50,
   "id": "af13fe73",
   "metadata": {},
   "outputs": [
    {
     "data": {
      "text/plain": [
       "<function hash(obj, /)>"
      ]
     },
     "execution_count": 50,
     "metadata": {},
     "output_type": "execute_result"
    }
   ],
   "source": [
    "hash"
   ]
  },
  {
   "cell_type": "code",
   "execution_count": 51,
   "id": "7d734a6d",
   "metadata": {},
   "outputs": [
    {
     "data": {
      "text/plain": [
       "'Return the hash value for the given object.\\n\\nTwo objects that compare equal must also have the same hash value, but the\\nreverse is not necessarily true.'"
      ]
     },
     "execution_count": 51,
     "metadata": {},
     "output_type": "execute_result"
    }
   ],
   "source": [
    "hash.__doc__"
   ]
  },
  {
   "cell_type": "code",
   "execution_count": 52,
   "id": "4e76cf60",
   "metadata": {},
   "outputs": [
    {
     "name": "stdout",
     "output_type": "stream",
     "text": [
      "Help on built-in function hash in module builtins:\n",
      "\n",
      "hash(obj, /)\n",
      "    Return the hash value for the given object.\n",
      "    \n",
      "    Two objects that compare equal must also have the same hash value, but the\n",
      "    reverse is not necessarily true.\n",
      "\n"
     ]
    }
   ],
   "source": [
    "help(hash)"
   ]
  },
  {
   "cell_type": "code",
   "execution_count": 59,
   "id": "fbefec29",
   "metadata": {},
   "outputs": [],
   "source": [
    "d1= {True:'one',False:'Two'}\n",
    "d2 = {1:'Rahul',1.2:'Rahulssss'}"
   ]
  },
  {
   "cell_type": "code",
   "execution_count": 55,
   "id": "8b2cb503",
   "metadata": {},
   "outputs": [
    {
     "data": {
      "text/plain": [
       "['__class__',\n",
       " '__class_getitem__',\n",
       " '__contains__',\n",
       " '__delattr__',\n",
       " '__delitem__',\n",
       " '__dir__',\n",
       " '__doc__',\n",
       " '__eq__',\n",
       " '__format__',\n",
       " '__ge__',\n",
       " '__getattribute__',\n",
       " '__getitem__',\n",
       " '__gt__',\n",
       " '__hash__',\n",
       " '__init__',\n",
       " '__init_subclass__',\n",
       " '__ior__',\n",
       " '__iter__',\n",
       " '__le__',\n",
       " '__len__',\n",
       " '__lt__',\n",
       " '__ne__',\n",
       " '__new__',\n",
       " '__or__',\n",
       " '__reduce__',\n",
       " '__reduce_ex__',\n",
       " '__repr__',\n",
       " '__reversed__',\n",
       " '__ror__',\n",
       " '__setattr__',\n",
       " '__setitem__',\n",
       " '__sizeof__',\n",
       " '__str__',\n",
       " '__subclasshook__',\n",
       " 'clear',\n",
       " 'copy',\n",
       " 'fromkeys',\n",
       " 'get',\n",
       " 'items',\n",
       " 'keys',\n",
       " 'pop',\n",
       " 'popitem',\n",
       " 'setdefault',\n",
       " 'update',\n",
       " 'values']"
      ]
     },
     "execution_count": 55,
     "metadata": {},
     "output_type": "execute_result"
    }
   ],
   "source": [
    "dir(dict)"
   ]
  },
  {
   "cell_type": "code",
   "execution_count": 56,
   "id": "3af1eba1",
   "metadata": {},
   "outputs": [
    {
     "ename": "TypeError",
     "evalue": "unsupported operand type(s) for +: 'dict' and 'dict'",
     "output_type": "error",
     "traceback": [
      "\u001b[1;31m---------------------------------------------------------------------------\u001b[0m",
      "\u001b[1;31mTypeError\u001b[0m                                 Traceback (most recent call last)",
      "\u001b[1;32m<ipython-input-56-ffa18e72196c>\u001b[0m in \u001b[0;36m<module>\u001b[1;34m\u001b[0m\n\u001b[1;32m----> 1\u001b[1;33m \u001b[0md\u001b[0m \u001b[1;33m=\u001b[0m \u001b[0md1\u001b[0m \u001b[1;33m+\u001b[0m \u001b[0md2\u001b[0m\u001b[1;33m\u001b[0m\u001b[1;33m\u001b[0m\u001b[0m\n\u001b[0m",
      "\u001b[1;31mTypeError\u001b[0m: unsupported operand type(s) for +: 'dict' and 'dict'"
     ]
    }
   ],
   "source": [
    "d = d1 + d2"
   ]
  },
  {
   "cell_type": "code",
   "execution_count": 60,
   "id": "47424b2d",
   "metadata": {},
   "outputs": [
    {
     "name": "stdout",
     "output_type": "stream",
     "text": [
      "None\n"
     ]
    }
   ],
   "source": [
    "print(d1.update(d2))"
   ]
  },
  {
   "cell_type": "code",
   "execution_count": 58,
   "id": "b7d6a3e9",
   "metadata": {},
   "outputs": [],
   "source": [
    "d"
   ]
  },
  {
   "cell_type": "code",
   "execution_count": 61,
   "id": "dec22373",
   "metadata": {},
   "outputs": [
    {
     "name": "stdout",
     "output_type": "stream",
     "text": [
      "Help on method_descriptor:\n",
      "\n",
      "update(...)\n",
      "    D.update([E, ]**F) -> None.  Update D from dict/iterable E and F.\n",
      "    If E is present and has a .keys() method, then does:  for k in E: D[k] = E[k]\n",
      "    If E is present and lacks a .keys() method, then does:  for k, v in E: D[k] = v\n",
      "    In either case, this is followed by: for k in F:  D[k] = F[k]\n",
      "\n"
     ]
    }
   ],
   "source": [
    "help(dict.update)"
   ]
  },
  {
   "cell_type": "code",
   "execution_count": 66,
   "id": "16505086",
   "metadata": {},
   "outputs": [],
   "source": [
    "d1= {3:'one',\"four\":'Two'}\n",
    "d2 = {1:'Rahul',1.2:'Rahulssss'}"
   ]
  },
  {
   "cell_type": "code",
   "execution_count": 67,
   "id": "64fb7e6a",
   "metadata": {},
   "outputs": [],
   "source": [
    "d1.update(d2)"
   ]
  },
  {
   "cell_type": "code",
   "execution_count": 68,
   "id": "9e26a51b",
   "metadata": {},
   "outputs": [
    {
     "data": {
      "text/plain": [
       "{3: 'one', 'four': 'Two', 1: 'Rahul', 1.2: 'Rahulssss'}"
      ]
     },
     "execution_count": 68,
     "metadata": {},
     "output_type": "execute_result"
    }
   ],
   "source": [
    "d1"
   ]
  },
  {
   "cell_type": "code",
   "execution_count": 69,
   "id": "a82ac43c",
   "metadata": {},
   "outputs": [],
   "source": [
    "# set \n",
    "A = {1,2,3,4,5}\n",
    "B = {1,2,3,8,9}\n"
   ]
  },
  {
   "cell_type": "code",
   "execution_count": 70,
   "id": "571eab3d",
   "metadata": {},
   "outputs": [
    {
     "data": {
      "text/plain": [
       "(set, 2011270488352, {1, 2, 3, 4, 5})"
      ]
     },
     "execution_count": 70,
     "metadata": {},
     "output_type": "execute_result"
    }
   ],
   "source": [
    "type(A),id(A),A"
   ]
  },
  {
   "cell_type": "code",
   "execution_count": 71,
   "id": "63d658c8",
   "metadata": {},
   "outputs": [
    {
     "data": {
      "text/plain": [
       "(set, 2011270489472, {1, 2, 3, 8, 9})"
      ]
     },
     "execution_count": 71,
     "metadata": {},
     "output_type": "execute_result"
    }
   ],
   "source": [
    "type(B),id(B),B"
   ]
  },
  {
   "cell_type": "code",
   "execution_count": 72,
   "id": "84310227",
   "metadata": {},
   "outputs": [
    {
     "name": "stdout",
     "output_type": "stream",
     "text": [
      "['__and__', '__class__', '__class_getitem__', '__contains__', '__delattr__', '__dir__', '__doc__', '__eq__', '__format__', '__ge__', '__getattribute__', '__gt__', '__hash__', '__iand__', '__init__', '__init_subclass__', '__ior__', '__isub__', '__iter__', '__ixor__', '__le__', '__len__', '__lt__', '__ne__', '__new__', '__or__', '__rand__', '__reduce__', '__reduce_ex__', '__repr__', '__ror__', '__rsub__', '__rxor__', '__setattr__', '__sizeof__', '__str__', '__sub__', '__subclasshook__', '__xor__', 'add', 'clear', 'copy', 'difference', 'difference_update', 'discard', 'intersection', 'intersection_update', 'isdisjoint', 'issubset', 'issuperset', 'pop', 'remove', 'symmetric_difference', 'symmetric_difference_update', 'union', 'update']\n"
     ]
    }
   ],
   "source": [
    "print(dir(set))"
   ]
  },
  {
   "cell_type": "code",
   "execution_count": 73,
   "id": "aba57694",
   "metadata": {},
   "outputs": [
    {
     "data": {
      "text/plain": [
       "<function set.intersection>"
      ]
     },
     "execution_count": 73,
     "metadata": {},
     "output_type": "execute_result"
    }
   ],
   "source": [
    "A.intersection"
   ]
  },
  {
   "cell_type": "code",
   "execution_count": 74,
   "id": "57229e3d",
   "metadata": {},
   "outputs": [
    {
     "name": "stdout",
     "output_type": "stream",
     "text": [
      "Help on built-in function intersection:\n",
      "\n",
      "intersection(...) method of builtins.set instance\n",
      "    Return the intersection of two sets as a new set.\n",
      "    \n",
      "    (i.e. all elements that are in both sets.)\n",
      "\n"
     ]
    }
   ],
   "source": [
    "help(A.intersection)"
   ]
  },
  {
   "cell_type": "code",
   "execution_count": 75,
   "id": "5bf8eaac",
   "metadata": {},
   "outputs": [
    {
     "data": {
      "text/plain": [
       "{1, 2, 3}"
      ]
     },
     "execution_count": 75,
     "metadata": {},
     "output_type": "execute_result"
    }
   ],
   "source": [
    "A.intersection(B)"
   ]
  },
  {
   "cell_type": "code",
   "execution_count": 76,
   "id": "fea94125",
   "metadata": {},
   "outputs": [
    {
     "data": {
      "text/plain": [
       "{1, 2, 3, 4, 5, 8, 9}"
      ]
     },
     "execution_count": 76,
     "metadata": {},
     "output_type": "execute_result"
    }
   ],
   "source": [
    "A.union(B)"
   ]
  },
  {
   "cell_type": "code",
   "execution_count": 77,
   "id": "b207ade5",
   "metadata": {},
   "outputs": [
    {
     "data": {
      "text/plain": [
       "<function set.difference>"
      ]
     },
     "execution_count": 77,
     "metadata": {},
     "output_type": "execute_result"
    }
   ],
   "source": [
    "A.difference"
   ]
  },
  {
   "cell_type": "code",
   "execution_count": 78,
   "id": "4628cb96",
   "metadata": {},
   "outputs": [
    {
     "name": "stdout",
     "output_type": "stream",
     "text": [
      "Help on built-in function difference:\n",
      "\n",
      "difference(...) method of builtins.set instance\n",
      "    Return the difference of two or more sets as a new set.\n",
      "    \n",
      "    (i.e. all elements that are in this set but not the others.)\n",
      "\n"
     ]
    }
   ],
   "source": [
    "help(A.difference)"
   ]
  },
  {
   "cell_type": "code",
   "execution_count": 79,
   "id": "2385af6c",
   "metadata": {},
   "outputs": [
    {
     "data": {
      "text/plain": [
       "{4, 5}"
      ]
     },
     "execution_count": 79,
     "metadata": {},
     "output_type": "execute_result"
    }
   ],
   "source": [
    "A.difference(B)"
   ]
  },
  {
   "cell_type": "code",
   "execution_count": 80,
   "id": "7f2fa331",
   "metadata": {},
   "outputs": [
    {
     "data": {
      "text/plain": [
       "{4, 5}"
      ]
     },
     "execution_count": 80,
     "metadata": {},
     "output_type": "execute_result"
    }
   ],
   "source": [
    "A - B "
   ]
  },
  {
   "cell_type": "code",
   "execution_count": 81,
   "id": "70f1c491",
   "metadata": {},
   "outputs": [
    {
     "data": {
      "text/plain": [
       "{8, 9}"
      ]
     },
     "execution_count": 81,
     "metadata": {},
     "output_type": "execute_result"
    }
   ],
   "source": [
    "B-A\n"
   ]
  },
  {
   "cell_type": "code",
   "execution_count": 82,
   "id": "00afa1c8",
   "metadata": {},
   "outputs": [
    {
     "data": {
      "text/plain": [
       "{8, 9}"
      ]
     },
     "execution_count": 82,
     "metadata": {},
     "output_type": "execute_result"
    }
   ],
   "source": [
    "B.difference(A)"
   ]
  },
  {
   "cell_type": "code",
   "execution_count": 83,
   "id": "4ed1ecca",
   "metadata": {},
   "outputs": [
    {
     "ename": "TypeError",
     "evalue": "unsupported operand type(s) for +: 'set' and 'set'",
     "output_type": "error",
     "traceback": [
      "\u001b[1;31m---------------------------------------------------------------------------\u001b[0m",
      "\u001b[1;31mTypeError\u001b[0m                                 Traceback (most recent call last)",
      "\u001b[1;32m<ipython-input-83-151064de832d>\u001b[0m in \u001b[0;36m<module>\u001b[1;34m\u001b[0m\n\u001b[1;32m----> 1\u001b[1;33m \u001b[0mA\u001b[0m \u001b[1;33m+\u001b[0m \u001b[0mB\u001b[0m\u001b[1;33m\u001b[0m\u001b[1;33m\u001b[0m\u001b[0m\n\u001b[0m",
      "\u001b[1;31mTypeError\u001b[0m: unsupported operand type(s) for +: 'set' and 'set'"
     ]
    }
   ],
   "source": [
    "A + B"
   ]
  },
  {
   "cell_type": "code",
   "execution_count": 84,
   "id": "483a92ed",
   "metadata": {},
   "outputs": [
    {
     "data": {
      "text/plain": [
       "'rahulsomani'"
      ]
     },
     "execution_count": 84,
     "metadata": {},
     "output_type": "execute_result"
    }
   ],
   "source": [
    "\"rahul\" + \"somani\""
   ]
  },
  {
   "cell_type": "code",
   "execution_count": 85,
   "id": "455045bb",
   "metadata": {},
   "outputs": [
    {
     "name": "stdout",
     "output_type": "stream",
     "text": [
      "['__add__', '__class__', '__contains__', '__delattr__', '__dir__', '__doc__', '__eq__', '__format__', '__ge__', '__getattribute__', '__getitem__', '__getnewargs__', '__gt__', '__hash__', '__init__', '__init_subclass__', '__iter__', '__le__', '__len__', '__lt__', '__mod__', '__mul__', '__ne__', '__new__', '__reduce__', '__reduce_ex__', '__repr__', '__rmod__', '__rmul__', '__setattr__', '__sizeof__', '__str__', '__subclasshook__', 'capitalize', 'casefold', 'center', 'count', 'encode', 'endswith', 'expandtabs', 'find', 'format', 'format_map', 'index', 'isalnum', 'isalpha', 'isascii', 'isdecimal', 'isdigit', 'isidentifier', 'islower', 'isnumeric', 'isprintable', 'isspace', 'istitle', 'isupper', 'join', 'ljust', 'lower', 'lstrip', 'maketrans', 'partition', 'removeprefix', 'removesuffix', 'replace', 'rfind', 'rindex', 'rjust', 'rpartition', 'rsplit', 'rstrip', 'split', 'splitlines', 'startswith', 'strip', 'swapcase', 'title', 'translate', 'upper', 'zfill']\n"
     ]
    }
   ],
   "source": [
    "print(dir(str))"
   ]
  },
  {
   "cell_type": "code",
   "execution_count": 86,
   "id": "75e811b1",
   "metadata": {},
   "outputs": [
    {
     "data": {
      "text/plain": [
       "'rahulsomani'"
      ]
     },
     "execution_count": 86,
     "metadata": {},
     "output_type": "execute_result"
    }
   ],
   "source": [
    "\"rahul\".__add__(\"somani\")"
   ]
  },
  {
   "cell_type": "code",
   "execution_count": null,
   "id": "07853dbd",
   "metadata": {},
   "outputs": [],
   "source": []
  }
 ],
 "metadata": {
  "kernelspec": {
   "display_name": "Python 3",
   "language": "python",
   "name": "python3"
  },
  "language_info": {
   "codemirror_mode": {
    "name": "ipython",
    "version": 3
   },
   "file_extension": ".py",
   "mimetype": "text/x-python",
   "name": "python",
   "nbconvert_exporter": "python",
   "pygments_lexer": "ipython3",
   "version": "3.9.6"
  }
 },
 "nbformat": 4,
 "nbformat_minor": 5
}
