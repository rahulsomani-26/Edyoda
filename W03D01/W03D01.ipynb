{
 "cells": [
  {
   "cell_type": "markdown",
   "id": "8188ecc3",
   "metadata": {},
   "source": [
    "# Strings \n",
    "`` Sequence type containers, storing homogeneous items ``"
   ]
  },
  {
   "cell_type": "code",
   "execution_count": 1,
   "id": "645c6502",
   "metadata": {},
   "outputs": [
    {
     "data": {
      "text/plain": [
       "str"
      ]
     },
     "execution_count": 1,
     "metadata": {},
     "output_type": "execute_result"
    }
   ],
   "source": [
    "name = 'Deshmukh'\n",
    "type(name)"
   ]
  },
  {
   "cell_type": "code",
   "execution_count": 2,
   "id": "5d8808ef",
   "metadata": {},
   "outputs": [],
   "source": [
    "my_string = \"somani78\""
   ]
  },
  {
   "cell_type": "code",
   "execution_count": 3,
   "id": "65884732",
   "metadata": {},
   "outputs": [
    {
     "data": {
      "text/plain": [
       "str"
      ]
     },
     "execution_count": 3,
     "metadata": {},
     "output_type": "execute_result"
    }
   ],
   "source": [
    "type(my_string)"
   ]
  },
  {
   "cell_type": "code",
   "execution_count": 4,
   "id": "c199a1b6",
   "metadata": {},
   "outputs": [
    {
     "data": {
      "text/plain": [
       "'D'"
      ]
     },
     "execution_count": 4,
     "metadata": {},
     "output_type": "execute_result"
    }
   ],
   "source": [
    "name[0]"
   ]
  },
  {
   "cell_type": "code",
   "execution_count": 5,
   "id": "ca8ff627",
   "metadata": {},
   "outputs": [
    {
     "data": {
      "text/plain": [
       "'h'"
      ]
     },
     "execution_count": 5,
     "metadata": {},
     "output_type": "execute_result"
    }
   ],
   "source": [
    "name[-1]"
   ]
  },
  {
   "cell_type": "code",
   "execution_count": 6,
   "id": "d2ff8046",
   "metadata": {},
   "outputs": [
    {
     "name": "stdout",
     "output_type": "stream",
     "text": [
      "['__add__', '__class__', '__contains__', '__delattr__', '__dir__', '__doc__', '__eq__', '__format__', '__ge__', '__getattribute__', '__getitem__', '__getnewargs__', '__gt__', '__hash__', '__init__', '__init_subclass__', '__iter__', '__le__', '__len__', '__lt__', '__mod__', '__mul__', '__ne__', '__new__', '__reduce__', '__reduce_ex__', '__repr__', '__rmod__', '__rmul__', '__setattr__', '__sizeof__', '__str__', '__subclasshook__', 'capitalize', 'casefold', 'center', 'count', 'encode', 'endswith', 'expandtabs', 'find', 'format', 'format_map', 'index', 'isalnum', 'isalpha', 'isascii', 'isdecimal', 'isdigit', 'isidentifier', 'islower', 'isnumeric', 'isprintable', 'isspace', 'istitle', 'isupper', 'join', 'ljust', 'lower', 'lstrip', 'maketrans', 'partition', 'removeprefix', 'removesuffix', 'replace', 'rfind', 'rindex', 'rjust', 'rpartition', 'rsplit', 'rstrip', 'split', 'splitlines', 'startswith', 'strip', 'swapcase', 'title', 'translate', 'upper', 'zfill']\n"
     ]
    }
   ],
   "source": [
    "print(dir(str))"
   ]
  },
  {
   "cell_type": "code",
   "execution_count": 7,
   "id": "cb4dc406",
   "metadata": {},
   "outputs": [
    {
     "data": {
      "text/plain": [
       "<slot wrapper '__getitem__' of 'str' objects>"
      ]
     },
     "execution_count": 7,
     "metadata": {},
     "output_type": "execute_result"
    }
   ],
   "source": [
    "str.__getitem__"
   ]
  },
  {
   "cell_type": "code",
   "execution_count": 8,
   "id": "7977ad67",
   "metadata": {},
   "outputs": [
    {
     "data": {
      "text/plain": [
       "'Deshmukh'"
      ]
     },
     "execution_count": 8,
     "metadata": {},
     "output_type": "execute_result"
    }
   ],
   "source": [
    "name"
   ]
  },
  {
   "cell_type": "code",
   "execution_count": 9,
   "id": "6e1f70f1",
   "metadata": {},
   "outputs": [
    {
     "ename": "TypeError",
     "evalue": "expected 1 argument, got 0",
     "output_type": "error",
     "traceback": [
      "\u001b[1;31m---------------------------------------------------------------------------\u001b[0m",
      "\u001b[1;31mTypeError\u001b[0m                                 Traceback (most recent call last)",
      "\u001b[1;32m<ipython-input-9-bc486b1b2228>\u001b[0m in \u001b[0;36m<module>\u001b[1;34m\u001b[0m\n\u001b[1;32m----> 1\u001b[1;33m \u001b[0mname\u001b[0m\u001b[1;33m.\u001b[0m\u001b[0m__getitem__\u001b[0m\u001b[1;33m(\u001b[0m\u001b[1;33m)\u001b[0m\u001b[1;33m\u001b[0m\u001b[1;33m\u001b[0m\u001b[0m\n\u001b[0m",
      "\u001b[1;31mTypeError\u001b[0m: expected 1 argument, got 0"
     ]
    }
   ],
   "source": [
    "name.__getitem__()"
   ]
  },
  {
   "cell_type": "code",
   "execution_count": 10,
   "id": "c3b73f53",
   "metadata": {},
   "outputs": [
    {
     "data": {
      "text/plain": [
       "'D'"
      ]
     },
     "execution_count": 10,
     "metadata": {},
     "output_type": "execute_result"
    }
   ],
   "source": [
    "name.__getitem__(0)"
   ]
  },
  {
   "cell_type": "code",
   "execution_count": 11,
   "id": "8475be29",
   "metadata": {},
   "outputs": [
    {
     "data": {
      "text/plain": [
       "('D', 'D')"
      ]
     },
     "execution_count": 11,
     "metadata": {},
     "output_type": "execute_result"
    }
   ],
   "source": [
    "name[0], name.__getitem__(0)"
   ]
  },
  {
   "cell_type": "code",
   "execution_count": 12,
   "id": "e902bd9d",
   "metadata": {},
   "outputs": [
    {
     "ename": "TypeError",
     "evalue": "'str' object does not support item assignment",
     "output_type": "error",
     "traceback": [
      "\u001b[1;31m---------------------------------------------------------------------------\u001b[0m",
      "\u001b[1;31mTypeError\u001b[0m                                 Traceback (most recent call last)",
      "\u001b[1;32m<ipython-input-12-1c425aab6971>\u001b[0m in \u001b[0;36m<module>\u001b[1;34m\u001b[0m\n\u001b[1;32m----> 1\u001b[1;33m \u001b[0mname\u001b[0m\u001b[1;33m[\u001b[0m\u001b[1;36m0\u001b[0m\u001b[1;33m]\u001b[0m \u001b[1;33m=\u001b[0m \u001b[1;34m'r'\u001b[0m\u001b[1;33m\u001b[0m\u001b[1;33m\u001b[0m\u001b[0m\n\u001b[0m",
      "\u001b[1;31mTypeError\u001b[0m: 'str' object does not support item assignment"
     ]
    }
   ],
   "source": [
    "name[0] = 'r'"
   ]
  },
  {
   "cell_type": "code",
   "execution_count": 13,
   "id": "363804fb",
   "metadata": {},
   "outputs": [
    {
     "data": {
      "text/plain": [
       "False"
      ]
     },
     "execution_count": 13,
     "metadata": {},
     "output_type": "execute_result"
    }
   ],
   "source": [
    "'__setitem__' in dir(str)"
   ]
  },
  {
   "cell_type": "markdown",
   "id": "52896e31",
   "metadata": {},
   "source": [
    "# Slicing \n",
    "`` Syntax: var_name[start:stop:step]``\n"
   ]
  },
  {
   "cell_type": "code",
   "execution_count": 16,
   "id": "75874be1",
   "metadata": {},
   "outputs": [
    {
     "name": "stdout",
     "output_type": "stream",
     "text": [
      "Toyo\n"
     ]
    }
   ],
   "source": [
    "name = 'Toyota'\n",
    "print(name[0:4])"
   ]
  },
  {
   "cell_type": "code",
   "execution_count": 17,
   "id": "ac9adf39",
   "metadata": {},
   "outputs": [
    {
     "data": {
      "text/plain": [
       "'Ty'"
      ]
     },
     "execution_count": 17,
     "metadata": {},
     "output_type": "execute_result"
    }
   ],
   "source": [
    "name[0:4:2]"
   ]
  },
  {
   "cell_type": "code",
   "execution_count": 18,
   "id": "37be380c",
   "metadata": {},
   "outputs": [
    {
     "data": {
      "text/plain": [
       "'Ty'"
      ]
     },
     "execution_count": 18,
     "metadata": {},
     "output_type": "execute_result"
    }
   ],
   "source": [
    "name[:4:2]"
   ]
  },
  {
   "cell_type": "code",
   "execution_count": 19,
   "id": "e471f6a3",
   "metadata": {},
   "outputs": [
    {
     "data": {
      "text/plain": [
       "'Toyota'"
      ]
     },
     "execution_count": 19,
     "metadata": {},
     "output_type": "execute_result"
    }
   ],
   "source": [
    "name[:]"
   ]
  },
  {
   "cell_type": "code",
   "execution_count": 20,
   "id": "483bcb83",
   "metadata": {},
   "outputs": [],
   "source": [
    "s = 'ma'"
   ]
  },
  {
   "cell_type": "code",
   "execution_count": 22,
   "id": "11b4d99e",
   "metadata": {},
   "outputs": [
    {
     "data": {
      "text/plain": [
       "(2266595941488, 2266522532144, 2266523309168)"
      ]
     },
     "execution_count": 22,
     "metadata": {},
     "output_type": "execute_result"
    }
   ],
   "source": [
    "id(s),id(s[0]),id(s[1])"
   ]
  },
  {
   "cell_type": "code",
   "execution_count": 23,
   "id": "d91b351f",
   "metadata": {},
   "outputs": [
    {
     "data": {
      "text/plain": [
       "(2266522532144, 2266523309168)"
      ]
     },
     "execution_count": 23,
     "metadata": {},
     "output_type": "execute_result"
    }
   ],
   "source": [
    "id('m'),id('a')"
   ]
  },
  {
   "cell_type": "code",
   "execution_count": 24,
   "id": "455a09ba",
   "metadata": {},
   "outputs": [
    {
     "data": {
      "text/plain": [
       "<bound method Kernel.raw_input of <ipykernel.ipkernel.IPythonKernel object at 0x0000020FBB9AE5E0>>"
      ]
     },
     "execution_count": 24,
     "metadata": {},
     "output_type": "execute_result"
    }
   ],
   "source": [
    "input"
   ]
  },
  {
   "cell_type": "code",
   "execution_count": 25,
   "id": "e4ec4715",
   "metadata": {},
   "outputs": [
    {
     "name": "stdout",
     "output_type": "stream",
     "text": [
      "Help on method raw_input in module ipykernel.kernelbase:\n",
      "\n",
      "raw_input(prompt='') method of ipykernel.ipkernel.IPythonKernel instance\n",
      "    Forward raw_input to frontends\n",
      "    \n",
      "    Raises\n",
      "    ------\n",
      "    StdinNotImplementedError if active frontend doesn't support stdin.\n",
      "\n"
     ]
    }
   ],
   "source": [
    "help(input)"
   ]
  },
  {
   "cell_type": "code",
   "execution_count": 26,
   "id": "78126cbb",
   "metadata": {},
   "outputs": [
    {
     "name": "stdout",
     "output_type": "stream",
     "text": [
      "Enter a namerahul\n"
     ]
    },
    {
     "data": {
      "text/plain": [
       "'rahul'"
      ]
     },
     "execution_count": 26,
     "metadata": {},
     "output_type": "execute_result"
    }
   ],
   "source": [
    "input(\"Enter a name\")"
   ]
  },
  {
   "cell_type": "code",
   "execution_count": 27,
   "id": "6d933db4",
   "metadata": {},
   "outputs": [
    {
     "name": "stdout",
     "output_type": "stream",
     "text": [
      "Enter a nameRahul\n"
     ]
    }
   ],
   "source": [
    "name = input(\"Enter a name\")"
   ]
  },
  {
   "cell_type": "code",
   "execution_count": 28,
   "id": "464e78e8",
   "metadata": {},
   "outputs": [
    {
     "data": {
      "text/plain": [
       "'Rahul'"
      ]
     },
     "execution_count": 28,
     "metadata": {},
     "output_type": "execute_result"
    }
   ],
   "source": [
    "name"
   ]
  },
  {
   "cell_type": "code",
   "execution_count": 29,
   "id": "d7abacae",
   "metadata": {},
   "outputs": [
    {
     "data": {
      "text/plain": [
       "<function print>"
      ]
     },
     "execution_count": 29,
     "metadata": {},
     "output_type": "execute_result"
    }
   ],
   "source": [
    "print"
   ]
  },
  {
   "cell_type": "code",
   "execution_count": 30,
   "id": "e4b34999",
   "metadata": {},
   "outputs": [
    {
     "name": "stdout",
     "output_type": "stream",
     "text": [
      "Help on built-in function print in module builtins:\n",
      "\n",
      "print(...)\n",
      "    print(value, ..., sep=' ', end='\\n', file=sys.stdout, flush=False)\n",
      "    \n",
      "    Prints the values to a stream, or to sys.stdout by default.\n",
      "    Optional keyword arguments:\n",
      "    file:  a file-like object (stream); defaults to the current sys.stdout.\n",
      "    sep:   string inserted between values, default a space.\n",
      "    end:   string appended after the last value, default a newline.\n",
      "    flush: whether to forcibly flush the stream.\n",
      "\n"
     ]
    }
   ],
   "source": [
    "help(print)"
   ]
  },
  {
   "cell_type": "code",
   "execution_count": 31,
   "id": "8d2b13cf",
   "metadata": {},
   "outputs": [
    {
     "name": "stdout",
     "output_type": "stream",
     "text": [
      "Hello how are you ?\n"
     ]
    }
   ],
   "source": [
    "print(\"Hello how are you ?\")"
   ]
  },
  {
   "cell_type": "code",
   "execution_count": 32,
   "id": "33091636",
   "metadata": {},
   "outputs": [
    {
     "data": {
      "text/plain": [
       "'hello'"
      ]
     },
     "execution_count": 32,
     "metadata": {},
     "output_type": "execute_result"
    }
   ],
   "source": [
    "str(\"hello\")"
   ]
  },
  {
   "cell_type": "code",
   "execution_count": 33,
   "id": "db887e34",
   "metadata": {},
   "outputs": [
    {
     "data": {
      "text/plain": [
       "\"'hello'\""
      ]
     },
     "execution_count": 33,
     "metadata": {},
     "output_type": "execute_result"
    }
   ],
   "source": [
    "repr('hello')"
   ]
  },
  {
   "cell_type": "code",
   "execution_count": 34,
   "id": "c17a571a",
   "metadata": {},
   "outputs": [],
   "source": [
    "# join "
   ]
  },
  {
   "cell_type": "code",
   "execution_count": 35,
   "id": "091d40ba",
   "metadata": {},
   "outputs": [
    {
     "data": {
      "text/plain": [
       "<method 'join' of 'str' objects>"
      ]
     },
     "execution_count": 35,
     "metadata": {},
     "output_type": "execute_result"
    }
   ],
   "source": [
    "str.join"
   ]
  },
  {
   "cell_type": "code",
   "execution_count": 36,
   "id": "7722a6b2",
   "metadata": {},
   "outputs": [
    {
     "data": {
      "text/plain": [
       "' '"
      ]
     },
     "execution_count": 36,
     "metadata": {},
     "output_type": "execute_result"
    }
   ],
   "source": [
    "\" \""
   ]
  },
  {
   "cell_type": "code",
   "execution_count": 37,
   "id": "4560a39d",
   "metadata": {},
   "outputs": [
    {
     "data": {
      "text/plain": [
       "str"
      ]
     },
     "execution_count": 37,
     "metadata": {},
     "output_type": "execute_result"
    }
   ],
   "source": [
    "type(\" \")"
   ]
  },
  {
   "cell_type": "code",
   "execution_count": 38,
   "id": "b6e36885",
   "metadata": {},
   "outputs": [
    {
     "data": {
      "text/plain": [
       "'R a h u l'"
      ]
     },
     "execution_count": 38,
     "metadata": {},
     "output_type": "execute_result"
    }
   ],
   "source": [
    "\" \".join(\"Rahul\")"
   ]
  },
  {
   "cell_type": "code",
   "execution_count": 39,
   "id": "8452e1f6",
   "metadata": {},
   "outputs": [
    {
     "data": {
      "text/plain": [
       "'R-a-h-u-l'"
      ]
     },
     "execution_count": 39,
     "metadata": {},
     "output_type": "execute_result"
    }
   ],
   "source": [
    "\"-\".join(\"Rahul\")"
   ]
  },
  {
   "cell_type": "code",
   "execution_count": 40,
   "id": "511e12e0",
   "metadata": {},
   "outputs": [
    {
     "ename": "TypeError",
     "evalue": "sequence item 0: expected str instance, int found",
     "output_type": "error",
     "traceback": [
      "\u001b[1;31m---------------------------------------------------------------------------\u001b[0m",
      "\u001b[1;31mTypeError\u001b[0m                                 Traceback (most recent call last)",
      "\u001b[1;32m<ipython-input-40-a58e3e23699f>\u001b[0m in \u001b[0;36m<module>\u001b[1;34m\u001b[0m\n\u001b[1;32m----> 1\u001b[1;33m \u001b[1;34m\"  \"\u001b[0m\u001b[1;33m.\u001b[0m\u001b[0mjoin\u001b[0m\u001b[1;33m(\u001b[0m\u001b[1;33m[\u001b[0m\u001b[1;36m1\u001b[0m\u001b[1;33m,\u001b[0m\u001b[1;36m2\u001b[0m\u001b[1;33m,\u001b[0m\u001b[1;36m3\u001b[0m\u001b[1;33m]\u001b[0m\u001b[1;33m)\u001b[0m\u001b[1;33m\u001b[0m\u001b[1;33m\u001b[0m\u001b[0m\n\u001b[0m",
      "\u001b[1;31mTypeError\u001b[0m: sequence item 0: expected str instance, int found"
     ]
    }
   ],
   "source": [
    "\"  \".join([1,2,3])"
   ]
  },
  {
   "cell_type": "code",
   "execution_count": 42,
   "id": "1e1c26ac",
   "metadata": {},
   "outputs": [
    {
     "data": {
      "text/plain": [
       "'1        2        3'"
      ]
     },
     "execution_count": 42,
     "metadata": {},
     "output_type": "execute_result"
    }
   ],
   "source": [
    "\"        \".join(['1','2','3'])"
   ]
  },
  {
   "cell_type": "code",
   "execution_count": 43,
   "id": "c1b7509b",
   "metadata": {},
   "outputs": [
    {
     "data": {
      "text/plain": [
       "'1,        2,        3'"
      ]
     },
     "execution_count": 43,
     "metadata": {},
     "output_type": "execute_result"
    }
   ],
   "source": [
    "\",        \".join(('1','2','3'))"
   ]
  },
  {
   "cell_type": "code",
   "execution_count": 44,
   "id": "f47e510c",
   "metadata": {},
   "outputs": [],
   "source": [
    "result = '-'.join('akash')"
   ]
  },
  {
   "cell_type": "code",
   "execution_count": 51,
   "id": "7b35715c",
   "metadata": {},
   "outputs": [
    {
     "data": {
      "text/plain": [
       "'ra   -   hul'"
      ]
     },
     "execution_count": 51,
     "metadata": {},
     "output_type": "execute_result"
    }
   ],
   "source": [
    "\"   -   \".join([\"ra\",\"hul\"])\n"
   ]
  },
  {
   "cell_type": "code",
   "execution_count": 45,
   "id": "b35376e3",
   "metadata": {},
   "outputs": [
    {
     "data": {
      "text/plain": [
       "('a-k-a-s-h', type)"
      ]
     },
     "execution_count": 45,
     "metadata": {},
     "output_type": "execute_result"
    }
   ],
   "source": [
    "result,type(str)"
   ]
  },
  {
   "cell_type": "code",
   "execution_count": 46,
   "id": "2ef4ae20",
   "metadata": {},
   "outputs": [
    {
     "data": {
      "text/plain": [
       "'s, o, m, a, n, i'"
      ]
     },
     "execution_count": 46,
     "metadata": {},
     "output_type": "execute_result"
    }
   ],
   "source": [
    "', '.join('somani')"
   ]
  },
  {
   "cell_type": "code",
   "execution_count": 47,
   "id": "a010fb7f",
   "metadata": {},
   "outputs": [
    {
     "data": {
      "text/plain": [
       "str"
      ]
     },
     "execution_count": 47,
     "metadata": {},
     "output_type": "execute_result"
    }
   ],
   "source": [
    "type(', '.join('somani'))"
   ]
  },
  {
   "cell_type": "code",
   "execution_count": 48,
   "id": "689e1ffc",
   "metadata": {},
   "outputs": [
    {
     "data": {
      "text/plain": [
       "'ms-o-m-a-n-ia'"
      ]
     },
     "execution_count": 48,
     "metadata": {},
     "output_type": "execute_result"
    }
   ],
   "source": [
    "('-'.join('somani')).join(\"ma\") # Take this as your home work "
   ]
  },
  {
   "cell_type": "markdown",
   "id": "9434f302",
   "metadata": {},
   "source": [
    "# The replace function \n",
    "`` replace(old,new,count=-1,/) ``"
   ]
  },
  {
   "cell_type": "code",
   "execution_count": 49,
   "id": "13971d09",
   "metadata": {},
   "outputs": [
    {
     "data": {
      "text/plain": [
       "<method 'replace' of 'str' objects>"
      ]
     },
     "execution_count": 49,
     "metadata": {},
     "output_type": "execute_result"
    }
   ],
   "source": [
    "str.replace"
   ]
  },
  {
   "cell_type": "code",
   "execution_count": 52,
   "id": "d778cd28",
   "metadata": {},
   "outputs": [
    {
     "name": "stdout",
     "output_type": "stream",
     "text": [
      "Help on method_descriptor:\n",
      "\n",
      "replace(self, old, new, count=-1, /)\n",
      "    Return a copy with all occurrences of substring old replaced by new.\n",
      "    \n",
      "      count\n",
      "        Maximum number of occurrences to replace.\n",
      "        -1 (the default value) means replace all occurrences.\n",
      "    \n",
      "    If the optional argument count is given, only the first count occurrences are\n",
      "    replaced.\n",
      "\n"
     ]
    }
   ],
   "source": [
    "help(str.replace)"
   ]
  },
  {
   "cell_type": "code",
   "execution_count": 53,
   "id": "f8db7214",
   "metadata": {},
   "outputs": [
    {
     "name": "stdout",
     "output_type": "stream",
     "text": [
      "Help on built-in function replace:\n",
      "\n",
      "replace(old, new, count=-1, /) method of builtins.str instance\n",
      "    Return a copy with all occurrences of substring old replaced by new.\n",
      "    \n",
      "      count\n",
      "        Maximum number of occurrences to replace.\n",
      "        -1 (the default value) means replace all occurrences.\n",
      "    \n",
      "    If the optional argument count is given, only the first count occurrences are\n",
      "    replaced.\n",
      "\n"
     ]
    }
   ],
   "source": [
    "help(\"rahul\".replace)"
   ]
  },
  {
   "cell_type": "code",
   "execution_count": 54,
   "id": "d16c93fb",
   "metadata": {},
   "outputs": [
    {
     "data": {
      "text/plain": [
       "'r hul'"
      ]
     },
     "execution_count": 54,
     "metadata": {},
     "output_type": "execute_result"
    }
   ],
   "source": [
    "\"rahul\".replace('a',' ')"
   ]
  },
  {
   "cell_type": "code",
   "execution_count": 55,
   "id": "bb1bbb76",
   "metadata": {},
   "outputs": [
    {
     "data": {
      "text/plain": [
       "'r-hul'"
      ]
     },
     "execution_count": 55,
     "metadata": {},
     "output_type": "execute_result"
    }
   ],
   "source": [
    "\"rahul\".replace('a','-')"
   ]
  },
  {
   "cell_type": "code",
   "execution_count": 56,
   "id": "7e450602",
   "metadata": {},
   "outputs": [
    {
     "data": {
      "text/plain": [
       "'r--------hul'"
      ]
     },
     "execution_count": 56,
     "metadata": {},
     "output_type": "execute_result"
    }
   ],
   "source": [
    "\"rahul\".replace('a','--------')"
   ]
  },
  {
   "cell_type": "code",
   "execution_count": 57,
   "id": "d7e06927",
   "metadata": {},
   "outputs": [
    {
     "data": {
      "text/plain": [
       "str"
      ]
     },
     "execution_count": 57,
     "metadata": {},
     "output_type": "execute_result"
    }
   ],
   "source": [
    "type(\"rahul\".replace('a','--------'))"
   ]
  },
  {
   "cell_type": "code",
   "execution_count": 58,
   "id": "1161eed8",
   "metadata": {},
   "outputs": [
    {
     "data": {
      "text/plain": [
       "'po    a    o and     oma    o'"
      ]
     },
     "execution_count": 58,
     "metadata": {},
     "output_type": "execute_result"
    }
   ],
   "source": [
    "\"potato and tomato\".replace('t','    ')"
   ]
  },
  {
   "cell_type": "code",
   "execution_count": 62,
   "id": "f13b1c41",
   "metadata": {},
   "outputs": [
    {
     "data": {
      "text/plain": [
       "'po a o and  oma o'"
      ]
     },
     "execution_count": 62,
     "metadata": {},
     "output_type": "execute_result"
    }
   ],
   "source": [
    "\"potato and tomato\".replace('t',' ',-1)"
   ]
  },
  {
   "cell_type": "code",
   "execution_count": 63,
   "id": "f8f871ea",
   "metadata": {},
   "outputs": [
    {
     "data": {
      "text/plain": [
       "'po a o and tomato'"
      ]
     },
     "execution_count": 63,
     "metadata": {},
     "output_type": "execute_result"
    }
   ],
   "source": [
    "\"potato and tomato\".replace('t',' ',2)"
   ]
  },
  {
   "cell_type": "code",
   "execution_count": 64,
   "id": "28c3898b",
   "metadata": {},
   "outputs": [
    {
     "data": {
      "text/plain": [
       "<method 'split' of 'str' objects>"
      ]
     },
     "execution_count": 64,
     "metadata": {},
     "output_type": "execute_result"
    }
   ],
   "source": [
    "# Split \n",
    "str.split"
   ]
  },
  {
   "cell_type": "code",
   "execution_count": 65,
   "id": "58dddf32",
   "metadata": {},
   "outputs": [
    {
     "name": "stdout",
     "output_type": "stream",
     "text": [
      "Help on method_descriptor:\n",
      "\n",
      "split(self, /, sep=None, maxsplit=-1)\n",
      "    Return a list of the words in the string, using sep as the delimiter string.\n",
      "    \n",
      "    sep\n",
      "      The delimiter according which to split the string.\n",
      "      None (the default value) means split according to any whitespace,\n",
      "      and discard empty strings from the result.\n",
      "    maxsplit\n",
      "      Maximum number of splits to do.\n",
      "      -1 (the default value) means no limit.\n",
      "\n"
     ]
    }
   ],
   "source": [
    "help(str.split)"
   ]
  },
  {
   "cell_type": "code",
   "execution_count": 66,
   "id": "289bdb4c",
   "metadata": {},
   "outputs": [
    {
     "data": {
      "text/plain": [
       "['rahul', 'somani']"
      ]
     },
     "execution_count": 66,
     "metadata": {},
     "output_type": "execute_result"
    }
   ],
   "source": [
    "'rahul somani'.split()"
   ]
  },
  {
   "cell_type": "code",
   "execution_count": 67,
   "id": "51db438f",
   "metadata": {},
   "outputs": [
    {
     "data": {
      "text/plain": [
       "list"
      ]
     },
     "execution_count": 67,
     "metadata": {},
     "output_type": "execute_result"
    }
   ],
   "source": [
    "type('rahul somani'.split())"
   ]
  },
  {
   "cell_type": "code",
   "execution_count": 69,
   "id": "c3ea1fc2",
   "metadata": {},
   "outputs": [
    {
     "data": {
      "text/plain": [
       "['rahul', 'somani']"
      ]
     },
     "execution_count": 69,
     "metadata": {},
     "output_type": "execute_result"
    }
   ],
   "source": [
    "'rahul somani'.split(sep =' ')"
   ]
  },
  {
   "cell_type": "code",
   "execution_count": 70,
   "id": "498cef04",
   "metadata": {},
   "outputs": [
    {
     "data": {
      "text/plain": [
       "['ra', 'ul somani']"
      ]
     },
     "execution_count": 70,
     "metadata": {},
     "output_type": "execute_result"
    }
   ],
   "source": [
    "'rahul somani'.split(sep = 'h')"
   ]
  },
  {
   "cell_type": "code",
   "execution_count": 71,
   "id": "e30bef9c",
   "metadata": {},
   "outputs": [
    {
     "data": {
      "text/plain": [
       "['ra', 'ul somani']"
      ]
     },
     "execution_count": 71,
     "metadata": {},
     "output_type": "execute_result"
    }
   ],
   "source": [
    "'rahul somani'.split('h')"
   ]
  },
  {
   "cell_type": "code",
   "execution_count": 72,
   "id": "599b6d57",
   "metadata": {},
   "outputs": [],
   "source": [
    "name = 'Rahul Somani'\n",
    "l = name.split(sep=' ')"
   ]
  },
  {
   "cell_type": "code",
   "execution_count": 74,
   "id": "621eefe6",
   "metadata": {},
   "outputs": [
    {
     "data": {
      "text/plain": [
       "(['Rahul', 'Somani'], list)"
      ]
     },
     "execution_count": 74,
     "metadata": {},
     "output_type": "execute_result"
    }
   ],
   "source": [
    "l,type(l)"
   ]
  },
  {
   "cell_type": "code",
   "execution_count": 75,
   "id": "002acc49",
   "metadata": {},
   "outputs": [
    {
     "data": {
      "text/plain": [
       "'R'"
      ]
     },
     "execution_count": 75,
     "metadata": {},
     "output_type": "execute_result"
    }
   ],
   "source": [
    "name[0]"
   ]
  },
  {
   "cell_type": "code",
   "execution_count": 76,
   "id": "a1096fa5",
   "metadata": {},
   "outputs": [
    {
     "data": {
      "text/plain": [
       "['Rahul', 'Somani']"
      ]
     },
     "execution_count": 76,
     "metadata": {},
     "output_type": "execute_result"
    }
   ],
   "source": [
    "l"
   ]
  },
  {
   "cell_type": "code",
   "execution_count": 77,
   "id": "de9bc237",
   "metadata": {},
   "outputs": [
    {
     "data": {
      "text/plain": [
       "'Rahul'"
      ]
     },
     "execution_count": 77,
     "metadata": {},
     "output_type": "execute_result"
    }
   ],
   "source": [
    "l[0]"
   ]
  },
  {
   "cell_type": "code",
   "execution_count": 78,
   "id": "80ad7fad",
   "metadata": {},
   "outputs": [
    {
     "data": {
      "text/plain": [
       "'R'"
      ]
     },
     "execution_count": 78,
     "metadata": {},
     "output_type": "execute_result"
    }
   ],
   "source": [
    "l[0][0]"
   ]
  },
  {
   "cell_type": "code",
   "execution_count": 79,
   "id": "6aba0d1d",
   "metadata": {},
   "outputs": [
    {
     "data": {
      "text/plain": [
       "True"
      ]
     },
     "execution_count": 79,
     "metadata": {},
     "output_type": "execute_result"
    }
   ],
   "source": [
    "name[0] == l[0][0]"
   ]
  },
  {
   "cell_type": "code",
   "execution_count": 80,
   "id": "9590ee1b",
   "metadata": {},
   "outputs": [
    {
     "data": {
      "text/plain": [
       "(2266596822640, 2266595108096)"
      ]
     },
     "execution_count": 80,
     "metadata": {},
     "output_type": "execute_result"
    }
   ],
   "source": [
    "id(name), id(l)"
   ]
  },
  {
   "cell_type": "code",
   "execution_count": 81,
   "id": "cd3a4cae",
   "metadata": {},
   "outputs": [],
   "source": [
    "# split "
   ]
  },
  {
   "cell_type": "code",
   "execution_count": 82,
   "id": "8b796a48",
   "metadata": {},
   "outputs": [
    {
     "data": {
      "text/plain": [
       "<method 'split' of 'str' objects>"
      ]
     },
     "execution_count": 82,
     "metadata": {},
     "output_type": "execute_result"
    }
   ],
   "source": [
    "str.split"
   ]
  },
  {
   "cell_type": "code",
   "execution_count": 83,
   "id": "87ba3f11",
   "metadata": {},
   "outputs": [
    {
     "data": {
      "text/plain": [
       "['rahul']"
      ]
     },
     "execution_count": 83,
     "metadata": {},
     "output_type": "execute_result"
    }
   ],
   "source": [
    "\"rahul\".split()"
   ]
  },
  {
   "cell_type": "code",
   "execution_count": 84,
   "id": "30056f31",
   "metadata": {},
   "outputs": [],
   "source": [
    "msg = 'This is just a test'\n",
    "splitted_msg = msg.split(' ',maxsplit=4)"
   ]
  },
  {
   "cell_type": "code",
   "execution_count": 85,
   "id": "bdfd808f",
   "metadata": {},
   "outputs": [
    {
     "data": {
      "text/plain": [
       "['This', 'is', 'just', 'a', 'test']"
      ]
     },
     "execution_count": 85,
     "metadata": {},
     "output_type": "execute_result"
    }
   ],
   "source": [
    "splitted_msg"
   ]
  },
  {
   "cell_type": "code",
   "execution_count": 86,
   "id": "62c780a2",
   "metadata": {},
   "outputs": [],
   "source": [
    "splitted_msg = msg.split(' ',maxsplit=1)"
   ]
  },
  {
   "cell_type": "code",
   "execution_count": 88,
   "id": "b31a0c6d",
   "metadata": {},
   "outputs": [
    {
     "data": {
      "text/plain": [
       "(['This', 'is just a test'], 2)"
      ]
     },
     "execution_count": 88,
     "metadata": {},
     "output_type": "execute_result"
    }
   ],
   "source": [
    "splitted_msg,len(splitted_msg)"
   ]
  },
  {
   "cell_type": "code",
   "execution_count": 91,
   "id": "0f03a732",
   "metadata": {},
   "outputs": [
    {
     "data": {
      "text/plain": [
       "(['This is just a test'], 1)"
      ]
     },
     "execution_count": 91,
     "metadata": {},
     "output_type": "execute_result"
    }
   ],
   "source": [
    "msg = 'This is just a test'\n",
    "splitted_msg = msg.split('-',maxsplit=105)\n",
    "splitted_msg,len(splitted_msg)"
   ]
  },
  {
   "cell_type": "code",
   "execution_count": 94,
   "id": "60389eca",
   "metadata": {},
   "outputs": [],
   "source": [
    "name = \"rahulsomani\"\n",
    "firstname = name[:5]"
   ]
  },
  {
   "cell_type": "code",
   "execution_count": 95,
   "id": "2fca7dbe",
   "metadata": {},
   "outputs": [
    {
     "data": {
      "text/plain": [
       "'rahul'"
      ]
     },
     "execution_count": 95,
     "metadata": {},
     "output_type": "execute_result"
    }
   ],
   "source": [
    "firstname"
   ]
  },
  {
   "cell_type": "code",
   "execution_count": 96,
   "id": "184f8090",
   "metadata": {},
   "outputs": [],
   "source": [
    "msg = 'How do I find a way out from this .....?'"
   ]
  },
  {
   "cell_type": "code",
   "execution_count": 97,
   "id": "a6a9bc18",
   "metadata": {},
   "outputs": [
    {
     "data": {
      "text/plain": [
       "<method 'find' of 'str' objects>"
      ]
     },
     "execution_count": 97,
     "metadata": {},
     "output_type": "execute_result"
    }
   ],
   "source": [
    "str.find"
   ]
  },
  {
   "cell_type": "code",
   "execution_count": 98,
   "id": "82d88a87",
   "metadata": {},
   "outputs": [
    {
     "name": "stdout",
     "output_type": "stream",
     "text": [
      "Help on method_descriptor:\n",
      "\n",
      "find(...)\n",
      "    S.find(sub[, start[, end]]) -> int\n",
      "    \n",
      "    Return the lowest index in S where substring sub is found,\n",
      "    such that sub is contained within S[start:end].  Optional\n",
      "    arguments start and end are interpreted as in slice notation.\n",
      "    \n",
      "    Return -1 on failure.\n",
      "\n"
     ]
    }
   ],
   "source": [
    "help(str.find)"
   ]
  },
  {
   "cell_type": "code",
   "execution_count": 99,
   "id": "9532c835",
   "metadata": {},
   "outputs": [
    {
     "data": {
      "text/plain": [
       "17"
      ]
     },
     "execution_count": 99,
     "metadata": {},
     "output_type": "execute_result"
    }
   ],
   "source": [
    "msg.find('way')"
   ]
  },
  {
   "cell_type": "code",
   "execution_count": 101,
   "id": "0a51fa77",
   "metadata": {},
   "outputs": [
    {
     "data": {
      "text/plain": [
       "26"
      ]
     },
     "execution_count": 101,
     "metadata": {},
     "output_type": "execute_result"
    }
   ],
   "source": [
    "msg.find('r')"
   ]
  },
  {
   "cell_type": "code",
   "execution_count": 102,
   "id": "5fae13fc",
   "metadata": {},
   "outputs": [
    {
     "data": {
      "text/plain": [
       "4"
      ]
     },
     "execution_count": 102,
     "metadata": {},
     "output_type": "execute_result"
    }
   ],
   "source": [
    "new_str = 'Phantom is'\n",
    "new_str.find('tom')"
   ]
  },
  {
   "cell_type": "code",
   "execution_count": 103,
   "id": "55f2f99e",
   "metadata": {},
   "outputs": [
    {
     "data": {
      "text/plain": [
       "-1"
      ]
     },
     "execution_count": 103,
     "metadata": {},
     "output_type": "execute_result"
    }
   ],
   "source": [
    "new_str.find('r')"
   ]
  },
  {
   "cell_type": "code",
   "execution_count": 5,
   "id": "b7020003",
   "metadata": {},
   "outputs": [
    {
     "name": "stdout",
     "output_type": "stream",
     "text": [
      "Enter something matoshri\n",
      "Found\n"
     ]
    }
   ],
   "source": [
    "msg = input(\"Enter something \")\n",
    "if  msg.find('to'):\n",
    "    print('Found')\n",
    "else:\n",
    "    print(\"Not Found\")"
   ]
  },
  {
   "cell_type": "code",
   "execution_count": 2,
   "id": "6625b4fd",
   "metadata": {},
   "outputs": [
    {
     "data": {
      "text/plain": [
       "0"
      ]
     },
     "execution_count": 2,
     "metadata": {},
     "output_type": "execute_result"
    }
   ],
   "source": [
    "msg.find('to')"
   ]
  },
  {
   "cell_type": "code",
   "execution_count": 6,
   "id": "434f46e9",
   "metadata": {},
   "outputs": [
    {
     "data": {
      "text/plain": [
       "True"
      ]
     },
     "execution_count": 6,
     "metadata": {},
     "output_type": "execute_result"
    }
   ],
   "source": [
    "msg = ' I am good '\n",
    "'am' in msg\n"
   ]
  },
  {
   "cell_type": "code",
   "execution_count": 7,
   "id": "0491b4b3",
   "metadata": {},
   "outputs": [
    {
     "data": {
      "text/plain": [
       "True"
      ]
     },
     "execution_count": 7,
     "metadata": {},
     "output_type": "execute_result"
    }
   ],
   "source": [
    "1 in [1,2,3]"
   ]
  },
  {
   "cell_type": "code",
   "execution_count": 8,
   "id": "58d43d49",
   "metadata": {},
   "outputs": [
    {
     "ename": "SyntaxError",
     "evalue": "invalid syntax (<ipython-input-8-6d6c5b17c5a3>, line 1)",
     "output_type": "error",
     "traceback": [
      "\u001b[1;36m  File \u001b[1;32m\"<ipython-input-8-6d6c5b17c5a3>\"\u001b[1;36m, line \u001b[1;32m1\u001b[0m\n\u001b[1;33m    1.find()\u001b[0m\n\u001b[1;37m      ^\u001b[0m\n\u001b[1;31mSyntaxError\u001b[0m\u001b[1;31m:\u001b[0m invalid syntax\n"
     ]
    }
   ],
   "source": [
    "1.find()"
   ]
  },
  {
   "cell_type": "code",
   "execution_count": 9,
   "id": "7d50e513",
   "metadata": {},
   "outputs": [
    {
     "ename": "AttributeError",
     "evalue": "'list' object has no attribute 'find'",
     "output_type": "error",
     "traceback": [
      "\u001b[1;31m---------------------------------------------------------------------------\u001b[0m",
      "\u001b[1;31mAttributeError\u001b[0m                            Traceback (most recent call last)",
      "\u001b[1;32m<ipython-input-9-77b9bde32c60>\u001b[0m in \u001b[0;36m<module>\u001b[1;34m\u001b[0m\n\u001b[1;32m----> 1\u001b[1;33m \u001b[1;33m[\u001b[0m\u001b[1;36m1\u001b[0m\u001b[1;33m,\u001b[0m\u001b[1;36m2\u001b[0m\u001b[1;33m,\u001b[0m\u001b[1;36m3\u001b[0m\u001b[1;33m]\u001b[0m\u001b[1;33m.\u001b[0m\u001b[0mfind\u001b[0m\u001b[1;33m(\u001b[0m\u001b[1;33m)\u001b[0m\u001b[1;33m\u001b[0m\u001b[1;33m\u001b[0m\u001b[0m\n\u001b[0m",
      "\u001b[1;31mAttributeError\u001b[0m: 'list' object has no attribute 'find'"
     ]
    }
   ],
   "source": [
    "[1,2,3].find()"
   ]
  },
  {
   "cell_type": "code",
   "execution_count": 10,
   "id": "c67f840c",
   "metadata": {},
   "outputs": [],
   "source": [
    "#upper(),lower(),isupper(),islower(),title(),istitle(),capitalize()\n"
   ]
  },
  {
   "cell_type": "code",
   "execution_count": 11,
   "id": "ab97f666",
   "metadata": {},
   "outputs": [
    {
     "data": {
      "text/plain": [
       "<method 'upper' of 'str' objects>"
      ]
     },
     "execution_count": 11,
     "metadata": {},
     "output_type": "execute_result"
    }
   ],
   "source": [
    "str.upper"
   ]
  },
  {
   "cell_type": "code",
   "execution_count": 12,
   "id": "d967abd6",
   "metadata": {},
   "outputs": [
    {
     "data": {
      "text/plain": [
       "'RAHUL'"
      ]
     },
     "execution_count": 12,
     "metadata": {},
     "output_type": "execute_result"
    }
   ],
   "source": [
    "\"rahul\".upper()"
   ]
  },
  {
   "cell_type": "code",
   "execution_count": 13,
   "id": "18f1633f",
   "metadata": {},
   "outputs": [
    {
     "name": "stdout",
     "output_type": "stream",
     "text": [
      "2745298902960\n",
      "RAHUL 2745298899440\n"
     ]
    }
   ],
   "source": [
    "name ='rahul'\n",
    "print(id(name))\n",
    "result = name.upper()\n",
    "print(result,id(result))"
   ]
  },
  {
   "cell_type": "code",
   "execution_count": 14,
   "id": "c43fe76a",
   "metadata": {},
   "outputs": [
    {
     "name": "stdout",
     "output_type": "stream",
     "text": [
      "2745300015280\n",
      "rahul 2745298902960\n"
     ]
    }
   ],
   "source": [
    "name ='RAHUL'\n",
    "print(id(name))\n",
    "result = name.lower()\n",
    "print(result,id(result))"
   ]
  },
  {
   "cell_type": "code",
   "execution_count": 15,
   "id": "1dba4b91",
   "metadata": {},
   "outputs": [
    {
     "data": {
      "text/plain": [
       "<method 'isupper' of 'str' objects>"
      ]
     },
     "execution_count": 15,
     "metadata": {},
     "output_type": "execute_result"
    }
   ],
   "source": [
    "str.isupper"
   ]
  },
  {
   "cell_type": "code",
   "execution_count": 16,
   "id": "53d7783f",
   "metadata": {},
   "outputs": [],
   "source": [
    "name = 'RAHUL'\n",
    "result = name.isupper()"
   ]
  },
  {
   "cell_type": "code",
   "execution_count": 17,
   "id": "a1401070",
   "metadata": {},
   "outputs": [
    {
     "data": {
      "text/plain": [
       "True"
      ]
     },
     "execution_count": 17,
     "metadata": {},
     "output_type": "execute_result"
    }
   ],
   "source": [
    "result"
   ]
  },
  {
   "cell_type": "code",
   "execution_count": 18,
   "id": "7c23d31d",
   "metadata": {},
   "outputs": [],
   "source": [
    "name = 'RAHuL'\n",
    "result = name.isupper()"
   ]
  },
  {
   "cell_type": "code",
   "execution_count": 19,
   "id": "449608c2",
   "metadata": {},
   "outputs": [
    {
     "data": {
      "text/plain": [
       "False"
      ]
     },
     "execution_count": 19,
     "metadata": {},
     "output_type": "execute_result"
    }
   ],
   "source": [
    "result"
   ]
  },
  {
   "cell_type": "code",
   "execution_count": 20,
   "id": "71ac95dc",
   "metadata": {},
   "outputs": [
    {
     "data": {
      "text/plain": [
       "<method 'title' of 'str' objects>"
      ]
     },
     "execution_count": 20,
     "metadata": {},
     "output_type": "execute_result"
    }
   ],
   "source": [
    "str.title"
   ]
  },
  {
   "cell_type": "code",
   "execution_count": 22,
   "id": "174fa27c",
   "metadata": {},
   "outputs": [
    {
     "data": {
      "text/plain": [
       "'Rahul Somani'"
      ]
     },
     "execution_count": 22,
     "metadata": {},
     "output_type": "execute_result"
    }
   ],
   "source": [
    "\"rahul somani\".title()"
   ]
  },
  {
   "cell_type": "code",
   "execution_count": 24,
   "id": "b984b3f9",
   "metadata": {},
   "outputs": [
    {
     "name": "stdout",
     "output_type": "stream",
     "text": [
      "Rahul Somani\n",
      "True\n"
     ]
    }
   ],
   "source": [
    "result=\"rahul somani\".title()\n",
    "print(result)\n",
    "print(result.istitle())"
   ]
  },
  {
   "cell_type": "code",
   "execution_count": 25,
   "id": "85ae49ee",
   "metadata": {},
   "outputs": [
    {
     "data": {
      "text/plain": [
       "'Rahul'"
      ]
     },
     "execution_count": 25,
     "metadata": {},
     "output_type": "execute_result"
    }
   ],
   "source": [
    "\"Rahul\".capitalize()"
   ]
  },
  {
   "cell_type": "code",
   "execution_count": 27,
   "id": "da43bc33",
   "metadata": {},
   "outputs": [
    {
     "name": "stdout",
     "output_type": "stream",
     "text": [
      "Help on method_descriptor:\n",
      "\n",
      "capitalize(self, /)\n",
      "    Return a capitalized version of the string.\n",
      "    \n",
      "    More specifically, make the first character have upper case and the rest lower\n",
      "    case.\n",
      "\n"
     ]
    }
   ],
   "source": [
    "help(str.capitalize)"
   ]
  },
  {
   "cell_type": "code",
   "execution_count": 28,
   "id": "a0cfafeb",
   "metadata": {},
   "outputs": [
    {
     "data": {
      "text/plain": [
       "'Rahul'"
      ]
     },
     "execution_count": 28,
     "metadata": {},
     "output_type": "execute_result"
    }
   ],
   "source": [
    "\"raHUL\".capitalize()"
   ]
  },
  {
   "cell_type": "code",
   "execution_count": null,
   "id": "977e94d6",
   "metadata": {},
   "outputs": [],
   "source": []
  }
 ],
 "metadata": {
  "kernelspec": {
   "display_name": "Python 3",
   "language": "python",
   "name": "python3"
  },
  "language_info": {
   "codemirror_mode": {
    "name": "ipython",
    "version": 3
   },
   "file_extension": ".py",
   "mimetype": "text/x-python",
   "name": "python",
   "nbconvert_exporter": "python",
   "pygments_lexer": "ipython3",
   "version": "3.9.6"
  }
 },
 "nbformat": 4,
 "nbformat_minor": 5
}
