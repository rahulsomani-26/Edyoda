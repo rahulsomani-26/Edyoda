{
 "cells": [
  {
   "cell_type": "code",
   "execution_count": 3,
   "id": "b169b9da",
   "metadata": {},
   "outputs": [],
   "source": [
    "# strings \n"
   ]
  },
  {
   "cell_type": "code",
   "execution_count": 4,
   "id": "6224dd24",
   "metadata": {},
   "outputs": [
    {
     "name": "stdout",
     "output_type": "stream",
     "text": [
      "['__add__', '__class__', '__contains__', '__delattr__', '__dir__', '__doc__', '__eq__', '__format__', '__ge__', '__getattribute__', '__getitem__', '__getnewargs__', '__gt__', '__hash__', '__init__', '__init_subclass__', '__iter__', '__le__', '__len__', '__lt__', '__mod__', '__mul__', '__ne__', '__new__', '__reduce__', '__reduce_ex__', '__repr__', '__rmod__', '__rmul__', '__setattr__', '__sizeof__', '__str__', '__subclasshook__', 'capitalize', 'casefold', 'center', 'count', 'encode', 'endswith', 'expandtabs', 'find', 'format', 'format_map', 'index', 'isalnum', 'isalpha', 'isascii', 'isdecimal', 'isdigit', 'isidentifier', 'islower', 'isnumeric', 'isprintable', 'isspace', 'istitle', 'isupper', 'join', 'ljust', 'lower', 'lstrip', 'maketrans', 'partition', 'removeprefix', 'removesuffix', 'replace', 'rfind', 'rindex', 'rjust', 'rpartition', 'rsplit', 'rstrip', 'split', 'splitlines', 'startswith', 'strip', 'swapcase', 'title', 'translate', 'upper', 'zfill']\n"
     ]
    }
   ],
   "source": [
    "print(dir(str))"
   ]
  },
  {
   "cell_type": "code",
   "execution_count": 5,
   "id": "e0d3349a",
   "metadata": {},
   "outputs": [
    {
     "data": {
      "text/plain": [
       "<function str.capitalize()>"
      ]
     },
     "execution_count": 5,
     "metadata": {},
     "output_type": "execute_result"
    }
   ],
   "source": [
    "s = \"rahul\"\n",
    "s.capitalize"
   ]
  },
  {
   "cell_type": "code",
   "execution_count": 6,
   "id": "c55ff8d4",
   "metadata": {},
   "outputs": [
    {
     "data": {
      "text/plain": [
       "'Rahul'"
      ]
     },
     "execution_count": 6,
     "metadata": {},
     "output_type": "execute_result"
    }
   ],
   "source": [
    "s.capitalize()"
   ]
  },
  {
   "cell_type": "code",
   "execution_count": 7,
   "id": "1612ac33",
   "metadata": {},
   "outputs": [
    {
     "data": {
      "text/plain": [
       "<function str.center(width, fillchar=' ', /)>"
      ]
     },
     "execution_count": 7,
     "metadata": {},
     "output_type": "execute_result"
    }
   ],
   "source": [
    "s.center"
   ]
  },
  {
   "cell_type": "code",
   "execution_count": 8,
   "id": "fab8c0f2",
   "metadata": {},
   "outputs": [
    {
     "data": {
      "text/plain": [
       "'rahul'"
      ]
     },
     "execution_count": 8,
     "metadata": {},
     "output_type": "execute_result"
    }
   ],
   "source": [
    "s.center(5)"
   ]
  },
  {
   "cell_type": "code",
   "execution_count": 19,
   "id": "4b1708f1",
   "metadata": {},
   "outputs": [
    {
     "name": "stdout",
     "output_type": "stream",
     "text": [
      "11rahul111\n"
     ]
    }
   ],
   "source": [
    "print(s.center(10,'1'))"
   ]
  },
  {
   "cell_type": "code",
   "execution_count": 14,
   "id": "171cd0eb",
   "metadata": {},
   "outputs": [],
   "source": [
    "# center() returns a string which is padded with the specified character. \n",
    "# By default the padding char is a space "
   ]
  },
  {
   "cell_type": "code",
   "execution_count": 20,
   "id": "00ecffa2",
   "metadata": {},
   "outputs": [
    {
     "name": "stdout",
     "output_type": "stream",
     "text": [
      "Help on built-in function count:\n",
      "\n",
      "count(...) method of builtins.str instance\n",
      "    S.count(sub[, start[, end]]) -> int\n",
      "    \n",
      "    Return the number of non-overlapping occurrences of substring sub in\n",
      "    string S[start:end].  Optional arguments start and end are\n",
      "    interpreted as in slice notation.\n",
      "\n"
     ]
    }
   ],
   "source": [
    "help(s.count)"
   ]
  },
  {
   "cell_type": "code",
   "execution_count": 21,
   "id": "94884232",
   "metadata": {},
   "outputs": [
    {
     "data": {
      "text/plain": [
       "2"
      ]
     },
     "execution_count": 21,
     "metadata": {},
     "output_type": "execute_result"
    }
   ],
   "source": [
    "# count will return number of \n",
    "name = 'raahul'\n",
    "name.count('a')"
   ]
  },
  {
   "cell_type": "code",
   "execution_count": 22,
   "id": "c0516950",
   "metadata": {},
   "outputs": [],
   "source": [
    "name = 'Dollar is a being shipped to India'"
   ]
  },
  {
   "cell_type": "code",
   "execution_count": 24,
   "id": "115b37b5",
   "metadata": {},
   "outputs": [
    {
     "data": {
      "text/plain": [
       "2"
      ]
     },
     "execution_count": 24,
     "metadata": {},
     "output_type": "execute_result"
    }
   ],
   "source": [
    "name.count('a',4,20)"
   ]
  },
  {
   "cell_type": "code",
   "execution_count": 25,
   "id": "61dcb355",
   "metadata": {},
   "outputs": [
    {
     "data": {
      "text/plain": [
       "3"
      ]
     },
     "execution_count": 25,
     "metadata": {},
     "output_type": "execute_result"
    }
   ],
   "source": [
    "name.count('a',4,len(name))"
   ]
  },
  {
   "cell_type": "code",
   "execution_count": 26,
   "id": "e26b9904",
   "metadata": {},
   "outputs": [
    {
     "name": "stdout",
     "output_type": "stream",
     "text": [
      "['__add__', '__class__', '__contains__', '__delattr__', '__dir__', '__doc__', '__eq__', '__format__', '__ge__', '__getattribute__', '__getitem__', '__getnewargs__', '__gt__', '__hash__', '__init__', '__init_subclass__', '__iter__', '__le__', '__len__', '__lt__', '__mod__', '__mul__', '__ne__', '__new__', '__reduce__', '__reduce_ex__', '__repr__', '__rmod__', '__rmul__', '__setattr__', '__sizeof__', '__str__', '__subclasshook__', 'capitalize', 'casefold', 'center', 'count', 'encode', 'endswith', 'expandtabs', 'find', 'format', 'format_map', 'index', 'isalnum', 'isalpha', 'isascii', 'isdecimal', 'isdigit', 'isidentifier', 'islower', 'isnumeric', 'isprintable', 'isspace', 'istitle', 'isupper', 'join', 'ljust', 'lower', 'lstrip', 'maketrans', 'partition', 'removeprefix', 'removesuffix', 'replace', 'rfind', 'rindex', 'rjust', 'rpartition', 'rsplit', 'rstrip', 'split', 'splitlines', 'startswith', 'strip', 'swapcase', 'title', 'translate', 'upper', 'zfill']\n"
     ]
    }
   ],
   "source": [
    "print(dir(str))"
   ]
  },
  {
   "cell_type": "code",
   "execution_count": 27,
   "id": "5ff72dca",
   "metadata": {},
   "outputs": [
    {
     "data": {
      "text/plain": [
       "<method 'endswith' of 'str' objects>"
      ]
     },
     "execution_count": 27,
     "metadata": {},
     "output_type": "execute_result"
    }
   ],
   "source": [
    "str.endswith"
   ]
  },
  {
   "cell_type": "code",
   "execution_count": 29,
   "id": "5105b52e",
   "metadata": {},
   "outputs": [
    {
     "name": "stdout",
     "output_type": "stream",
     "text": [
      "Help on method_descriptor:\n",
      "\n",
      "endswith(...)\n",
      "    S.endswith(suffix[, start[, end]]) -> bool\n",
      "    \n",
      "    Return True if S ends with the specified suffix, False otherwise.\n",
      "    With optional start, test S beginning at that position.\n",
      "    With optional end, stop comparing S at that position.\n",
      "    suffix can also be a tuple of strings to try.\n",
      "\n"
     ]
    }
   ],
   "source": [
    "help(str.endswith)"
   ]
  },
  {
   "cell_type": "code",
   "execution_count": 34,
   "id": "5f019be3",
   "metadata": {},
   "outputs": [
    {
     "data": {
      "text/plain": [
       "True"
      ]
     },
     "execution_count": 34,
     "metadata": {},
     "output_type": "execute_result"
    }
   ],
   "source": [
    "msg = 'Lets learn python '\n",
    "msg.endswith(' ')"
   ]
  },
  {
   "cell_type": "code",
   "execution_count": 35,
   "id": "f564fc78",
   "metadata": {},
   "outputs": [
    {
     "data": {
      "text/plain": [
       "True"
      ]
     },
     "execution_count": 35,
     "metadata": {},
     "output_type": "execute_result"
    }
   ],
   "source": [
    "'Lets learn python '.endswith(' ')"
   ]
  },
  {
   "cell_type": "code",
   "execution_count": 36,
   "id": "20ad8dda",
   "metadata": {},
   "outputs": [
    {
     "data": {
      "text/plain": [
       "['rahul']"
      ]
     },
     "execution_count": 36,
     "metadata": {},
     "output_type": "execute_result"
    }
   ],
   "source": [
    "'rahul'.split()"
   ]
  },
  {
   "cell_type": "code",
   "execution_count": 38,
   "id": "13561cdb",
   "metadata": {},
   "outputs": [
    {
     "data": {
      "text/plain": [
       "['ra', 'hu', 'l']"
      ]
     },
     "execution_count": 38,
     "metadata": {},
     "output_type": "execute_result"
    }
   ],
   "source": [
    "'ra hu l'.split()"
   ]
  },
  {
   "cell_type": "code",
   "execution_count": 40,
   "id": "bf98b27c",
   "metadata": {},
   "outputs": [
    {
     "name": "stdout",
     "output_type": "stream",
     "text": [
      "Help on method_descriptor:\n",
      "\n",
      "index(...)\n",
      "    S.index(sub[, start[, end]]) -> int\n",
      "    \n",
      "    Return the lowest index in S where substring sub is found,\n",
      "    such that sub is contained within S[start:end].  Optional\n",
      "    arguments start and end are interpreted as in slice notation.\n",
      "    \n",
      "    Raises ValueError when the substring is not found.\n",
      "\n"
     ]
    }
   ],
   "source": [
    "help(str.index) # Assignment"
   ]
  },
  {
   "cell_type": "code",
   "execution_count": 41,
   "id": "558ba51b",
   "metadata": {},
   "outputs": [
    {
     "data": {
      "text/plain": [
       "<method 'format' of 'str' objects>"
      ]
     },
     "execution_count": 41,
     "metadata": {},
     "output_type": "execute_result"
    }
   ],
   "source": [
    "str.format"
   ]
  },
  {
   "cell_type": "code",
   "execution_count": 42,
   "id": "19ac20c3",
   "metadata": {},
   "outputs": [
    {
     "name": "stdout",
     "output_type": "stream",
     "text": [
      "Help on method_descriptor:\n",
      "\n",
      "format(...)\n",
      "    S.format(*args, **kwargs) -> str\n",
      "    \n",
      "    Return a formatted version of S, using substitutions from args and kwargs.\n",
      "    The substitutions are identified by braces ('{' and '}').\n",
      "\n"
     ]
    }
   ],
   "source": [
    "help(str.format)"
   ]
  },
  {
   "cell_type": "code",
   "execution_count": 44,
   "id": "684bff06",
   "metadata": {},
   "outputs": [],
   "source": [
    "name = 'Mohit'\n",
    "age = 23"
   ]
  },
  {
   "cell_type": "code",
   "execution_count": 45,
   "id": "3a3c34a5",
   "metadata": {},
   "outputs": [
    {
     "data": {
      "text/plain": [
       "'Hello Mohit your age is 23 '"
      ]
     },
     "execution_count": 45,
     "metadata": {},
     "output_type": "execute_result"
    }
   ],
   "source": [
    "'Hello {} your age is {} '.format(name,age)"
   ]
  },
  {
   "cell_type": "code",
   "execution_count": 46,
   "id": "de916855",
   "metadata": {},
   "outputs": [
    {
     "name": "stdout",
     "output_type": "stream",
     "text": [
      "Hello Mohit , age = 23 \n"
     ]
    }
   ],
   "source": [
    "print('Hello {} , age = {} '.format(name,age))"
   ]
  },
  {
   "cell_type": "markdown",
   "id": "fddbd8bc",
   "metadata": {},
   "source": [
    "# f-strings "
   ]
  },
  {
   "cell_type": "code",
   "execution_count": 47,
   "id": "eb2b5b7b",
   "metadata": {},
   "outputs": [],
   "source": [
    "name = 'Abhishek'\n",
    "age = 30\n"
   ]
  },
  {
   "cell_type": "code",
   "execution_count": 49,
   "id": "f9da901d",
   "metadata": {},
   "outputs": [
    {
     "name": "stdout",
     "output_type": "stream",
     "text": [
      " Hello Abhishek your age = 30\n"
     ]
    }
   ],
   "source": [
    "print(f' Hello {name} your age = {age}')"
   ]
  },
  {
   "cell_type": "code",
   "execution_count": 50,
   "id": "74a9b117",
   "metadata": {},
   "outputs": [
    {
     "data": {
      "text/plain": [
       "<method 'rjust' of 'str' objects>"
      ]
     },
     "execution_count": 50,
     "metadata": {},
     "output_type": "execute_result"
    }
   ],
   "source": [
    "str.rjust"
   ]
  },
  {
   "cell_type": "code",
   "execution_count": 51,
   "id": "76a90acc",
   "metadata": {},
   "outputs": [
    {
     "name": "stdout",
     "output_type": "stream",
     "text": [
      "Help on method_descriptor:\n",
      "\n",
      "rjust(self, width, fillchar=' ', /)\n",
      "    Return a right-justified string of length width.\n",
      "    \n",
      "    Padding is done using the specified fill character (default is a space).\n",
      "\n"
     ]
    }
   ],
   "source": [
    "help(str.rjust)"
   ]
  },
  {
   "cell_type": "code",
   "execution_count": 56,
   "id": "2e6512fd",
   "metadata": {},
   "outputs": [
    {
     "name": "stdout",
     "output_type": "stream",
     "text": [
      "Hello\n",
      "                      Abhishek *\n"
     ]
    }
   ],
   "source": [
    "name = 'Abhishek'\n",
    "print('Hello')\n",
    "print(name.rjust(30),'*')"
   ]
  },
  {
   "cell_type": "code",
   "execution_count": 57,
   "id": "b0a96819",
   "metadata": {},
   "outputs": [
    {
     "data": {
      "text/plain": [
       "'gniyduts si tihoM'"
      ]
     },
     "execution_count": 57,
     "metadata": {},
     "output_type": "execute_result"
    }
   ],
   "source": [
    "name = 'Mohit is studying'\n",
    "name[::-1]"
   ]
  },
  {
   "cell_type": "code",
   "execution_count": 58,
   "id": "07e652cc",
   "metadata": {},
   "outputs": [
    {
     "data": {
      "text/plain": [
       "2380935237936"
      ]
     },
     "execution_count": 58,
     "metadata": {},
     "output_type": "execute_result"
    }
   ],
   "source": [
    "fname = 'dhruv'\n",
    "id(fname)"
   ]
  },
  {
   "cell_type": "code",
   "execution_count": 59,
   "id": "eda48eab",
   "metadata": {},
   "outputs": [],
   "source": [
    "fname = fname + 'chandak'\n"
   ]
  },
  {
   "cell_type": "code",
   "execution_count": 61,
   "id": "c3075191",
   "metadata": {},
   "outputs": [
    {
     "data": {
      "text/plain": [
       "('dhruvchandak', 2380935211568)"
      ]
     },
     "execution_count": 61,
     "metadata": {},
     "output_type": "execute_result"
    }
   ],
   "source": [
    "fname,id(fname)"
   ]
  },
  {
   "cell_type": "code",
   "execution_count": null,
   "id": "5652cf3e",
   "metadata": {},
   "outputs": [],
   "source": []
  }
 ],
 "metadata": {
  "kernelspec": {
   "display_name": "Python 3",
   "language": "python",
   "name": "python3"
  },
  "language_info": {
   "codemirror_mode": {
    "name": "ipython",
    "version": 3
   },
   "file_extension": ".py",
   "mimetype": "text/x-python",
   "name": "python",
   "nbconvert_exporter": "python",
   "pygments_lexer": "ipython3",
   "version": "3.9.6"
  }
 },
 "nbformat": 4,
 "nbformat_minor": 5
}
