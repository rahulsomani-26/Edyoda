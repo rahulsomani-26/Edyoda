{
 "cells": [
  {
   "cell_type": "code",
   "execution_count": 7,
   "id": "fe1f4812",
   "metadata": {},
   "outputs": [],
   "source": [
    "def adder(a,b):\n",
    "    return a+b\n"
   ]
  },
  {
   "cell_type": "code",
   "execution_count": 8,
   "id": "cba91341",
   "metadata": {},
   "outputs": [
    {
     "data": {
      "text/plain": [
       "<function __main__.adder(a, b)>"
      ]
     },
     "execution_count": 8,
     "metadata": {},
     "output_type": "execute_result"
    }
   ],
   "source": [
    "adder"
   ]
  },
  {
   "cell_type": "code",
   "execution_count": 9,
   "id": "1e4d56c9",
   "metadata": {},
   "outputs": [
    {
     "data": {
      "text/plain": [
       "30"
      ]
     },
     "execution_count": 9,
     "metadata": {},
     "output_type": "execute_result"
    }
   ],
   "source": [
    "adder(10,20)"
   ]
  },
  {
   "cell_type": "code",
   "execution_count": 10,
   "id": "c83daf50",
   "metadata": {},
   "outputs": [
    {
     "data": {
      "text/plain": [
       "2314536517840"
      ]
     },
     "execution_count": 10,
     "metadata": {},
     "output_type": "execute_result"
    }
   ],
   "source": [
    "id(adder)"
   ]
  },
  {
   "cell_type": "code",
   "execution_count": 11,
   "id": "8025c2a2",
   "metadata": {},
   "outputs": [],
   "source": [
    "def multiplier(a,b):\n",
    "    \"\"\"returns the multiplication of a and b\"\"\"\n",
    "    return a*b"
   ]
  },
  {
   "cell_type": "code",
   "execution_count": 12,
   "id": "e844644b",
   "metadata": {},
   "outputs": [
    {
     "data": {
      "text/plain": [
       "<function __main__.multiplier(a, b)>"
      ]
     },
     "execution_count": 12,
     "metadata": {},
     "output_type": "execute_result"
    }
   ],
   "source": [
    "multiplier"
   ]
  },
  {
   "cell_type": "code",
   "execution_count": 13,
   "id": "70f2d664",
   "metadata": {},
   "outputs": [
    {
     "name": "stdout",
     "output_type": "stream",
     "text": [
      "Help on function multiplier in module __main__:\n",
      "\n",
      "multiplier(a, b)\n",
      "    returns the multiplication of a and b\n",
      "\n"
     ]
    }
   ],
   "source": [
    "help(multiplier)"
   ]
  },
  {
   "cell_type": "code",
   "execution_count": 14,
   "id": "a9ac51e9",
   "metadata": {},
   "outputs": [],
   "source": [
    "def divider(a,b):\n",
    "    \n",
    "    \"\"\"\n",
    "    returns the division of a and b \n",
    "    raises ZeroDivisionError if b=0\n",
    "    \"\"\"\n",
    "    return a/b"
   ]
  },
  {
   "cell_type": "code",
   "execution_count": 15,
   "id": "fb608e9a",
   "metadata": {},
   "outputs": [
    {
     "data": {
      "text/plain": [
       "<function __main__.divider(a, b)>"
      ]
     },
     "execution_count": 15,
     "metadata": {},
     "output_type": "execute_result"
    }
   ],
   "source": [
    "divider"
   ]
  },
  {
   "cell_type": "code",
   "execution_count": 16,
   "id": "5796671c",
   "metadata": {},
   "outputs": [
    {
     "name": "stdout",
     "output_type": "stream",
     "text": [
      "Help on function divider in module __main__:\n",
      "\n",
      "divider(a, b)\n",
      "    returns the division of a and b \n",
      "    raises ZeroDivisionError if b=0\n",
      "\n"
     ]
    }
   ],
   "source": [
    "help(divider)"
   ]
  },
  {
   "cell_type": "code",
   "execution_count": 17,
   "id": "ab0387d9",
   "metadata": {},
   "outputs": [],
   "source": [
    "def divider(a,b):\n",
    "    print('Hello divider')\n",
    "    \"\"\"\n",
    "    returns the division of a and b \n",
    "    raises ZeroDivisionError if b=0\n",
    "    \"\"\"\n",
    "    return a/b"
   ]
  },
  {
   "cell_type": "code",
   "execution_count": 18,
   "id": "1f74bfd1",
   "metadata": {},
   "outputs": [
    {
     "name": "stdout",
     "output_type": "stream",
     "text": [
      "Help on function divider in module __main__:\n",
      "\n",
      "divider(a, b)\n",
      "\n"
     ]
    }
   ],
   "source": [
    "help(divider)"
   ]
  },
  {
   "cell_type": "code",
   "execution_count": 19,
   "id": "6d8b1733",
   "metadata": {},
   "outputs": [],
   "source": [
    "def my_func(a,b):\n",
    "    \"\"\"\n",
    "    Returns a and b \n",
    "    \"\"\"\n",
    "    return a,b"
   ]
  },
  {
   "cell_type": "code",
   "execution_count": 20,
   "id": "e9f2f3da",
   "metadata": {},
   "outputs": [
    {
     "data": {
      "text/plain": [
       "(2, 3)"
      ]
     },
     "execution_count": 20,
     "metadata": {},
     "output_type": "execute_result"
    }
   ],
   "source": [
    "my_func(2,3)"
   ]
  },
  {
   "cell_type": "code",
   "execution_count": 21,
   "id": "6e8ebd48",
   "metadata": {},
   "outputs": [
    {
     "name": "stdout",
     "output_type": "stream",
     "text": [
      "Help on function my_func in module __main__:\n",
      "\n",
      "my_func(a, b)\n",
      "    Returns a and b\n",
      "\n"
     ]
    }
   ],
   "source": [
    "help(my_func)"
   ]
  },
  {
   "cell_type": "code",
   "execution_count": 22,
   "id": "8d4c2a9c",
   "metadata": {},
   "outputs": [
    {
     "data": {
      "text/plain": [
       "['__annotations__',\n",
       " '__call__',\n",
       " '__class__',\n",
       " '__closure__',\n",
       " '__code__',\n",
       " '__defaults__',\n",
       " '__delattr__',\n",
       " '__dict__',\n",
       " '__dir__',\n",
       " '__doc__',\n",
       " '__eq__',\n",
       " '__format__',\n",
       " '__ge__',\n",
       " '__get__',\n",
       " '__getattribute__',\n",
       " '__globals__',\n",
       " '__gt__',\n",
       " '__hash__',\n",
       " '__init__',\n",
       " '__init_subclass__',\n",
       " '__kwdefaults__',\n",
       " '__le__',\n",
       " '__lt__',\n",
       " '__module__',\n",
       " '__name__',\n",
       " '__ne__',\n",
       " '__new__',\n",
       " '__qualname__',\n",
       " '__reduce__',\n",
       " '__reduce_ex__',\n",
       " '__repr__',\n",
       " '__setattr__',\n",
       " '__sizeof__',\n",
       " '__str__',\n",
       " '__subclasshook__']"
      ]
     },
     "execution_count": 22,
     "metadata": {},
     "output_type": "execute_result"
    }
   ],
   "source": [
    "list(dir(my_func))"
   ]
  },
  {
   "cell_type": "code",
   "execution_count": 23,
   "id": "a29fee59",
   "metadata": {},
   "outputs": [
    {
     "data": {
      "text/plain": [
       "'\\n    Returns a and b \\n    '"
      ]
     },
     "execution_count": 23,
     "metadata": {},
     "output_type": "execute_result"
    }
   ],
   "source": [
    "my_func.__doc__"
   ]
  },
  {
   "cell_type": "code",
   "execution_count": 24,
   "id": "9d9d4a29",
   "metadata": {},
   "outputs": [
    {
     "data": {
      "text/plain": [
       "{}"
      ]
     },
     "execution_count": 24,
     "metadata": {},
     "output_type": "execute_result"
    }
   ],
   "source": [
    "my_func.__dict__"
   ]
  },
  {
   "cell_type": "code",
   "execution_count": 25,
   "id": "7554246b",
   "metadata": {},
   "outputs": [
    {
     "data": {
      "text/plain": [
       "function"
      ]
     },
     "execution_count": 25,
     "metadata": {},
     "output_type": "execute_result"
    }
   ],
   "source": [
    "my_func.__class__"
   ]
  },
  {
   "cell_type": "code",
   "execution_count": 26,
   "id": "5e68eb94",
   "metadata": {},
   "outputs": [
    {
     "data": {
      "text/plain": [
       "('a', 'b')"
      ]
     },
     "execution_count": 26,
     "metadata": {},
     "output_type": "execute_result"
    }
   ],
   "source": [
    "my_func.__code__.co_varnames"
   ]
  },
  {
   "cell_type": "code",
   "execution_count": 27,
   "id": "ecb68a76",
   "metadata": {},
   "outputs": [],
   "source": [
    "def print(a,b):\n",
    "    return a+b"
   ]
  },
  {
   "cell_type": "code",
   "execution_count": 28,
   "id": "f7abe223",
   "metadata": {},
   "outputs": [
    {
     "data": {
      "text/plain": [
       "66"
      ]
     },
     "execution_count": 28,
     "metadata": {},
     "output_type": "execute_result"
    }
   ],
   "source": [
    "print(33,33)"
   ]
  },
  {
   "cell_type": "code",
   "execution_count": 29,
   "id": "691061fa",
   "metadata": {},
   "outputs": [
    {
     "ename": "TypeError",
     "evalue": "print() missing 1 required positional argument: 'b'",
     "output_type": "error",
     "traceback": [
      "\u001b[1;31m---------------------------------------------------------------------------\u001b[0m",
      "\u001b[1;31mTypeError\u001b[0m                                 Traceback (most recent call last)",
      "\u001b[1;32m<ipython-input-29-db5e294b0b31>\u001b[0m in \u001b[0;36m<module>\u001b[1;34m\u001b[0m\n\u001b[1;32m----> 1\u001b[1;33m \u001b[0mprint\u001b[0m\u001b[1;33m(\u001b[0m\u001b[1;34m\"Will it be printed\"\u001b[0m\u001b[1;33m)\u001b[0m\u001b[1;33m\u001b[0m\u001b[1;33m\u001b[0m\u001b[0m\n\u001b[0m",
      "\u001b[1;31mTypeError\u001b[0m: print() missing 1 required positional argument: 'b'"
     ]
    }
   ],
   "source": [
    "print(\"Will it be printed\")"
   ]
  },
  {
   "cell_type": "code",
   "execution_count": 30,
   "id": "ae531108",
   "metadata": {},
   "outputs": [],
   "source": [
    "del print"
   ]
  },
  {
   "cell_type": "code",
   "execution_count": 31,
   "id": "e8b15cc2",
   "metadata": {},
   "outputs": [
    {
     "name": "stdout",
     "output_type": "stream",
     "text": [
      "will it print\n"
     ]
    }
   ],
   "source": [
    "print(\"will it print\")"
   ]
  },
  {
   "cell_type": "code",
   "execution_count": 32,
   "id": "9384b3ef",
   "metadata": {},
   "outputs": [
    {
     "data": {
      "text/plain": [
       "<function sum(iterable, /, start=0)>"
      ]
     },
     "execution_count": 32,
     "metadata": {},
     "output_type": "execute_result"
    }
   ],
   "source": [
    "sum"
   ]
  },
  {
   "cell_type": "code",
   "execution_count": 33,
   "id": "b0fc1359",
   "metadata": {},
   "outputs": [
    {
     "data": {
      "text/plain": [
       "10"
      ]
     },
     "execution_count": 33,
     "metadata": {},
     "output_type": "execute_result"
    }
   ],
   "source": [
    "sum([1,2,3,4])"
   ]
  },
  {
   "cell_type": "code",
   "execution_count": 38,
   "id": "421d7e58",
   "metadata": {},
   "outputs": [],
   "source": [
    "# Function annotations \n",
    "\n",
    "def my_func(a:\"integer\",b:\"integer\")->'returns addition of a and b':\n",
    "    return a+b \n"
   ]
  },
  {
   "cell_type": "code",
   "execution_count": 39,
   "id": "7c056398",
   "metadata": {},
   "outputs": [
    {
     "data": {
      "text/plain": [
       "2"
      ]
     },
     "execution_count": 39,
     "metadata": {},
     "output_type": "execute_result"
    }
   ],
   "source": [
    "my_func(1,1)"
   ]
  },
  {
   "cell_type": "code",
   "execution_count": 40,
   "id": "6bebe6f2",
   "metadata": {},
   "outputs": [
    {
     "data": {
      "text/plain": [
       "<function __main__.my_func(a: 'integer', b: 'integer') -> 'returns addition of a and b'>"
      ]
     },
     "execution_count": 40,
     "metadata": {},
     "output_type": "execute_result"
    }
   ],
   "source": [
    "my_func"
   ]
  },
  {
   "cell_type": "code",
   "execution_count": 41,
   "id": "615e0724",
   "metadata": {},
   "outputs": [
    {
     "name": "stdout",
     "output_type": "stream",
     "text": [
      "Help on function my_func in module __main__:\n",
      "\n",
      "my_func(a: 'integer', b: 'integer') -> 'returns addition of a and b'\n",
      "\n"
     ]
    }
   ],
   "source": [
    "help(my_func)"
   ]
  },
  {
   "cell_type": "code",
   "execution_count": 42,
   "id": "7ee7f903",
   "metadata": {},
   "outputs": [],
   "source": [
    "\n",
    "def my_func(a:\"integer\",b:\"integer\")->'returns addition of a and b':\n",
    "    \"\"\"\n",
    "    This is just for documentational purpose. \n",
    "    No hard feelings\n",
    "    \"\"\"\n",
    "    return a+b \n"
   ]
  },
  {
   "cell_type": "code",
   "execution_count": 43,
   "id": "54e684c9",
   "metadata": {},
   "outputs": [
    {
     "data": {
      "text/plain": [
       "<function __main__.my_func(a: 'integer', b: 'integer') -> 'returns addition of a and b'>"
      ]
     },
     "execution_count": 43,
     "metadata": {},
     "output_type": "execute_result"
    }
   ],
   "source": [
    "my_func"
   ]
  },
  {
   "cell_type": "code",
   "execution_count": 44,
   "id": "9a2753fa",
   "metadata": {},
   "outputs": [
    {
     "name": "stdout",
     "output_type": "stream",
     "text": [
      "Help on function my_func in module __main__:\n",
      "\n",
      "my_func(a: 'integer', b: 'integer') -> 'returns addition of a and b'\n",
      "    This is just for documentational purpose. \n",
      "    No hard feelings\n",
      "\n"
     ]
    }
   ],
   "source": [
    "help(my_func)"
   ]
  },
  {
   "cell_type": "code",
   "execution_count": 45,
   "id": "a8539792",
   "metadata": {},
   "outputs": [
    {
     "data": {
      "text/plain": [
       "<function dir>"
      ]
     },
     "execution_count": 45,
     "metadata": {},
     "output_type": "execute_result"
    }
   ],
   "source": [
    "dir"
   ]
  },
  {
   "cell_type": "code",
   "execution_count": 46,
   "id": "adb83b44",
   "metadata": {},
   "outputs": [
    {
     "name": "stdout",
     "output_type": "stream",
     "text": [
      "Help on built-in function dir in module builtins:\n",
      "\n",
      "dir(...)\n",
      "    dir([object]) -> list of strings\n",
      "    \n",
      "    If called without an argument, return the names in the current scope.\n",
      "    Else, return an alphabetized list of names comprising (some of) the attributes\n",
      "    of the given object, and of attributes reachable from it.\n",
      "    If the object supplies a method named __dir__, it will be used; otherwise\n",
      "    the default dir() logic is used and returns:\n",
      "      for a module object: the module's attributes.\n",
      "      for a class object:  its attributes, and recursively the attributes\n",
      "        of its bases.\n",
      "      for any other object: its attributes, its class's attributes, and\n",
      "        recursively the attributes of its class's base classes.\n",
      "\n"
     ]
    }
   ],
   "source": [
    "help(dir)"
   ]
  },
  {
   "cell_type": "code",
   "execution_count": 47,
   "id": "81edb367",
   "metadata": {},
   "outputs": [
    {
     "data": {
      "text/plain": [
       "['__annotations__',\n",
       " '__call__',\n",
       " '__class__',\n",
       " '__closure__',\n",
       " '__code__',\n",
       " '__defaults__',\n",
       " '__delattr__',\n",
       " '__dict__',\n",
       " '__dir__',\n",
       " '__doc__',\n",
       " '__eq__',\n",
       " '__format__',\n",
       " '__ge__',\n",
       " '__get__',\n",
       " '__getattribute__',\n",
       " '__globals__',\n",
       " '__gt__',\n",
       " '__hash__',\n",
       " '__init__',\n",
       " '__init_subclass__',\n",
       " '__kwdefaults__',\n",
       " '__le__',\n",
       " '__lt__',\n",
       " '__module__',\n",
       " '__name__',\n",
       " '__ne__',\n",
       " '__new__',\n",
       " '__qualname__',\n",
       " '__reduce__',\n",
       " '__reduce_ex__',\n",
       " '__repr__',\n",
       " '__setattr__',\n",
       " '__sizeof__',\n",
       " '__str__',\n",
       " '__subclasshook__']"
      ]
     },
     "execution_count": 47,
     "metadata": {},
     "output_type": "execute_result"
    }
   ],
   "source": [
    "dir(my_func)"
   ]
  },
  {
   "cell_type": "code",
   "execution_count": 48,
   "id": "1bc51086",
   "metadata": {},
   "outputs": [
    {
     "data": {
      "text/plain": [
       "['__repr__',\n",
       " '__call__',\n",
       " '__get__',\n",
       " '__new__',\n",
       " '__closure__',\n",
       " '__doc__',\n",
       " '__globals__',\n",
       " '__module__',\n",
       " '__code__',\n",
       " '__defaults__',\n",
       " '__kwdefaults__',\n",
       " '__annotations__',\n",
       " '__dict__',\n",
       " '__name__',\n",
       " '__qualname__',\n",
       " '__hash__',\n",
       " '__str__',\n",
       " '__getattribute__',\n",
       " '__setattr__',\n",
       " '__delattr__',\n",
       " '__lt__',\n",
       " '__le__',\n",
       " '__eq__',\n",
       " '__ne__',\n",
       " '__gt__',\n",
       " '__ge__',\n",
       " '__init__',\n",
       " '__reduce_ex__',\n",
       " '__reduce__',\n",
       " '__subclasshook__',\n",
       " '__init_subclass__',\n",
       " '__format__',\n",
       " '__sizeof__',\n",
       " '__dir__',\n",
       " '__class__']"
      ]
     },
     "execution_count": 48,
     "metadata": {},
     "output_type": "execute_result"
    }
   ],
   "source": [
    "my_func.__dir__()"
   ]
  },
  {
   "cell_type": "code",
   "execution_count": 49,
   "id": "aa3ef5b3",
   "metadata": {},
   "outputs": [
    {
     "name": "stdout",
     "output_type": "stream",
     "text": [
      "Help on function my_func in module __main__:\n",
      "\n",
      "my_func(a: 'integer', b: 'integer') -> 'returns addition of a and b'\n",
      "    This is just for documentational purpose. \n",
      "    No hard feelings\n",
      "\n"
     ]
    }
   ],
   "source": [
    "help(my_func)"
   ]
  },
  {
   "cell_type": "code",
   "execution_count": 50,
   "id": "9b786312",
   "metadata": {},
   "outputs": [
    {
     "data": {
      "text/plain": [
       "'\\n    This is just for documentational purpose. \\n    No hard feelings\\n    '"
      ]
     },
     "execution_count": 50,
     "metadata": {},
     "output_type": "execute_result"
    }
   ],
   "source": [
    "my_func.__doc__"
   ]
  },
  {
   "cell_type": "code",
   "execution_count": 52,
   "id": "7cd5a063",
   "metadata": {},
   "outputs": [
    {
     "data": {
      "text/plain": [
       "{'a': 'integer', 'b': 'integer', 'return': 'returns addition of a and b'}"
      ]
     },
     "execution_count": 52,
     "metadata": {},
     "output_type": "execute_result"
    }
   ],
   "source": [
    "\n",
    "def my_func(a:\"integer\",b:\"integer\")->'returns addition of a and b':\n",
    "    \"\"\"\n",
    "    This is just for documentational purpose. \n",
    "    No hard feelings\n",
    "    \"\"\"\n",
    "    return a+b \n"
   ]
  },
  {
   "cell_type": "code",
   "execution_count": 53,
   "id": "1fdb9045",
   "metadata": {},
   "outputs": [
    {
     "data": {
      "text/plain": [
       "{'a': 'integer', 'b': 'integer', 'return': 'returns addition of a and b'}"
      ]
     },
     "execution_count": 53,
     "metadata": {},
     "output_type": "execute_result"
    }
   ],
   "source": [
    "my_func.__annotations__"
   ]
  },
  {
   "cell_type": "code",
   "execution_count": 54,
   "id": "b8f38d9a",
   "metadata": {},
   "outputs": [
    {
     "data": {
      "text/plain": [
       "'integer'"
      ]
     },
     "execution_count": 54,
     "metadata": {},
     "output_type": "execute_result"
    }
   ],
   "source": [
    "my_func.__annotations__['a']"
   ]
  },
  {
   "cell_type": "markdown",
   "id": "63ff3327",
   "metadata": {},
   "source": [
    "``1   Like \"my_func\" you created shows directory, so each method in directory works\n",
    "for new function we created?                    \n",
    " 2  Each newly created function has it's own directory wii it be same for all\n",
    "    or it will be different according to each function                                                                                        \n",
    "  just answer in  yes or no  sir``\n"
   ]
  },
  {
   "cell_type": "code",
   "execution_count": 56,
   "id": "a6438389",
   "metadata": {},
   "outputs": [],
   "source": [
    "def somewhere():\n",
    "    print(\"Where\")\n",
    "\n",
    "def nowhere():\n",
    "    \"\"\"\n",
    "     Find your self\n",
    "    \"\"\"\n",
    "    print(\"Within\")"
   ]
  },
  {
   "cell_type": "code",
   "execution_count": 58,
   "id": "1f6f9147",
   "metadata": {},
   "outputs": [
    {
     "data": {
      "text/plain": [
       "True"
      ]
     },
     "execution_count": 58,
     "metadata": {},
     "output_type": "execute_result"
    }
   ],
   "source": [
    "dir(somewhere)==dir(nowhere)"
   ]
  },
  {
   "cell_type": "code",
   "execution_count": 59,
   "id": "1248c227",
   "metadata": {},
   "outputs": [],
   "source": [
    "somewhere.__doc__"
   ]
  },
  {
   "cell_type": "code",
   "execution_count": 60,
   "id": "4b1f9412",
   "metadata": {},
   "outputs": [
    {
     "data": {
      "text/plain": [
       "'\\n     Find your self\\n    '"
      ]
     },
     "execution_count": 60,
     "metadata": {},
     "output_type": "execute_result"
    }
   ],
   "source": [
    "nowhere.__doc__"
   ]
  },
  {
   "cell_type": "code",
   "execution_count": null,
   "id": "8a7ae875",
   "metadata": {},
   "outputs": [],
   "source": []
  }
 ],
 "metadata": {
  "kernelspec": {
   "display_name": "Python 3",
   "language": "python",
   "name": "python3"
  },
  "language_info": {
   "codemirror_mode": {
    "name": "ipython",
    "version": 3
   },
   "file_extension": ".py",
   "mimetype": "text/x-python",
   "name": "python",
   "nbconvert_exporter": "python",
   "pygments_lexer": "ipython3",
   "version": "3.9.6"
  }
 },
 "nbformat": 4,
 "nbformat_minor": 5
}
