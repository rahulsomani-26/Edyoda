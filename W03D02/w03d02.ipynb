{
 "cells": [
  {
   "cell_type": "markdown",
   "id": "eacd7da1",
   "metadata": {},
   "source": [
    "`` What does a raw string signifies ``"
   ]
  },
  {
   "cell_type": "code",
   "execution_count": 1,
   "id": "3cf037d4",
   "metadata": {},
   "outputs": [],
   "source": [
    "path = 'c:\\name\\tomorrow'"
   ]
  },
  {
   "cell_type": "code",
   "execution_count": 2,
   "id": "dc84472c",
   "metadata": {},
   "outputs": [
    {
     "data": {
      "text/plain": [
       "'c:\\name\\tomorrow'"
      ]
     },
     "execution_count": 2,
     "metadata": {},
     "output_type": "execute_result"
    }
   ],
   "source": [
    "path"
   ]
  },
  {
   "cell_type": "code",
   "execution_count": 3,
   "id": "1c0d6ad6",
   "metadata": {},
   "outputs": [
    {
     "name": "stdout",
     "output_type": "stream",
     "text": [
      "c:\n",
      "ame\tomorrow\n"
     ]
    }
   ],
   "source": [
    "print(path)"
   ]
  },
  {
   "cell_type": "code",
   "execution_count": 4,
   "id": "840d2c39",
   "metadata": {},
   "outputs": [
    {
     "name": "stdout",
     "output_type": "stream",
     "text": [
      "c:\\name\\tomorrow\n"
     ]
    }
   ],
   "source": [
    "path = 'c:\\\\name\\\\tomorrow'\n",
    "print(path)"
   ]
  },
  {
   "cell_type": "code",
   "execution_count": 5,
   "id": "c71c53bc",
   "metadata": {},
   "outputs": [],
   "source": [
    "path = r'c:\\name\\tomorrow'"
   ]
  },
  {
   "cell_type": "code",
   "execution_count": 6,
   "id": "48ad2a02",
   "metadata": {},
   "outputs": [
    {
     "name": "stdout",
     "output_type": "stream",
     "text": [
      "c:\\name\\tomorrow\n"
     ]
    }
   ],
   "source": [
    "print(path)"
   ]
  },
  {
   "cell_type": "code",
   "execution_count": 7,
   "id": "2e2f8d0f",
   "metadata": {},
   "outputs": [
    {
     "name": "stdout",
     "output_type": "stream",
     "text": [
      "c:\n",
      "ame\r",
      "ahul\n"
     ]
    }
   ],
   "source": [
    "path='c:\\name\\rahul' \n",
    "print(path)"
   ]
  },
  {
   "cell_type": "code",
   "execution_count": 8,
   "id": "d6c78a99",
   "metadata": {},
   "outputs": [
    {
     "data": {
      "text/plain": [
       "'c:\\name\\rahul'"
      ]
     },
     "execution_count": 8,
     "metadata": {},
     "output_type": "execute_result"
    }
   ],
   "source": [
    "path"
   ]
  },
  {
   "cell_type": "code",
   "execution_count": 9,
   "id": "9058bd52",
   "metadata": {},
   "outputs": [
    {
     "name": "stdout",
     "output_type": "stream",
     "text": [
      "c:\n",
      "ame\r",
      "ahul\n"
     ]
    }
   ],
   "source": [
    "print(path)"
   ]
  },
  {
   "cell_type": "code",
   "execution_count": 10,
   "id": "dc6a3323",
   "metadata": {},
   "outputs": [
    {
     "name": "stdout",
     "output_type": "stream",
     "text": [
      "Hello\n",
      "\n",
      "\n",
      "Bye\n"
     ]
    }
   ],
   "source": [
    "print('Hello')\n",
    "print(\"\\n\")\n",
    "print(\"Bye\")"
   ]
  },
  {
   "cell_type": "code",
   "execution_count": 13,
   "id": "4a0bd945",
   "metadata": {},
   "outputs": [
    {
     "name": "stdout",
     "output_type": "stream",
     "text": [
      "2658470806896\n",
      "2658470809328\n"
     ]
    }
   ],
   "source": [
    "s = 'Kanad'\n",
    "print(id(s))\n",
    "s=s + 'XYZ'\n",
    "print(id(s))\n"
   ]
  },
  {
   "cell_type": "code",
   "execution_count": 12,
   "id": "e61e26d2",
   "metadata": {},
   "outputs": [
    {
     "data": {
      "text/plain": [
       "'KanadXYZ'"
      ]
     },
     "execution_count": 12,
     "metadata": {},
     "output_type": "execute_result"
    }
   ],
   "source": [
    "s"
   ]
  },
  {
   "cell_type": "code",
   "execution_count": 15,
   "id": "1d5a0d5b",
   "metadata": {},
   "outputs": [
    {
     "name": "stdout",
     "output_type": "stream",
     "text": [
      " I am referencing 2658470868096\n",
      " I am referencing 2658470868928\n",
      "*******************************************End of program*******************************************\n"
     ]
    }
   ],
   "source": [
    "l = [100,200]\n",
    "print(' I am referencing {}'.format(id(l)))\n",
    "l = l + [300]\n",
    "print(' I am referencing {}'.format(id(l)))\n",
    "print('End of program'.center(100,'*'))"
   ]
  },
  {
   "cell_type": "code",
   "execution_count": 16,
   "id": "5bd361da",
   "metadata": {},
   "outputs": [
    {
     "data": {
      "text/plain": [
       "[100, 200, 300]"
      ]
     },
     "execution_count": 16,
     "metadata": {},
     "output_type": "execute_result"
    }
   ],
   "source": [
    "l "
   ]
  },
  {
   "cell_type": "code",
   "execution_count": 17,
   "id": "629998e7",
   "metadata": {},
   "outputs": [
    {
     "data": {
      "text/plain": [
       "([100, 200, 300], list, 3, 2658470868928)"
      ]
     },
     "execution_count": 17,
     "metadata": {},
     "output_type": "execute_result"
    }
   ],
   "source": [
    "l, type(l),len(l),id(l)"
   ]
  },
  {
   "cell_type": "code",
   "execution_count": 18,
   "id": "f29727d1",
   "metadata": {},
   "outputs": [],
   "source": [
    "l.append(400)"
   ]
  },
  {
   "cell_type": "code",
   "execution_count": 19,
   "id": "7a6e5c2d",
   "metadata": {},
   "outputs": [
    {
     "data": {
      "text/plain": [
       "([100, 200, 300, 400], list, 4, 2658470868928)"
      ]
     },
     "execution_count": 19,
     "metadata": {},
     "output_type": "execute_result"
    }
   ],
   "source": [
    "l, type(l),len(l),id(l)"
   ]
  },
  {
   "cell_type": "code",
   "execution_count": 20,
   "id": "c35f7ef0",
   "metadata": {},
   "outputs": [
    {
     "name": "stdout",
     "output_type": "stream",
     "text": [
      "['__add__', '__class__', '__contains__', '__delattr__', '__dir__', '__doc__', '__eq__', '__format__', '__ge__', '__getattribute__', '__getitem__', '__getnewargs__', '__gt__', '__hash__', '__init__', '__init_subclass__', '__iter__', '__le__', '__len__', '__lt__', '__mod__', '__mul__', '__ne__', '__new__', '__reduce__', '__reduce_ex__', '__repr__', '__rmod__', '__rmul__', '__setattr__', '__sizeof__', '__str__', '__subclasshook__', 'capitalize', 'casefold', 'center', 'count', 'encode', 'endswith', 'expandtabs', 'find', 'format', 'format_map', 'index', 'isalnum', 'isalpha', 'isascii', 'isdecimal', 'isdigit', 'isidentifier', 'islower', 'isnumeric', 'isprintable', 'isspace', 'istitle', 'isupper', 'join', 'ljust', 'lower', 'lstrip', 'maketrans', 'partition', 'removeprefix', 'removesuffix', 'replace', 'rfind', 'rindex', 'rjust', 'rpartition', 'rsplit', 'rstrip', 'split', 'splitlines', 'startswith', 'strip', 'swapcase', 'title', 'translate', 'upper', 'zfill']\n"
     ]
    }
   ],
   "source": [
    "print(dir(str))"
   ]
  },
  {
   "cell_type": "code",
   "execution_count": 21,
   "id": "74d39f4b",
   "metadata": {},
   "outputs": [
    {
     "name": "stdout",
     "output_type": "stream",
     "text": [
      "hi Dey, you stay at 2658470826864\n",
      "hi DEY, you now stay at 2658470807920\n"
     ]
    }
   ],
   "source": [
    "name = 'Dey'\n",
    "print('hi {0}, you stay at {1}'.format(name,id(name)))\n",
    "name = name.upper()\n",
    "print('hi {0}, you now stay at {1}'.format(name,id(name)))\n",
    "\n"
   ]
  },
  {
   "cell_type": "code",
   "execution_count": 22,
   "id": "9e14af65",
   "metadata": {},
   "outputs": [
    {
     "data": {
      "text/plain": [
       "<method 'upper' of 'str' objects>"
      ]
     },
     "execution_count": 22,
     "metadata": {},
     "output_type": "execute_result"
    }
   ],
   "source": [
    "str.upper"
   ]
  },
  {
   "cell_type": "code",
   "execution_count": 23,
   "id": "2d6325e5",
   "metadata": {},
   "outputs": [
    {
     "name": "stdout",
     "output_type": "stream",
     "text": [
      "Help on method_descriptor:\n",
      "\n",
      "upper(self, /)\n",
      "    Return a copy of the string converted to uppercase.\n",
      "\n"
     ]
    }
   ],
   "source": [
    "help(str.upper)"
   ]
  },
  {
   "cell_type": "code",
   "execution_count": 25,
   "id": "a56b817c",
   "metadata": {},
   "outputs": [],
   "source": [
    "result = 'rahul'.upper()"
   ]
  },
  {
   "cell_type": "raw",
   "id": "d5a39e37",
   "metadata": {},
   "source": [
    "result"
   ]
  },
  {
   "cell_type": "code",
   "execution_count": 26,
   "id": "8a97ef9d",
   "metadata": {},
   "outputs": [
    {
     "data": {
      "text/plain": [
       "'RAHUL'"
      ]
     },
     "execution_count": 26,
     "metadata": {},
     "output_type": "execute_result"
    }
   ],
   "source": [
    "result"
   ]
  },
  {
   "cell_type": "code",
   "execution_count": 27,
   "id": "f032e981",
   "metadata": {},
   "outputs": [
    {
     "data": {
      "text/plain": [
       "(2658470829616, 2658470807792)"
      ]
     },
     "execution_count": 27,
     "metadata": {},
     "output_type": "execute_result"
    }
   ],
   "source": [
    "id(result), id('rahul')"
   ]
  },
  {
   "cell_type": "code",
   "execution_count": 28,
   "id": "4fc77ea6",
   "metadata": {},
   "outputs": [
    {
     "data": {
      "text/plain": [
       "5"
      ]
     },
     "execution_count": 28,
     "metadata": {},
     "output_type": "execute_result"
    }
   ],
   "source": [
    "len(\"rahul\")"
   ]
  },
  {
   "cell_type": "code",
   "execution_count": 29,
   "id": "f0b87d15",
   "metadata": {},
   "outputs": [
    {
     "name": "stdout",
     "output_type": "stream",
     "text": [
      "['__add__', '__class__', '__contains__', '__delattr__', '__dir__', '__doc__', '__eq__', '__format__', '__ge__', '__getattribute__', '__getitem__', '__getnewargs__', '__gt__', '__hash__', '__init__', '__init_subclass__', '__iter__', '__le__', '__len__', '__lt__', '__mod__', '__mul__', '__ne__', '__new__', '__reduce__', '__reduce_ex__', '__repr__', '__rmod__', '__rmul__', '__setattr__', '__sizeof__', '__str__', '__subclasshook__', 'capitalize', 'casefold', 'center', 'count', 'encode', 'endswith', 'expandtabs', 'find', 'format', 'format_map', 'index', 'isalnum', 'isalpha', 'isascii', 'isdecimal', 'isdigit', 'isidentifier', 'islower', 'isnumeric', 'isprintable', 'isspace', 'istitle', 'isupper', 'join', 'ljust', 'lower', 'lstrip', 'maketrans', 'partition', 'removeprefix', 'removesuffix', 'replace', 'rfind', 'rindex', 'rjust', 'rpartition', 'rsplit', 'rstrip', 'split', 'splitlines', 'startswith', 'strip', 'swapcase', 'title', 'translate', 'upper', 'zfill']\n"
     ]
    }
   ],
   "source": [
    "print(dir(str))"
   ]
  },
  {
   "cell_type": "code",
   "execution_count": 30,
   "id": "f7a40a6e",
   "metadata": {},
   "outputs": [
    {
     "data": {
      "text/plain": [
       "False"
      ]
     },
     "execution_count": 30,
     "metadata": {},
     "output_type": "execute_result"
    }
   ],
   "source": [
    "'append' in dir(str)"
   ]
  },
  {
   "cell_type": "code",
   "execution_count": 31,
   "id": "2f3858ec",
   "metadata": {},
   "outputs": [
    {
     "data": {
      "text/plain": [
       "<method 'isalpha' of 'str' objects>"
      ]
     },
     "execution_count": 31,
     "metadata": {},
     "output_type": "execute_result"
    }
   ],
   "source": [
    "str.isalpha"
   ]
  },
  {
   "cell_type": "code",
   "execution_count": 32,
   "id": "7ecfbb5e",
   "metadata": {},
   "outputs": [
    {
     "name": "stdout",
     "output_type": "stream",
     "text": [
      "Help on method_descriptor:\n",
      "\n",
      "isalpha(self, /)\n",
      "    Return True if the string is an alphabetic string, False otherwise.\n",
      "    \n",
      "    A string is alphabetic if all characters in the string are alphabetic and there\n",
      "    is at least one character in the string.\n",
      "\n"
     ]
    }
   ],
   "source": [
    "help(str.isalpha)"
   ]
  },
  {
   "cell_type": "code",
   "execution_count": 33,
   "id": "0e7fa692",
   "metadata": {},
   "outputs": [
    {
     "data": {
      "text/plain": [
       "True"
      ]
     },
     "execution_count": 33,
     "metadata": {},
     "output_type": "execute_result"
    }
   ],
   "source": [
    "\"rahul\".isalpha()"
   ]
  },
  {
   "cell_type": "code",
   "execution_count": 34,
   "id": "35678cd8",
   "metadata": {},
   "outputs": [
    {
     "data": {
      "text/plain": [
       "False"
      ]
     },
     "execution_count": 34,
     "metadata": {},
     "output_type": "execute_result"
    }
   ],
   "source": [
    "\"rahu;\".isalpha()"
   ]
  },
  {
   "cell_type": "code",
   "execution_count": 35,
   "id": "7ef90e29",
   "metadata": {},
   "outputs": [
    {
     "data": {
      "text/plain": [
       "False"
      ]
     },
     "execution_count": 35,
     "metadata": {},
     "output_type": "execute_result"
    }
   ],
   "source": [
    "' '.isalpha()"
   ]
  },
  {
   "cell_type": "code",
   "execution_count": 37,
   "id": "caf8292b",
   "metadata": {},
   "outputs": [
    {
     "data": {
      "text/plain": [
       "<method 'isalnum' of 'str' objects>"
      ]
     },
     "execution_count": 37,
     "metadata": {},
     "output_type": "execute_result"
    }
   ],
   "source": [
    "str.isalnum"
   ]
  },
  {
   "cell_type": "code",
   "execution_count": 38,
   "id": "a4dd7d40",
   "metadata": {},
   "outputs": [
    {
     "name": "stdout",
     "output_type": "stream",
     "text": [
      "Help on method_descriptor:\n",
      "\n",
      "isalnum(self, /)\n",
      "    Return True if the string is an alpha-numeric string, False otherwise.\n",
      "    \n",
      "    A string is alpha-numeric if all characters in the string are alpha-numeric and\n",
      "    there is at least one character in the string.\n",
      "\n"
     ]
    }
   ],
   "source": [
    "help(str.isalnum)"
   ]
  },
  {
   "cell_type": "code",
   "execution_count": 39,
   "id": "fd72ed75",
   "metadata": {},
   "outputs": [
    {
     "data": {
      "text/plain": [
       "True"
      ]
     },
     "execution_count": 39,
     "metadata": {},
     "output_type": "execute_result"
    }
   ],
   "source": [
    "\"rahul\".isalnum()"
   ]
  },
  {
   "cell_type": "code",
   "execution_count": 40,
   "id": "11064211",
   "metadata": {},
   "outputs": [
    {
     "data": {
      "text/plain": [
       "True"
      ]
     },
     "execution_count": 40,
     "metadata": {},
     "output_type": "execute_result"
    }
   ],
   "source": [
    "\"rahul78\".isalnum()"
   ]
  },
  {
   "cell_type": "code",
   "execution_count": 41,
   "id": "2fea7fdf",
   "metadata": {},
   "outputs": [
    {
     "name": "stdout",
     "output_type": "stream",
     "text": [
      "अजगर\n"
     ]
    }
   ],
   "source": [
    "print('अजगर')"
   ]
  },
  {
   "cell_type": "code",
   "execution_count": 42,
   "id": "b919337a",
   "metadata": {},
   "outputs": [
    {
     "data": {
      "text/plain": [
       "False"
      ]
     },
     "execution_count": 42,
     "metadata": {},
     "output_type": "execute_result"
    }
   ],
   "source": [
    "msg = 'My name'\n",
    "msg.isalnum()"
   ]
  },
  {
   "cell_type": "code",
   "execution_count": 45,
   "id": "6532f494",
   "metadata": {},
   "outputs": [
    {
     "name": "stdout",
     "output_type": "stream",
     "text": [
      "2658470870016\n",
      "Out of the Loop dear \n",
      "[0, 1, 4, 9, 16, 25, 36, 49, 64, 81] 2658470870016\n",
      "*******************************************End of program*******************************************\n"
     ]
    }
   ],
   "source": [
    "l = []\n",
    "print(id(l))\n",
    "for i in range(10):\n",
    "    l.append(i*i)\n",
    "else:\n",
    "    print('Out of the Loop dear ')\n",
    "print(l,id(l))\n",
    "print('End of program'.center(100,'*'))"
   ]
  },
  {
   "cell_type": "code",
   "execution_count": 46,
   "id": "33c512cf",
   "metadata": {},
   "outputs": [
    {
     "data": {
      "text/plain": [
       "2658471302144"
      ]
     },
     "execution_count": 46,
     "metadata": {},
     "output_type": "execute_result"
    }
   ],
   "source": [
    "l = []\n",
    "id(l)"
   ]
  },
  {
   "cell_type": "code",
   "execution_count": 47,
   "id": "b3c6f08d",
   "metadata": {},
   "outputs": [
    {
     "name": "stdout",
     "output_type": "stream",
     "text": [
      "Help on method_descriptor:\n",
      "\n",
      "append(self, object, /)\n",
      "    Append object to the end of the list.\n",
      "\n"
     ]
    }
   ],
   "source": [
    "help(list.append)"
   ]
  },
  {
   "cell_type": "code",
   "execution_count": 48,
   "id": "71e6f632",
   "metadata": {},
   "outputs": [
    {
     "name": "stdout",
     "output_type": "stream",
     "text": [
      "Help on method_descriptor:\n",
      "\n",
      "extend(self, iterable, /)\n",
      "    Extend list by appending elements from the iterable.\n",
      "\n"
     ]
    }
   ],
   "source": [
    "help(list.extend)"
   ]
  },
  {
   "cell_type": "code",
   "execution_count": 52,
   "id": "652568dd",
   "metadata": {},
   "outputs": [
    {
     "name": "stdout",
     "output_type": "stream",
     "text": [
      "2658470808064\n",
      "2658470808064\n"
     ]
    }
   ],
   "source": [
    "l = [1,2,3]\n",
    "print(id(l))\n",
    "l.extend(\"Rahul\")\n",
    "print(id(l))"
   ]
  },
  {
   "cell_type": "code",
   "execution_count": 50,
   "id": "cbe10cdc",
   "metadata": {},
   "outputs": [
    {
     "data": {
      "text/plain": [
       "[1, 2, 3, 'R', 'a', 'h', 'u', 'l']"
      ]
     },
     "execution_count": 50,
     "metadata": {},
     "output_type": "execute_result"
    }
   ],
   "source": [
    "l"
   ]
  },
  {
   "cell_type": "code",
   "execution_count": 53,
   "id": "b3217bfd",
   "metadata": {},
   "outputs": [],
   "source": [
    "name = 'Akash'\n",
    "l = [100,200,300]\n"
   ]
  },
  {
   "cell_type": "code",
   "execution_count": 54,
   "id": "11df077d",
   "metadata": {},
   "outputs": [
    {
     "data": {
      "text/plain": [
       "'A'"
      ]
     },
     "execution_count": 54,
     "metadata": {},
     "output_type": "execute_result"
    }
   ],
   "source": [
    "name[0]"
   ]
  },
  {
   "cell_type": "code",
   "execution_count": 55,
   "id": "726c3ab0",
   "metadata": {},
   "outputs": [
    {
     "data": {
      "text/plain": [
       "'A'"
      ]
     },
     "execution_count": 55,
     "metadata": {},
     "output_type": "execute_result"
    }
   ],
   "source": [
    "name.__getitem__(0)"
   ]
  },
  {
   "cell_type": "code",
   "execution_count": 56,
   "id": "71cb2800",
   "metadata": {},
   "outputs": [
    {
     "name": "stdout",
     "output_type": "stream",
     "text": [
      "['__add__', '__class__', '__contains__', '__delattr__', '__dir__', '__doc__', '__eq__', '__format__', '__ge__', '__getattribute__', '__getitem__', '__getnewargs__', '__gt__', '__hash__', '__init__', '__init_subclass__', '__iter__', '__le__', '__len__', '__lt__', '__mod__', '__mul__', '__ne__', '__new__', '__reduce__', '__reduce_ex__', '__repr__', '__rmod__', '__rmul__', '__setattr__', '__sizeof__', '__str__', '__subclasshook__', 'capitalize', 'casefold', 'center', 'count', 'encode', 'endswith', 'expandtabs', 'find', 'format', 'format_map', 'index', 'isalnum', 'isalpha', 'isascii', 'isdecimal', 'isdigit', 'isidentifier', 'islower', 'isnumeric', 'isprintable', 'isspace', 'istitle', 'isupper', 'join', 'ljust', 'lower', 'lstrip', 'maketrans', 'partition', 'removeprefix', 'removesuffix', 'replace', 'rfind', 'rindex', 'rjust', 'rpartition', 'rsplit', 'rstrip', 'split', 'splitlines', 'startswith', 'strip', 'swapcase', 'title', 'translate', 'upper', 'zfill']\n"
     ]
    }
   ],
   "source": [
    "print(dir(str))"
   ]
  },
  {
   "cell_type": "code",
   "execution_count": 57,
   "id": "85abe64e",
   "metadata": {},
   "outputs": [
    {
     "data": {
      "text/plain": [
       "True"
      ]
     },
     "execution_count": 57,
     "metadata": {},
     "output_type": "execute_result"
    }
   ],
   "source": [
    "'__getitem__' in dir(str)"
   ]
  },
  {
   "cell_type": "code",
   "execution_count": 58,
   "id": "ddb257d2",
   "metadata": {},
   "outputs": [
    {
     "data": {
      "text/plain": [
       "False"
      ]
     },
     "execution_count": 58,
     "metadata": {},
     "output_type": "execute_result"
    }
   ],
   "source": [
    "'__setitem__' in dir(str)"
   ]
  },
  {
   "cell_type": "code",
   "execution_count": 59,
   "id": "c69c1a32",
   "metadata": {},
   "outputs": [
    {
     "ename": "TypeError",
     "evalue": "'str' object does not support item assignment",
     "output_type": "error",
     "traceback": [
      "\u001b[1;31m---------------------------------------------------------------------------\u001b[0m",
      "\u001b[1;31mTypeError\u001b[0m                                 Traceback (most recent call last)",
      "\u001b[1;32m<ipython-input-59-9e07a4278f7e>\u001b[0m in \u001b[0;36m<module>\u001b[1;34m\u001b[0m\n\u001b[0;32m      1\u001b[0m \u001b[0ms\u001b[0m \u001b[1;33m=\u001b[0m \u001b[1;34m\"Ananad\"\u001b[0m\u001b[1;33m\u001b[0m\u001b[1;33m\u001b[0m\u001b[0m\n\u001b[1;32m----> 2\u001b[1;33m \u001b[0ms\u001b[0m\u001b[1;33m[\u001b[0m\u001b[1;36m0\u001b[0m\u001b[1;33m]\u001b[0m\u001b[1;33m=\u001b[0m\u001b[1;34m'T'\u001b[0m\u001b[1;33m\u001b[0m\u001b[1;33m\u001b[0m\u001b[0m\n\u001b[0m",
      "\u001b[1;31mTypeError\u001b[0m: 'str' object does not support item assignment"
     ]
    }
   ],
   "source": [
    "s = \"Ananad\"\n",
    "s[0]='T'"
   ]
  },
  {
   "cell_type": "code",
   "execution_count": 60,
   "id": "5130e4e8",
   "metadata": {},
   "outputs": [],
   "source": [
    "l = [1,2,3]\n",
    "l[0]='hello'"
   ]
  },
  {
   "cell_type": "code",
   "execution_count": 61,
   "id": "042508b1",
   "metadata": {},
   "outputs": [
    {
     "data": {
      "text/plain": [
       "['hello', 2, 3]"
      ]
     },
     "execution_count": 61,
     "metadata": {},
     "output_type": "execute_result"
    }
   ],
   "source": [
    "l"
   ]
  },
  {
   "cell_type": "code",
   "execution_count": 62,
   "id": "c9573ff5",
   "metadata": {},
   "outputs": [
    {
     "data": {
      "text/plain": [
       "list"
      ]
     },
     "execution_count": 62,
     "metadata": {},
     "output_type": "execute_result"
    }
   ],
   "source": [
    "type(l)"
   ]
  },
  {
   "cell_type": "code",
   "execution_count": 63,
   "id": "592b7534",
   "metadata": {},
   "outputs": [
    {
     "name": "stdout",
     "output_type": "stream",
     "text": [
      "['__add__', '__class__', '__class_getitem__', '__contains__', '__delattr__', '__delitem__', '__dir__', '__doc__', '__eq__', '__format__', '__ge__', '__getattribute__', '__getitem__', '__gt__', '__hash__', '__iadd__', '__imul__', '__init__', '__init_subclass__', '__iter__', '__le__', '__len__', '__lt__', '__mul__', '__ne__', '__new__', '__reduce__', '__reduce_ex__', '__repr__', '__reversed__', '__rmul__', '__setattr__', '__setitem__', '__sizeof__', '__str__', '__subclasshook__', 'append', 'clear', 'copy', 'count', 'extend', 'index', 'insert', 'pop', 'remove', 'reverse', 'sort']\n"
     ]
    }
   ],
   "source": [
    "print(dir(list))"
   ]
  },
  {
   "cell_type": "code",
   "execution_count": 69,
   "id": "2a9bbea5",
   "metadata": {},
   "outputs": [
    {
     "name": "stdout",
     "output_type": "stream",
     "text": [
      "Help on wrapper_descriptor:\n",
      "\n",
      "__setitem__(self, key, value, /)\n",
      "    Set self[key] to value.\n",
      "\n"
     ]
    }
   ],
   "source": [
    "l = []\n",
    "help(list.__setitem__)"
   ]
  },
  {
   "cell_type": "code",
   "execution_count": 71,
   "id": "069a51c4",
   "metadata": {},
   "outputs": [
    {
     "ename": "IndexError",
     "evalue": "list assignment index out of range",
     "output_type": "error",
     "traceback": [
      "\u001b[1;31m---------------------------------------------------------------------------\u001b[0m",
      "\u001b[1;31mIndexError\u001b[0m                                Traceback (most recent call last)",
      "\u001b[1;32m<ipython-input-71-554d16e6dbc1>\u001b[0m in \u001b[0;36m<module>\u001b[1;34m\u001b[0m\n\u001b[1;32m----> 1\u001b[1;33m \u001b[0ml\u001b[0m\u001b[1;33m=\u001b[0m\u001b[0ml\u001b[0m\u001b[1;33m.\u001b[0m\u001b[0m__setitem__\u001b[0m\u001b[1;33m(\u001b[0m\u001b[1;36m1\u001b[0m\u001b[1;33m,\u001b[0m\u001b[1;36m100\u001b[0m\u001b[1;33m)\u001b[0m\u001b[1;33m\u001b[0m\u001b[1;33m\u001b[0m\u001b[0m\n\u001b[0m",
      "\u001b[1;31mIndexError\u001b[0m: list assignment index out of range"
     ]
    }
   ],
   "source": [
    "l.__setitem__(1,100)"
   ]
  },
  {
   "cell_type": "code",
   "execution_count": 72,
   "id": "9837c0c3",
   "metadata": {},
   "outputs": [
    {
     "data": {
      "text/plain": [
       "[]"
      ]
     },
     "execution_count": 72,
     "metadata": {},
     "output_type": "execute_result"
    }
   ],
   "source": [
    "l"
   ]
  },
  {
   "cell_type": "code",
   "execution_count": 73,
   "id": "2641c1ac",
   "metadata": {},
   "outputs": [],
   "source": [
    "l.append(100)"
   ]
  },
  {
   "cell_type": "code",
   "execution_count": 74,
   "id": "f3ab0c8f",
   "metadata": {},
   "outputs": [
    {
     "data": {
      "text/plain": [
       "100"
      ]
     },
     "execution_count": 74,
     "metadata": {},
     "output_type": "execute_result"
    }
   ],
   "source": [
    "l.__getitem__(0)"
   ]
  },
  {
   "cell_type": "code",
   "execution_count": 79,
   "id": "711a4b7e",
   "metadata": {},
   "outputs": [],
   "source": [
    "l.__setitem__(0,\"hari\")"
   ]
  },
  {
   "cell_type": "code",
   "execution_count": 80,
   "id": "58fd6fea",
   "metadata": {},
   "outputs": [
    {
     "data": {
      "text/plain": [
       "['hari']"
      ]
     },
     "execution_count": 80,
     "metadata": {},
     "output_type": "execute_result"
    }
   ],
   "source": [
    "l"
   ]
  },
  {
   "cell_type": "code",
   "execution_count": 81,
   "id": "fe5fc3ea",
   "metadata": {},
   "outputs": [
    {
     "name": "stdout",
     "output_type": "stream",
     "text": [
      "Help on method_descriptor:\n",
      "\n",
      "insert(self, index, object, /)\n",
      "    Insert object before index.\n",
      "\n"
     ]
    }
   ],
   "source": [
    "help(list.insert)"
   ]
  },
  {
   "cell_type": "code",
   "execution_count": 82,
   "id": "7381df4c",
   "metadata": {},
   "outputs": [],
   "source": [
    "l = [1,2]\n",
    "l.insert(1,'hello')"
   ]
  },
  {
   "cell_type": "code",
   "execution_count": 83,
   "id": "c650c406",
   "metadata": {},
   "outputs": [
    {
     "data": {
      "text/plain": [
       "[1, 'hello', 2]"
      ]
     },
     "execution_count": 83,
     "metadata": {},
     "output_type": "execute_result"
    }
   ],
   "source": [
    "l"
   ]
  },
  {
   "cell_type": "markdown",
   "id": "00a184e0",
   "metadata": {},
   "source": [
    "`` Explain the output [1,2,3]*3 ``"
   ]
  },
  {
   "cell_type": "code",
   "execution_count": 84,
   "id": "e1fa77c8",
   "metadata": {},
   "outputs": [
    {
     "name": "stdout",
     "output_type": "stream",
     "text": [
      "[1, 2, 3, 1, 2, 3, 1, 2, 3] 2658471727360\n"
     ]
    }
   ],
   "source": [
    "a = [1,2,3]*3\n",
    "print(a,id(a))"
   ]
  },
  {
   "cell_type": "code",
   "execution_count": 85,
   "id": "86ae996a",
   "metadata": {},
   "outputs": [
    {
     "name": "stdout",
     "output_type": "stream",
     "text": [
      "2658471715776 2658470806592\n",
      "[1, 2, 3] [1, 2, 3, 1, 2, 3, 1, 2, 3]\n"
     ]
    }
   ],
   "source": [
    "b = [1,2,3]\n",
    "a = b*3\n",
    "print(id(b), id(a))\n",
    "print(b,a)"
   ]
  },
  {
   "cell_type": "code",
   "execution_count": 86,
   "id": "fb08c96f",
   "metadata": {},
   "outputs": [
    {
     "data": {
      "text/plain": [
       "[1, 2, 1, 2]"
      ]
     },
     "execution_count": 86,
     "metadata": {},
     "output_type": "execute_result"
    }
   ],
   "source": [
    "[1,2].__mul__(2)"
   ]
  },
  {
   "cell_type": "code",
   "execution_count": 87,
   "id": "801dd024",
   "metadata": {},
   "outputs": [
    {
     "data": {
      "text/plain": [
       "[1, 2, 1, 2]"
      ]
     },
     "execution_count": 87,
     "metadata": {},
     "output_type": "execute_result"
    }
   ],
   "source": [
    "[1,2].__imul__(2)"
   ]
  },
  {
   "cell_type": "code",
   "execution_count": 88,
   "id": "1811f6d2",
   "metadata": {},
   "outputs": [],
   "source": [
    "# Guido von Rossum\n",
    "from dis import dis "
   ]
  },
  {
   "cell_type": "code",
   "execution_count": 89,
   "id": "8ccf664b",
   "metadata": {},
   "outputs": [
    {
     "data": {
      "text/plain": [
       "<function dis.dis(x=None, *, file=None, depth=None)>"
      ]
     },
     "execution_count": 89,
     "metadata": {},
     "output_type": "execute_result"
    }
   ],
   "source": [
    "dis"
   ]
  },
  {
   "cell_type": "code",
   "execution_count": 90,
   "id": "6c33f408",
   "metadata": {},
   "outputs": [
    {
     "name": "stdout",
     "output_type": "stream",
     "text": [
      "  1           0 BUILD_LIST               0\n",
      "              2 LOAD_CONST               0 ((1, 2, 3, 43, 44))\n",
      "              4 LIST_EXTEND              1\n",
      "              6 RETURN_VALUE\n"
     ]
    }
   ],
   "source": [
    "dis(\"[1,2,3,43,44]\")"
   ]
  },
  {
   "cell_type": "code",
   "execution_count": 91,
   "id": "dc023111",
   "metadata": {},
   "outputs": [
    {
     "name": "stdout",
     "output_type": "stream",
     "text": [
      "  1           0 LOAD_CONST               0 ((1, 2, 3, 43, 44))\n",
      "              2 RETURN_VALUE\n"
     ]
    }
   ],
   "source": [
    "dis(\"(1,2,3,43,44)\")"
   ]
  },
  {
   "cell_type": "code",
   "execution_count": 92,
   "id": "d149699c",
   "metadata": {},
   "outputs": [
    {
     "name": "stdout",
     "output_type": "stream",
     "text": [
      "['__add__', '__class__', '__class_getitem__', '__contains__', '__delattr__', '__delitem__', '__dir__', '__doc__', '__eq__', '__format__', '__ge__', '__getattribute__', '__getitem__', '__gt__', '__hash__', '__iadd__', '__imul__', '__init__', '__init_subclass__', '__iter__', '__le__', '__len__', '__lt__', '__mul__', '__ne__', '__new__', '__reduce__', '__reduce_ex__', '__repr__', '__reversed__', '__rmul__', '__setattr__', '__setitem__', '__sizeof__', '__str__', '__subclasshook__', 'append', 'clear', 'copy', 'count', 'extend', 'index', 'insert', 'pop', 'remove', 'reverse', 'sort']\n"
     ]
    }
   ],
   "source": [
    "print(dir(list))"
   ]
  },
  {
   "cell_type": "code",
   "execution_count": 94,
   "id": "0854a178",
   "metadata": {},
   "outputs": [
    {
     "data": {
      "text/plain": [
       "['__abstractmethods__',\n",
       " '__base__',\n",
       " '__bases__',\n",
       " '__basicsize__',\n",
       " '__call__',\n",
       " '__class__',\n",
       " '__delattr__',\n",
       " '__dict__',\n",
       " '__dictoffset__',\n",
       " '__dir__',\n",
       " '__doc__',\n",
       " '__eq__',\n",
       " '__flags__',\n",
       " '__format__',\n",
       " '__ge__',\n",
       " '__getattribute__',\n",
       " '__gt__',\n",
       " '__hash__',\n",
       " '__init__',\n",
       " '__init_subclass__',\n",
       " '__instancecheck__',\n",
       " '__itemsize__',\n",
       " '__le__',\n",
       " '__lt__',\n",
       " '__module__',\n",
       " '__mro__',\n",
       " '__name__',\n",
       " '__ne__',\n",
       " '__new__',\n",
       " '__prepare__',\n",
       " '__qualname__',\n",
       " '__reduce__',\n",
       " '__reduce_ex__',\n",
       " '__repr__',\n",
       " '__setattr__',\n",
       " '__sizeof__',\n",
       " '__str__',\n",
       " '__subclasscheck__',\n",
       " '__subclasses__',\n",
       " '__subclasshook__',\n",
       " '__text_signature__',\n",
       " '__weakrefoffset__',\n",
       " 'mro']"
      ]
     },
     "execution_count": 94,
     "metadata": {},
     "output_type": "execute_result"
    }
   ],
   "source": [
    "dir(list.__class__)"
   ]
  },
  {
   "cell_type": "code",
   "execution_count": 95,
   "id": "98174db3",
   "metadata": {},
   "outputs": [
    {
     "data": {
      "text/plain": [
       "'type'"
      ]
     },
     "execution_count": 95,
     "metadata": {},
     "output_type": "execute_result"
    }
   ],
   "source": [
    "list.__class__.__qualname__"
   ]
  },
  {
   "cell_type": "code",
   "execution_count": 96,
   "id": "c2bcde1d",
   "metadata": {},
   "outputs": [
    {
     "data": {
      "text/plain": [
       "'type'"
      ]
     },
     "execution_count": 96,
     "metadata": {},
     "output_type": "execute_result"
    }
   ],
   "source": [
    "list.__class__.__name__"
   ]
  },
  {
   "cell_type": "markdown",
   "id": "9f6e4841",
   "metadata": {},
   "source": [
    "``which str function you would choose to print an image ``"
   ]
  },
  {
   "cell_type": "code",
   "execution_count": 98,
   "id": "b0c357b6",
   "metadata": {},
   "outputs": [
    {
     "data": {
      "text/plain": [
       "'a'"
      ]
     },
     "execution_count": 98,
     "metadata": {},
     "output_type": "execute_result"
    }
   ],
   "source": [
    "chr(97)"
   ]
  },
  {
   "cell_type": "code",
   "execution_count": 99,
   "id": "c0bb06fd",
   "metadata": {},
   "outputs": [
    {
     "data": {
      "text/plain": [
       "97"
      ]
     },
     "execution_count": 99,
     "metadata": {},
     "output_type": "execute_result"
    }
   ],
   "source": [
    "ord('a')"
   ]
  },
  {
   "cell_type": "code",
   "execution_count": 103,
   "id": "10c56f46",
   "metadata": {},
   "outputs": [
    {
     "data": {
      "text/plain": [
       "'🥓'"
      ]
     },
     "execution_count": 103,
     "metadata": {},
     "output_type": "execute_result"
    }
   ],
   "source": [
    "chr(129363)"
   ]
  },
  {
   "cell_type": "code",
   "execution_count": 104,
   "id": "df095df8",
   "metadata": {},
   "outputs": [
    {
     "data": {
      "text/plain": [
       "'🥔'"
      ]
     },
     "execution_count": 104,
     "metadata": {},
     "output_type": "execute_result"
    }
   ],
   "source": [
    "chr(129364)"
   ]
  },
  {
   "cell_type": "code",
   "execution_count": 108,
   "id": "1f2eb329",
   "metadata": {},
   "outputs": [
    {
     "name": "stdout",
     "output_type": "stream",
     "text": [
      "🥐\t\t🥑\t\t🥒\t\t🥓\t\t🥔\t\t🥕\t\t🥖\t\t🥗\t\t🥘\t\t🥙\t\t🥚\t\t🥛\t\t🥜\t\t🥝\t\t🥞\t\t🥟\t\t🥠\t\t🥡\t\t🥢\t\t🥣\t\t🥤\t\t🥥\t\t🥦\t\t🥧\t\t🥨\t\t🥩\t\t🥪\t\t🥫\t\t🥬\t\t🥭\t\t🥮\t\t🥯\t\t🥰\t\t🥱\t\t🥲\t\t🥳\t\t🥴\t\t🥵\t\t🥶\t\t🥷\t\t"
     ]
    }
   ],
   "source": [
    "i = 129360\n",
    "while i<129400:\n",
    "    print(chr(i),end='\\t\\t')\n",
    "    i+=1"
   ]
  },
  {
   "cell_type": "code",
   "execution_count": 109,
   "id": "404c8ca9",
   "metadata": {},
   "outputs": [],
   "source": [
    "us = u'Rahul \\u2210 \\u0123 \\u3465 \\u2100'\n"
   ]
  },
  {
   "cell_type": "code",
   "execution_count": 110,
   "id": "6aca500b",
   "metadata": {},
   "outputs": [
    {
     "name": "stdout",
     "output_type": "stream",
     "text": [
      "Rahul ∐ ģ 㑥 ℀\n"
     ]
    }
   ],
   "source": [
    "print(us)"
   ]
  },
  {
   "cell_type": "code",
   "execution_count": 111,
   "id": "f93efef1",
   "metadata": {},
   "outputs": [
    {
     "data": {
      "text/plain": [
       "str"
      ]
     },
     "execution_count": 111,
     "metadata": {},
     "output_type": "execute_result"
    }
   ],
   "source": [
    "type(us)"
   ]
  },
  {
   "cell_type": "code",
   "execution_count": null,
   "id": "4341d131",
   "metadata": {},
   "outputs": [],
   "source": [
    "# T"
   ]
  }
 ],
 "metadata": {
  "kernelspec": {
   "display_name": "Python 3",
   "language": "python",
   "name": "python3"
  },
  "language_info": {
   "codemirror_mode": {
    "name": "ipython",
    "version": 3
   },
   "file_extension": ".py",
   "mimetype": "text/x-python",
   "name": "python",
   "nbconvert_exporter": "python",
   "pygments_lexer": "ipython3",
   "version": "3.9.6"
  }
 },
 "nbformat": 4,
 "nbformat_minor": 5
}
