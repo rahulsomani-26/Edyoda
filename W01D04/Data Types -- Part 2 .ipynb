{
 "cells": [
  {
   "cell_type": "code",
   "execution_count": 1,
   "id": "ce942221",
   "metadata": {},
   "outputs": [],
   "source": [
    "# Collections \n",
    "# Containter of items \n"
   ]
  },
  {
   "cell_type": "code",
   "execution_count": 2,
   "id": "f5a4d2d4",
   "metadata": {},
   "outputs": [],
   "source": [
    "# List data type \n",
    "# List is a sequence type containter that can store multiple values ( all of different types)\n",
    "# List stores elements of heterogenous types "
   ]
  },
  {
   "cell_type": "code",
   "execution_count": 3,
   "id": "7d72549d",
   "metadata": {},
   "outputs": [
    {
     "name": "stdout",
     "output_type": "stream",
     "text": [
      "<class 'list'>\n"
     ]
    }
   ],
   "source": [
    "l = [1,2,3] # Elements are stores in order \n",
    "print(type(l))"
   ]
  },
  {
   "cell_type": "code",
   "execution_count": 4,
   "id": "8ef62645",
   "metadata": {},
   "outputs": [
    {
     "name": "stdout",
     "output_type": "stream",
     "text": [
      "<class 'list'>\n"
     ]
    }
   ],
   "source": [
    "empty_list = []\n",
    "print(type(empty_list))\n"
   ]
  },
  {
   "cell_type": "code",
   "execution_count": 5,
   "id": "de2e8cf3",
   "metadata": {},
   "outputs": [],
   "source": [
    "# Indexing is possible in a list , so is slicing "
   ]
  },
  {
   "cell_type": "code",
   "execution_count": 6,
   "id": "f68ac564",
   "metadata": {},
   "outputs": [
    {
     "data": {
      "text/plain": [
       "'Abhishek'"
      ]
     },
     "execution_count": 6,
     "metadata": {},
     "output_type": "execute_result"
    }
   ],
   "source": [
    "friend_list = ['Abhishek','Ujjwal','Shweta','Gopal']\n",
    "friend_list[0]\n"
   ]
  },
  {
   "cell_type": "code",
   "execution_count": 7,
   "id": "881085fe",
   "metadata": {},
   "outputs": [
    {
     "ename": "IndexError",
     "evalue": "list index out of range",
     "output_type": "error",
     "traceback": [
      "\u001b[1;31m---------------------------------------------------------------------------\u001b[0m",
      "\u001b[1;31mIndexError\u001b[0m                                Traceback (most recent call last)",
      "\u001b[1;32m<ipython-input-7-8ec4bf0e7085>\u001b[0m in \u001b[0;36m<module>\u001b[1;34m\u001b[0m\n\u001b[1;32m----> 1\u001b[1;33m \u001b[0mfriend_list\u001b[0m\u001b[1;33m[\u001b[0m\u001b[1;36m4\u001b[0m\u001b[1;33m]\u001b[0m\u001b[1;33m\u001b[0m\u001b[1;33m\u001b[0m\u001b[0m\n\u001b[0m",
      "\u001b[1;31mIndexError\u001b[0m: list index out of range"
     ]
    }
   ],
   "source": [
    "friend_list[4]\n"
   ]
  },
  {
   "cell_type": "code",
   "execution_count": 8,
   "id": "6972aff6",
   "metadata": {},
   "outputs": [
    {
     "data": {
      "text/plain": [
       "'Gopal'"
      ]
     },
     "execution_count": 8,
     "metadata": {},
     "output_type": "execute_result"
    }
   ],
   "source": [
    "friend_list[3]\n"
   ]
  },
  {
   "cell_type": "code",
   "execution_count": 9,
   "id": "ced8b758",
   "metadata": {},
   "outputs": [],
   "source": [
    "# To find the number of items in a list we can use the len() function "
   ]
  },
  {
   "cell_type": "code",
   "execution_count": 10,
   "id": "f5c68d05",
   "metadata": {},
   "outputs": [
    {
     "data": {
      "text/plain": [
       "4"
      ]
     },
     "execution_count": 10,
     "metadata": {},
     "output_type": "execute_result"
    }
   ],
   "source": [
    "len(friend_list)"
   ]
  },
  {
   "cell_type": "code",
   "execution_count": 12,
   "id": "36893667",
   "metadata": {},
   "outputs": [
    {
     "data": {
      "text/plain": [
       "['Abhishek', 'Ujjwal', 'Shweta', 'Gopal']"
      ]
     },
     "execution_count": 12,
     "metadata": {},
     "output_type": "execute_result"
    }
   ],
   "source": [
    "friend_list"
   ]
  },
  {
   "cell_type": "code",
   "execution_count": 11,
   "id": "afae5e75",
   "metadata": {},
   "outputs": [
    {
     "data": {
      "text/plain": [
       "'Gopal'"
      ]
     },
     "execution_count": 11,
     "metadata": {},
     "output_type": "execute_result"
    }
   ],
   "source": [
    "friend_list[-1]"
   ]
  },
  {
   "cell_type": "code",
   "execution_count": 14,
   "id": "ee947e28",
   "metadata": {},
   "outputs": [],
   "source": [
    "general_list = ['Yellow',120,True,19.43]"
   ]
  },
  {
   "cell_type": "code",
   "execution_count": 15,
   "id": "d1e1aa49",
   "metadata": {},
   "outputs": [
    {
     "data": {
      "text/plain": [
       "['Yellow', 120, True, 19.43]"
      ]
     },
     "execution_count": 15,
     "metadata": {},
     "output_type": "execute_result"
    }
   ],
   "source": [
    "general_list"
   ]
  },
  {
   "cell_type": "code",
   "execution_count": 16,
   "id": "62ca7942",
   "metadata": {},
   "outputs": [
    {
     "data": {
      "text/plain": [
       "['Yellow', 120, True]"
      ]
     },
     "execution_count": 16,
     "metadata": {},
     "output_type": "execute_result"
    }
   ],
   "source": [
    "general_list[0:3]"
   ]
  },
  {
   "cell_type": "code",
   "execution_count": 17,
   "id": "f82f999f",
   "metadata": {},
   "outputs": [],
   "source": [
    "my_list = list()"
   ]
  },
  {
   "cell_type": "code",
   "execution_count": 18,
   "id": "d77e4686",
   "metadata": {},
   "outputs": [
    {
     "data": {
      "text/plain": [
       "list"
      ]
     },
     "execution_count": 18,
     "metadata": {},
     "output_type": "execute_result"
    }
   ],
   "source": [
    "type(my_list)"
   ]
  },
  {
   "cell_type": "code",
   "execution_count": 19,
   "id": "0ce6e679",
   "metadata": {},
   "outputs": [
    {
     "name": "stdout",
     "output_type": "stream",
     "text": [
      "['__add__', '__class__', '__class_getitem__', '__contains__', '__delattr__', '__delitem__', '__dir__', '__doc__', '__eq__', '__format__', '__ge__', '__getattribute__', '__getitem__', '__gt__', '__hash__', '__iadd__', '__imul__', '__init__', '__init_subclass__', '__iter__', '__le__', '__len__', '__lt__', '__mul__', '__ne__', '__new__', '__reduce__', '__reduce_ex__', '__repr__', '__reversed__', '__rmul__', '__setattr__', '__setitem__', '__sizeof__', '__str__', '__subclasshook__', 'append', 'clear', 'copy', 'count', 'extend', 'index', 'insert', 'pop', 'remove', 'reverse', 'sort']\n"
     ]
    }
   ],
   "source": [
    "print(dir(list))"
   ]
  },
  {
   "cell_type": "code",
   "execution_count": 20,
   "id": "61fa0150",
   "metadata": {},
   "outputs": [
    {
     "data": {
      "text/plain": [
       "[]"
      ]
     },
     "execution_count": 20,
     "metadata": {},
     "output_type": "execute_result"
    }
   ],
   "source": [
    "my_list"
   ]
  },
  {
   "cell_type": "code",
   "execution_count": 21,
   "id": "c973e438",
   "metadata": {},
   "outputs": [
    {
     "data": {
      "text/plain": [
       "<function list.append(object, /)>"
      ]
     },
     "execution_count": 21,
     "metadata": {},
     "output_type": "execute_result"
    }
   ],
   "source": [
    "my_list.append"
   ]
  },
  {
   "cell_type": "code",
   "execution_count": 22,
   "id": "0c66bc04",
   "metadata": {},
   "outputs": [],
   "source": [
    "my_list.append(100)"
   ]
  },
  {
   "cell_type": "code",
   "execution_count": 23,
   "id": "198e88d5",
   "metadata": {},
   "outputs": [
    {
     "data": {
      "text/plain": [
       "[100]"
      ]
     },
     "execution_count": 23,
     "metadata": {},
     "output_type": "execute_result"
    }
   ],
   "source": [
    "my_list"
   ]
  },
  {
   "cell_type": "code",
   "execution_count": 24,
   "id": "e211b82e",
   "metadata": {},
   "outputs": [],
   "source": [
    "my_list.append(200)"
   ]
  },
  {
   "cell_type": "code",
   "execution_count": 25,
   "id": "cf2b7c6b",
   "metadata": {},
   "outputs": [
    {
     "data": {
      "text/plain": [
       "[100, 200]"
      ]
     },
     "execution_count": 25,
     "metadata": {},
     "output_type": "execute_result"
    }
   ],
   "source": [
    "my_list"
   ]
  },
  {
   "cell_type": "code",
   "execution_count": 26,
   "id": "92cc4813",
   "metadata": {},
   "outputs": [
    {
     "data": {
      "text/plain": [
       "[]"
      ]
     },
     "execution_count": 26,
     "metadata": {},
     "output_type": "execute_result"
    }
   ],
   "source": [
    "e = []\n",
    "e"
   ]
  },
  {
   "cell_type": "code",
   "execution_count": 27,
   "id": "513dbc77",
   "metadata": {},
   "outputs": [],
   "source": [
    "e.append('Anup')"
   ]
  },
  {
   "cell_type": "code",
   "execution_count": 28,
   "id": "bf5f9f2f",
   "metadata": {},
   "outputs": [
    {
     "data": {
      "text/plain": [
       "['Anup']"
      ]
     },
     "execution_count": 28,
     "metadata": {},
     "output_type": "execute_result"
    }
   ],
   "source": [
    "e"
   ]
  },
  {
   "cell_type": "code",
   "execution_count": 29,
   "id": "1d71b564",
   "metadata": {},
   "outputs": [],
   "source": [
    "e.append(10)"
   ]
  },
  {
   "cell_type": "code",
   "execution_count": 30,
   "id": "e23a65f5",
   "metadata": {},
   "outputs": [
    {
     "data": {
      "text/plain": [
       "['Anup', 10]"
      ]
     },
     "execution_count": 30,
     "metadata": {},
     "output_type": "execute_result"
    }
   ],
   "source": [
    "e"
   ]
  },
  {
   "cell_type": "code",
   "execution_count": 31,
   "id": "57daa3ed",
   "metadata": {},
   "outputs": [
    {
     "data": {
      "text/plain": [
       "10"
      ]
     },
     "execution_count": 31,
     "metadata": {},
     "output_type": "execute_result"
    }
   ],
   "source": [
    "e.pop()"
   ]
  },
  {
   "cell_type": "code",
   "execution_count": 32,
   "id": "9c4c9342",
   "metadata": {},
   "outputs": [
    {
     "data": {
      "text/plain": [
       "['Anup']"
      ]
     },
     "execution_count": 32,
     "metadata": {},
     "output_type": "execute_result"
    }
   ],
   "source": [
    "e"
   ]
  },
  {
   "cell_type": "code",
   "execution_count": 33,
   "id": "00728458",
   "metadata": {},
   "outputs": [],
   "source": [
    "e.extend([100,200,'somani'])"
   ]
  },
  {
   "cell_type": "code",
   "execution_count": 34,
   "id": "8c3f3855",
   "metadata": {},
   "outputs": [
    {
     "data": {
      "text/plain": [
       "['Anup', 100, 200, 'somani']"
      ]
     },
     "execution_count": 34,
     "metadata": {},
     "output_type": "execute_result"
    }
   ],
   "source": [
    "e"
   ]
  },
  {
   "cell_type": "code",
   "execution_count": 37,
   "id": "487733c3",
   "metadata": {},
   "outputs": [],
   "source": [
    "# Item Assignment is possible in a list "
   ]
  },
  {
   "cell_type": "code",
   "execution_count": 38,
   "id": "1d1e2d82",
   "metadata": {},
   "outputs": [],
   "source": [
    "e[0]= 'Kailash'"
   ]
  },
  {
   "cell_type": "code",
   "execution_count": 39,
   "id": "dfca7a9d",
   "metadata": {},
   "outputs": [
    {
     "data": {
      "text/plain": [
       "['Kailash', 100, 200, 'somani']"
      ]
     },
     "execution_count": 39,
     "metadata": {},
     "output_type": "execute_result"
    }
   ],
   "source": [
    "e"
   ]
  },
  {
   "cell_type": "code",
   "execution_count": 35,
   "id": "67706320",
   "metadata": {},
   "outputs": [
    {
     "data": {
      "text/plain": [
       "4"
      ]
     },
     "execution_count": 35,
     "metadata": {},
     "output_type": "execute_result"
    }
   ],
   "source": [
    "len(e)"
   ]
  },
  {
   "cell_type": "code",
   "execution_count": 36,
   "id": "3255d66f",
   "metadata": {},
   "outputs": [
    {
     "data": {
      "text/plain": [
       "4"
      ]
     },
     "execution_count": 36,
     "metadata": {},
     "output_type": "execute_result"
    }
   ],
   "source": [
    "e.__len__()"
   ]
  },
  {
   "cell_type": "code",
   "execution_count": 40,
   "id": "7bef1b9c",
   "metadata": {},
   "outputs": [],
   "source": [
    "# Tuples \n",
    "# Tuple are data types ( implemented as a data structure )\n",
    "# Mutable ----> if you are able to change things ( items )\n",
    "# Immutable ----> you cannot change once created"
   ]
  },
  {
   "cell_type": "code",
   "execution_count": 41,
   "id": "968238bb",
   "metadata": {},
   "outputs": [
    {
     "data": {
      "text/plain": [
       "tuple"
      ]
     },
     "execution_count": 41,
     "metadata": {},
     "output_type": "execute_result"
    }
   ],
   "source": [
    "t = (1,2,3)\n",
    "type(t)"
   ]
  },
  {
   "cell_type": "code",
   "execution_count": 42,
   "id": "ea1eb6ed",
   "metadata": {},
   "outputs": [],
   "source": [
    "# Indexing in tuple"
   ]
  },
  {
   "cell_type": "code",
   "execution_count": 44,
   "id": "216c9b15",
   "metadata": {},
   "outputs": [
    {
     "data": {
      "text/plain": [
       "(2, 3)"
      ]
     },
     "execution_count": 44,
     "metadata": {},
     "output_type": "execute_result"
    }
   ],
   "source": [
    "t[1],t[-1]"
   ]
  },
  {
   "cell_type": "code",
   "execution_count": 45,
   "id": "9e164c52",
   "metadata": {},
   "outputs": [],
   "source": [
    "# Item assignment in a tuple"
   ]
  },
  {
   "cell_type": "code",
   "execution_count": 46,
   "id": "ec7320ca",
   "metadata": {},
   "outputs": [
    {
     "data": {
      "text/plain": [
       "(1, 2, 3)"
      ]
     },
     "execution_count": 46,
     "metadata": {},
     "output_type": "execute_result"
    }
   ],
   "source": [
    "t"
   ]
  },
  {
   "cell_type": "code",
   "execution_count": 47,
   "id": "c535660a",
   "metadata": {},
   "outputs": [
    {
     "ename": "TypeError",
     "evalue": "'tuple' object does not support item assignment",
     "output_type": "error",
     "traceback": [
      "\u001b[1;31m---------------------------------------------------------------------------\u001b[0m",
      "\u001b[1;31mTypeError\u001b[0m                                 Traceback (most recent call last)",
      "\u001b[1;32m<ipython-input-47-59295ad44264>\u001b[0m in \u001b[0;36m<module>\u001b[1;34m\u001b[0m\n\u001b[1;32m----> 1\u001b[1;33m \u001b[0mt\u001b[0m\u001b[1;33m[\u001b[0m\u001b[1;36m0\u001b[0m\u001b[1;33m]\u001b[0m\u001b[1;33m=\u001b[0m \u001b[1;36m100\u001b[0m\u001b[1;33m\u001b[0m\u001b[1;33m\u001b[0m\u001b[0m\n\u001b[0m",
      "\u001b[1;31mTypeError\u001b[0m: 'tuple' object does not support item assignment"
     ]
    }
   ],
   "source": [
    "t[0]= 100 "
   ]
  },
  {
   "cell_type": "code",
   "execution_count": 50,
   "id": "ba29ed26",
   "metadata": {},
   "outputs": [
    {
     "data": {
      "text/plain": [
       "int"
      ]
     },
     "execution_count": 50,
     "metadata": {},
     "output_type": "execute_result"
    }
   ],
   "source": [
    "t1 = (1)\n",
    "type(t1)"
   ]
  },
  {
   "cell_type": "code",
   "execution_count": 51,
   "id": "c64c06aa",
   "metadata": {},
   "outputs": [],
   "source": [
    "t2 = (1,2)"
   ]
  },
  {
   "cell_type": "code",
   "execution_count": 52,
   "id": "bfe5151e",
   "metadata": {},
   "outputs": [
    {
     "data": {
      "text/plain": [
       "tuple"
      ]
     },
     "execution_count": 52,
     "metadata": {},
     "output_type": "execute_result"
    }
   ],
   "source": [
    "type(t2)"
   ]
  },
  {
   "cell_type": "code",
   "execution_count": 53,
   "id": "dd708eda",
   "metadata": {},
   "outputs": [],
   "source": [
    "t3 = 100,200,300"
   ]
  },
  {
   "cell_type": "code",
   "execution_count": 54,
   "id": "4c493a43",
   "metadata": {},
   "outputs": [
    {
     "data": {
      "text/plain": [
       "tuple"
      ]
     },
     "execution_count": 54,
     "metadata": {},
     "output_type": "execute_result"
    }
   ],
   "source": [
    "type(t3)"
   ]
  },
  {
   "cell_type": "code",
   "execution_count": 55,
   "id": "9c00c5ca",
   "metadata": {},
   "outputs": [],
   "source": [
    "t4 = 'Meghnath',20,'software developer'"
   ]
  },
  {
   "cell_type": "code",
   "execution_count": 56,
   "id": "22969b6b",
   "metadata": {},
   "outputs": [
    {
     "data": {
      "text/plain": [
       "tuple"
      ]
     },
     "execution_count": 56,
     "metadata": {},
     "output_type": "execute_result"
    }
   ],
   "source": [
    "type(t4)"
   ]
  },
  {
   "cell_type": "code",
   "execution_count": 57,
   "id": "51ce8759",
   "metadata": {},
   "outputs": [],
   "source": [
    "l1 = [1,2,3]\n",
    "t1 = 1,2,3"
   ]
  },
  {
   "cell_type": "code",
   "execution_count": 58,
   "id": "fddac47c",
   "metadata": {},
   "outputs": [
    {
     "data": {
      "text/plain": [
       "(2395855031680, 2395855911296)"
      ]
     },
     "execution_count": 58,
     "metadata": {},
     "output_type": "execute_result"
    }
   ],
   "source": [
    "id(l1),id(t1)"
   ]
  },
  {
   "cell_type": "code",
   "execution_count": 59,
   "id": "37ed484d",
   "metadata": {},
   "outputs": [],
   "source": [
    "l1.append(100)"
   ]
  },
  {
   "cell_type": "code",
   "execution_count": 60,
   "id": "c41a29f1",
   "metadata": {},
   "outputs": [
    {
     "data": {
      "text/plain": [
       "([1, 2, 3, 100], 2395855031680)"
      ]
     },
     "execution_count": 60,
     "metadata": {},
     "output_type": "execute_result"
    }
   ],
   "source": [
    "l1,id(l1)"
   ]
  },
  {
   "cell_type": "code",
   "execution_count": 61,
   "id": "57fb0821",
   "metadata": {},
   "outputs": [],
   "source": [
    "t1 = t1 + (4,5)"
   ]
  },
  {
   "cell_type": "code",
   "execution_count": 62,
   "id": "bbdb493d",
   "metadata": {},
   "outputs": [
    {
     "data": {
      "text/plain": [
       "(1, 2, 3, 4, 5)"
      ]
     },
     "execution_count": 62,
     "metadata": {},
     "output_type": "execute_result"
    }
   ],
   "source": [
    "t1"
   ]
  },
  {
   "cell_type": "code",
   "execution_count": 63,
   "id": "d109a4d5",
   "metadata": {},
   "outputs": [
    {
     "data": {
      "text/plain": [
       "2395855061696"
      ]
     },
     "execution_count": 63,
     "metadata": {},
     "output_type": "execute_result"
    }
   ],
   "source": [
    "id(t1)"
   ]
  },
  {
   "cell_type": "code",
   "execution_count": 64,
   "id": "8e9da385",
   "metadata": {},
   "outputs": [
    {
     "data": {
      "text/plain": [
       "1"
      ]
     },
     "execution_count": 64,
     "metadata": {},
     "output_type": "execute_result"
    }
   ],
   "source": [
    "t1[0]  # indexing "
   ]
  },
  {
   "cell_type": "code",
   "execution_count": 65,
   "id": "0d231765",
   "metadata": {},
   "outputs": [
    {
     "data": {
      "text/plain": [
       "(1, 2, 3)"
      ]
     },
     "execution_count": 65,
     "metadata": {},
     "output_type": "execute_result"
    }
   ],
   "source": [
    "t1[:3]"
   ]
  },
  {
   "cell_type": "code",
   "execution_count": 66,
   "id": "2d45f820",
   "metadata": {},
   "outputs": [],
   "source": [
    "l = ['rahul',10]\n",
    "t = 'rahul',10"
   ]
  },
  {
   "cell_type": "code",
   "execution_count": 67,
   "id": "682fdec1",
   "metadata": {},
   "outputs": [
    {
     "data": {
      "text/plain": [
       "['rahul', 10]"
      ]
     },
     "execution_count": 67,
     "metadata": {},
     "output_type": "execute_result"
    }
   ],
   "source": [
    "l"
   ]
  },
  {
   "cell_type": "code",
   "execution_count": 68,
   "id": "105819f1",
   "metadata": {},
   "outputs": [
    {
     "data": {
      "text/plain": [
       "('rahul', 10)"
      ]
     },
     "execution_count": 68,
     "metadata": {},
     "output_type": "execute_result"
    }
   ],
   "source": [
    "t"
   ]
  },
  {
   "cell_type": "code",
   "execution_count": 69,
   "id": "9ed3763e",
   "metadata": {},
   "outputs": [],
   "source": [
    "# Sets \n",
    "# set is a data type that stores unique elements \n",
    "# Syntax : set_name = {}\n",
    "#          set_name = set()\n",
    "# sets are unordered "
   ]
  },
  {
   "cell_type": "code",
   "execution_count": 71,
   "id": "db48e2de",
   "metadata": {},
   "outputs": [
    {
     "data": {
      "text/plain": [
       "(set, set)"
      ]
     },
     "execution_count": 71,
     "metadata": {},
     "output_type": "execute_result"
    }
   ],
   "source": [
    "s1 = {1,2,3,4,4,2}\n",
    "s2 = {'a',2,4,9,'r',6}\n",
    "type(s1),type(s2)"
   ]
  },
  {
   "cell_type": "code",
   "execution_count": 72,
   "id": "e2b8bdf0",
   "metadata": {},
   "outputs": [
    {
     "data": {
      "text/plain": [
       "{1, 2, 3, 4}"
      ]
     },
     "execution_count": 72,
     "metadata": {},
     "output_type": "execute_result"
    }
   ],
   "source": [
    "s1"
   ]
  },
  {
   "cell_type": "code",
   "execution_count": 73,
   "id": "2ae059e6",
   "metadata": {},
   "outputs": [
    {
     "data": {
      "text/plain": [
       "{2, 4, 6, 9, 'a', 'r'}"
      ]
     },
     "execution_count": 73,
     "metadata": {},
     "output_type": "execute_result"
    }
   ],
   "source": [
    "s2"
   ]
  },
  {
   "cell_type": "code",
   "execution_count": 74,
   "id": "9d6ee4f4",
   "metadata": {},
   "outputs": [
    {
     "name": "stdout",
     "output_type": "stream",
     "text": [
      "['__and__', '__class__', '__class_getitem__', '__contains__', '__delattr__', '__dir__', '__doc__', '__eq__', '__format__', '__ge__', '__getattribute__', '__gt__', '__hash__', '__iand__', '__init__', '__init_subclass__', '__ior__', '__isub__', '__iter__', '__ixor__', '__le__', '__len__', '__lt__', '__ne__', '__new__', '__or__', '__rand__', '__reduce__', '__reduce_ex__', '__repr__', '__ror__', '__rsub__', '__rxor__', '__setattr__', '__sizeof__', '__str__', '__sub__', '__subclasshook__', '__xor__', 'add', 'clear', 'copy', 'difference', 'difference_update', 'discard', 'intersection', 'intersection_update', 'isdisjoint', 'issubset', 'issuperset', 'pop', 'remove', 'symmetric_difference', 'symmetric_difference_update', 'union', 'update']\n"
     ]
    }
   ],
   "source": [
    "print(dir(set))"
   ]
  },
  {
   "cell_type": "code",
   "execution_count": 75,
   "id": "07d5d983",
   "metadata": {},
   "outputs": [
    {
     "data": {
      "text/plain": [
       "({1, 2, 3, 4}, {2, 4, 6, 9, 'a', 'r'})"
      ]
     },
     "execution_count": 75,
     "metadata": {},
     "output_type": "execute_result"
    }
   ],
   "source": [
    "s1,s2"
   ]
  },
  {
   "cell_type": "code",
   "execution_count": 77,
   "id": "ae22c302",
   "metadata": {},
   "outputs": [
    {
     "data": {
      "text/plain": [
       "(4, 6)"
      ]
     },
     "execution_count": 77,
     "metadata": {},
     "output_type": "execute_result"
    }
   ],
   "source": [
    "len(s1),len(s2)"
   ]
  },
  {
   "cell_type": "code",
   "execution_count": 78,
   "id": "6c9dbaf8",
   "metadata": {},
   "outputs": [
    {
     "data": {
      "text/plain": [
       "<method 'union' of 'set' objects>"
      ]
     },
     "execution_count": 78,
     "metadata": {},
     "output_type": "execute_result"
    }
   ],
   "source": [
    "set.union"
   ]
  },
  {
   "cell_type": "code",
   "execution_count": 79,
   "id": "13cecc50",
   "metadata": {},
   "outputs": [
    {
     "data": {
      "text/plain": [
       "{1, 2, 3, 4, 6, 9, 'a', 'r'}"
      ]
     },
     "execution_count": 79,
     "metadata": {},
     "output_type": "execute_result"
    }
   ],
   "source": [
    "# The union method adds two or more sets \n",
    "s1.union(s2)"
   ]
  },
  {
   "cell_type": "code",
   "execution_count": 81,
   "id": "641dcaf9",
   "metadata": {},
   "outputs": [
    {
     "data": {
      "text/plain": [
       "{2, 4}"
      ]
     },
     "execution_count": 81,
     "metadata": {},
     "output_type": "execute_result"
    }
   ],
   "source": [
    "s1 & s2"
   ]
  },
  {
   "cell_type": "code",
   "execution_count": 82,
   "id": "54c72106",
   "metadata": {},
   "outputs": [
    {
     "data": {
      "text/plain": [
       "{1, 2, 3, 4}"
      ]
     },
     "execution_count": 82,
     "metadata": {},
     "output_type": "execute_result"
    }
   ],
   "source": [
    "s1 or s2"
   ]
  },
  {
   "cell_type": "code",
   "execution_count": 83,
   "id": "f7511639",
   "metadata": {},
   "outputs": [
    {
     "data": {
      "text/plain": [
       "{1, 2, 3, 4, 6, 9, 'a', 'r'}"
      ]
     },
     "execution_count": 83,
     "metadata": {},
     "output_type": "execute_result"
    }
   ],
   "source": [
    "s1 | s2"
   ]
  },
  {
   "cell_type": "code",
   "execution_count": 84,
   "id": "9d2881fc",
   "metadata": {},
   "outputs": [
    {
     "data": {
      "text/plain": [
       "<function set.intersection>"
      ]
     },
     "execution_count": 84,
     "metadata": {},
     "output_type": "execute_result"
    }
   ],
   "source": [
    "s1.intersection"
   ]
  },
  {
   "cell_type": "code",
   "execution_count": 85,
   "id": "8ceefbbe",
   "metadata": {},
   "outputs": [
    {
     "name": "stdout",
     "output_type": "stream",
     "text": [
      "Help on built-in function intersection:\n",
      "\n",
      "intersection(...) method of builtins.set instance\n",
      "    Return the intersection of two sets as a new set.\n",
      "    \n",
      "    (i.e. all elements that are in both sets.)\n",
      "\n"
     ]
    }
   ],
   "source": [
    "help(s1.intersection)"
   ]
  },
  {
   "cell_type": "code",
   "execution_count": 87,
   "id": "57d11e47",
   "metadata": {},
   "outputs": [
    {
     "data": {
      "text/plain": [
       "({1, 2, 3, 4}, {2, 4, 6, 9, 'a', 'r'})"
      ]
     },
     "execution_count": 87,
     "metadata": {},
     "output_type": "execute_result"
    }
   ],
   "source": [
    "s1,s2"
   ]
  },
  {
   "cell_type": "code",
   "execution_count": null,
   "id": "2bf85455",
   "metadata": {},
   "outputs": [],
   "source": []
  },
  {
   "cell_type": "code",
   "execution_count": 86,
   "id": "27f387ea",
   "metadata": {},
   "outputs": [],
   "source": [
    "s3 = s1.intersection(s2)"
   ]
  },
  {
   "cell_type": "code",
   "execution_count": 88,
   "id": "a98b06be",
   "metadata": {},
   "outputs": [
    {
     "data": {
      "text/plain": [
       "{2, 4}"
      ]
     },
     "execution_count": 88,
     "metadata": {},
     "output_type": "execute_result"
    }
   ],
   "source": [
    "s3"
   ]
  },
  {
   "cell_type": "code",
   "execution_count": 89,
   "id": "33f0b0a5",
   "metadata": {},
   "outputs": [
    {
     "data": {
      "text/plain": [
       "(2395856744240, str)"
      ]
     },
     "execution_count": 89,
     "metadata": {},
     "output_type": "execute_result"
    }
   ],
   "source": [
    "msg = 'Shashi'\n",
    "id(msg),type(msg)"
   ]
  },
  {
   "cell_type": "code",
   "execution_count": 90,
   "id": "f09ba90f",
   "metadata": {},
   "outputs": [],
   "source": [
    "msg = msg + 'Shekhar'\n"
   ]
  },
  {
   "cell_type": "code",
   "execution_count": 91,
   "id": "ee13005e",
   "metadata": {},
   "outputs": [
    {
     "data": {
      "text/plain": [
       "('ShashiShekhar', 2395856752816)"
      ]
     },
     "execution_count": 91,
     "metadata": {},
     "output_type": "execute_result"
    }
   ],
   "source": [
    "msg,id(msg)"
   ]
  },
  {
   "cell_type": "code",
   "execution_count": 93,
   "id": "c8a3b9ef",
   "metadata": {},
   "outputs": [],
   "source": [
    "# dictionaries are collections that stores items in key value pairs,all seperated by comma \n",
    "# syntax to create dictionaries \n",
    "# first_dictionary = dict()\n",
    "# second_dictinary = {\"name\":'rahul','age':38}"
   ]
  },
  {
   "cell_type": "code",
   "execution_count": 94,
   "id": "a7b33954",
   "metadata": {},
   "outputs": [],
   "source": [
    "phone_numbers = {'rahul':'83738','ujjwal':'84674398','shweta':'111111'}"
   ]
  },
  {
   "cell_type": "code",
   "execution_count": 96,
   "id": "9e677395",
   "metadata": {},
   "outputs": [
    {
     "data": {
      "text/plain": [
       "({'rahul': '83738', 'ujjwal': '84674398', 'shweta': '111111'}, dict)"
      ]
     },
     "execution_count": 96,
     "metadata": {},
     "output_type": "execute_result"
    }
   ],
   "source": [
    "phone_numbers,type(phone_numbers)"
   ]
  },
  {
   "cell_type": "code",
   "execution_count": 99,
   "id": "6f7f716e",
   "metadata": {},
   "outputs": [
    {
     "name": "stdout",
     "output_type": "stream",
     "text": [
      "['__class__', '__class_getitem__', '__contains__', '__delattr__', '__delitem__', '__dir__', '__doc__', '__eq__', '__format__', '__ge__', '__getattribute__', '__getitem__', '__gt__', '__hash__', '__init__', '__init_subclass__', '__ior__', '__iter__', '__le__', '__len__', '__lt__', '__ne__', '__new__', '__or__', '__reduce__', '__reduce_ex__', '__repr__', '__reversed__', '__ror__', '__setattr__', '__setitem__', '__sizeof__', '__str__', '__subclasshook__', 'clear', 'copy', 'fromkeys', 'get', 'items', 'keys', 'pop', 'popitem', 'setdefault', 'update', 'values']\n"
     ]
    }
   ],
   "source": [
    "print(dir(phone_numbers))"
   ]
  },
  {
   "cell_type": "code",
   "execution_count": 100,
   "id": "242e6015",
   "metadata": {},
   "outputs": [
    {
     "data": {
      "text/plain": [
       "<function dict.items>"
      ]
     },
     "execution_count": 100,
     "metadata": {},
     "output_type": "execute_result"
    }
   ],
   "source": [
    "phone_numbers.items"
   ]
  },
  {
   "cell_type": "code",
   "execution_count": 101,
   "id": "3b1b7192",
   "metadata": {},
   "outputs": [
    {
     "data": {
      "text/plain": [
       "dict_items([('rahul', '83738'), ('ujjwal', '84674398'), ('shweta', '111111')])"
      ]
     },
     "execution_count": 101,
     "metadata": {},
     "output_type": "execute_result"
    }
   ],
   "source": [
    "phone_numbers.items()"
   ]
  },
  {
   "cell_type": "code",
   "execution_count": 102,
   "id": "d4c51d43",
   "metadata": {},
   "outputs": [
    {
     "data": {
      "text/plain": [
       "dict_keys(['rahul', 'ujjwal', 'shweta'])"
      ]
     },
     "execution_count": 102,
     "metadata": {},
     "output_type": "execute_result"
    }
   ],
   "source": [
    "phone_numbers.keys()"
   ]
  },
  {
   "cell_type": "code",
   "execution_count": 103,
   "id": "c1fd0d47",
   "metadata": {},
   "outputs": [
    {
     "data": {
      "text/plain": [
       "dict_values(['83738', '84674398', '111111'])"
      ]
     },
     "execution_count": 103,
     "metadata": {},
     "output_type": "execute_result"
    }
   ],
   "source": [
    "phone_numbers.values()"
   ]
  },
  {
   "cell_type": "code",
   "execution_count": 104,
   "id": "c047df3a",
   "metadata": {},
   "outputs": [
    {
     "data": {
      "text/plain": [
       "'83738'"
      ]
     },
     "execution_count": 104,
     "metadata": {},
     "output_type": "execute_result"
    }
   ],
   "source": [
    "# Retrieving a value using key\n",
    "phone_numbers['rahul']"
   ]
  },
  {
   "cell_type": "code",
   "execution_count": null,
   "id": "1408fa36",
   "metadata": {},
   "outputs": [],
   "source": []
  }
 ],
 "metadata": {
  "kernelspec": {
   "display_name": "Python 3",
   "language": "python",
   "name": "python3"
  },
  "language_info": {
   "codemirror_mode": {
    "name": "ipython",
    "version": 3
   },
   "file_extension": ".py",
   "mimetype": "text/x-python",
   "name": "python",
   "nbconvert_exporter": "python",
   "pygments_lexer": "ipython3",
   "version": "3.9.6"
  }
 },
 "nbformat": 4,
 "nbformat_minor": 5
}
