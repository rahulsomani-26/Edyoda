{
 "cells": [
  {
   "cell_type": "code",
   "execution_count": 1,
   "id": "287928b8",
   "metadata": {},
   "outputs": [],
   "source": [
    "# While loop "
   ]
  },
  {
   "cell_type": "code",
   "execution_count": 2,
   "id": "2afe9b14",
   "metadata": {},
   "outputs": [
    {
     "name": "stdout",
     "output_type": "stream",
     "text": [
      "0\t1\t2\t3\t4\tEnd\n"
     ]
    }
   ],
   "source": [
    "num = 0 \n",
    "while num < 5:\n",
    "    print(num,end='\\t')\n",
    "    num = num + 1\n",
    "print('End')\n",
    "    "
   ]
  },
  {
   "cell_type": "code",
   "execution_count": 3,
   "id": "6b9ffcdf",
   "metadata": {},
   "outputs": [
    {
     "name": "stdout",
     "output_type": "stream",
     "text": [
      "0\t1\t2\t3\t4\tEnd of while\n",
      "End of program\n"
     ]
    }
   ],
   "source": [
    "num = 0 \n",
    "while num < 5:\n",
    "    print(num,end='\\t')\n",
    "    num = num + 1\n",
    "else:\n",
    "    print('End of while')\n",
    "print('End of program')\n",
    "    "
   ]
  },
  {
   "cell_type": "code",
   "execution_count": 4,
   "id": "0597b323",
   "metadata": {},
   "outputs": [
    {
     "name": "stdout",
     "output_type": "stream",
     "text": [
      "your name\n"
     ]
    }
   ],
   "source": [
    "print('your name')\n"
   ]
  },
  {
   "cell_type": "code",
   "execution_count": 5,
   "id": "f98ea984",
   "metadata": {},
   "outputs": [
    {
     "name": "stdout",
     "output_type": "stream",
     "text": [
      "your name\n",
      "your name\n",
      "your name\n",
      "your name\n",
      "your name\n",
      " Finished looping\n",
      " Finally the end \n"
     ]
    }
   ],
   "source": [
    "i=1\n",
    "while i < 10:\n",
    "    print('your name')\n",
    "    i=i+2\n",
    "else:\n",
    "    print(' Finished looping')\n",
    "print(' Finally the end ')"
   ]
  },
  {
   "cell_type": "code",
   "execution_count": 6,
   "id": "e63715ce",
   "metadata": {},
   "outputs": [
    {
     "name": "stdout",
     "output_type": "stream",
     "text": [
      "0\t1\t2\t3\t4\t5\t6\t7\t8\t9\tEnd of for loop\n",
      "End of program \n"
     ]
    }
   ],
   "source": [
    "for i in range(10):\n",
    "    print(i,end='\\t')\n",
    "else:\n",
    "    print('End of for loop')\n",
    "print('End of program ')"
   ]
  },
  {
   "cell_type": "code",
   "execution_count": 7,
   "id": "72f8ab5f",
   "metadata": {},
   "outputs": [],
   "source": [
    "while 0:\n",
    "    print('hello')"
   ]
  },
  {
   "cell_type": "code",
   "execution_count": 8,
   "id": "f257e472",
   "metadata": {},
   "outputs": [
    {
     "data": {
      "text/plain": [
       "False"
      ]
     },
     "execution_count": 8,
     "metadata": {},
     "output_type": "execute_result"
    }
   ],
   "source": [
    "bool(0)"
   ]
  },
  {
   "cell_type": "code",
   "execution_count": 9,
   "id": "a9e22080",
   "metadata": {},
   "outputs": [
    {
     "name": "stdout",
     "output_type": "stream",
     "text": [
      "A falsy \n"
     ]
    }
   ],
   "source": [
    "while 0:\n",
    "    print('hello')\n",
    "else:\n",
    "    print('A falsy ')"
   ]
  },
  {
   "cell_type": "code",
   "execution_count": 10,
   "id": "dbd6d96c",
   "metadata": {},
   "outputs": [
    {
     "data": {
      "text/plain": [
       "False"
      ]
     },
     "execution_count": 10,
     "metadata": {},
     "output_type": "execute_result"
    }
   ],
   "source": [
    "i=0\n",
    "bool(i)"
   ]
  },
  {
   "cell_type": "code",
   "execution_count": 11,
   "id": "eda590f9",
   "metadata": {},
   "outputs": [
    {
     "data": {
      "text/plain": [
       "True"
      ]
     },
     "execution_count": 11,
     "metadata": {},
     "output_type": "execute_result"
    }
   ],
   "source": [
    "t=-76484\n",
    "bool(t)"
   ]
  },
  {
   "cell_type": "code",
   "execution_count": 12,
   "id": "5b6eb421",
   "metadata": {},
   "outputs": [
    {
     "name": "stdout",
     "output_type": "stream",
     "text": [
      "End of program\n"
     ]
    }
   ],
   "source": [
    "for i in range(10):\n",
    "    break\n",
    "print('End of program')"
   ]
  },
  {
   "cell_type": "code",
   "execution_count": 13,
   "id": "01400930",
   "metadata": {},
   "outputs": [
    {
     "name": "stdout",
     "output_type": "stream",
     "text": [
      "End of program\n"
     ]
    }
   ],
   "source": [
    "for i in range(10):\n",
    "    continue\n",
    "print('End of program')"
   ]
  },
  {
   "cell_type": "code",
   "execution_count": 14,
   "id": "b228bf58",
   "metadata": {},
   "outputs": [],
   "source": [
    "from time import time"
   ]
  },
  {
   "cell_type": "code",
   "execution_count": 15,
   "id": "9342eb23",
   "metadata": {},
   "outputs": [
    {
     "name": "stdout",
     "output_type": "stream",
     "text": [
      "Help on built-in function time in module time:\n",
      "\n",
      "time(...)\n",
      "    time() -> floating point number\n",
      "    \n",
      "    Return the current time in seconds since the Epoch.\n",
      "    Fractions of a second may be present if the system clock provides them.\n",
      "\n"
     ]
    }
   ],
   "source": [
    "help(time)"
   ]
  },
  {
   "cell_type": "code",
   "execution_count": 16,
   "id": "79eecc74",
   "metadata": {},
   "outputs": [
    {
     "data": {
      "text/plain": [
       "1633100096.5458975"
      ]
     },
     "execution_count": 16,
     "metadata": {},
     "output_type": "execute_result"
    }
   ],
   "source": [
    "time()"
   ]
  },
  {
   "cell_type": "code",
   "execution_count": 17,
   "id": "75bc4089",
   "metadata": {},
   "outputs": [
    {
     "name": "stdout",
     "output_type": "stream",
     "text": [
      "End of program\n",
      " Time taken = 0.003984928131103516 secs\n"
     ]
    }
   ],
   "source": [
    "start = time()\n",
    "for i in range(10):\n",
    "    break\n",
    "print('End of program')\n",
    "end = time()\n",
    "print(' Time taken = {} secs'.format(end-start))"
   ]
  },
  {
   "cell_type": "code",
   "execution_count": 18,
   "id": "93719c73",
   "metadata": {},
   "outputs": [
    {
     "name": "stdout",
     "output_type": "stream",
     "text": [
      "End of program\n",
      " Time taken = 0.0 secs\n"
     ]
    }
   ],
   "source": [
    "start = time()\n",
    "for i in range(10):\n",
    "    continue\n",
    "print('End of program')\n",
    "end = time()\n",
    "print(' Time taken = {} secs'.format(end-start))"
   ]
  },
  {
   "cell_type": "code",
   "execution_count": 19,
   "id": "669b8acd",
   "metadata": {},
   "outputs": [
    {
     "name": "stdout",
     "output_type": "stream",
     "text": [
      " I am now 0\n",
      " I am now 1\n",
      " I am now 2\n",
      " I am now 3\n",
      " I am now 4\n",
      " I am now 5\n",
      " Reached 5. Coming out \n",
      "End of program\n",
      "Time taken = 0.007999420166015625 secs \n"
     ]
    }
   ],
   "source": [
    "start = time()\n",
    "for i in range(1000000):\n",
    "    print(' I am now {}'.format(i))\n",
    "    if i == 5:\n",
    "        print(' Reached 5. Coming out ')\n",
    "        break\n",
    "print('End of program')\n",
    "end = time()\n",
    "print('Time taken = {} secs '.format(end-start))"
   ]
  },
  {
   "cell_type": "code",
   "execution_count": 20,
   "id": "e07fee53",
   "metadata": {},
   "outputs": [
    {
     "name": "stdout",
     "output_type": "stream",
     "text": [
      " I am now 0\n",
      " I am now 1\n",
      " I am now 2\n",
      " I am now 3\n",
      " I am now 4\n",
      " I am now 5\n",
      " Reached 5. Coming out \n",
      " I am now 6\n",
      " I am now 7\n",
      " I am now 8\n",
      " I am now 9\n",
      " I am now 10\n",
      " I am now 11\n",
      " I am now 12\n",
      " I am now 13\n",
      " I am now 14\n",
      " I am now 15\n",
      " I am now 16\n",
      " I am now 17\n",
      " I am now 18\n",
      " I am now 19\n",
      "End of program\n",
      "Time taken = 0.027995824813842773 secs \n"
     ]
    }
   ],
   "source": [
    "start = time()\n",
    "for i in range(20):\n",
    "    print(' I am now {}'.format(i))\n",
    "    if i == 5:\n",
    "        print(' Reached 5. Coming out ')\n",
    "        continue\n",
    "print('End of program')\n",
    "end = time()\n",
    "print('Time taken = {} secs '.format(end-start))"
   ]
  },
  {
   "cell_type": "code",
   "execution_count": 21,
   "id": "2b151ad3",
   "metadata": {},
   "outputs": [],
   "source": [
    "pass"
   ]
  },
  {
   "cell_type": "code",
   "execution_count": 22,
   "id": "f814d06a",
   "metadata": {},
   "outputs": [],
   "source": [
    "for i in range(10):\n",
    "    pass\n"
   ]
  },
  {
   "cell_type": "code",
   "execution_count": 23,
   "id": "53128832",
   "metadata": {},
   "outputs": [
    {
     "ename": "SyntaxError",
     "evalue": "invalid syntax (<ipython-input-23-2c64dcef1de8>, line 1)",
     "output_type": "error",
     "traceback": [
      "\u001b[1;36m  File \u001b[1;32m\"<ipython-input-23-2c64dcef1de8>\"\u001b[1;36m, line \u001b[1;32m1\u001b[0m\n\u001b[1;33m    help(pass)\u001b[0m\n\u001b[1;37m         ^\u001b[0m\n\u001b[1;31mSyntaxError\u001b[0m\u001b[1;31m:\u001b[0m invalid syntax\n"
     ]
    }
   ],
   "source": [
    "help(pass)"
   ]
  },
  {
   "cell_type": "code",
   "execution_count": 24,
   "id": "470ac44b",
   "metadata": {},
   "outputs": [
    {
     "name": "stdout",
     "output_type": "stream",
     "text": [
      "1\n",
      "2\n",
      "3\n",
      "4\n",
      "end\n"
     ]
    }
   ],
   "source": [
    "i=1\n",
    "while i < 5:\n",
    "    print(i)\n",
    "    i+=1\n",
    "    pass\n",
    "print('end')"
   ]
  },
  {
   "cell_type": "code",
   "execution_count": 25,
   "id": "70d0f1a9",
   "metadata": {},
   "outputs": [],
   "source": [
    "def my_func():\n",
    "    pass"
   ]
  },
  {
   "cell_type": "code",
   "execution_count": 26,
   "id": "b9c245e8",
   "metadata": {},
   "outputs": [
    {
     "data": {
      "text/plain": [
       "<function __main__.my_func()>"
      ]
     },
     "execution_count": 26,
     "metadata": {},
     "output_type": "execute_result"
    }
   ],
   "source": [
    "my_func"
   ]
  },
  {
   "cell_type": "code",
   "execution_count": 28,
   "id": "53c1f64a",
   "metadata": {},
   "outputs": [
    {
     "ename": "SyntaxError",
     "evalue": "invalid syntax (<ipython-input-28-66e9977e2946>, line 1)",
     "output_type": "error",
     "traceback": [
      "\u001b[1;36m  File \u001b[1;32m\"<ipython-input-28-66e9977e2946>\"\u001b[1;36m, line \u001b[1;32m1\u001b[0m\n\u001b[1;33m    help(for),help(while)\u001b[0m\n\u001b[1;37m         ^\u001b[0m\n\u001b[1;31mSyntaxError\u001b[0m\u001b[1;31m:\u001b[0m invalid syntax\n"
     ]
    }
   ],
   "source": [
    "help(for),help(while)"
   ]
  },
  {
   "cell_type": "code",
   "execution_count": 29,
   "id": "8c8a5b70",
   "metadata": {},
   "outputs": [
    {
     "ename": "SyntaxError",
     "evalue": "'continue' not properly in loop (<ipython-input-29-6ca52a340915>, line 1)",
     "output_type": "error",
     "traceback": [
      "\u001b[1;36m  File \u001b[1;32m\"<ipython-input-29-6ca52a340915>\"\u001b[1;36m, line \u001b[1;32m1\u001b[0m\n\u001b[1;33m    continue\u001b[0m\n\u001b[1;37m    ^\u001b[0m\n\u001b[1;31mSyntaxError\u001b[0m\u001b[1;31m:\u001b[0m 'continue' not properly in loop\n"
     ]
    }
   ],
   "source": [
    "continue"
   ]
  },
  {
   "cell_type": "code",
   "execution_count": 30,
   "id": "df64621c",
   "metadata": {},
   "outputs": [
    {
     "ename": "SyntaxError",
     "evalue": "'break' outside loop (<ipython-input-30-6aaf1f276005>, line 1)",
     "output_type": "error",
     "traceback": [
      "\u001b[1;36m  File \u001b[1;32m\"<ipython-input-30-6aaf1f276005>\"\u001b[1;36m, line \u001b[1;32m1\u001b[0m\n\u001b[1;33m    break\u001b[0m\n\u001b[1;37m    ^\u001b[0m\n\u001b[1;31mSyntaxError\u001b[0m\u001b[1;31m:\u001b[0m 'break' outside loop\n"
     ]
    }
   ],
   "source": [
    "break"
   ]
  },
  {
   "cell_type": "code",
   "execution_count": 31,
   "id": "b254c865",
   "metadata": {},
   "outputs": [],
   "source": [
    "pass"
   ]
  },
  {
   "cell_type": "code",
   "execution_count": 33,
   "id": "6fe8df53",
   "metadata": {},
   "outputs": [
    {
     "name": "stdout",
     "output_type": "stream",
     "text": [
      "0\n",
      "1\n",
      "2\n",
      "3\n",
      "4\n"
     ]
    }
   ],
   "source": [
    "for i in range(5):\n",
    "    if i==3:\n",
    "        print(i)\n",
    "        continue\n",
    "    print(i)\n"
   ]
  },
  {
   "cell_type": "code",
   "execution_count": 34,
   "id": "3ee1f88b",
   "metadata": {},
   "outputs": [
    {
     "name": "stdout",
     "output_type": "stream",
     "text": [
      "Enter your nameamit\n",
      "Enter your age10\n",
      "amit 10\n",
      " caught it \n"
     ]
    }
   ],
   "source": [
    "name = input(\"Enter your name\")\n",
    "age = int(input(\"Enter your age\"))\n",
    "print(name,age)\n",
    "pass \n",
    "print(' caught it ')"
   ]
  },
  {
   "cell_type": "code",
   "execution_count": null,
   "id": "77b2f64f",
   "metadata": {},
   "outputs": [],
   "source": []
  }
 ],
 "metadata": {
  "kernelspec": {
   "display_name": "Python 3",
   "language": "python",
   "name": "python3"
  },
  "language_info": {
   "codemirror_mode": {
    "name": "ipython",
    "version": 3
   },
   "file_extension": ".py",
   "mimetype": "text/x-python",
   "name": "python",
   "nbconvert_exporter": "python",
   "pygments_lexer": "ipython3",
   "version": "3.9.6"
  }
 },
 "nbformat": 4,
 "nbformat_minor": 5
}
