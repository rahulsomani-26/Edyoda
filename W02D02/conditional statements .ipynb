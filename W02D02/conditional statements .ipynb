{
 "cells": [
  {
   "cell_type": "markdown",
   "id": "c634f5ef",
   "metadata": {},
   "source": [
    "# Conditional Statements \n",
    "`` Are statements that are executed only when a certain condition is met. \n",
    "Conditions can be a simple value, or an expression. In any case, python will evaluate the value \n",
    "or the expression to a boolean value ( True or False )``"
   ]
  },
  {
   "cell_type": "markdown",
   "id": "a72cd785",
   "metadata": {},
   "source": [
    "``Syntax of an if statement \n",
    "\n",
    "if condition:\n",
    "    statement_1\n",
    "    statement_2``\n",
    "    \n",
    "    "
   ]
  },
  {
   "cell_type": "code",
   "execution_count": 1,
   "id": "06774db5",
   "metadata": {},
   "outputs": [
    {
     "name": "stdout",
     "output_type": "stream",
     "text": [
      "10\n",
      "20\n"
     ]
    }
   ],
   "source": [
    "x = 10 \n",
    "print(x)\n",
    "x=x+10\n",
    "print(x)\n",
    "\n"
   ]
  },
  {
   "cell_type": "code",
   "execution_count": 2,
   "id": "037d0e7f",
   "metadata": {},
   "outputs": [
    {
     "name": "stdout",
     "output_type": "stream",
     "text": [
      "num = 10, address = 2075414850128\n"
     ]
    }
   ],
   "source": [
    "num = 10 \n",
    "if num == 10:\n",
    "    print('num = {}, address = {}'.format(num,id(num)))\n"
   ]
  },
  {
   "cell_type": "code",
   "execution_count": 3,
   "id": "801bdddb",
   "metadata": {},
   "outputs": [
    {
     "name": "stdout",
     "output_type": "stream",
     "text": [
      "num = 10, address = 2075414850128\n",
      "num = 20, address = 2075414850448\n"
     ]
    }
   ],
   "source": [
    "num = 10 \n",
    "if num == 10:\n",
    "    print('num = {}, address = {}'.format(num,id(num)))\n",
    "    num+=10\n",
    "    print('num = {}, address = {}'.format(num,id(num)))\n",
    "    \n",
    "    \n"
   ]
  },
  {
   "cell_type": "code",
   "execution_count": 4,
   "id": "e1a8c119",
   "metadata": {},
   "outputs": [
    {
     "data": {
      "text/plain": [
       "20"
      ]
     },
     "execution_count": 4,
     "metadata": {},
     "output_type": "execute_result"
    }
   ],
   "source": [
    "num \n",
    "    "
   ]
  },
  {
   "cell_type": "code",
   "execution_count": 5,
   "id": "07a8c64c",
   "metadata": {},
   "outputs": [
    {
     "data": {
      "text/plain": [
       "True"
      ]
     },
     "execution_count": 5,
     "metadata": {},
     "output_type": "execute_result"
    }
   ],
   "source": [
    "num==20"
   ]
  },
  {
   "cell_type": "code",
   "execution_count": 6,
   "id": "8a096cfc",
   "metadata": {},
   "outputs": [
    {
     "data": {
      "text/plain": [
       "False"
      ]
     },
     "execution_count": 6,
     "metadata": {},
     "output_type": "execute_result"
    }
   ],
   "source": [
    "num !=20"
   ]
  },
  {
   "cell_type": "code",
   "execution_count": 8,
   "id": "06abf454",
   "metadata": {},
   "outputs": [
    {
     "name": "stdout",
     "output_type": "stream",
     "text": [
      "Else reached\n"
     ]
    }
   ],
   "source": [
    "num = 10 \n",
    "if num < 10:\n",
    "    print('num = {}, address = {}'.format(num,id(num)))\n",
    "    num+=10\n",
    "    print('num = {}, address = {}'.format(num,id(num)))\n",
    "else:\n",
    "    print('Else reached')\n",
    "    \n",
    "    \n",
    "    "
   ]
  },
  {
   "cell_type": "code",
   "execution_count": 9,
   "id": "140475d3",
   "metadata": {},
   "outputs": [
    {
     "name": "stdout",
     "output_type": "stream",
     "text": [
      "num = 10, address = 2075414850128\n",
      "num = 20, address = 2075414850448\n",
      "*********************************End of Program*********************************\n"
     ]
    }
   ],
   "source": [
    "num = 10 \n",
    "if num == 10:\n",
    "    print('num = {}, address = {}'.format(num,id(num)))\n",
    "    num+=10\n",
    "    print('num = {}, address = {}'.format(num,id(num)))\n",
    "print('End of Program'.center(80,'*'))\n",
    "    \n",
    "    "
   ]
  },
  {
   "cell_type": "code",
   "execution_count": 10,
   "id": "bddf7ef1",
   "metadata": {},
   "outputs": [
    {
     "name": "stdout",
     "output_type": "stream",
     "text": [
      "1\n"
     ]
    }
   ],
   "source": [
    "a = 1\n",
    "print(a)"
   ]
  },
  {
   "cell_type": "code",
   "execution_count": 11,
   "id": "d093dea0",
   "metadata": {},
   "outputs": [],
   "source": [
    "a = a+1"
   ]
  },
  {
   "cell_type": "code",
   "execution_count": 12,
   "id": "46c69d11",
   "metadata": {},
   "outputs": [
    {
     "data": {
      "text/plain": [
       "2"
      ]
     },
     "execution_count": 12,
     "metadata": {},
     "output_type": "execute_result"
    }
   ],
   "source": [
    "a"
   ]
  },
  {
   "cell_type": "code",
   "execution_count": 13,
   "id": "7216e39d",
   "metadata": {},
   "outputs": [],
   "source": [
    "a+=1"
   ]
  },
  {
   "cell_type": "code",
   "execution_count": 14,
   "id": "491db11d",
   "metadata": {},
   "outputs": [
    {
     "data": {
      "text/plain": [
       "3"
      ]
     },
     "execution_count": 14,
     "metadata": {},
     "output_type": "execute_result"
    }
   ],
   "source": [
    "a"
   ]
  },
  {
   "cell_type": "code",
   "execution_count": 15,
   "id": "4c39fd2b",
   "metadata": {},
   "outputs": [
    {
     "name": "stdout",
     "output_type": "stream",
     "text": [
      " To less\n"
     ]
    }
   ],
   "source": [
    "salary = 5000.48 \n",
    "if salary == 5000.48:\n",
    "    print(\" To less\")\n",
    "else:\n",
    "    print('Still less.....')"
   ]
  },
  {
   "cell_type": "code",
   "execution_count": 16,
   "id": "8db8ad19",
   "metadata": {},
   "outputs": [
    {
     "name": "stdout",
     "output_type": "stream",
     "text": [
      "Still less.....\n"
     ]
    }
   ],
   "source": [
    "salary = 5000.48 \n",
    "if salary != 5000.48:\n",
    "    print(\" To less\")\n",
    "else:\n",
    "    print('Still less.....')"
   ]
  },
  {
   "cell_type": "markdown",
   "id": "e345eb91",
   "metadata": {},
   "source": [
    "# Sequence types containers \n"
   ]
  },
  {
   "cell_type": "code",
   "execution_count": 17,
   "id": "36ab7515",
   "metadata": {},
   "outputs": [
    {
     "data": {
      "text/plain": [
       "(2075488339328, 2075488689664)"
      ]
     },
     "execution_count": 17,
     "metadata": {},
     "output_type": "execute_result"
    }
   ],
   "source": [
    "l1 = [1,2,3]\n",
    "l2 = [1,2,3]\n",
    "\n",
    "id(l1), id(l2)"
   ]
  },
  {
   "cell_type": "code",
   "execution_count": 18,
   "id": "caafe2ba",
   "metadata": {},
   "outputs": [
    {
     "data": {
      "text/plain": [
       "False"
      ]
     },
     "execution_count": 18,
     "metadata": {},
     "output_type": "execute_result"
    }
   ],
   "source": [
    "id(l1) == id(l2)"
   ]
  },
  {
   "cell_type": "code",
   "execution_count": 19,
   "id": "b95aec44",
   "metadata": {},
   "outputs": [
    {
     "data": {
      "text/plain": [
       "True"
      ]
     },
     "execution_count": 19,
     "metadata": {},
     "output_type": "execute_result"
    }
   ],
   "source": [
    "l1 == l2"
   ]
  },
  {
   "cell_type": "code",
   "execution_count": 20,
   "id": "1e1da28d",
   "metadata": {},
   "outputs": [
    {
     "name": "stdout",
     "output_type": "stream",
     "text": [
      "Equal\n"
     ]
    }
   ],
   "source": [
    "l1 = [1,2,3]\n",
    "l2 = [1,2,3]\n",
    "if l1==l2:\n",
    "    print('Equal')\n",
    "else:\n",
    "    print('Not Equal')\n"
   ]
  },
  {
   "cell_type": "code",
   "execution_count": 21,
   "id": "2bad48f1",
   "metadata": {},
   "outputs": [
    {
     "data": {
      "text/plain": [
       "True"
      ]
     },
     "execution_count": 21,
     "metadata": {},
     "output_type": "execute_result"
    }
   ],
   "source": [
    "[1,2,3,4] == [1,2,3,4]"
   ]
  },
  {
   "cell_type": "code",
   "execution_count": 22,
   "id": "8f549b98",
   "metadata": {},
   "outputs": [
    {
     "data": {
      "text/plain": [
       "True"
      ]
     },
     "execution_count": 22,
     "metadata": {},
     "output_type": "execute_result"
    }
   ],
   "source": [
    "[1,2,3,4]>= [1,2,3,4]"
   ]
  },
  {
   "cell_type": "code",
   "execution_count": 23,
   "id": "446b8661",
   "metadata": {},
   "outputs": [
    {
     "data": {
      "text/plain": [
       "False"
      ]
     },
     "execution_count": 23,
     "metadata": {},
     "output_type": "execute_result"
    }
   ],
   "source": [
    "[1,2,3,4] < [1,2,3,4]"
   ]
  },
  {
   "cell_type": "code",
   "execution_count": 24,
   "id": "e803be5a",
   "metadata": {},
   "outputs": [
    {
     "data": {
      "text/plain": [
       "False"
      ]
     },
     "execution_count": 24,
     "metadata": {},
     "output_type": "execute_result"
    }
   ],
   "source": [
    "[1,2,3,4] == [1,2,3]"
   ]
  },
  {
   "cell_type": "code",
   "execution_count": 28,
   "id": "7ab0e758",
   "metadata": {},
   "outputs": [
    {
     "data": {
      "text/plain": [
       "True"
      ]
     },
     "execution_count": 28,
     "metadata": {},
     "output_type": "execute_result"
    }
   ],
   "source": [
    "len([1,2,3,4]) > len([1,2,3])    # True and True and True an"
   ]
  },
  {
   "cell_type": "code",
   "execution_count": 26,
   "id": "56c725ef",
   "metadata": {},
   "outputs": [
    {
     "data": {
      "text/plain": [
       "False"
      ]
     },
     "execution_count": 26,
     "metadata": {},
     "output_type": "execute_result"
    }
   ],
   "source": [
    "(1,2,3) > (1,2,3,4)"
   ]
  },
  {
   "cell_type": "code",
   "execution_count": 27,
   "id": "8296200d",
   "metadata": {},
   "outputs": [
    {
     "data": {
      "text/plain": [
       "True"
      ]
     },
     "execution_count": 27,
     "metadata": {},
     "output_type": "execute_result"
    }
   ],
   "source": [
    "(1,2,3) <(1,2,3,4)"
   ]
  },
  {
   "cell_type": "code",
   "execution_count": 29,
   "id": "e9cc7088",
   "metadata": {},
   "outputs": [
    {
     "name": "stdout",
     "output_type": "stream",
     "text": [
      "Not Equal\n"
     ]
    }
   ],
   "source": [
    "l1 = [1,2,3,'']\n",
    "l2 = [1,2,3]\n",
    "if l1==l2:\n",
    "    print('Equal')\n",
    "else:\n",
    "    print('Not Equal')"
   ]
  },
  {
   "cell_type": "markdown",
   "id": "f66a6423",
   "metadata": {},
   "source": [
    "``if conditon:\n",
    "    statement_1\n",
    "    statement_2\n",
    "  elif new_condition:\n",
    "    statement_3\n",
    "  else:\n",
    "    statement_4\n",
    "  statement_5``"
   ]
  },
  {
   "cell_type": "code",
   "execution_count": 2,
   "id": "520a749e",
   "metadata": {},
   "outputs": [
    {
     "name": "stdout",
     "output_type": "stream",
     "text": [
      "Enter a number 200\n",
      " Greater than zero \n"
     ]
    }
   ],
   "source": [
    "num = int(input(\"Enter a number \"))\n",
    "if num == 0:\n",
    "    print(\" Equal to zero\")\n",
    "elif num < 0:\n",
    "    print(\" Less than zero \")\n",
    "else:\n",
    "    print(\" Greater than zero \")\n",
    "    "
   ]
  },
  {
   "cell_type": "code",
   "execution_count": 4,
   "id": "5f824a6c",
   "metadata": {},
   "outputs": [
    {
     "name": "stdout",
     "output_type": "stream",
     "text": [
      "Enter number 3\n",
      "Ternary\n",
      "###############################End of the program###############################\n"
     ]
    }
   ],
   "source": [
    "num = int(input(\"Enter number \"))\n",
    "if num ==1:\n",
    "    print('A singleton value')\n",
    "elif num ==2:\n",
    "    print('Binary')\n",
    "elif num==3:\n",
    "    print(\"Ternary\")\n",
    "elif num==4:\n",
    "    print('Tuplets')\n",
    "else:\n",
    "    print('In the else section ')\n",
    "print('End of the program'.center(80,'#'))"
   ]
  },
  {
   "cell_type": "code",
   "execution_count": 5,
   "id": "e02c6f72",
   "metadata": {},
   "outputs": [
    {
     "name": "stdout",
     "output_type": "stream",
     "text": [
      "Enter number 2\n",
      "Binary\n",
      "###############################End of the program###############################\n"
     ]
    }
   ],
   "source": [
    "num = int(input(\"Enter number \"))\n",
    "if num ==1:\n",
    "    print('A singleton value')\n",
    "elif num ==2:\n",
    "    print('Binary')\n",
    "elif num==3:\n",
    "    print(\"Ternary\")\n",
    "elif num==4:\n",
    "    print('Tuplets')\n",
    "else:\n",
    "    print('In the else section ')\n",
    "print('End of the program'.center(80,'#'))"
   ]
  },
  {
   "cell_type": "code",
   "execution_count": 9,
   "id": "b292d316",
   "metadata": {},
   "outputs": [
    {
     "name": "stdout",
     "output_type": "stream",
     "text": [
      "Enter number 2\n",
      "This is not a binary\n",
      "*******************************End of the program*******************************\n"
     ]
    }
   ],
   "source": [
    "num = int(input(\"Enter number \"))\n",
    "if num ==1:\n",
    "    print('Not a singleton value')\n",
    "elif num ==2:\n",
    "    print('This is not a binary')\n",
    "elif num==3:\n",
    "    print(\"Not a Ternary\")\n",
    "elif num==4:\n",
    "    print('not a Tuplets')\n",
    "else:\n",
    "    print('In the else section ')\n",
    "print('End of the program'.center(80,'*'))"
   ]
  },
  {
   "cell_type": "code",
   "execution_count": 10,
   "id": "2205f16d",
   "metadata": {},
   "outputs": [],
   "source": [
    "a,b,c = 10,20,30"
   ]
  },
  {
   "cell_type": "code",
   "execution_count": 11,
   "id": "75ec7122",
   "metadata": {},
   "outputs": [
    {
     "data": {
      "text/plain": [
       "10"
      ]
     },
     "execution_count": 11,
     "metadata": {},
     "output_type": "execute_result"
    }
   ],
   "source": [
    "a"
   ]
  },
  {
   "cell_type": "code",
   "execution_count": 12,
   "id": "e41267ba",
   "metadata": {},
   "outputs": [
    {
     "data": {
      "text/plain": [
       "(20, 30)"
      ]
     },
     "execution_count": 12,
     "metadata": {},
     "output_type": "execute_result"
    }
   ],
   "source": [
    "b,c"
   ]
  },
  {
   "cell_type": "markdown",
   "id": "9cb41a76",
   "metadata": {},
   "source": [
    "# Finding the maximum of 3 numbers \n",
    "``if a>b and a>c:\n",
    "    print('The max is a')\n",
    "  elif b>a and b>c:\n",
    "    print(' The max is b')\n",
    "  else:\n",
    "    print(' The max is c')``"
   ]
  },
  {
   "cell_type": "code",
   "execution_count": 15,
   "id": "8a8700aa",
   "metadata": {},
   "outputs": [],
   "source": [
    "a,b,c= 10,12,8"
   ]
  },
  {
   "cell_type": "code",
   "execution_count": 16,
   "id": "7160a30f",
   "metadata": {},
   "outputs": [
    {
     "data": {
      "text/plain": [
       "(10, 12, 8)"
      ]
     },
     "execution_count": 16,
     "metadata": {},
     "output_type": "execute_result"
    }
   ],
   "source": [
    "a,b,c"
   ]
  },
  {
   "cell_type": "code",
   "execution_count": 18,
   "id": "8921b7ca",
   "metadata": {},
   "outputs": [
    {
     "name": "stdout",
     "output_type": "stream",
     "text": [
      "Max = 12\n"
     ]
    }
   ],
   "source": [
    "if a>b and a>c:\n",
    "    print('Max = {}'.format(a))\n",
    "elif b>a and b>c:\n",
    "    print('Max = {}'.format(b))\n",
    "else:\n",
    "    print('Max = {}'.format(c))"
   ]
  },
  {
   "cell_type": "code",
   "execution_count": 25,
   "id": "6007023d",
   "metadata": {},
   "outputs": [
    {
     "name": "stdout",
     "output_type": "stream",
     "text": [
      "Enter first number 1\n",
      "Enter second number 1\n",
      "Enter third number 1\n",
      "c\n",
      "*********************************End of program*********************************\n"
     ]
    }
   ],
   "source": [
    "a = int(input(\"Enter first number \"))\n",
    "b = int(input(\"Enter second number \"))\n",
    "c = int(input(\"Enter third number \"))\n",
    "\n",
    "if a>b and a>c:\n",
    "    print('a')\n",
    "elif b>a and b>c:\n",
    "    print('b')\n",
    "else:\n",
    "    print('c')\n",
    "print('End of program'.center(80,'*'))\n"
   ]
  },
  {
   "cell_type": "code",
   "execution_count": 23,
   "id": "404e1b31",
   "metadata": {},
   "outputs": [
    {
     "name": "stdout",
     "output_type": "stream",
     "text": [
      " Finally found you \n"
     ]
    }
   ],
   "source": [
    "# Nested if\n",
    "name = 'ankit'\n",
    "age = 10\n",
    "if age ==10:\n",
    "    if name =='ankit':\n",
    "        print(\" Finally found you \")\n",
    "    else:\n",
    "        print(\"No amit here\")\n",
    "else:\n",
    "    print(' No one with age 10 here ')\n",
    "        "
   ]
  },
  {
   "cell_type": "markdown",
   "id": "fd38e02c",
   "metadata": {},
   "source": [
    "``Short hand if-else statement \n",
    "can be used to write if-else statements in a single line \n",
    "there is only one statement to be executed in both if and else block \n",
    "\n",
    "Syntax:\n",
    "   statement_True if condition else statement_False``"
   ]
  },
  {
   "cell_type": "code",
   "execution_count": 26,
   "id": "7dcfed2e",
   "metadata": {},
   "outputs": [
    {
     "name": "stdout",
     "output_type": "stream",
     "text": [
      "Found\n"
     ]
    }
   ],
   "source": [
    "print('Found') if age ==10 and name =='ankit' else print('Not Found')"
   ]
  },
  {
   "cell_type": "code",
   "execution_count": 27,
   "id": "3fa11f04",
   "metadata": {},
   "outputs": [
    {
     "data": {
      "text/plain": [
       "True"
      ]
     },
     "execution_count": 27,
     "metadata": {},
     "output_type": "execute_result"
    }
   ],
   "source": [
    " age ==10 and name =='ankit'"
   ]
  },
  {
   "cell_type": "code",
   "execution_count": 28,
   "id": "b13047e8",
   "metadata": {},
   "outputs": [],
   "source": [
    "a,b=10,10"
   ]
  },
  {
   "cell_type": "code",
   "execution_count": 29,
   "id": "8f69aed0",
   "metadata": {},
   "outputs": [
    {
     "data": {
      "text/plain": [
       "10"
      ]
     },
     "execution_count": 29,
     "metadata": {},
     "output_type": "execute_result"
    }
   ],
   "source": [
    "a"
   ]
  },
  {
   "cell_type": "code",
   "execution_count": 30,
   "id": "e4ca6447",
   "metadata": {},
   "outputs": [
    {
     "data": {
      "text/plain": [
       "10"
      ]
     },
     "execution_count": 30,
     "metadata": {},
     "output_type": "execute_result"
    }
   ],
   "source": [
    "b"
   ]
  },
  {
   "cell_type": "code",
   "execution_count": 31,
   "id": "cdf9886d",
   "metadata": {},
   "outputs": [
    {
     "data": {
      "text/plain": [
       "False"
      ]
     },
     "execution_count": 31,
     "metadata": {},
     "output_type": "execute_result"
    }
   ],
   "source": [
    "a>b"
   ]
  },
  {
   "cell_type": "code",
   "execution_count": 32,
   "id": "1f650c95",
   "metadata": {},
   "outputs": [
    {
     "data": {
      "text/plain": [
       "False"
      ]
     },
     "execution_count": 32,
     "metadata": {},
     "output_type": "execute_result"
    }
   ],
   "source": [
    "a<b"
   ]
  },
  {
   "cell_type": "code",
   "execution_count": 33,
   "id": "60514d47",
   "metadata": {},
   "outputs": [
    {
     "data": {
      "text/plain": [
       "True"
      ]
     },
     "execution_count": 33,
     "metadata": {},
     "output_type": "execute_result"
    }
   ],
   "source": [
    "a==b"
   ]
  },
  {
   "cell_type": "code",
   "execution_count": 35,
   "id": "91dd0e4b",
   "metadata": {},
   "outputs": [
    {
     "data": {
      "text/plain": [
       "(True, True, True)"
      ]
     },
     "execution_count": 35,
     "metadata": {},
     "output_type": "execute_result"
    }
   ],
   "source": [
    "a<=b, a>=b,a==b"
   ]
  },
  {
   "cell_type": "code",
   "execution_count": 36,
   "id": "16379181",
   "metadata": {},
   "outputs": [
    {
     "data": {
      "text/plain": [
       "True"
      ]
     },
     "execution_count": 36,
     "metadata": {},
     "output_type": "execute_result"
    }
   ],
   "source": [
    "a is b"
   ]
  },
  {
   "cell_type": "code",
   "execution_count": 37,
   "id": "d54e2682",
   "metadata": {},
   "outputs": [
    {
     "data": {
      "text/plain": [
       "(1915918445136, 1915918445136)"
      ]
     },
     "execution_count": 37,
     "metadata": {},
     "output_type": "execute_result"
    }
   ],
   "source": [
    "id(a), id(b)"
   ]
  },
  {
   "cell_type": "code",
   "execution_count": 38,
   "id": "07da925f",
   "metadata": {},
   "outputs": [
    {
     "data": {
      "text/plain": [
       "(1915918636496, 1915918636496)"
      ]
     },
     "execution_count": 38,
     "metadata": {},
     "output_type": "execute_result"
    }
   ],
   "source": [
    "num1 = 100 \n",
    "num2 = 100 \n",
    "id(num1), id(num2)\n"
   ]
  },
  {
   "cell_type": "code",
   "execution_count": 39,
   "id": "ffa075a2",
   "metadata": {},
   "outputs": [
    {
     "data": {
      "text/plain": [
       "{'__name__': '__main__',\n",
       " '__doc__': 'Automatically created module for IPython interactive environment',\n",
       " '__package__': None,\n",
       " '__loader__': None,\n",
       " '__spec__': None,\n",
       " '__builtin__': <module 'builtins' (built-in)>,\n",
       " '__builtins__': <module 'builtins' (built-in)>,\n",
       " '_ih': ['',\n",
       "  'num = int(input(\"Enter a number \"))\\nif num == 0:\\n    print(\" Equal to zero\")\\nelif num < 0:\\n    print(\" Less than zero \")\\nelse:\\n    print(\" Greater than zero \")\\n    ',\n",
       "  'num = int(input(\"Enter a number \"))\\nif num == 0:\\n    print(\" Equal to zero\")\\nelif num < 0:\\n    print(\" Less than zero \")\\nelse:\\n    print(\" Greater than zero \")\\n    ',\n",
       "  'num = input(\"Enter a number \")\\nif num == 0:\\n    print(\" Equal to zero\")\\nelif num < 0:\\n    print(\" Less than zero \")\\nelse:\\n    print(\" Greater than zero \")\\n    ',\n",
       "  'num = int(input(\"Enter number \"))\\nif num ==1:\\n    print(\\'A singleton value\\')\\nelif num ==2:\\n    print(\\'Binary\\')\\nelif num==3:\\n    print(\"Ternary\")\\nelif num==4:\\n    print(\\'Tuplets\\')\\nelse:\\n    print(\\'In the else section \\')\\nprint(\\'End of the program\\'.center(80,\\'#\\'))',\n",
       "  'num = int(input(\"Enter number \"))\\nif num ==1:\\n    print(\\'A singleton value\\')\\nelif num ==2:\\n    print(\\'Binary\\')\\nelif num==3:\\n    print(\"Ternary\")\\nelif num==4:\\n    print(\\'Tuplets\\')\\nelse:\\n    print(\\'In the else section \\')\\nprint(\\'End of the program\\'.center(80,\\'#\\'))',\n",
       "  'num = int(input(\"Enter number \"))\\nif num ==1:\\n    print(\\'A singleton value\\')\\nelif num ==2:\\n    print(\\'Binary\\')\\nelif num==3:\\n    print(\"Ternary\")\\nelif num==4:\\n    print(\\'Tuplets\\')\\nelse:\\n    print(\\'In the else section \\')\\nprint(\\'End of the program\\'.center(80,\\'#\\'))',\n",
       "  'num = int(input(\"Enter number \"))\\nif num ==1:\\n    print(\\'A singleton value\\')\\nelif num ==2:\\n    print(\\'Binary\\')\\nelif num==3:\\n    print(\"Ternary\")\\nelif num==4:\\n    print(\\'Tuplets\\')\\nelse:\\n    print(\\'In the else section \\')\\nprint(\\'End of the program\\'.center(80))',\n",
       "  'num = int(input(\"Enter number \"))\\nif num ==1:\\n    print(\\'A singleton value\\')\\nelif num ==2:\\n    print(\\'Binary\\')\\nelif num==3:\\n    print(\"Ternary\")\\nelif num==4:\\n    print(\\'Tuplets\\')\\nelse:\\n    print(\\'In the else section \\')\\nprint(\\'End of the program\\'.center(80,\\'*\\'))',\n",
       "  'num = int(input(\"Enter number \"))\\nif num ==1:\\n    print(\\'Not a singleton value\\')\\nelif num ==2:\\n    print(\\'This is not a binary\\')\\nelif num==3:\\n    print(\"Not a Ternary\")\\nelif num==4:\\n    print(\\'not a Tuplets\\')\\nelse:\\n    print(\\'In the else section \\')\\nprint(\\'End of the program\\'.center(80,\\'*\\'))',\n",
       "  'a,b,c = 10,20,30',\n",
       "  'a',\n",
       "  'b,c',\n",
       "  'a,b,c',\n",
       "  \"if a>b and a>c:\\n    print('Max = {}'.format(a))\\nelif b>a and b>c:\\n    print('Max = {}'.format(c))\\nelse:\\n    print('Max = {}'.format(c))\",\n",
       "  'a,b,c= 10,12,8',\n",
       "  'a,b,c',\n",
       "  \"if a>b and a>c:\\n    print('Max = {}'.format(a))\\nelif b>a and b>c:\\n    print('Max = {}'.format(c))\\nelse:\\n    print('Max = {}'.format(c))\",\n",
       "  \"if a>b and a>c:\\n    print('Max = {}'.format(a))\\nelif b>a and b>c:\\n    print('Max = {}'.format(b))\\nelse:\\n    print('Max = {}'.format(c))\",\n",
       "  'a = input(\"Enter first number \")\\nb = input(\"Enter second number \")\\nc = input(\"Enter third number \")\\n\\nif a>b and a>c:\\n    print(\\'a\\')\\nelif b>a and b>c:\\n    print(\\'b\\')\\nelse:\\n    print(\\'c\\')\\nprint(\\'End of program\\'.center(80,\\'*|\\'))',\n",
       "  'a = input(\"Enter first number \")\\nb = input(\"Enter second number \")\\nc = input(\"Enter third number \")\\n\\nif a>b and a>c:\\n    print(\\'a\\')\\nelif b>a and b>c:\\n    print(\\'b\\')\\nelse:\\n    print(\\'c\\')\\nprint(\\'End of program\\'.center(80,\\'*\\'))',\n",
       "  'a = input(\"Enter first number \")\\nb = input(\"Enter second number \")\\nc = input(\"Enter third number \")\\n\\nif a>b and a>c:\\n    print(\\'a\\')\\nelif b>a and b>c:\\n    print(\\'b\\')\\nelse:\\n    print(\\'c\\')\\nprint(\\'End of program\\'.center(80,\\'*\\'))',\n",
       "  'a = int(input(\"Enter first number \"))\\nb = int(input(\"Enter second number \"))\\nc = int(input(\"Enter third number \"))\\n\\nif a>b and a>c:\\n    print(\\'a\\')\\nelif b>a and b>c:\\n    print(\\'b\\')\\nelse:\\n    print(\\'c\\')\\nprint(\\'End of program\\'.center(80,\\'*\\'))',\n",
       "  '# Nested if\\nname = \\'ankit\\'\\nage = 10\\nif age ==10:\\n    if name ==\\'ankit\\':\\n        print(\" Finally found you \")\\n    else:\\n        print(\"No amit here\")\\nelse:\\n    print(\\' No one with age 10 here \\')\\n        ',\n",
       "  'a = int(input(\"Enter first number \"))\\nb = int(input(\"Enter second number \"))\\nc = int(input(\"Enter third number \"))\\n\\nif a>b and a>c:\\n    print(\\'a\\')\\nelif b>a and b>c:\\n    print(\\'b\\')\\nelse:\\n    print(\\'c\\')\\nprint(\\'End of program\\'.center(80,\\'*\\'))',\n",
       "  'a = int(input(\"Enter first number \"))\\nb = int(input(\"Enter second number \"))\\nc = int(input(\"Enter third number \"))\\n\\nif a>b and a>c:\\n    print(\\'a\\')\\nelif b>a and b>c:\\n    print(\\'b\\')\\nelse:\\n    print(\\'c\\')\\nprint(\\'End of program\\'.center(80,\\'*\\'))',\n",
       "  \"print('Found') if age ==10 and name =='ankit' else print('Not Found')\",\n",
       "  \"age ==10 and name =='ankit'\",\n",
       "  'a,b=10,10',\n",
       "  'a',\n",
       "  'b',\n",
       "  'a>b',\n",
       "  'a<b',\n",
       "  'a==b',\n",
       "  'a<=b',\n",
       "  'a<=b, a>=b,a==b',\n",
       "  'a is b',\n",
       "  'id(a), id(b)',\n",
       "  'num1 = 100 \\nnum2 = 100 \\nid(num1), id(num2)',\n",
       "  'globals()'],\n",
       " '_oh': {11: 10,\n",
       "  12: (20, 30),\n",
       "  13: (10, 20, 30),\n",
       "  16: (10, 12, 8),\n",
       "  27: True,\n",
       "  29: 10,\n",
       "  30: 10,\n",
       "  31: False,\n",
       "  32: False,\n",
       "  33: True,\n",
       "  34: True,\n",
       "  35: (True, True, True),\n",
       "  36: True,\n",
       "  37: (1915918445136, 1915918445136),\n",
       "  38: (1915918636496, 1915918636496)},\n",
       " '_dh': ['C:\\\\Users\\\\soman\\\\edyoda\\\\W02D02'],\n",
       " 'In': ['',\n",
       "  'num = int(input(\"Enter a number \"))\\nif num == 0:\\n    print(\" Equal to zero\")\\nelif num < 0:\\n    print(\" Less than zero \")\\nelse:\\n    print(\" Greater than zero \")\\n    ',\n",
       "  'num = int(input(\"Enter a number \"))\\nif num == 0:\\n    print(\" Equal to zero\")\\nelif num < 0:\\n    print(\" Less than zero \")\\nelse:\\n    print(\" Greater than zero \")\\n    ',\n",
       "  'num = input(\"Enter a number \")\\nif num == 0:\\n    print(\" Equal to zero\")\\nelif num < 0:\\n    print(\" Less than zero \")\\nelse:\\n    print(\" Greater than zero \")\\n    ',\n",
       "  'num = int(input(\"Enter number \"))\\nif num ==1:\\n    print(\\'A singleton value\\')\\nelif num ==2:\\n    print(\\'Binary\\')\\nelif num==3:\\n    print(\"Ternary\")\\nelif num==4:\\n    print(\\'Tuplets\\')\\nelse:\\n    print(\\'In the else section \\')\\nprint(\\'End of the program\\'.center(80,\\'#\\'))',\n",
       "  'num = int(input(\"Enter number \"))\\nif num ==1:\\n    print(\\'A singleton value\\')\\nelif num ==2:\\n    print(\\'Binary\\')\\nelif num==3:\\n    print(\"Ternary\")\\nelif num==4:\\n    print(\\'Tuplets\\')\\nelse:\\n    print(\\'In the else section \\')\\nprint(\\'End of the program\\'.center(80,\\'#\\'))',\n",
       "  'num = int(input(\"Enter number \"))\\nif num ==1:\\n    print(\\'A singleton value\\')\\nelif num ==2:\\n    print(\\'Binary\\')\\nelif num==3:\\n    print(\"Ternary\")\\nelif num==4:\\n    print(\\'Tuplets\\')\\nelse:\\n    print(\\'In the else section \\')\\nprint(\\'End of the program\\'.center(80,\\'#\\'))',\n",
       "  'num = int(input(\"Enter number \"))\\nif num ==1:\\n    print(\\'A singleton value\\')\\nelif num ==2:\\n    print(\\'Binary\\')\\nelif num==3:\\n    print(\"Ternary\")\\nelif num==4:\\n    print(\\'Tuplets\\')\\nelse:\\n    print(\\'In the else section \\')\\nprint(\\'End of the program\\'.center(80))',\n",
       "  'num = int(input(\"Enter number \"))\\nif num ==1:\\n    print(\\'A singleton value\\')\\nelif num ==2:\\n    print(\\'Binary\\')\\nelif num==3:\\n    print(\"Ternary\")\\nelif num==4:\\n    print(\\'Tuplets\\')\\nelse:\\n    print(\\'In the else section \\')\\nprint(\\'End of the program\\'.center(80,\\'*\\'))',\n",
       "  'num = int(input(\"Enter number \"))\\nif num ==1:\\n    print(\\'Not a singleton value\\')\\nelif num ==2:\\n    print(\\'This is not a binary\\')\\nelif num==3:\\n    print(\"Not a Ternary\")\\nelif num==4:\\n    print(\\'not a Tuplets\\')\\nelse:\\n    print(\\'In the else section \\')\\nprint(\\'End of the program\\'.center(80,\\'*\\'))',\n",
       "  'a,b,c = 10,20,30',\n",
       "  'a',\n",
       "  'b,c',\n",
       "  'a,b,c',\n",
       "  \"if a>b and a>c:\\n    print('Max = {}'.format(a))\\nelif b>a and b>c:\\n    print('Max = {}'.format(c))\\nelse:\\n    print('Max = {}'.format(c))\",\n",
       "  'a,b,c= 10,12,8',\n",
       "  'a,b,c',\n",
       "  \"if a>b and a>c:\\n    print('Max = {}'.format(a))\\nelif b>a and b>c:\\n    print('Max = {}'.format(c))\\nelse:\\n    print('Max = {}'.format(c))\",\n",
       "  \"if a>b and a>c:\\n    print('Max = {}'.format(a))\\nelif b>a and b>c:\\n    print('Max = {}'.format(b))\\nelse:\\n    print('Max = {}'.format(c))\",\n",
       "  'a = input(\"Enter first number \")\\nb = input(\"Enter second number \")\\nc = input(\"Enter third number \")\\n\\nif a>b and a>c:\\n    print(\\'a\\')\\nelif b>a and b>c:\\n    print(\\'b\\')\\nelse:\\n    print(\\'c\\')\\nprint(\\'End of program\\'.center(80,\\'*|\\'))',\n",
       "  'a = input(\"Enter first number \")\\nb = input(\"Enter second number \")\\nc = input(\"Enter third number \")\\n\\nif a>b and a>c:\\n    print(\\'a\\')\\nelif b>a and b>c:\\n    print(\\'b\\')\\nelse:\\n    print(\\'c\\')\\nprint(\\'End of program\\'.center(80,\\'*\\'))',\n",
       "  'a = input(\"Enter first number \")\\nb = input(\"Enter second number \")\\nc = input(\"Enter third number \")\\n\\nif a>b and a>c:\\n    print(\\'a\\')\\nelif b>a and b>c:\\n    print(\\'b\\')\\nelse:\\n    print(\\'c\\')\\nprint(\\'End of program\\'.center(80,\\'*\\'))',\n",
       "  'a = int(input(\"Enter first number \"))\\nb = int(input(\"Enter second number \"))\\nc = int(input(\"Enter third number \"))\\n\\nif a>b and a>c:\\n    print(\\'a\\')\\nelif b>a and b>c:\\n    print(\\'b\\')\\nelse:\\n    print(\\'c\\')\\nprint(\\'End of program\\'.center(80,\\'*\\'))',\n",
       "  '# Nested if\\nname = \\'ankit\\'\\nage = 10\\nif age ==10:\\n    if name ==\\'ankit\\':\\n        print(\" Finally found you \")\\n    else:\\n        print(\"No amit here\")\\nelse:\\n    print(\\' No one with age 10 here \\')\\n        ',\n",
       "  'a = int(input(\"Enter first number \"))\\nb = int(input(\"Enter second number \"))\\nc = int(input(\"Enter third number \"))\\n\\nif a>b and a>c:\\n    print(\\'a\\')\\nelif b>a and b>c:\\n    print(\\'b\\')\\nelse:\\n    print(\\'c\\')\\nprint(\\'End of program\\'.center(80,\\'*\\'))',\n",
       "  'a = int(input(\"Enter first number \"))\\nb = int(input(\"Enter second number \"))\\nc = int(input(\"Enter third number \"))\\n\\nif a>b and a>c:\\n    print(\\'a\\')\\nelif b>a and b>c:\\n    print(\\'b\\')\\nelse:\\n    print(\\'c\\')\\nprint(\\'End of program\\'.center(80,\\'*\\'))',\n",
       "  \"print('Found') if age ==10 and name =='ankit' else print('Not Found')\",\n",
       "  \"age ==10 and name =='ankit'\",\n",
       "  'a,b=10,10',\n",
       "  'a',\n",
       "  'b',\n",
       "  'a>b',\n",
       "  'a<b',\n",
       "  'a==b',\n",
       "  'a<=b',\n",
       "  'a<=b, a>=b,a==b',\n",
       "  'a is b',\n",
       "  'id(a), id(b)',\n",
       "  'num1 = 100 \\nnum2 = 100 \\nid(num1), id(num2)',\n",
       "  'globals()'],\n",
       " 'Out': {11: 10,\n",
       "  12: (20, 30),\n",
       "  13: (10, 20, 30),\n",
       "  16: (10, 12, 8),\n",
       "  27: True,\n",
       "  29: 10,\n",
       "  30: 10,\n",
       "  31: False,\n",
       "  32: False,\n",
       "  33: True,\n",
       "  34: True,\n",
       "  35: (True, True, True),\n",
       "  36: True,\n",
       "  37: (1915918445136, 1915918445136),\n",
       "  38: (1915918636496, 1915918636496)},\n",
       " 'get_ipython': <bound method InteractiveShell.get_ipython of <ipykernel.zmqshell.ZMQInteractiveShell object at 0x000001BE1A0EE670>>,\n",
       " 'exit': <IPython.core.autocall.ZMQExitAutocall at 0x1be1a0ee820>,\n",
       " 'quit': <IPython.core.autocall.ZMQExitAutocall at 0x1be1a0ee820>,\n",
       " '_': (1915918636496, 1915918636496),\n",
       " '__': (1915918445136, 1915918445136),\n",
       " '___': True,\n",
       " '_i': 'num1 = 100 \\nnum2 = 100 \\nid(num1), id(num2)',\n",
       " '_ii': 'id(a), id(b)',\n",
       " '_iii': 'a is b',\n",
       " '_i1': 'num = int(input(\"Enter a number \"))\\nif num == 0:\\n    print(\" Equal to zero\")\\nelif num < 0:\\n    print(\" Less than zero \")\\nelse:\\n    print(\" Greater than zero \")\\n    ',\n",
       " 'num': 2,\n",
       " '_i2': 'num = int(input(\"Enter a number \"))\\nif num == 0:\\n    print(\" Equal to zero\")\\nelif num < 0:\\n    print(\" Less than zero \")\\nelse:\\n    print(\" Greater than zero \")\\n    ',\n",
       " '_i3': 'num = input(\"Enter a number \")\\nif num == 0:\\n    print(\" Equal to zero\")\\nelif num < 0:\\n    print(\" Less than zero \")\\nelse:\\n    print(\" Greater than zero \")\\n    ',\n",
       " '_i4': 'num = int(input(\"Enter number \"))\\nif num ==1:\\n    print(\\'A singleton value\\')\\nelif num ==2:\\n    print(\\'Binary\\')\\nelif num==3:\\n    print(\"Ternary\")\\nelif num==4:\\n    print(\\'Tuplets\\')\\nelse:\\n    print(\\'In the else section \\')\\nprint(\\'End of the program\\'.center(80,\\'#\\'))',\n",
       " '_i5': 'num = int(input(\"Enter number \"))\\nif num ==1:\\n    print(\\'A singleton value\\')\\nelif num ==2:\\n    print(\\'Binary\\')\\nelif num==3:\\n    print(\"Ternary\")\\nelif num==4:\\n    print(\\'Tuplets\\')\\nelse:\\n    print(\\'In the else section \\')\\nprint(\\'End of the program\\'.center(80,\\'#\\'))',\n",
       " '_i6': 'num = int(input(\"Enter number \"))\\nif num ==1:\\n    print(\\'A singleton value\\')\\nelif num ==2:\\n    print(\\'Binary\\')\\nelif num==3:\\n    print(\"Ternary\")\\nelif num==4:\\n    print(\\'Tuplets\\')\\nelse:\\n    print(\\'In the else section \\')\\nprint(\\'End of the program\\'.center(80,\\'#\\'))',\n",
       " '_i7': 'num = int(input(\"Enter number \"))\\nif num ==1:\\n    print(\\'A singleton value\\')\\nelif num ==2:\\n    print(\\'Binary\\')\\nelif num==3:\\n    print(\"Ternary\")\\nelif num==4:\\n    print(\\'Tuplets\\')\\nelse:\\n    print(\\'In the else section \\')\\nprint(\\'End of the program\\'.center(80))',\n",
       " '_i8': 'num = int(input(\"Enter number \"))\\nif num ==1:\\n    print(\\'A singleton value\\')\\nelif num ==2:\\n    print(\\'Binary\\')\\nelif num==3:\\n    print(\"Ternary\")\\nelif num==4:\\n    print(\\'Tuplets\\')\\nelse:\\n    print(\\'In the else section \\')\\nprint(\\'End of the program\\'.center(80,\\'*\\'))',\n",
       " '_i9': 'num = int(input(\"Enter number \"))\\nif num ==1:\\n    print(\\'Not a singleton value\\')\\nelif num ==2:\\n    print(\\'This is not a binary\\')\\nelif num==3:\\n    print(\"Not a Ternary\")\\nelif num==4:\\n    print(\\'not a Tuplets\\')\\nelse:\\n    print(\\'In the else section \\')\\nprint(\\'End of the program\\'.center(80,\\'*\\'))',\n",
       " '_i10': 'a,b,c = 10,20,30',\n",
       " 'a': 10,\n",
       " 'b': 10,\n",
       " 'c': 1,\n",
       " '_i11': 'a',\n",
       " '_11': 10,\n",
       " '_i12': 'b,c',\n",
       " '_12': (20, 30),\n",
       " '_i13': 'a,b,c',\n",
       " '_13': (10, 20, 30),\n",
       " '_i14': \"if a>b and a>c:\\n    print('Max = {}'.format(a))\\nelif b>a and b>c:\\n    print('Max = {}'.format(c))\\nelse:\\n    print('Max = {}'.format(c))\",\n",
       " '_i15': 'a,b,c= 10,12,8',\n",
       " '_i16': 'a,b,c',\n",
       " '_16': (10, 12, 8),\n",
       " '_i17': \"if a>b and a>c:\\n    print('Max = {}'.format(a))\\nelif b>a and b>c:\\n    print('Max = {}'.format(c))\\nelse:\\n    print('Max = {}'.format(c))\",\n",
       " '_i18': \"if a>b and a>c:\\n    print('Max = {}'.format(a))\\nelif b>a and b>c:\\n    print('Max = {}'.format(b))\\nelse:\\n    print('Max = {}'.format(c))\",\n",
       " '_i19': 'a = input(\"Enter first number \")\\nb = input(\"Enter second number \")\\nc = input(\"Enter third number \")\\n\\nif a>b and a>c:\\n    print(\\'a\\')\\nelif b>a and b>c:\\n    print(\\'b\\')\\nelse:\\n    print(\\'c\\')\\nprint(\\'End of program\\'.center(80,\\'*|\\'))',\n",
       " '_i20': 'a = input(\"Enter first number \")\\nb = input(\"Enter second number \")\\nc = input(\"Enter third number \")\\n\\nif a>b and a>c:\\n    print(\\'a\\')\\nelif b>a and b>c:\\n    print(\\'b\\')\\nelse:\\n    print(\\'c\\')\\nprint(\\'End of program\\'.center(80,\\'*\\'))',\n",
       " '_i21': 'a = input(\"Enter first number \")\\nb = input(\"Enter second number \")\\nc = input(\"Enter third number \")\\n\\nif a>b and a>c:\\n    print(\\'a\\')\\nelif b>a and b>c:\\n    print(\\'b\\')\\nelse:\\n    print(\\'c\\')\\nprint(\\'End of program\\'.center(80,\\'*\\'))',\n",
       " '_i22': 'a = int(input(\"Enter first number \"))\\nb = int(input(\"Enter second number \"))\\nc = int(input(\"Enter third number \"))\\n\\nif a>b and a>c:\\n    print(\\'a\\')\\nelif b>a and b>c:\\n    print(\\'b\\')\\nelse:\\n    print(\\'c\\')\\nprint(\\'End of program\\'.center(80,\\'*\\'))',\n",
       " '_i23': '# Nested if\\nname = \\'ankit\\'\\nage = 10\\nif age ==10:\\n    if name ==\\'ankit\\':\\n        print(\" Finally found you \")\\n    else:\\n        print(\"No amit here\")\\nelse:\\n    print(\\' No one with age 10 here \\')\\n        ',\n",
       " 'name': 'ankit',\n",
       " 'age': 10,\n",
       " '_i24': 'a = int(input(\"Enter first number \"))\\nb = int(input(\"Enter second number \"))\\nc = int(input(\"Enter third number \"))\\n\\nif a>b and a>c:\\n    print(\\'a\\')\\nelif b>a and b>c:\\n    print(\\'b\\')\\nelse:\\n    print(\\'c\\')\\nprint(\\'End of program\\'.center(80,\\'*\\'))',\n",
       " '_i25': 'a = int(input(\"Enter first number \"))\\nb = int(input(\"Enter second number \"))\\nc = int(input(\"Enter third number \"))\\n\\nif a>b and a>c:\\n    print(\\'a\\')\\nelif b>a and b>c:\\n    print(\\'b\\')\\nelse:\\n    print(\\'c\\')\\nprint(\\'End of program\\'.center(80,\\'*\\'))',\n",
       " '_i26': \"print('Found') if age ==10 and name =='ankit' else print('Not Found')\",\n",
       " '_i27': \" age ==10 and name =='ankit'\",\n",
       " '_27': True,\n",
       " '_i28': 'a,b=10,10',\n",
       " '_i29': 'a',\n",
       " '_29': 10,\n",
       " '_i30': 'b',\n",
       " '_30': 10,\n",
       " '_i31': 'a>b',\n",
       " '_31': False,\n",
       " '_i32': 'a<b',\n",
       " '_32': False,\n",
       " '_i33': 'a==b',\n",
       " '_33': True,\n",
       " '_i34': 'a<=b',\n",
       " '_34': True,\n",
       " '_i35': 'a<=b, a>=b,a==b',\n",
       " '_35': (True, True, True),\n",
       " '_i36': 'a is b',\n",
       " '_36': True,\n",
       " '_i37': 'id(a), id(b)',\n",
       " '_37': (1915918445136, 1915918445136),\n",
       " '_i38': 'num1 = 100 \\nnum2 = 100 \\nid(num1), id(num2)',\n",
       " 'num1': 100,\n",
       " 'num2': 100,\n",
       " '_38': (1915918636496, 1915918636496),\n",
       " '_i39': 'globals()'}"
      ]
     },
     "execution_count": 39,
     "metadata": {},
     "output_type": "execute_result"
    }
   ],
   "source": [
    "globals()"
   ]
  },
  {
   "cell_type": "code",
   "execution_count": 40,
   "id": "5129b61e",
   "metadata": {},
   "outputs": [
    {
     "data": {
      "text/plain": [
       "{'__name__': '__main__',\n",
       " '__doc__': 'Automatically created module for IPython interactive environment',\n",
       " '__package__': None,\n",
       " '__loader__': None,\n",
       " '__spec__': None,\n",
       " '__builtin__': <module 'builtins' (built-in)>,\n",
       " '__builtins__': <module 'builtins' (built-in)>,\n",
       " '_ih': ['',\n",
       "  'num = int(input(\"Enter a number \"))\\nif num == 0:\\n    print(\" Equal to zero\")\\nelif num < 0:\\n    print(\" Less than zero \")\\nelse:\\n    print(\" Greater than zero \")\\n    ',\n",
       "  'num = int(input(\"Enter a number \"))\\nif num == 0:\\n    print(\" Equal to zero\")\\nelif num < 0:\\n    print(\" Less than zero \")\\nelse:\\n    print(\" Greater than zero \")\\n    ',\n",
       "  'num = input(\"Enter a number \")\\nif num == 0:\\n    print(\" Equal to zero\")\\nelif num < 0:\\n    print(\" Less than zero \")\\nelse:\\n    print(\" Greater than zero \")\\n    ',\n",
       "  'num = int(input(\"Enter number \"))\\nif num ==1:\\n    print(\\'A singleton value\\')\\nelif num ==2:\\n    print(\\'Binary\\')\\nelif num==3:\\n    print(\"Ternary\")\\nelif num==4:\\n    print(\\'Tuplets\\')\\nelse:\\n    print(\\'In the else section \\')\\nprint(\\'End of the program\\'.center(80,\\'#\\'))',\n",
       "  'num = int(input(\"Enter number \"))\\nif num ==1:\\n    print(\\'A singleton value\\')\\nelif num ==2:\\n    print(\\'Binary\\')\\nelif num==3:\\n    print(\"Ternary\")\\nelif num==4:\\n    print(\\'Tuplets\\')\\nelse:\\n    print(\\'In the else section \\')\\nprint(\\'End of the program\\'.center(80,\\'#\\'))',\n",
       "  'num = int(input(\"Enter number \"))\\nif num ==1:\\n    print(\\'A singleton value\\')\\nelif num ==2:\\n    print(\\'Binary\\')\\nelif num==3:\\n    print(\"Ternary\")\\nelif num==4:\\n    print(\\'Tuplets\\')\\nelse:\\n    print(\\'In the else section \\')\\nprint(\\'End of the program\\'.center(80,\\'#\\'))',\n",
       "  'num = int(input(\"Enter number \"))\\nif num ==1:\\n    print(\\'A singleton value\\')\\nelif num ==2:\\n    print(\\'Binary\\')\\nelif num==3:\\n    print(\"Ternary\")\\nelif num==4:\\n    print(\\'Tuplets\\')\\nelse:\\n    print(\\'In the else section \\')\\nprint(\\'End of the program\\'.center(80))',\n",
       "  'num = int(input(\"Enter number \"))\\nif num ==1:\\n    print(\\'A singleton value\\')\\nelif num ==2:\\n    print(\\'Binary\\')\\nelif num==3:\\n    print(\"Ternary\")\\nelif num==4:\\n    print(\\'Tuplets\\')\\nelse:\\n    print(\\'In the else section \\')\\nprint(\\'End of the program\\'.center(80,\\'*\\'))',\n",
       "  'num = int(input(\"Enter number \"))\\nif num ==1:\\n    print(\\'Not a singleton value\\')\\nelif num ==2:\\n    print(\\'This is not a binary\\')\\nelif num==3:\\n    print(\"Not a Ternary\")\\nelif num==4:\\n    print(\\'not a Tuplets\\')\\nelse:\\n    print(\\'In the else section \\')\\nprint(\\'End of the program\\'.center(80,\\'*\\'))',\n",
       "  'a,b,c = 10,20,30',\n",
       "  'a',\n",
       "  'b,c',\n",
       "  'a,b,c',\n",
       "  \"if a>b and a>c:\\n    print('Max = {}'.format(a))\\nelif b>a and b>c:\\n    print('Max = {}'.format(c))\\nelse:\\n    print('Max = {}'.format(c))\",\n",
       "  'a,b,c= 10,12,8',\n",
       "  'a,b,c',\n",
       "  \"if a>b and a>c:\\n    print('Max = {}'.format(a))\\nelif b>a and b>c:\\n    print('Max = {}'.format(c))\\nelse:\\n    print('Max = {}'.format(c))\",\n",
       "  \"if a>b and a>c:\\n    print('Max = {}'.format(a))\\nelif b>a and b>c:\\n    print('Max = {}'.format(b))\\nelse:\\n    print('Max = {}'.format(c))\",\n",
       "  'a = input(\"Enter first number \")\\nb = input(\"Enter second number \")\\nc = input(\"Enter third number \")\\n\\nif a>b and a>c:\\n    print(\\'a\\')\\nelif b>a and b>c:\\n    print(\\'b\\')\\nelse:\\n    print(\\'c\\')\\nprint(\\'End of program\\'.center(80,\\'*|\\'))',\n",
       "  'a = input(\"Enter first number \")\\nb = input(\"Enter second number \")\\nc = input(\"Enter third number \")\\n\\nif a>b and a>c:\\n    print(\\'a\\')\\nelif b>a and b>c:\\n    print(\\'b\\')\\nelse:\\n    print(\\'c\\')\\nprint(\\'End of program\\'.center(80,\\'*\\'))',\n",
       "  'a = input(\"Enter first number \")\\nb = input(\"Enter second number \")\\nc = input(\"Enter third number \")\\n\\nif a>b and a>c:\\n    print(\\'a\\')\\nelif b>a and b>c:\\n    print(\\'b\\')\\nelse:\\n    print(\\'c\\')\\nprint(\\'End of program\\'.center(80,\\'*\\'))',\n",
       "  'a = int(input(\"Enter first number \"))\\nb = int(input(\"Enter second number \"))\\nc = int(input(\"Enter third number \"))\\n\\nif a>b and a>c:\\n    print(\\'a\\')\\nelif b>a and b>c:\\n    print(\\'b\\')\\nelse:\\n    print(\\'c\\')\\nprint(\\'End of program\\'.center(80,\\'*\\'))',\n",
       "  '# Nested if\\nname = \\'ankit\\'\\nage = 10\\nif age ==10:\\n    if name ==\\'ankit\\':\\n        print(\" Finally found you \")\\n    else:\\n        print(\"No amit here\")\\nelse:\\n    print(\\' No one with age 10 here \\')\\n        ',\n",
       "  'a = int(input(\"Enter first number \"))\\nb = int(input(\"Enter second number \"))\\nc = int(input(\"Enter third number \"))\\n\\nif a>b and a>c:\\n    print(\\'a\\')\\nelif b>a and b>c:\\n    print(\\'b\\')\\nelse:\\n    print(\\'c\\')\\nprint(\\'End of program\\'.center(80,\\'*\\'))',\n",
       "  'a = int(input(\"Enter first number \"))\\nb = int(input(\"Enter second number \"))\\nc = int(input(\"Enter third number \"))\\n\\nif a>b and a>c:\\n    print(\\'a\\')\\nelif b>a and b>c:\\n    print(\\'b\\')\\nelse:\\n    print(\\'c\\')\\nprint(\\'End of program\\'.center(80,\\'*\\'))',\n",
       "  \"print('Found') if age ==10 and name =='ankit' else print('Not Found')\",\n",
       "  \"age ==10 and name =='ankit'\",\n",
       "  'a,b=10,10',\n",
       "  'a',\n",
       "  'b',\n",
       "  'a>b',\n",
       "  'a<b',\n",
       "  'a==b',\n",
       "  'a<=b',\n",
       "  'a<=b, a>=b,a==b',\n",
       "  'a is b',\n",
       "  'id(a), id(b)',\n",
       "  'num1 = 100 \\nnum2 = 100 \\nid(num1), id(num2)',\n",
       "  'globals()',\n",
       "  'locals()'],\n",
       " '_oh': {11: 10,\n",
       "  12: (20, 30),\n",
       "  13: (10, 20, 30),\n",
       "  16: (10, 12, 8),\n",
       "  27: True,\n",
       "  29: 10,\n",
       "  30: 10,\n",
       "  31: False,\n",
       "  32: False,\n",
       "  33: True,\n",
       "  34: True,\n",
       "  35: (True, True, True),\n",
       "  36: True,\n",
       "  37: (1915918445136, 1915918445136),\n",
       "  38: (1915918636496, 1915918636496),\n",
       "  39: {...}},\n",
       " '_dh': ['C:\\\\Users\\\\soman\\\\edyoda\\\\W02D02'],\n",
       " 'In': ['',\n",
       "  'num = int(input(\"Enter a number \"))\\nif num == 0:\\n    print(\" Equal to zero\")\\nelif num < 0:\\n    print(\" Less than zero \")\\nelse:\\n    print(\" Greater than zero \")\\n    ',\n",
       "  'num = int(input(\"Enter a number \"))\\nif num == 0:\\n    print(\" Equal to zero\")\\nelif num < 0:\\n    print(\" Less than zero \")\\nelse:\\n    print(\" Greater than zero \")\\n    ',\n",
       "  'num = input(\"Enter a number \")\\nif num == 0:\\n    print(\" Equal to zero\")\\nelif num < 0:\\n    print(\" Less than zero \")\\nelse:\\n    print(\" Greater than zero \")\\n    ',\n",
       "  'num = int(input(\"Enter number \"))\\nif num ==1:\\n    print(\\'A singleton value\\')\\nelif num ==2:\\n    print(\\'Binary\\')\\nelif num==3:\\n    print(\"Ternary\")\\nelif num==4:\\n    print(\\'Tuplets\\')\\nelse:\\n    print(\\'In the else section \\')\\nprint(\\'End of the program\\'.center(80,\\'#\\'))',\n",
       "  'num = int(input(\"Enter number \"))\\nif num ==1:\\n    print(\\'A singleton value\\')\\nelif num ==2:\\n    print(\\'Binary\\')\\nelif num==3:\\n    print(\"Ternary\")\\nelif num==4:\\n    print(\\'Tuplets\\')\\nelse:\\n    print(\\'In the else section \\')\\nprint(\\'End of the program\\'.center(80,\\'#\\'))',\n",
       "  'num = int(input(\"Enter number \"))\\nif num ==1:\\n    print(\\'A singleton value\\')\\nelif num ==2:\\n    print(\\'Binary\\')\\nelif num==3:\\n    print(\"Ternary\")\\nelif num==4:\\n    print(\\'Tuplets\\')\\nelse:\\n    print(\\'In the else section \\')\\nprint(\\'End of the program\\'.center(80,\\'#\\'))',\n",
       "  'num = int(input(\"Enter number \"))\\nif num ==1:\\n    print(\\'A singleton value\\')\\nelif num ==2:\\n    print(\\'Binary\\')\\nelif num==3:\\n    print(\"Ternary\")\\nelif num==4:\\n    print(\\'Tuplets\\')\\nelse:\\n    print(\\'In the else section \\')\\nprint(\\'End of the program\\'.center(80))',\n",
       "  'num = int(input(\"Enter number \"))\\nif num ==1:\\n    print(\\'A singleton value\\')\\nelif num ==2:\\n    print(\\'Binary\\')\\nelif num==3:\\n    print(\"Ternary\")\\nelif num==4:\\n    print(\\'Tuplets\\')\\nelse:\\n    print(\\'In the else section \\')\\nprint(\\'End of the program\\'.center(80,\\'*\\'))',\n",
       "  'num = int(input(\"Enter number \"))\\nif num ==1:\\n    print(\\'Not a singleton value\\')\\nelif num ==2:\\n    print(\\'This is not a binary\\')\\nelif num==3:\\n    print(\"Not a Ternary\")\\nelif num==4:\\n    print(\\'not a Tuplets\\')\\nelse:\\n    print(\\'In the else section \\')\\nprint(\\'End of the program\\'.center(80,\\'*\\'))',\n",
       "  'a,b,c = 10,20,30',\n",
       "  'a',\n",
       "  'b,c',\n",
       "  'a,b,c',\n",
       "  \"if a>b and a>c:\\n    print('Max = {}'.format(a))\\nelif b>a and b>c:\\n    print('Max = {}'.format(c))\\nelse:\\n    print('Max = {}'.format(c))\",\n",
       "  'a,b,c= 10,12,8',\n",
       "  'a,b,c',\n",
       "  \"if a>b and a>c:\\n    print('Max = {}'.format(a))\\nelif b>a and b>c:\\n    print('Max = {}'.format(c))\\nelse:\\n    print('Max = {}'.format(c))\",\n",
       "  \"if a>b and a>c:\\n    print('Max = {}'.format(a))\\nelif b>a and b>c:\\n    print('Max = {}'.format(b))\\nelse:\\n    print('Max = {}'.format(c))\",\n",
       "  'a = input(\"Enter first number \")\\nb = input(\"Enter second number \")\\nc = input(\"Enter third number \")\\n\\nif a>b and a>c:\\n    print(\\'a\\')\\nelif b>a and b>c:\\n    print(\\'b\\')\\nelse:\\n    print(\\'c\\')\\nprint(\\'End of program\\'.center(80,\\'*|\\'))',\n",
       "  'a = input(\"Enter first number \")\\nb = input(\"Enter second number \")\\nc = input(\"Enter third number \")\\n\\nif a>b and a>c:\\n    print(\\'a\\')\\nelif b>a and b>c:\\n    print(\\'b\\')\\nelse:\\n    print(\\'c\\')\\nprint(\\'End of program\\'.center(80,\\'*\\'))',\n",
       "  'a = input(\"Enter first number \")\\nb = input(\"Enter second number \")\\nc = input(\"Enter third number \")\\n\\nif a>b and a>c:\\n    print(\\'a\\')\\nelif b>a and b>c:\\n    print(\\'b\\')\\nelse:\\n    print(\\'c\\')\\nprint(\\'End of program\\'.center(80,\\'*\\'))',\n",
       "  'a = int(input(\"Enter first number \"))\\nb = int(input(\"Enter second number \"))\\nc = int(input(\"Enter third number \"))\\n\\nif a>b and a>c:\\n    print(\\'a\\')\\nelif b>a and b>c:\\n    print(\\'b\\')\\nelse:\\n    print(\\'c\\')\\nprint(\\'End of program\\'.center(80,\\'*\\'))',\n",
       "  '# Nested if\\nname = \\'ankit\\'\\nage = 10\\nif age ==10:\\n    if name ==\\'ankit\\':\\n        print(\" Finally found you \")\\n    else:\\n        print(\"No amit here\")\\nelse:\\n    print(\\' No one with age 10 here \\')\\n        ',\n",
       "  'a = int(input(\"Enter first number \"))\\nb = int(input(\"Enter second number \"))\\nc = int(input(\"Enter third number \"))\\n\\nif a>b and a>c:\\n    print(\\'a\\')\\nelif b>a and b>c:\\n    print(\\'b\\')\\nelse:\\n    print(\\'c\\')\\nprint(\\'End of program\\'.center(80,\\'*\\'))',\n",
       "  'a = int(input(\"Enter first number \"))\\nb = int(input(\"Enter second number \"))\\nc = int(input(\"Enter third number \"))\\n\\nif a>b and a>c:\\n    print(\\'a\\')\\nelif b>a and b>c:\\n    print(\\'b\\')\\nelse:\\n    print(\\'c\\')\\nprint(\\'End of program\\'.center(80,\\'*\\'))',\n",
       "  \"print('Found') if age ==10 and name =='ankit' else print('Not Found')\",\n",
       "  \"age ==10 and name =='ankit'\",\n",
       "  'a,b=10,10',\n",
       "  'a',\n",
       "  'b',\n",
       "  'a>b',\n",
       "  'a<b',\n",
       "  'a==b',\n",
       "  'a<=b',\n",
       "  'a<=b, a>=b,a==b',\n",
       "  'a is b',\n",
       "  'id(a), id(b)',\n",
       "  'num1 = 100 \\nnum2 = 100 \\nid(num1), id(num2)',\n",
       "  'globals()',\n",
       "  'locals()'],\n",
       " 'Out': {11: 10,\n",
       "  12: (20, 30),\n",
       "  13: (10, 20, 30),\n",
       "  16: (10, 12, 8),\n",
       "  27: True,\n",
       "  29: 10,\n",
       "  30: 10,\n",
       "  31: False,\n",
       "  32: False,\n",
       "  33: True,\n",
       "  34: True,\n",
       "  35: (True, True, True),\n",
       "  36: True,\n",
       "  37: (1915918445136, 1915918445136),\n",
       "  38: (1915918636496, 1915918636496),\n",
       "  39: {...}},\n",
       " 'get_ipython': <bound method InteractiveShell.get_ipython of <ipykernel.zmqshell.ZMQInteractiveShell object at 0x000001BE1A0EE670>>,\n",
       " 'exit': <IPython.core.autocall.ZMQExitAutocall at 0x1be1a0ee820>,\n",
       " 'quit': <IPython.core.autocall.ZMQExitAutocall at 0x1be1a0ee820>,\n",
       " '_': {...},\n",
       " '__': (1915918636496, 1915918636496),\n",
       " '___': (1915918445136, 1915918445136),\n",
       " '_i': 'globals()',\n",
       " '_ii': 'num1 = 100 \\nnum2 = 100 \\nid(num1), id(num2)',\n",
       " '_iii': 'id(a), id(b)',\n",
       " '_i1': 'num = int(input(\"Enter a number \"))\\nif num == 0:\\n    print(\" Equal to zero\")\\nelif num < 0:\\n    print(\" Less than zero \")\\nelse:\\n    print(\" Greater than zero \")\\n    ',\n",
       " 'num': 2,\n",
       " '_i2': 'num = int(input(\"Enter a number \"))\\nif num == 0:\\n    print(\" Equal to zero\")\\nelif num < 0:\\n    print(\" Less than zero \")\\nelse:\\n    print(\" Greater than zero \")\\n    ',\n",
       " '_i3': 'num = input(\"Enter a number \")\\nif num == 0:\\n    print(\" Equal to zero\")\\nelif num < 0:\\n    print(\" Less than zero \")\\nelse:\\n    print(\" Greater than zero \")\\n    ',\n",
       " '_i4': 'num = int(input(\"Enter number \"))\\nif num ==1:\\n    print(\\'A singleton value\\')\\nelif num ==2:\\n    print(\\'Binary\\')\\nelif num==3:\\n    print(\"Ternary\")\\nelif num==4:\\n    print(\\'Tuplets\\')\\nelse:\\n    print(\\'In the else section \\')\\nprint(\\'End of the program\\'.center(80,\\'#\\'))',\n",
       " '_i5': 'num = int(input(\"Enter number \"))\\nif num ==1:\\n    print(\\'A singleton value\\')\\nelif num ==2:\\n    print(\\'Binary\\')\\nelif num==3:\\n    print(\"Ternary\")\\nelif num==4:\\n    print(\\'Tuplets\\')\\nelse:\\n    print(\\'In the else section \\')\\nprint(\\'End of the program\\'.center(80,\\'#\\'))',\n",
       " '_i6': 'num = int(input(\"Enter number \"))\\nif num ==1:\\n    print(\\'A singleton value\\')\\nelif num ==2:\\n    print(\\'Binary\\')\\nelif num==3:\\n    print(\"Ternary\")\\nelif num==4:\\n    print(\\'Tuplets\\')\\nelse:\\n    print(\\'In the else section \\')\\nprint(\\'End of the program\\'.center(80,\\'#\\'))',\n",
       " '_i7': 'num = int(input(\"Enter number \"))\\nif num ==1:\\n    print(\\'A singleton value\\')\\nelif num ==2:\\n    print(\\'Binary\\')\\nelif num==3:\\n    print(\"Ternary\")\\nelif num==4:\\n    print(\\'Tuplets\\')\\nelse:\\n    print(\\'In the else section \\')\\nprint(\\'End of the program\\'.center(80))',\n",
       " '_i8': 'num = int(input(\"Enter number \"))\\nif num ==1:\\n    print(\\'A singleton value\\')\\nelif num ==2:\\n    print(\\'Binary\\')\\nelif num==3:\\n    print(\"Ternary\")\\nelif num==4:\\n    print(\\'Tuplets\\')\\nelse:\\n    print(\\'In the else section \\')\\nprint(\\'End of the program\\'.center(80,\\'*\\'))',\n",
       " '_i9': 'num = int(input(\"Enter number \"))\\nif num ==1:\\n    print(\\'Not a singleton value\\')\\nelif num ==2:\\n    print(\\'This is not a binary\\')\\nelif num==3:\\n    print(\"Not a Ternary\")\\nelif num==4:\\n    print(\\'not a Tuplets\\')\\nelse:\\n    print(\\'In the else section \\')\\nprint(\\'End of the program\\'.center(80,\\'*\\'))',\n",
       " '_i10': 'a,b,c = 10,20,30',\n",
       " 'a': 10,\n",
       " 'b': 10,\n",
       " 'c': 1,\n",
       " '_i11': 'a',\n",
       " '_11': 10,\n",
       " '_i12': 'b,c',\n",
       " '_12': (20, 30),\n",
       " '_i13': 'a,b,c',\n",
       " '_13': (10, 20, 30),\n",
       " '_i14': \"if a>b and a>c:\\n    print('Max = {}'.format(a))\\nelif b>a and b>c:\\n    print('Max = {}'.format(c))\\nelse:\\n    print('Max = {}'.format(c))\",\n",
       " '_i15': 'a,b,c= 10,12,8',\n",
       " '_i16': 'a,b,c',\n",
       " '_16': (10, 12, 8),\n",
       " '_i17': \"if a>b and a>c:\\n    print('Max = {}'.format(a))\\nelif b>a and b>c:\\n    print('Max = {}'.format(c))\\nelse:\\n    print('Max = {}'.format(c))\",\n",
       " '_i18': \"if a>b and a>c:\\n    print('Max = {}'.format(a))\\nelif b>a and b>c:\\n    print('Max = {}'.format(b))\\nelse:\\n    print('Max = {}'.format(c))\",\n",
       " '_i19': 'a = input(\"Enter first number \")\\nb = input(\"Enter second number \")\\nc = input(\"Enter third number \")\\n\\nif a>b and a>c:\\n    print(\\'a\\')\\nelif b>a and b>c:\\n    print(\\'b\\')\\nelse:\\n    print(\\'c\\')\\nprint(\\'End of program\\'.center(80,\\'*|\\'))',\n",
       " '_i20': 'a = input(\"Enter first number \")\\nb = input(\"Enter second number \")\\nc = input(\"Enter third number \")\\n\\nif a>b and a>c:\\n    print(\\'a\\')\\nelif b>a and b>c:\\n    print(\\'b\\')\\nelse:\\n    print(\\'c\\')\\nprint(\\'End of program\\'.center(80,\\'*\\'))',\n",
       " '_i21': 'a = input(\"Enter first number \")\\nb = input(\"Enter second number \")\\nc = input(\"Enter third number \")\\n\\nif a>b and a>c:\\n    print(\\'a\\')\\nelif b>a and b>c:\\n    print(\\'b\\')\\nelse:\\n    print(\\'c\\')\\nprint(\\'End of program\\'.center(80,\\'*\\'))',\n",
       " '_i22': 'a = int(input(\"Enter first number \"))\\nb = int(input(\"Enter second number \"))\\nc = int(input(\"Enter third number \"))\\n\\nif a>b and a>c:\\n    print(\\'a\\')\\nelif b>a and b>c:\\n    print(\\'b\\')\\nelse:\\n    print(\\'c\\')\\nprint(\\'End of program\\'.center(80,\\'*\\'))',\n",
       " '_i23': '# Nested if\\nname = \\'ankit\\'\\nage = 10\\nif age ==10:\\n    if name ==\\'ankit\\':\\n        print(\" Finally found you \")\\n    else:\\n        print(\"No amit here\")\\nelse:\\n    print(\\' No one with age 10 here \\')\\n        ',\n",
       " 'name': 'ankit',\n",
       " 'age': 10,\n",
       " '_i24': 'a = int(input(\"Enter first number \"))\\nb = int(input(\"Enter second number \"))\\nc = int(input(\"Enter third number \"))\\n\\nif a>b and a>c:\\n    print(\\'a\\')\\nelif b>a and b>c:\\n    print(\\'b\\')\\nelse:\\n    print(\\'c\\')\\nprint(\\'End of program\\'.center(80,\\'*\\'))',\n",
       " '_i25': 'a = int(input(\"Enter first number \"))\\nb = int(input(\"Enter second number \"))\\nc = int(input(\"Enter third number \"))\\n\\nif a>b and a>c:\\n    print(\\'a\\')\\nelif b>a and b>c:\\n    print(\\'b\\')\\nelse:\\n    print(\\'c\\')\\nprint(\\'End of program\\'.center(80,\\'*\\'))',\n",
       " '_i26': \"print('Found') if age ==10 and name =='ankit' else print('Not Found')\",\n",
       " '_i27': \" age ==10 and name =='ankit'\",\n",
       " '_27': True,\n",
       " '_i28': 'a,b=10,10',\n",
       " '_i29': 'a',\n",
       " '_29': 10,\n",
       " '_i30': 'b',\n",
       " '_30': 10,\n",
       " '_i31': 'a>b',\n",
       " '_31': False,\n",
       " '_i32': 'a<b',\n",
       " '_32': False,\n",
       " '_i33': 'a==b',\n",
       " '_33': True,\n",
       " '_i34': 'a<=b',\n",
       " '_34': True,\n",
       " '_i35': 'a<=b, a>=b,a==b',\n",
       " '_35': (True, True, True),\n",
       " '_i36': 'a is b',\n",
       " '_36': True,\n",
       " '_i37': 'id(a), id(b)',\n",
       " '_37': (1915918445136, 1915918445136),\n",
       " '_i38': 'num1 = 100 \\nnum2 = 100 \\nid(num1), id(num2)',\n",
       " 'num1': 100,\n",
       " 'num2': 100,\n",
       " '_38': (1915918636496, 1915918636496),\n",
       " '_i39': 'globals()',\n",
       " '_39': {...},\n",
       " '_i40': 'locals()'}"
      ]
     },
     "execution_count": 40,
     "metadata": {},
     "output_type": "execute_result"
    }
   ],
   "source": [
    "locals()"
   ]
  },
  {
   "cell_type": "markdown",
   "id": "12405015",
   "metadata": {},
   "source": [
    "# for statement \n",
    "# for(i=0;i<10;i++)\n",
    "{\n",
    "    state1;\n",
    "    state2;\n",
    "}\n"
   ]
  },
  {
   "cell_type": "markdown",
   "id": "d99e13c1",
   "metadata": {},
   "source": [
    "# syntax:\n",
    " ``for item in iterable:\n",
    "    do_stuffs``"
   ]
  },
  {
   "cell_type": "code",
   "execution_count": 43,
   "id": "1c62932b",
   "metadata": {},
   "outputs": [
    {
     "name": "stdout",
     "output_type": "stream",
     "text": [
      "R\n",
      "a\n",
      "h\n",
      "u\n",
      "l\n",
      "Out of the for statement\n"
     ]
    }
   ],
   "source": [
    "for item in 'Rahul':\n",
    "    print(item)\n",
    "print('Out of the for statement')\n",
    "    "
   ]
  },
  {
   "cell_type": "markdown",
   "id": "8a1ecf72",
   "metadata": {},
   "source": [
    "``Python's for statement iterates over the items of any sequence \n",
    "(a list or a tuple,etc),in the order that they appear in the sequence1``"
   ]
  },
  {
   "cell_type": "code",
   "execution_count": 55,
   "id": "3c178b05",
   "metadata": {},
   "outputs": [
    {
     "name": "stdout",
     "output_type": "stream",
     "text": [
      "R\t\ta\t\th\t\tu\t\tl\t\tOut of the for statement\n"
     ]
    }
   ],
   "source": [
    "for item in 'Rahul':\n",
    "    print(item,end='\\t\\t')\n",
    "print('Out of the for statement')\n",
    "    "
   ]
  },
  {
   "cell_type": "code",
   "execution_count": 45,
   "id": "2b6fd1d3",
   "metadata": {},
   "outputs": [
    {
     "data": {
      "text/plain": [
       "(1915993363328, 1915993363328)"
      ]
     },
     "execution_count": 45,
     "metadata": {},
     "output_type": "execute_result"
    }
   ],
   "source": [
    "l1 = [1,2,3,4]\n",
    "l2 = l1\n",
    "id(l1),id(l2)"
   ]
  },
  {
   "cell_type": "code",
   "execution_count": 46,
   "id": "e9ea71f7",
   "metadata": {},
   "outputs": [
    {
     "ename": "NameError",
     "evalue": "name 'reverse' is not defined",
     "output_type": "error",
     "traceback": [
      "\u001b[1;31m---------------------------------------------------------------------------\u001b[0m",
      "\u001b[1;31mNameError\u001b[0m                                 Traceback (most recent call last)",
      "\u001b[1;32m<ipython-input-46-ab39f773f67f>\u001b[0m in \u001b[0;36m<module>\u001b[1;34m\u001b[0m\n\u001b[1;32m----> 1\u001b[1;33m \u001b[0mreverse\u001b[0m\u001b[1;33m(\u001b[0m\u001b[1;34m'reverse'\u001b[0m\u001b[1;33m)\u001b[0m\u001b[1;33m\u001b[0m\u001b[1;33m\u001b[0m\u001b[0m\n\u001b[0m",
      "\u001b[1;31mNameError\u001b[0m: name 'reverse' is not defined"
     ]
    }
   ],
   "source": []
  },
  {
   "cell_type": "code",
   "execution_count": 48,
   "id": "d7bb6d7f",
   "metadata": {},
   "outputs": [
    {
     "data": {
      "text/plain": [
       "True"
      ]
     },
     "execution_count": 48,
     "metadata": {},
     "output_type": "execute_result"
    }
   ],
   "source": [
    "'i' in 'ondia'"
   ]
  },
  {
   "cell_type": "code",
   "execution_count": 49,
   "id": "1a4da8f2",
   "metadata": {},
   "outputs": [
    {
     "data": {
      "text/plain": [
       "'r'"
      ]
     },
     "execution_count": 49,
     "metadata": {},
     "output_type": "execute_result"
    }
   ],
   "source": [
    "'rahul'[0]"
   ]
  },
  {
   "cell_type": "code",
   "execution_count": 53,
   "id": "21da9ab9",
   "metadata": {},
   "outputs": [
    {
     "name": "stdout",
     "output_type": "stream",
     "text": [
      "i\tn\td\ti\ta\t"
     ]
    }
   ],
   "source": [
    "for i in 'india':\n",
    "    print(i,end='\\t')"
   ]
  },
  {
   "cell_type": "code",
   "execution_count": 56,
   "id": "0a79717d",
   "metadata": {},
   "outputs": [
    {
     "name": "stdout",
     "output_type": "stream",
     "text": [
      "1\t2\t3\t4\t"
     ]
    }
   ],
   "source": [
    "for val in [1,2,3,4]:\n",
    "    print(val,end='\\t')\n",
    "    "
   ]
  },
  {
   "cell_type": "code",
   "execution_count": 57,
   "id": "2b821e9e",
   "metadata": {},
   "outputs": [
    {
     "name": "stdout",
     "output_type": "stream",
     "text": [
      "1\t2\t3\t4\tTrue\t2.3\t"
     ]
    }
   ],
   "source": [
    "for val in (1,2,3,4,True,2.3):\n",
    "    print(val,end='\\t')"
   ]
  },
  {
   "cell_type": "code",
   "execution_count": 58,
   "id": "68474bef",
   "metadata": {},
   "outputs": [
    {
     "name": "stdout",
     "output_type": "stream",
     "text": [
      "1\n",
      "2\n",
      "3\n"
     ]
    }
   ],
   "source": [
    "for i in 1,2,3:\n",
    "    print(i)"
   ]
  },
  {
   "cell_type": "code",
   "execution_count": 59,
   "id": "07199a64",
   "metadata": {},
   "outputs": [
    {
     "data": {
      "text/plain": [
       "tuple"
      ]
     },
     "execution_count": 59,
     "metadata": {},
     "output_type": "execute_result"
    }
   ],
   "source": [
    "type((1,2,3))"
   ]
  },
  {
   "cell_type": "code",
   "execution_count": 60,
   "id": "1d9670f3",
   "metadata": {},
   "outputs": [
    {
     "data": {
      "text/plain": [
       "int"
      ]
     },
     "execution_count": 60,
     "metadata": {},
     "output_type": "execute_result"
    }
   ],
   "source": [
    "type(i)"
   ]
  },
  {
   "cell_type": "code",
   "execution_count": 61,
   "id": "3ba45ce1",
   "metadata": {},
   "outputs": [
    {
     "name": "stdout",
     "output_type": "stream",
     "text": [
      "name\n",
      "id\n"
     ]
    }
   ],
   "source": [
    "for i in {'name':'rahul','id':'xyz@email.com'}:\n",
    "    print(i)\n"
   ]
  },
  {
   "cell_type": "code",
   "execution_count": 63,
   "id": "03644445",
   "metadata": {},
   "outputs": [
    {
     "data": {
      "text/plain": [
       "['name', 'id']"
      ]
     },
     "execution_count": 63,
     "metadata": {},
     "output_type": "execute_result"
    }
   ],
   "source": [
    "v = {'name':'rahul','id':'xyz@email.com'}\n",
    "list(v)"
   ]
  },
  {
   "cell_type": "code",
   "execution_count": 67,
   "id": "4daf33f8",
   "metadata": {},
   "outputs": [
    {
     "name": "stdout",
     "output_type": "stream",
     "text": [
      "W\teW\tleW\tcleW\tocleW\tmocleW\temocleW\temocleW\n"
     ]
    }
   ],
   "source": [
    "str1 = \"Welcome\"\n",
    "reverse = '' \n",
    "for c in str1:\n",
    "    reverse = c + reverse\n",
    "    print(reverse,end='\\t')\n",
    "print(reverse) \n"
   ]
  },
  {
   "cell_type": "code",
   "execution_count": 66,
   "id": "781db202",
   "metadata": {},
   "outputs": [
    {
     "data": {
      "text/plain": [
       "str"
      ]
     },
     "execution_count": 66,
     "metadata": {},
     "output_type": "execute_result"
    }
   ],
   "source": [
    "type('ra')"
   ]
  },
  {
   "cell_type": "code",
   "execution_count": 68,
   "id": "8ab049bf",
   "metadata": {},
   "outputs": [],
   "source": [
    "t= (1,2,3,4)"
   ]
  },
  {
   "cell_type": "code",
   "execution_count": 69,
   "id": "f8cdc5c6",
   "metadata": {},
   "outputs": [
    {
     "data": {
      "text/plain": [
       "((1, 2, 3, 4), tuple)"
      ]
     },
     "execution_count": 69,
     "metadata": {},
     "output_type": "execute_result"
    }
   ],
   "source": [
    "t,type(t)"
   ]
  },
  {
   "cell_type": "code",
   "execution_count": 71,
   "id": "6ddcd321",
   "metadata": {},
   "outputs": [
    {
     "data": {
      "text/plain": [
       "(1, int)"
      ]
     },
     "execution_count": 71,
     "metadata": {},
     "output_type": "execute_result"
    }
   ],
   "source": [
    "t[0],type(t[0])"
   ]
  },
  {
   "cell_type": "code",
   "execution_count": null,
   "id": "762ce118",
   "metadata": {},
   "outputs": [],
   "source": []
  }
 ],
 "metadata": {
  "kernelspec": {
   "display_name": "Python 3",
   "language": "python",
   "name": "python3"
  },
  "language_info": {
   "codemirror_mode": {
    "name": "ipython",
    "version": 3
   },
   "file_extension": ".py",
   "mimetype": "text/x-python",
   "name": "python",
   "nbconvert_exporter": "python",
   "pygments_lexer": "ipython3",
   "version": "3.9.6"
  }
 },
 "nbformat": 4,
 "nbformat_minor": 5
}
